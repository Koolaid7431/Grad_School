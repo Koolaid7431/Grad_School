{
 "cells": [
  {
   "cell_type": "markdown",
   "metadata": {},
   "source": [
    "# Assignment 1\n",
    "### CHEM ENG/ SEP 786\n",
    "### Mohammad Kashif Siddiqui - 0755452\n"
   ]
  },
  {
   "cell_type": "markdown",
   "metadata": {},
   "source": [
    "### Headers"
   ]
  },
  {
   "cell_type": "code",
   "execution_count": 1,
   "metadata": {},
   "outputs": [],
   "source": [
    "import numpy as np\n",
    "import matplotlib.pyplot as plt\n",
    "import os \n",
    "import pandas\n",
    "from IPython.display import Image"
   ]
  },
  {
   "cell_type": "markdown",
   "metadata": {},
   "source": [
    "### Checking paths"
   ]
  },
  {
   "cell_type": "code",
   "execution_count": 2,
   "metadata": {},
   "outputs": [
    {
     "name": "stdout",
     "output_type": "stream",
     "text": [
      "test1\n",
      "C:\\Users\\User\\AppData\\Roaming\\Python\\Python35\\Scripts\\Allwork\\SEP_786\n"
     ]
    }
   ],
   "source": [
    "print('test1')\n",
    "dir_path = os.getcwd()\n",
    "print(dir_path)"
   ]
  },
  {
   "cell_type": "markdown",
   "metadata": {},
   "source": [
    "# Question 1\n",
    "#### Using the Excel file dataA.xlsx, which contains a 500x3 data matrix (500 data points with 3 attributes), calculate both the mean and the covariance matrix.\n"
   ]
  },
  {
   "cell_type": "markdown",
   "metadata": {},
   "source": [
    "### Uploading & Checking Data"
   ]
  },
  {
   "cell_type": "code",
   "execution_count": 3,
   "metadata": {},
   "outputs": [
    {
     "name": "stdout",
     "output_type": "stream",
     "text": [
      "dataA:\n",
      "[[ 1.55689089  4.01059603  1.29323385]\n",
      " [-1.39048821  3.24872268 -1.01189759]\n",
      " [ 0.92749172  2.11432065 -2.21430133]\n",
      " ...\n",
      " [ 3.09422969  4.06386355  1.72786312]\n",
      " [-0.78509245 -1.46375948  2.68672626]\n",
      " [ 2.14907545  2.35843938  2.11973336]]\n"
     ]
    },
    {
     "data": {
      "text/plain": [
       "numpy.ndarray"
      ]
     },
     "execution_count": 3,
     "metadata": {},
     "output_type": "execute_result"
    }
   ],
   "source": [
    "dataA = np.loadtxt('dataA.csv', delimiter=',') \n",
    "print(\"dataA:\")\n",
    "print(dataA)\n",
    "type(dataA)"
   ]
  },
  {
   "cell_type": "markdown",
   "metadata": {},
   "source": [
    "### Mean Matrix\n",
    "\n",
    "##### Process - Finding the means of the columns (axis = 0)"
   ]
  },
  {
   "cell_type": "code",
   "execution_count": 4,
   "metadata": {},
   "outputs": [
    {
     "name": "stdout",
     "output_type": "stream",
     "text": [
      "mean of dataA:\n",
      "[0.34750193 1.02563712 0.80122132]\n"
     ]
    }
   ],
   "source": [
    "mean = np.mean(dataA,axis=0)\n",
    "print('mean of dataA:')\n",
    "print(mean)"
   ]
  },
  {
   "cell_type": "markdown",
   "metadata": {},
   "source": [
    "### Covariance Matrix\n",
    "\n",
    "##### Process - As discussed in lecture, applying the covariance forumla: cov = (X^T*X)/n-1, Also try out np.cov(data ^T) to confirm.\n",
    "##### Result - np.cov function has far more significant digits by default, and slightly different results --- find out why?! \n",
    "##### Explaination - the formula np.dot(np.transpose(dmm),dmm)/len(dmm)-1 was missing brackets around (len(dmm)-1) giving a slight offset"
   ]
  },
  {
   "cell_type": "code",
   "execution_count": 9,
   "metadata": {},
   "outputs": [
    {
     "name": "stdout",
     "output_type": "stream",
     "text": [
      "dmm:\n",
      "[[ 1.20938897  2.9849589   0.49201253]\n",
      " [-1.73799014  2.22308556 -1.81311891]\n",
      " [ 0.5799898   1.08868353 -3.01552265]\n",
      " ...\n",
      " [ 2.74672777  3.03822643  0.92664179]\n",
      " [-1.13259437 -2.48939661  1.88550494]\n",
      " [ 1.80157353  1.33280226  1.31851204]]\n",
      "cov matrix:\n",
      "[[4.0704887  0.1502016  0.26208365]\n",
      " [0.1502016  2.56307135 0.01468606]\n",
      " [0.26208365 0.01468606 3.18321243]]\n",
      "cov2 matrix:\n",
      "[[4.0704887  0.1502016  0.26208365]\n",
      " [0.1502016  2.56307135 0.01468606]\n",
      " [0.26208365 0.01468606 3.18321243]]\n",
      "cov2 shape: (3, 3)\n"
     ]
    }
   ],
   "source": [
    "dmm = dataA- mean #calculating data minus mean\n",
    "print('dmm:')\n",
    "print(dmm)\n",
    "\n",
    "cov = np.dot(np.transpose(dmm),dmm)/(len(dmm)-1)\n",
    "print('cov matrix:')\n",
    "print(cov)\n",
    "\n",
    "cov2 = np.cov(dmm.T)\n",
    "print('cov2 matrix:')\n",
    "print(cov2)\n",
    "print('cov2 shape:', cov2.shape)"
   ]
  },
  {
   "cell_type": "code",
   "execution_count": null,
   "metadata": {},
   "outputs": [],
   "source": []
  },
  {
   "cell_type": "markdown",
   "metadata": {},
   "source": [
    "# Question 2\n",
    "#### Using the Excel file dataB.xlsx, which contains a 500x10 data matrix (500 data points with 10 attributes), calculate both the mean and the covariance matrix."
   ]
  },
  {
   "cell_type": "markdown",
   "metadata": {},
   "source": [
    "### Uploading & Checking Data"
   ]
  },
  {
   "cell_type": "code",
   "execution_count": 10,
   "metadata": {},
   "outputs": [
    {
     "name": "stdout",
     "output_type": "stream",
     "text": [
      "dataB:\n",
      "[[  8.65459847   4.5620827    1.38692383 ...   4.97059994  -5.21064875\n",
      "    4.00363613]\n",
      " [  8.73913433   7.14120061   7.8046532  ...  10.05300533  -4.23675514\n",
      "    0.65769703]\n",
      " [ 11.83876324   8.93293461   8.75195321 ...   7.62535922 -10.91127599\n",
      "   -0.41110291]\n",
      " ...\n",
      " [ 13.89179674   4.14493518   7.03398343 ...   5.50311762  -0.63970448\n",
      "    0.72106267]\n",
      " [ 10.84950119   2.59352959   3.84345036 ...   3.09446443  -1.83492417\n",
      "    1.56929856]\n",
      " [  8.42435559   9.80180673  10.04606526 ...   6.15884425  -1.12177575\n",
      "    6.53539108]]\n",
      "(500, 10)\n"
     ]
    },
    {
     "data": {
      "text/plain": [
       "numpy.ndarray"
      ]
     },
     "execution_count": 10,
     "metadata": {},
     "output_type": "execute_result"
    }
   ],
   "source": [
    "dataB = np.loadtxt('dataB.csv', delimiter=',') \n",
    "print(\"dataB:\")\n",
    "print(dataB)\n",
    "print(dataB.shape)\n",
    "type(dataB)"
   ]
  },
  {
   "cell_type": "markdown",
   "metadata": {},
   "source": [
    "### Mean Matrix\n",
    "\n",
    "##### Process - Finding the means of the columns (axis = 0)"
   ]
  },
  {
   "cell_type": "code",
   "execution_count": 11,
   "metadata": {},
   "outputs": [
    {
     "name": "stdout",
     "output_type": "stream",
     "text": [
      "mean of dataB:\n",
      "[9.57062029 6.15014874 8.08016477 9.55989208 8.8040749  2.19491256\n",
      " 0.20634971 4.54942571 0.06659806 4.65575632]\n"
     ]
    },
    {
     "data": {
      "text/plain": [
       "(10,)"
      ]
     },
     "execution_count": 11,
     "metadata": {},
     "output_type": "execute_result"
    }
   ],
   "source": [
    "meanB = np.mean(dataB,axis=0)\n",
    "print('mean of dataB:')\n",
    "print(meanB)\n",
    "meanB.shape"
   ]
  },
  {
   "cell_type": "markdown",
   "metadata": {},
   "source": [
    "### Covariance Matrix\n",
    "\n",
    "##### Process - As discussed in lecture, applying the covariance forumla: cov = (X^T*X)/n-1 , Also try out np.cov(data ^T) to confirm\n",
    "##### Result - np.cov function has far more significant digits by default, and slightly different results --- find out why?!\n",
    "##### Explanation - The numbers look different and according to the np.array_equal but according to np.allclose(), the two matrices are similar enough. Same error as before, missing brackets. - Issue considered resolved."
   ]
  },
  {
   "cell_type": "code",
   "execution_count": 12,
   "metadata": {
    "scrolled": true
   },
   "outputs": [
    {
     "name": "stdout",
     "output_type": "stream",
     "text": [
      "dmmB:\n",
      "[[ -0.91602182  -1.58806604  -6.69324094 ...   0.42117423  -5.27724681\n",
      "   -0.65212019]\n",
      " [ -0.83148596   0.99105187  -0.27551157 ...   5.50357962  -4.3033532\n",
      "   -3.99805929]\n",
      " [  2.26814295   2.78278587   0.67178844 ...   3.07593351 -10.97787405\n",
      "   -5.06685923]\n",
      " ...\n",
      " [  4.32117645  -2.00521356  -1.04618134 ...   0.95369191  -0.70630255\n",
      "   -3.93469366]\n",
      " [  1.2788809   -3.55661915  -4.23671441 ...  -1.45496128  -1.90152223\n",
      "   -3.08645776]\n",
      " [ -1.1462647    3.65165799   1.96590049 ...   1.60941854  -1.18837381\n",
      "    1.87963476]]\n",
      "covB matrix:\n",
      "[[ 9.57410499e+00  1.57425516e-01  6.91005994e-01 -4.31571355e-02\n",
      "  -1.55295413e-01  1.12934141e+00  2.64463627e-02 -4.86546020e-01\n",
      "   9.56363711e-01  5.33278215e-01]\n",
      " [ 1.57425516e-01  9.51640579e+00  4.77570667e-01  4.13335012e-01\n",
      "   5.57375795e-03  5.31944564e-01  1.11001534e-01  1.70331332e-01\n",
      "   8.41055236e-01  1.33915044e+00]\n",
      " [ 6.91005994e-01  4.77570667e-01  8.65741988e+00 -3.11621447e-01\n",
      "   1.65566175e-01  1.92252560e-01  1.85855053e-01  4.10172697e-01\n",
      "   2.28894771e-01 -1.54273284e-01]\n",
      " [-4.31571355e-02  4.13335012e-01 -3.11621447e-01  1.02705274e+01\n",
      "   2.51005204e-01  3.48811978e-01  6.89925709e-01  3.22558014e-01\n",
      "   7.22534270e-01  1.04998890e+00]\n",
      " [-1.55295413e-01  5.57375795e-03  1.65566175e-01  2.51005204e-01\n",
      "   9.65117563e+00  6.50887119e-01  1.52645453e-01 -1.66054550e-01\n",
      "   1.35788702e+00 -1.98050185e-01]\n",
      " [ 1.12934141e+00  5.31944564e-01  1.92252560e-01  3.48811978e-01\n",
      "   6.50887119e-01  1.09150448e+01  8.01090355e-01  3.39465190e-01\n",
      "   9.68885686e-02  1.34008328e+00]\n",
      " [ 2.64463627e-02  1.11001534e-01  1.85855053e-01  6.89925709e-01\n",
      "   1.52645453e-01  8.01090355e-01  9.26492074e+00 -1.99190674e-01\n",
      "  -2.14818008e-01  8.59626420e-01]\n",
      " [-4.86546020e-01  1.70331332e-01  4.10172697e-01  3.22558014e-01\n",
      "  -1.66054550e-01  3.39465190e-01 -1.99190674e-01  9.16165250e+00\n",
      "   2.95342561e-01  1.36371284e-01]\n",
      " [ 9.56363711e-01  8.41055236e-01  2.28894771e-01  7.22534270e-01\n",
      "   1.35788702e+00  9.68885686e-02 -2.14818008e-01  2.95342561e-01\n",
      "   1.01478065e+01  1.96290271e+00]\n",
      " [ 5.33278215e-01  1.33915044e+00 -1.54273284e-01  1.04998890e+00\n",
      "  -1.98050185e-01  1.34008328e+00  8.59626420e-01  1.36371284e-01\n",
      "   1.96290271e+00  1.06059632e+01]]\n",
      "covB shape: (10, 10)\n",
      "covB_2 matrix:\n",
      "[[ 9.57410499e+00  1.57425516e-01  6.91005994e-01 -4.31571355e-02\n",
      "  -1.55295413e-01  1.12934141e+00  2.64463627e-02 -4.86546020e-01\n",
      "   9.56363711e-01  5.33278215e-01]\n",
      " [ 1.57425516e-01  9.51640579e+00  4.77570667e-01  4.13335012e-01\n",
      "   5.57375795e-03  5.31944564e-01  1.11001534e-01  1.70331332e-01\n",
      "   8.41055236e-01  1.33915044e+00]\n",
      " [ 6.91005994e-01  4.77570667e-01  8.65741988e+00 -3.11621447e-01\n",
      "   1.65566175e-01  1.92252560e-01  1.85855053e-01  4.10172697e-01\n",
      "   2.28894771e-01 -1.54273284e-01]\n",
      " [-4.31571355e-02  4.13335012e-01 -3.11621447e-01  1.02705274e+01\n",
      "   2.51005204e-01  3.48811978e-01  6.89925709e-01  3.22558014e-01\n",
      "   7.22534270e-01  1.04998890e+00]\n",
      " [-1.55295413e-01  5.57375795e-03  1.65566175e-01  2.51005204e-01\n",
      "   9.65117563e+00  6.50887119e-01  1.52645453e-01 -1.66054550e-01\n",
      "   1.35788702e+00 -1.98050185e-01]\n",
      " [ 1.12934141e+00  5.31944564e-01  1.92252560e-01  3.48811978e-01\n",
      "   6.50887119e-01  1.09150448e+01  8.01090355e-01  3.39465190e-01\n",
      "   9.68885686e-02  1.34008328e+00]\n",
      " [ 2.64463627e-02  1.11001534e-01  1.85855053e-01  6.89925709e-01\n",
      "   1.52645453e-01  8.01090355e-01  9.26492074e+00 -1.99190674e-01\n",
      "  -2.14818008e-01  8.59626420e-01]\n",
      " [-4.86546020e-01  1.70331332e-01  4.10172697e-01  3.22558014e-01\n",
      "  -1.66054550e-01  3.39465190e-01 -1.99190674e-01  9.16165250e+00\n",
      "   2.95342561e-01  1.36371284e-01]\n",
      " [ 9.56363711e-01  8.41055236e-01  2.28894771e-01  7.22534270e-01\n",
      "   1.35788702e+00  9.68885686e-02 -2.14818008e-01  2.95342561e-01\n",
      "   1.01478065e+01  1.96290271e+00]\n",
      " [ 5.33278215e-01  1.33915044e+00 -1.54273284e-01  1.04998890e+00\n",
      "  -1.98050185e-01  1.34008328e+00  8.59626420e-01  1.36371284e-01\n",
      "   1.96290271e+00  1.06059632e+01]]\n",
      "covB_2 shape: (10, 10)\n",
      "covB_2b matrix:\n",
      "[[ 9.57410499e+00  1.57425516e-01  6.91005994e-01 -4.31571355e-02\n",
      "  -1.55295413e-01  1.12934141e+00  2.64463627e-02 -4.86546020e-01\n",
      "   9.56363711e-01  5.33278215e-01]\n",
      " [ 1.57425516e-01  9.51640579e+00  4.77570667e-01  4.13335012e-01\n",
      "   5.57375795e-03  5.31944564e-01  1.11001534e-01  1.70331332e-01\n",
      "   8.41055236e-01  1.33915044e+00]\n",
      " [ 6.91005994e-01  4.77570667e-01  8.65741988e+00 -3.11621447e-01\n",
      "   1.65566175e-01  1.92252560e-01  1.85855053e-01  4.10172697e-01\n",
      "   2.28894771e-01 -1.54273284e-01]\n",
      " [-4.31571355e-02  4.13335012e-01 -3.11621447e-01  1.02705274e+01\n",
      "   2.51005204e-01  3.48811978e-01  6.89925709e-01  3.22558014e-01\n",
      "   7.22534270e-01  1.04998890e+00]\n",
      " [-1.55295413e-01  5.57375795e-03  1.65566175e-01  2.51005204e-01\n",
      "   9.65117563e+00  6.50887119e-01  1.52645453e-01 -1.66054550e-01\n",
      "   1.35788702e+00 -1.98050185e-01]\n",
      " [ 1.12934141e+00  5.31944564e-01  1.92252560e-01  3.48811978e-01\n",
      "   6.50887119e-01  1.09150448e+01  8.01090355e-01  3.39465190e-01\n",
      "   9.68885686e-02  1.34008328e+00]\n",
      " [ 2.64463627e-02  1.11001534e-01  1.85855053e-01  6.89925709e-01\n",
      "   1.52645453e-01  8.01090355e-01  9.26492074e+00 -1.99190674e-01\n",
      "  -2.14818008e-01  8.59626420e-01]\n",
      " [-4.86546020e-01  1.70331332e-01  4.10172697e-01  3.22558014e-01\n",
      "  -1.66054550e-01  3.39465190e-01 -1.99190674e-01  9.16165250e+00\n",
      "   2.95342561e-01  1.36371284e-01]\n",
      " [ 9.56363711e-01  8.41055236e-01  2.28894771e-01  7.22534270e-01\n",
      "   1.35788702e+00  9.68885686e-02 -2.14818008e-01  2.95342561e-01\n",
      "   1.01478065e+01  1.96290271e+00]\n",
      " [ 5.33278215e-01  1.33915044e+00 -1.54273284e-01  1.04998890e+00\n",
      "  -1.98050185e-01  1.34008328e+00  8.59626420e-01  1.36371284e-01\n",
      "   1.96290271e+00  1.06059632e+01]]\n",
      "covB_2b shape: (10, 10)\n",
      "comparing if the two covariance matricies are equal: False\n",
      "comparing if the two covariance matricies are close enough: True\n"
     ]
    }
   ],
   "source": [
    "dmmB = dataB - meanB #calculating data minus mean\n",
    "print('dmmB:')\n",
    "print(dmmB)\n",
    "\n",
    "covB = np.dot(np.transpose(dmmB),dmmB)/(len(dmmB)-1)\n",
    "print('covB matrix:')\n",
    "print(covB)\n",
    "print('covB shape:', covB.shape)\n",
    "\n",
    "#confirming the results with the np.cov function \n",
    "covB_2 = np.cov(dmmB.T)\n",
    "print('covB_2 matrix:')\n",
    "print(covB_2)\n",
    "print('covB_2 shape:', covB_2.shape)\n",
    "\n",
    "#Testing out if data without the mean subtracted makes a difference \n",
    "covB_2b = np.cov(dataB.T) \n",
    "print('covB_2b matrix:')\n",
    "print(covB_2b)\n",
    "print('covB_2b shape:', covB_2b.shape)\n",
    "\n",
    "#comparing the two matricies to see if they are actually equal?\n",
    "covB.all() == covB_2.all()\n",
    "\n",
    "check1= np.array_equal(covB,covB_2)\n",
    "print('comparing if the two covariance matricies are equal:', check1)\n",
    "check2= np.allclose(covB,covB_2)\n",
    "print('comparing if the two covariance matricies are close enough:', check2)\n"
   ]
  },
  {
   "cell_type": "markdown",
   "metadata": {},
   "source": []
  },
  {
   "cell_type": "markdown",
   "metadata": {},
   "source": [
    "# Question 3\n",
    "#### The data generated is random and normally distributed with a mean for dataA, dataB and covariance for dataA and dataB given in meanA.xlsx, meanB.xlsx, covarianceA.xlsx and covarianceB.xlsx respectively. Briefly explain why your answers are different from the parameters used to generate the data"
   ]
  },
  {
   "cell_type": "markdown",
   "metadata": {},
   "source": [
    "### Uploading & Checking Data"
   ]
  },
  {
   "cell_type": "code",
   "execution_count": 13,
   "metadata": {},
   "outputs": [
    {
     "name": "stdout",
     "output_type": "stream",
     "text": [
      "mean_A:\n",
      "[0.49905573 1.01308501 0.71869776]\n",
      "mean of dataA:\n",
      "[0.34750193 1.02563712 0.80122132]\n",
      "comparing mean_A and mean: False\n",
      "mean_B:\n",
      "[6.07214246 3.49288812 5.26214561 7.96915184 2.73675928 2.92683597\n",
      " 3.48151886 8.75972869 0.9331915  2.06680407]\n",
      "mean of dataB:\n",
      "[9.57062029 6.15014874 8.08016477 9.55989208 8.8040749  2.19491256\n",
      " 0.20634971 4.54942571 0.06659806 4.65575632]\n",
      "comparing mean_A and mean: False\n"
     ]
    }
   ],
   "source": [
    "#Data from the meanA.csv\n",
    "mean_A = np.loadtxt('meanA.csv', delimiter=',') \n",
    "print(\"mean_A:\")\n",
    "print(mean_A)\n",
    "\n",
    "#Calculated mean from DataA\n",
    "mean = np.mean(dataA,axis=0)\n",
    "print('mean of dataA:')\n",
    "print(mean)\n",
    "\n",
    "#comparison to see if they are the same\n",
    "check= np.array_equal(mean_A,mean)\n",
    "print('comparing mean_A and mean:', check)\n",
    "\n",
    "\n",
    "#Data from the meanB.csv\n",
    "mean_B = np.loadtxt('meanB.csv', delimiter=',') \n",
    "print(\"mean_B:\")\n",
    "print(mean_B)\n",
    "\n",
    "#Calculated mean from DataB\n",
    "meanB = np.mean(dataB,axis=0)\n",
    "print('mean of dataB:')\n",
    "print(meanB)\n",
    "\n",
    "#comparison to see if they are the same\n",
    "check= np.array_equal(mean_B,meanB)\n",
    "print('comparing mean_A and mean:', check)\n"
   ]
  },
  {
   "cell_type": "markdown",
   "metadata": {},
   "source": [
    "### Discussion\n",
    "\n",
    "##### If dataA and dataB were randomly generated from the mean and covariance matricies of meanA, covarianceA and meanB, covarianceB respectively. Then dataA and dataB represent a subset of the original population. As such the mean and covariance measured for dataA and dataB are approximations of the original underlying population from which the dataA and dataB samples were gathered. \n",
    "\n",
    "##### With each time a random data set is generated from meanA, covarianceA (as well as meanB, covarianceB) the subset data will be only an approximation of the original population. Therefore the subset is likely to approximate the original data and the new mean and covariance is likely to fall within a few standard deviations of the original mean and covariance (given that the distribution of the original population is uniform). See image below for visual explanation.\n",
    "\n",
    "##### credit: https://psychology.illinoisstate.edu/jccutti/psych340/fall02/oldlecturefiles/prob.html"
   ]
  },
  {
   "cell_type": "code",
   "execution_count": 14,
   "metadata": {},
   "outputs": [
    {
     "data": {
      "image/jpeg": "[encoded data removed]",
      "text/plain": [
       "<IPython.core.display.Image object>"
      ]
     },
     "execution_count": 14,
     "metadata": {},
     "output_type": "execute_result"
    }
   ],
   "source": [
    "Image(\"Capture.JPG\")"
   ]
  },
  {
   "cell_type": "code",
   "execution_count": null,
   "metadata": {},
   "outputs": [],
   "source": []
  },
  {
   "cell_type": "markdown",
   "metadata": {},
   "source": [
    "# Question 4\n",
    "#### From the Excel file document multinormal.xlsx, I have provided 10 examples of samples drawn from a two-dimensional normal distribution (all in one file). In the data, there are 20 columns of 1000 samples. Example 1 is columns 1 and 2, example 2 is columns 3 and 4, etc. For each of the examples, the mean is [0 0]T but the covariance matrix changes.\n"
   ]
  },
  {
   "cell_type": "markdown",
   "metadata": {},
   "source": [
    "#### Upload and Check data"
   ]
  },
  {
   "cell_type": "code",
   "execution_count": 3,
   "metadata": {},
   "outputs": [
    {
     "name": "stdout",
     "output_type": "stream",
     "text": [
      "MN:\n",
      "[[ 5.58356672 -0.44166725 -0.66330018 ...  4.41639307 -2.38075895\n",
      "   4.31013081]\n",
      " [ 6.12972151  2.37490271 -2.58394957 ...  3.68864784  1.24602512\n",
      "  -1.84089907]\n",
      " [ 5.79322627  1.13384463 -1.93949355 ...  1.26877517 -1.4286858\n",
      "  -1.70033089]\n",
      " ...\n",
      " [ 1.97378012  0.30006118  1.69632    ... -3.35755906  0.61089252\n",
      "   3.80150036]\n",
      " [-4.96469899  2.26678162 -1.90258141 ... -1.93099511 -0.48067559\n",
      "  -3.13515325]\n",
      " [ 0.05612581  1.13749818  1.85988446 ... -3.08872527 -0.89328109\n",
      "   2.06782425]]\n",
      "(1000, 20)\n"
     ]
    },
    {
     "data": {
      "text/plain": [
       "numpy.ndarray"
      ]
     },
     "execution_count": 3,
     "metadata": {},
     "output_type": "execute_result"
    }
   ],
   "source": [
    "MN = np.loadtxt('multNormal.csv', delimiter=',') \n",
    "print(\"MN:\")\n",
    "print(MN)\n",
    "print(MN.shape)\n",
    "type(MN)\n",
    "    "
   ]
  },
  {
   "cell_type": "markdown",
   "metadata": {},
   "source": [
    "#### A. Plot the 2D points as a scatter plot for each example."
   ]
  },
  {
   "cell_type": "code",
   "execution_count": 9,
   "metadata": {},
   "outputs": [
    {
     "name": "stdout",
     "output_type": "stream",
     "text": [
      "Example  1\n"
     ]
    },
    {
     "data": {
      "image/png": "[encoded data removed]",
      "text/plain": [
       "<Figure size 432x288 with 1 Axes>"
      ]
     },
     "metadata": {
      "needs_background": "light"
     },
     "output_type": "display_data"
    },
    {
     "name": "stdout",
     "output_type": "stream",
     "text": [
      "Example  2\n"
     ]
    },
    {
     "data": {
      "image/png": "[encoded data removed]",
      "text/plain": [
       "<Figure size 432x288 with 1 Axes>"
      ]
     },
     "metadata": {
      "needs_background": "light"
     },
     "output_type": "display_data"
    },
    {
     "name": "stdout",
     "output_type": "stream",
     "text": [
      "Example  3\n"
     ]
    },
    {
     "data": {
      "image/png": "[encoded data removed]",
      "text/plain": [
       "<Figure size 432x288 with 1 Axes>"
      ]
     },
     "metadata": {
      "needs_background": "light"
     },
     "output_type": "display_data"
    },
    {
     "name": "stdout",
     "output_type": "stream",
     "text": [
      "Example  4\n"
     ]
    },
    {
     "data": {
      "image/png": "[encoded data removed]",
      "text/plain": [
       "<Figure size 432x288 with 1 Axes>"
      ]
     },
     "metadata": {
      "needs_background": "light"
     },
     "output_type": "display_data"
    },
    {
     "name": "stdout",
     "output_type": "stream",
     "text": [
      "Example  5\n"
     ]
    },
    {
     "data": {
      "image/png": "[encoded data removed]",
      "text/plain": [
       "<Figure size 432x288 with 1 Axes>"
      ]
     },
     "metadata": {
      "needs_background": "light"
     },
     "output_type": "display_data"
    },
    {
     "name": "stdout",
     "output_type": "stream",
     "text": [
      "Example  6\n"
     ]
    },
    {
     "data": {
      "image/png": "[encoded data removed]",
      "text/plain": [
       "<Figure size 432x288 with 1 Axes>"
      ]
     },
     "metadata": {
      "needs_background": "light"
     },
     "output_type": "display_data"
    },
    {
     "name": "stdout",
     "output_type": "stream",
     "text": [
      "Example  7\n"
     ]
    },
    {
     "data": {
      "image/png": "[encoded data removed]",
      "text/plain": [
       "<Figure size 432x288 with 1 Axes>"
      ]
     },
     "metadata": {
      "needs_background": "light"
     },
     "output_type": "display_data"
    },
    {
     "name": "stdout",
     "output_type": "stream",
     "text": [
      "Example  8\n"
     ]
    },
    {
     "data": {
      "image/png": "[encoded data removed]",
      "text/plain": [
       "<Figure size 432x288 with 1 Axes>"
      ]
     },
     "metadata": {
      "needs_background": "light"
     },
     "output_type": "display_data"
    },
    {
     "name": "stdout",
     "output_type": "stream",
     "text": [
      "Example  9\n"
     ]
    },
    {
     "data": {
      "image/png": "[encoded data removed]",
      "text/plain": [
       "<Figure size 432x288 with 1 Axes>"
      ]
     },
     "metadata": {
      "needs_background": "light"
     },
     "output_type": "display_data"
    },
    {
     "name": "stdout",
     "output_type": "stream",
     "text": [
      "Example  10\n"
     ]
    },
    {
     "data": {
      "image/png": "[encoded data removed]",
      "text/plain": [
       "<Figure size 432x288 with 1 Axes>"
      ]
     },
     "metadata": {
      "needs_background": "light"
     },
     "output_type": "display_data"
    }
   ],
   "source": [
    "np.random.seed(1234)\n",
    "\n",
    "i=0\n",
    "j=1\n",
    "for i in range(0,20,2):\n",
    "    print ('Example ', j)\n",
    "    j += 1\n",
    "    # this temp array was made to visualize correct elements are being plotted.\n",
    "    tmp = np.array(MN[:,i:i+2]) #change the rows to 0:5 to better visualize scatterplot\n",
    "    #print(tmp)\n",
    "    plt.figure()\n",
    "    plt.scatter(tmp[:,0], tmp[:,1])\n",
    "    plt.xlabel('column 1')\n",
    "    plt.ylabel('column 2')\n",
    "    plt.xlim(-15,15)\n",
    "    plt.ylim(-15,15)\n",
    "    plt.show()\n",
    "  "
   ]
  },
  {
   "cell_type": "markdown",
   "metadata": {},
   "source": [
    "#### B. Calculate 10 separate covariance matrices. "
   ]
  },
  {
   "cell_type": "code",
   "execution_count": 5,
   "metadata": {},
   "outputs": [
    {
     "name": "stdout",
     "output_type": "stream",
     "text": [
      "Example  1\n",
      "covariance:\n",
      "[[10.34020531 -0.01203439]\n",
      " [-0.01203439  2.06085007]]\n",
      "Example  2\n",
      "covariance:\n",
      "[[9.73385592 3.90880004]\n",
      " [3.90880004 2.48255605]]\n",
      "Example  3\n",
      "covariance:\n",
      "[[9.81331096 5.9219742 ]\n",
      " [5.9219742  4.24147055]]\n",
      "Example  4\n",
      "covariance:\n",
      "[[8.71864832 6.33745747]\n",
      " [6.33745747 5.11128219]]\n",
      "Example  5\n",
      "covariance:\n",
      "[[8.08741481 7.13202774]\n",
      " [7.13202774 6.80509819]]\n",
      "Example  6\n",
      "covariance:\n",
      "[[7.12792232 7.45150027]\n",
      " [7.45150027 8.41154389]]\n",
      "Example  7\n",
      "covariance:\n",
      "[[5.11175555 6.26160543]\n",
      " [6.26160543 8.60036264]]\n",
      "Example  8\n",
      "covariance:\n",
      "[[3.81863159 5.42111292]\n",
      " [5.42111292 9.12946713]]\n",
      "Example  9\n",
      "covariance:\n",
      "[[2.6227809  4.00206938]\n",
      " [4.00206938 9.34683606]]\n",
      "Example  10\n",
      "covariance:\n",
      "[[ 1.9864565  -0.09367179]\n",
      " [-0.09367179  9.54814947]]\n"
     ]
    }
   ],
   "source": [
    "i1=0\n",
    "j1=1\n",
    "for i1 in range(0,20,2):\n",
    "    print ('Example ', j1)\n",
    "    j1 += 1\n",
    "    tmp = np.array(MN[:,i1:i1+2])\n",
    "    #print(tmp)\n",
    "    mean = np.mean(tmp, axis=0)\n",
    "    #print('mean: ')\n",
    "    #print(mean)\n",
    "    tmp_m_m = tmp - mean\n",
    "    #print('tmp_m_m:')\n",
    "    #print(tmp_m_m)\n",
    "    cov = np.cov(tmp_m_m.T)\n",
    "    print('covariance:')\n",
    "    print(cov)"
   ]
  },
  {
   "cell_type": "markdown",
   "metadata": {},
   "source": [
    "#### C. Plot the covariance value (the off-diagonal of the covariance matrix) for each example. "
   ]
  },
  {
   "cell_type": "code",
   "execution_count": 6,
   "metadata": {},
   "outputs": [
    {
     "name": "stdout",
     "output_type": "stream",
     "text": [
      "[[-0.01203439 -0.01203439]\n",
      " [ 3.90880004  3.90880004]\n",
      " [ 5.9219742   5.9219742 ]\n",
      " [ 6.33745747  6.33745747]\n",
      " [ 7.13202774  7.13202774]\n",
      " [ 7.45150027  7.45150027]\n",
      " [ 6.26160543  6.26160543]\n",
      " [ 5.42111292  5.42111292]\n",
      " [ 4.00206938  4.00206938]\n",
      " [-0.09367179 -0.09367179]]\n"
     ]
    },
    {
     "data": {
      "image/png": "[encoded data removed]",
      "text/plain": [
       "<Figure size 432x288 with 1 Axes>"
      ]
     },
     "metadata": {
      "needs_background": "light"
     },
     "output_type": "display_data"
    }
   ],
   "source": [
    "i1=0\n",
    "#j1=1\n",
    "k=0\n",
    "#t=(10,2)\n",
    "tmp_cov = np.empty([10,2])\n",
    "#print (tmp_co.shape)\n",
    "#print(tmp_cov)\n",
    "for i1 in range(0,20,2):\n",
    "    #print ('Example ', j1)\n",
    "    #j1 += 1\n",
    "    tmp = np.array(MN[:,i1:i1+2])\n",
    "    #print(tmp)\n",
    "    mean = np.mean(tmp, axis=0)\n",
    "    #print('mean: ')\n",
    "    #print(mean)\n",
    "    tmp_m_m = tmp - mean\n",
    "    #print('tmp_m_m:')\n",
    "    #print(tmp_m_m)\n",
    "    cov = np.cov(tmp_m_m.T)\n",
    "    #print('covariance:')\n",
    "    #print(cov)\n",
    "    tmp_cov[k,0] = cov[0,1]\n",
    "    tmp_cov[k,1] = cov[0,1]\n",
    "    #print(tmp_cov)\n",
    "    k+=1\n",
    "\n",
    "    \n",
    "print(tmp_cov)\n",
    "colour = np.random.rand(10)\n",
    "plt.figure()\n",
    "plt.scatter(tmp_cov[:,0], tmp_cov[:,1], c=colour)\n",
    "plt.xlabel('cov')\n",
    "plt.ylabel('cov')\n",
    "plt.title ('Covariance vs. Covariance')\n",
    "plt.show()"
   ]
  },
  {
   "cell_type": "markdown",
   "metadata": {},
   "source": [
    "#### D. Similarly, plot the variance of the first column and the variance of the second column for each example."
   ]
  },
  {
   "cell_type": "code",
   "execution_count": 7,
   "metadata": {},
   "outputs": [
    {
     "name": "stdout",
     "output_type": "stream",
     "text": [
      "[[10.34020531  2.06085007]\n",
      " [ 9.73385592  2.48255605]\n",
      " [ 9.81331096  4.24147055]\n",
      " [ 8.71864832  5.11128219]\n",
      " [ 8.08741481  6.80509819]\n",
      " [ 7.12792232  8.41154389]\n",
      " [ 5.11175555  8.60036264]\n",
      " [ 3.81863159  9.12946713]\n",
      " [ 2.6227809   9.34683606]\n",
      " [ 1.9864565   9.54814947]]\n"
     ]
    },
    {
     "data": {
      "image/png": "[encoded data removed]",
      "text/plain": [
       "<Figure size 432x288 with 1 Axes>"
      ]
     },
     "metadata": {
      "needs_background": "light"
     },
     "output_type": "display_data"
    }
   ],
   "source": [
    "i1=0\n",
    "#j1=1\n",
    "k=0\n",
    "#t=(10,2)\n",
    "tmp_var = np.empty([10,2])\n",
    "#print (tmp_co.shape)\n",
    "#print(tmp_cov)\n",
    "for i1 in range(0,20,2):\n",
    "    #print ('Example ', j1)\n",
    "    #j1 += 1\n",
    "    tmp = np.array(MN[:,i1:i1+2])\n",
    "    #print(tmp)\n",
    "    mean = np.mean(tmp, axis=0)\n",
    "    #print('mean: ')\n",
    "    #print(mean)\n",
    "    tmp_m_m = tmp - mean\n",
    "    #print('tmp_m_m:')\n",
    "    #print(tmp_m_m)\n",
    "    cov = np.cov(tmp_m_m.T)\n",
    "    #print('covariance:')\n",
    "    #print(cov)\n",
    "    tmp_var[k,0] = cov[0,0]\n",
    "    tmp_var[k,1] = cov[1,1]\n",
    "    #print(tmp_cov)\n",
    "    k+=1\n",
    "\n",
    "print(tmp_var) # this is actually the variance matrix in this case\n",
    "colour = np.random.rand(10)\n",
    "plt.figure()\n",
    "plt.scatter(tmp_var[:,0], tmp_var[:,1], c=colour)\n",
    "plt.xlabel('Var 1')\n",
    "plt.ylabel('Var 2')\n",
    "plt.title ('Variance 1 vs. Variance 2')\n",
    "plt.show()"
   ]
  },
  {
   "cell_type": "markdown",
   "metadata": {},
   "source": [
    "#### E. From the 2D scatter plots, what has changed from example to example? Think geometrically!"
   ]
  },
  {
   "cell_type": "markdown",
   "metadata": {},
   "source": [
    "##### Answer\n",
    "\n",
    "##### For the variance 1 vs variance 2 plot, its easy to visualize through the graph and the matrix that as Var1 increases Var2 decreases. Variance is also the measure of how much the values are spread around the mean. As seen in the graphs in question 4 part A, its very obvious that there is an approximate 90 degree counter-clockwise rotation in the variance of points from example 1 to 10. This can also be observed in the matrix printed in part D, as the variance in the column 1 continues to decrease and simultaneously increase in column 2 of each example. \n",
    "\n",
    "##### Covariance is a visualization of relationship and its directionality between the two columns. That's why is the same in either direction covariance(C1,C2) == covariance(C2,C1). A high positive covariance means that as X increases, Y increases and there is a strong positive relationship and predictability between the two variable. In example 1 and 10, the covariances are very low numbers, and negative, it suggests thate there is a weak and inverse relationship between the X and Y variables of the examples 1 and 10, which can be confirmed from graphs in part A."
   ]
  },
  {
   "cell_type": "markdown",
   "metadata": {},
   "source": [
    "#### F. How might I have generated the covariance matrices that were used? Consider three things:\n",
    "\n",
    "    1. What matrix transformation did I apply to change the covariance matrix for each example?\n",
    "    2. What properties must a covariance have? (This one is trickier – one property is the matrix must be symmetrical but there is one more important property…)\n",
    "    3. How might one go about creating a covariance matrix that accomplishes the transformation mentioned in point 1 and has the properties mentioned in point 2?"
   ]
  },
  {
   "cell_type": "markdown",
   "metadata": {},
   "source": [
    "##### Answer 1.\n",
    "\n",
    "##### An ~9 degree counter-clockwise rotation in the correlation of the points from one example to the next would allow generating the observed covariance matrices.\n",
    "\n",
    "##### Answer 2.\n",
    "\n",
    "##### The diagonal entries on the covariance matrix represent the variance of the values used to generate the covariance matrix. I'm not sure which property you were asking for. Also, it must always have the lowest possible rank. The covariance matrix will depend on the maximum linearly independent row or column vectors in the matrix whichever one is the lowest dimension. \n",
    "\n",
    "##### Answer 3.\n",
    "\n",
    "##### The off-diagonal values need to always be the same. The covariance values can start at an arbitrarily small value and increase to about example 5 and then start to decrease again (as seen in the tmp_cov output below). The two values of the diagonal move in opposite directions (as seen in the tmp_var output below)."
   ]
  },
  {
   "cell_type": "code",
   "execution_count": 14,
   "metadata": {},
   "outputs": [
    {
     "name": "stdout",
     "output_type": "stream",
     "text": [
      "tmp_cov\n",
      "[[-0.01203439 -0.01203439]\n",
      " [ 3.90880004  3.90880004]\n",
      " [ 5.9219742   5.9219742 ]\n",
      " [ 6.33745747  6.33745747]\n",
      " [ 7.13202774  7.13202774]\n",
      " [ 7.45150027  7.45150027]\n",
      " [ 6.26160543  6.26160543]\n",
      " [ 5.42111292  5.42111292]\n",
      " [ 4.00206938  4.00206938]\n",
      " [-0.09367179 -0.09367179]]\n",
      "tmp_var\n",
      "[[10.34020531  2.06085007]\n",
      " [ 9.73385592  2.48255605]\n",
      " [ 9.81331096  4.24147055]\n",
      " [ 8.71864832  5.11128219]\n",
      " [ 8.08741481  6.80509819]\n",
      " [ 7.12792232  8.41154389]\n",
      " [ 5.11175555  8.60036264]\n",
      " [ 3.81863159  9.12946713]\n",
      " [ 2.6227809   9.34683606]\n",
      " [ 1.9864565   9.54814947]]\n"
     ]
    }
   ],
   "source": [
    "print('tmp_cov')\n",
    "print(tmp_cov)\n",
    "print('tmp_var')\n",
    "print(tmp_var)"
   ]
  },
  {
   "cell_type": "code",
   "execution_count": null,
   "metadata": {},
   "outputs": [],
   "source": []
  }
 ],
 "metadata": {
  "kernelspec": {
   "display_name": "Python 3",
   "language": "python",
   "name": "python3"
  },
  "language_info": {
   "codemirror_mode": {
    "name": "ipython",
    "version": 3
   },
   "file_extension": ".py",
   "mimetype": "text/x-python",
   "name": "python",
   "nbconvert_exporter": "python",
   "pygments_lexer": "ipython3",
   "version": "3.5.4"
  }
 },
 "nbformat": 4,
 "nbformat_minor": 4
}
