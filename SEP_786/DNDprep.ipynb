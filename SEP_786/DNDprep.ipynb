{
 "cells": [
  {
   "cell_type": "markdown",
   "metadata": {},
   "source": [
    "# DND prep"
   ]
  },
  {
   "cell_type": "markdown",
   "metadata": {},
   "source": [
    "## Number of Creatures Created"
   ]
  },
  {
   "cell_type": "markdown",
   "metadata": {},
   "source": [
    "Archmages = a;\n",
    "Mages = b;\n",
    "Other Creatures = c;\n",
    "total casters = tc"
   ]
  },
  {
   "cell_type": "code",
   "execution_count": 21,
   "metadata": {},
   "outputs": [
    {
     "name": "stdout",
     "output_type": "stream",
     "text": [
      "2.2222222222222223\n",
      "1.0\n",
      "1.0\n",
      "2.0\n",
      "4.0\n",
      "7.0\n",
      "13.0\n",
      "24.0\n",
      "44.0\n",
      "78.77777777777777\n",
      "136.27272727272728\n",
      "226.92307692307693\n",
      "364.0\n",
      "563.9411764705883\n",
      "846.6842105263158\n",
      "1236.0\n",
      "1759.8260869565217\n",
      "2450.6\n",
      "3345.5925925925926\n",
      "4487.241379310345\n",
      "5923.4838709677415\n",
      "7708.090909090909\n",
      "9901.0\n",
      "12568.648648648648\n",
      "15784.307692307691\n",
      "19628.414634146342\n",
      "24188.906976744187\n",
      "29561.555555555555\n",
      "35850.29787234042\n",
      "43167.57142857143\n"
     ]
    },
    {
     "data": {
      "text/plain": [
       "439748"
      ]
     },
     "execution_count": 21,
     "metadata": {},
     "output_type": "execute_result"
    }
   ],
   "source": [
    "a=0\n",
    "days = 15\n",
    "intervals = 2*days\n",
    "for n in range (0,intervals):\n",
    "    b= ((n**6) - (12*n**5) + (40*n**4) + (210*n**3) - (1751*n**2) + (3852*n) - 3600)/(180*(2*n - 9))\n",
    "    print(b)\n",
    "    a=a+b\n",
    "a = int(a-2)\n",
    "b = a\n",
    "tc = a+b\n",
    "tc"
   ]
  },
  {
   "cell_type": "markdown",
   "metadata": {},
   "source": [
    "## Size of Demiplane Created Simultaneously"
   ]
  },
  {
   "cell_type": "code",
   "execution_count": 22,
   "metadata": {},
   "outputs": [],
   "source": [
    "times = days\n",
    "demiplane_sqft = a*30*30\n",
    "demiplane_sqkm = demiplane_sqft*(9.2903**-8)"
   ]
  },
  {
   "cell_type": "code",
   "execution_count": 23,
   "metadata": {},
   "outputs": [],
   "source": [
    "demiplane_sqft_b = b*30*30\n",
    "demiplane_sqkm_b = demiplane_sqft_b*(9.2903**-8)"
   ]
  },
  {
   "cell_type": "code",
   "execution_count": 24,
   "metadata": {},
   "outputs": [],
   "source": [
    "demiplane_sqkm = (demiplane_sqkm + demiplane_sqkm_b) * times"
   ]
  },
  {
   "cell_type": "code",
   "execution_count": 25,
   "metadata": {},
   "outputs": [
    {
     "data": {
      "text/plain": [
       "106.97929576751629"
      ]
     },
     "execution_count": 25,
     "metadata": {},
     "output_type": "execute_result"
    }
   ],
   "source": [
    "demiplane_sqkm"
   ]
  },
  {
   "cell_type": "markdown",
   "metadata": {},
   "source": [
    "## Size of Demiplane Created After"
   ]
  },
  {
   "cell_type": "code",
   "execution_count": 17,
   "metadata": {},
   "outputs": [],
   "source": [
    "days_2 = 30\n",
    "times_2 = 3*days_2\n",
    "demiplane_sqft_2 = a*30*30\n",
    "demiplane_sqkm_2 = demiplane_sqft_2*(9.2903**-8)"
   ]
  },
  {
   "cell_type": "code",
   "execution_count": 18,
   "metadata": {},
   "outputs": [],
   "source": [
    "demiplane_sqkm_2 = demiplane_sqkm_2 * times_2"
   ]
  },
  {
   "cell_type": "markdown",
   "metadata": {},
   "source": [
    "### Total Size of Wonderous World"
   ]
  },
  {
   "cell_type": "code",
   "execution_count": 19,
   "metadata": {},
   "outputs": [],
   "source": [
    "demiplane_sqkm_total = demiplane_sqkm_2 + demiplane_sqkm"
   ]
  },
  {
   "cell_type": "code",
   "execution_count": 20,
   "metadata": {},
   "outputs": [
    {
     "data": {
      "text/plain": [
       "427.91718307006516"
      ]
     },
     "execution_count": 20,
     "metadata": {},
     "output_type": "execute_result"
    }
   ],
   "source": [
    "demiplane_sqkm_total"
   ]
  },
  {
   "cell_type": "code",
   "execution_count": null,
   "metadata": {},
   "outputs": [],
   "source": []
  }
 ],
 "metadata": {
  "kernelspec": {
   "display_name": "Python 3",
   "language": "python",
   "name": "python3"
  },
  "language_info": {
   "codemirror_mode": {
    "name": "ipython",
    "version": 3
   },
   "file_extension": ".py",
   "mimetype": "text/x-python",
   "name": "python",
   "nbconvert_exporter": "python",
   "pygments_lexer": "ipython3",
   "version": "3.5.4"
  }
 },
 "nbformat": 4,
 "nbformat_minor": 4
}
