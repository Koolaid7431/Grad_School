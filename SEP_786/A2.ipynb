{
 "cells": [
  {
   "cell_type": "markdown",
   "metadata": {},
   "source": [
    "# Assignment 2\n",
    "### CHEM ENG/ SEP 786\n",
    "### Mohammad Kashif Siddiqui - 0755452\n"
   ]
  },
  {
   "cell_type": "markdown",
   "metadata": {},
   "source": [
    "### Headers"
   ]
  },
  {
   "cell_type": "code",
   "execution_count": 349,
   "metadata": {},
   "outputs": [],
   "source": [
    "import numpy as np\n",
    "import matplotlib.pyplot as plt\n",
    "import os \n",
    "import pandas as pd\n",
    "from IPython.display import Image\n",
    "from sklearn.metrics import mean_squared_error\n",
    "import math\n",
    "import random as rn\n",
    "import sklearn.discriminant_analysis\n",
    "from sklearn import datasets"
   ]
  },
  {
   "cell_type": "markdown",
   "metadata": {},
   "source": [
    "### Checking paths"
   ]
  },
  {
   "cell_type": "code",
   "execution_count": 2,
   "metadata": {},
   "outputs": [
    {
     "name": "stdout",
     "output_type": "stream",
     "text": [
      "test1\n",
      "C:\\Users\\User\\AppData\\Roaming\\Python\\Python35\\Scripts\\Allwork\\SEP_788\n"
     ]
    }
   ],
   "source": [
    "print('test1')\n",
    "dir_path = os.getcwd()\n",
    "print(dir_path)"
   ]
  },
  {
   "cell_type": "markdown",
   "metadata": {},
   "source": [
    "# Question 1\n",
    "#### Generate two  sets  of 10  dimensional (10  attribute  data),  one  for  each  class.  You  can  use  any covariance  matrix  you  would  like,  however,  the  matrix  should  contain  covariance  between  at least  3 of  the  attributes.  Similarly,you  can use  any  class  means  you  would  like.  However, you must be sure that when using a linear classifier (as we will do herein), you will have some errors when  classifying  the  training  data (i.e.  ensure  that  the distance  between the  means is  small enough AND the variance is large enough so that the classes overlap somewhat.\n"
   ]
  },
  {
   "cell_type": "markdown",
   "metadata": {},
   "source": [
    "### Creating Dataset 1"
   ]
  },
  {
   "cell_type": "markdown",
   "metadata": {},
   "source": [
    "##### Instead of sharing it in between 3 attributes, I made a random cov matrix that's shared between all of them for simplicity, albeit it may make PCA harder in the future.\n",
    "##### The mean is also randomly generated for all the attributes, so that my own personal biases don't impact the possiblity of data being of a certain distribution.\n",
    "##### I made the N value high so that the learning algorithm has more data to work with."
   ]
  },
  {
   "cell_type": "code",
   "execution_count": 520,
   "metadata": {},
   "outputs": [],
   "source": [
    "ran_cov1 = [[1., 0., 0., 0., 0., 0., 0., 0., 0., 0.],\n",
    "       [0., 3, 0., 0., 0., 0., 0., 0., 0., 0.],\n",
    "       [0., 0., 4, 0., 0., 0., 0., 0., 0., 0.],\n",
    "       [0., 0., 0., 12, 0., 0., 0., 0., 0., 0.],\n",
    "       [0., 0., 0., 0., 7., 0., 0., 0., 0., 0.],\n",
    "       [0., 0., 0., 0., 0., 2., 0., 0., 0., 0.],\n",
    "       [0., 0., 0., 0., 0., 0., 7, 0., 0., 0.],\n",
    "       [0., 0., 0., 0., 0., 0., 0., 9, 0., 0.],\n",
    "       [0., 0., 0., 0., 0., 0., 0., 0., 10, 0.],\n",
    "       [0., 0., 0., 0., 0., 0., 0., 0., 0., 5.]]"
   ]
  },
  {
   "cell_type": "code",
   "execution_count": 521,
   "metadata": {},
   "outputs": [],
   "source": [
    "np.random.seed(89)\n",
    "N = 1000\n",
    "ran_mean = np.random.randint(low=-5, high=5, size=10)\n",
    "ran_cov = sklearn.datasets.make_spd_matrix(10, random_state=89) #change random seed here too.\n",
    "#ran_cov1 = sklearn.datasets.make_sparse_spd_matrix(dim=10, alpha=0.99, norm_diag=False, smallest_coef=0.05, largest_coef=0.95, random_state=9)\n",
    "\n",
    "data_1 = np.random.multivariate_normal(ran_mean, ran_cov1, N)\n",
    "#data_1a = data_1 - np.mean(data_1)\n",
    "data_test = np.random.multivariate_normal(ran_mean, ran_cov1, 10)"
   ]
  },
  {
   "cell_type": "code",
   "execution_count": 522,
   "metadata": {},
   "outputs": [
    {
     "data": {
      "text/plain": [
       "array([-2, -1,  1,  0,  3, -3, -4,  2,  3, -5])"
      ]
     },
     "execution_count": 522,
     "metadata": {},
     "output_type": "execute_result"
    }
   ],
   "source": [
    "ran_mean"
   ]
  },
  {
   "cell_type": "code",
   "execution_count": 525,
   "metadata": {},
   "outputs": [
    {
     "data": {
      "text/plain": [
       "numpy.ndarray"
      ]
     },
     "execution_count": 525,
     "metadata": {},
     "output_type": "execute_result"
    }
   ],
   "source": [
    "type(data_1)"
   ]
  },
  {
   "cell_type": "markdown",
   "metadata": {},
   "source": [
    "### Creating Dataset 2"
   ]
  },
  {
   "cell_type": "markdown",
   "metadata": {},
   "source": [
    "##### Same setup as before, different random seeds. Difference between means from the two datasets is very close for a few variables. All I did was flip the random seed backwards."
   ]
  },
  {
   "cell_type": "code",
   "execution_count": 526,
   "metadata": {},
   "outputs": [],
   "source": [
    "ran_cov2 = [[12., 0., 0., 0., 0., 0., 0., 0., 0., 0.],\n",
    "       [0., 4, 0., 0., 0., 0., 0., 0., 0., 0.],\n",
    "       [0., 0., 3, 0., 0., 0., 0., 0., 0., 0.],\n",
    "       [0., 0., 0., 8, 0., 0., 0., 0., 0., 0.],\n",
    "       [0., 0., 0., 0., 7., 0., 0., 0., 0., 0.],\n",
    "       [0., 0., 0., 0., 0., 9., 0., 0., 0., 0.],\n",
    "       [0., 0., 0., 0., 0., 0., 11, 0., 0., 0.],\n",
    "       [0., 0., 0., 0., 0., 0., 0., 6, 0., 0.],\n",
    "       [0., 0., 0., 0., 0., 0., 0., 0., 3, 0.],\n",
    "       [0., 0., 0., 0., 0., 0., 0., 0., 0., 10.]]"
   ]
  },
  {
   "cell_type": "code",
   "execution_count": 527,
   "metadata": {},
   "outputs": [],
   "source": [
    "np.random.seed(98)\n",
    "N = 1000\n",
    "ran_mean = np.random.randint(low=-5, high=5, size=10)\n",
    "ran_cov = sklearn.datasets.make_spd_matrix(10, random_state=98) #change random seed here too.\n",
    "#ran_cov1 = sklearn.datasets.make_sparse_spd_matrix(dim=4, alpha=0.2 norm_diag=False, smallest_coef=0.05, largest_coef=0.95, random_state=98)\n",
    "\n",
    "\n",
    "data_2 = np.random.multivariate_normal(ran_mean, ran_cov2, N)\n",
    "#data_2a = data_2 - np.mean(data_2)\n",
    "data2_test = np.random.multivariate_normal(ran_mean, ran_cov2, 10)"
   ]
  },
  {
   "cell_type": "code",
   "execution_count": 528,
   "metadata": {},
   "outputs": [
    {
     "data": {
      "text/plain": [
       "array([-1,  4, -4, -1,  2,  1,  4, -3,  2, -3])"
      ]
     },
     "execution_count": 528,
     "metadata": {},
     "output_type": "execute_result"
    }
   ],
   "source": [
    "ran_mean"
   ]
  },
  {
   "cell_type": "markdown",
   "metadata": {},
   "source": [
    "### Visually Checking Data\n",
    "\n",
    "##### Just plottting the two classes against one another for each attribute to see how the distribution looks, paying attention to the ranges in values and shape of points to see if there are obvious realationships between the classes. I didn't feel the need to change the underlying data distribution after seeing this, as it seemed quite appropriate"
   ]
  },
  {
   "cell_type": "code",
   "execution_count": 529,
   "metadata": {
    "scrolled": true
   },
   "outputs": [
    {
     "data": {
      "text/plain": [
       "<Figure size 432x288 with 0 Axes>"
      ]
     },
     "metadata": {},
     "output_type": "display_data"
    },
    {
     "data": {
      "image/png": "[encoded data removed]",
      "text/plain": [
       "<Figure size 360x3600 with 10 Axes>"
      ]
     },
     "metadata": {
      "needs_background": "light"
     },
     "output_type": "display_data"
    }
   ],
   "source": [
    "plt.figure()\n",
    "fig, ax =plt.subplots(10, figsize=(5,50))\n",
    "\n",
    "ax[0].scatter(data_1[1:100,0], data_2[1:100,0],  c='blue')   \n",
    "ax[1].scatter(data_1[1:100,1], data_2[1:100,1],  c='red')    \n",
    "\n",
    "ax[2].scatter(data_1[1:100,2], data_2[1:100,2],  c='blue')    \n",
    "ax[3].scatter(data_1[1:100,3], data_2[1:100,3],  c='red')    \n",
    "\n",
    "ax[4].scatter(data_1[1:100,4], data_2[1:100,4],  c='blue')    \n",
    "ax[5].scatter(data_1[1:100,5], data_2[1:100,5],  c='red')    \n",
    "\n",
    "ax[6].scatter(data_1[1:100,6], data_2[1:100,6],  c='blue')    \n",
    "ax[7].scatter(data_1[1:100,7], data_2[1:100,7],  c='red')    \n",
    "\n",
    "ax[8].scatter(data_1[1:100,8], data_2[1:100,8],  c='blue')    \n",
    "ax[9].scatter(data_1[1:100,9], data_2[1:100,9],  c='red')    \n",
    "\n",
    "plt.show()"
   ]
  },
  {
   "cell_type": "markdown",
   "metadata": {},
   "source": [
    "### Combined Datasets"
   ]
  },
  {
   "cell_type": "code",
   "execution_count": 33,
   "metadata": {},
   "outputs": [],
   "source": [
    "#comb_c1 = np.concatenate((data_1a,data_2a))\n",
    "\n",
    "#Set for Q2.\n",
    "comb2 = np.concatenate((data_1,data_2))\n",
    "mean2 = np.mean(comb2)\n",
    "comb_c2 = comb2 - mean2\n",
    "\n",
    "# set for testing Q2/3\n",
    "comb_test = np.concatenate((data2_test,data_test))\n",
    "mean3 = np.mean(comb_test)\n",
    "comb2_test = comb_test - mean3\n",
    "\n",
    "#labels for Q2, goes with comb_c2\n",
    "clas = np.zeros(1000)\n",
    "clas = np.concatenate((clas, np.ones(1000)))\n",
    "\n",
    "#labels for comb2_test, for Q2/3\n",
    "labels = np.ones(10)\n",
    "labels = np.concatenate((labels, np.zeros(10)))\n"
   ]
  },
  {
   "cell_type": "code",
   "execution_count": 531,
   "metadata": {
    "scrolled": true
   },
   "outputs": [
    {
     "data": {
      "text/plain": [
       "array([[-3.89324256e+00,  6.31005892e+00, -3.80383065e+00,\n",
       "        -1.35842349e-01,  5.01130016e+00,  3.63393726e+00,\n",
       "         6.17727759e+00,  2.46839896e+00,  2.62072315e+00,\n",
       "        -2.79284629e+00],\n",
       "       [-5.09184120e-01,  3.07467136e+00, -2.86788764e+00,\n",
       "         2.89653230e-01,  3.41722750e-01, -2.22079113e+00,\n",
       "         2.41359154e+00, -1.71422600e+00,  2.59939231e+00,\n",
       "        -3.62238184e-02],\n",
       "       [-2.34483930e+00, -5.96425435e-01, -3.97788189e+00,\n",
       "         2.10506532e+00, -2.89959795e+00,  1.01859153e+00,\n",
       "         5.29243892e+00, -6.72234173e+00,  3.26470805e+00,\n",
       "        -6.16502843e+00],\n",
       "       [ 1.25923153e+00,  5.75671772e+00, -3.18511612e+00,\n",
       "         2.49935573e+00,  1.45854671e+00,  4.01707985e+00,\n",
       "         8.60317199e+00, -4.81975451e+00,  3.09969095e-01,\n",
       "        -2.68733773e+00],\n",
       "       [-2.62623248e+00,  2.63186819e+00, -5.47095872e+00,\n",
       "         6.26734218e-01,  4.10311446e+00, -1.31485219e+00,\n",
       "         9.98786299e+00,  9.51739290e-03,  4.77220205e+00,\n",
       "         1.54345373e-01],\n",
       "       [-2.29553167e+00,  3.56604610e+00, -7.02590693e+00,\n",
       "        -3.24786273e+00,  3.69635479e+00,  2.56071460e+00,\n",
       "         1.51935591e+01, -4.27558375e+00,  3.90541374e+00,\n",
       "         2.47155439e+00],\n",
       "       [ 8.60320484e+00,  3.55565601e-02, -5.06250949e+00,\n",
       "        -1.21652457e+00,  6.76616600e-01,  5.67148053e+00,\n",
       "         2.93946648e+00, -5.26401733e+00,  5.52954229e-01,\n",
       "        -3.85672955e+00],\n",
       "       [-1.35105821e+00,  2.31089146e+00, -5.42208189e+00,\n",
       "         7.38833797e-01,  2.32374965e+00,  3.03685132e+00,\n",
       "         6.18128203e+00, -3.86543284e+00,  1.49984279e+00,\n",
       "        -3.16428004e+00],\n",
       "       [ 2.83454806e+00,  6.77876572e+00, -6.70552710e+00,\n",
       "         1.79151732e+00,  6.24490122e+00,  1.01188826e+00,\n",
       "         9.23234159e+00, -6.72196394e+00,  2.88284138e+00,\n",
       "        -5.48210961e+00],\n",
       "       [ 8.51339363e-01,  4.52041757e+00, -9.22427424e-01,\n",
       "        -1.57872286e-02, -5.22661088e-01,  3.78630102e-01,\n",
       "         4.67779316e+00, -2.14820545e+00,  1.40240444e+00,\n",
       "        -4.16182675e+00],\n",
       "       [-1.31241601e+00,  7.08250383e-01,  9.09029198e-01,\n",
       "        -4.09925565e+00,  2.15675116e+00, -3.21808693e+00,\n",
       "        -3.02002959e+00,  4.69706881e+00,  8.40568427e+00,\n",
       "        -7.47122698e+00],\n",
       "       [-8.70474344e-02,  1.65955534e+00, -1.35640679e+00,\n",
       "         1.41805458e+00,  5.15000413e+00, -1.10270200e+00,\n",
       "        -6.36472404e+00,  1.49213501e+00,  1.48079470e+00,\n",
       "        -6.87137649e+00],\n",
       "       [-1.72355678e+00, -5.97066720e-01,  3.24364749e-01,\n",
       "         2.59727808e+00, -1.75329419e+00, -3.48484821e+00,\n",
       "        -5.75375375e+00,  8.49746222e+00, -3.03424650e+00,\n",
       "        -4.83262323e+00],\n",
       "       [-2.22749987e+00, -1.06925330e+00, -1.43211813e+00,\n",
       "        -2.56813958e+00, -1.31920948e+00, -3.65747836e+00,\n",
       "        -2.23997956e+00,  2.02062804e+00,  3.16978671e+00,\n",
       "        -9.83014944e+00],\n",
       "       [-2.89061541e+00, -9.69287575e-01,  1.95466198e+00,\n",
       "         1.97224975e+00,  4.92023083e+00, -4.95289944e+00,\n",
       "        -9.60643442e-01,  5.95830127e-01,  1.52386738e+00,\n",
       "        -5.03110217e+00],\n",
       "       [-2.16946579e+00, -1.14510968e+00,  4.05627758e+00,\n",
       "        -3.20025372e+00,  3.55625307e+00, -3.31006701e+00,\n",
       "        -2.91517986e+00,  3.24442271e+00,  3.58996732e+00,\n",
       "        -3.60188103e+00],\n",
       "       [-2.16068253e+00, -1.37741179e+00, -2.76794759e-01,\n",
       "        -4.36229266e+00,  2.07368701e-01, -4.41259101e+00,\n",
       "        -2.86992631e+00,  1.52325417e+00,  1.81427170e+00,\n",
       "        -5.55030533e+00],\n",
       "       [-2.61356161e+00, -1.16939624e-01,  1.51808817e+00,\n",
       "         2.88807048e-01,  7.05084358e+00, -2.27860170e+00,\n",
       "        -2.45238105e+00, -9.00252629e-01,  1.77969307e+00,\n",
       "        -1.86126762e+00],\n",
       "       [-2.40640676e+00,  6.01420809e-01,  4.51683727e+00,\n",
       "         1.84243445e+00,  2.79837091e+00, -5.19611813e+00,\n",
       "        -6.24568348e+00,  8.68241929e+00,  4.00180068e+00,\n",
       "        -3.40060123e+00],\n",
       "       [-1.51350052e+00, -4.06564258e+00,  2.48926500e+00,\n",
       "         7.90272781e-01, -3.33014759e+00, -2.38843145e-01,\n",
       "        -5.78342771e+00, -1.16854771e+00,  4.75272543e+00,\n",
       "        -6.47410044e+00]])"
      ]
     },
     "execution_count": 531,
     "metadata": {},
     "output_type": "execute_result"
    }
   ],
   "source": [
    "comb2_test"
   ]
  },
  {
   "cell_type": "code",
   "execution_count": 532,
   "metadata": {},
   "outputs": [
    {
     "data": {
      "text/plain": [
       "array([[-1.81844616, -5.60576375,  0.68092932, ...,  1.41723287,\n",
       "        -1.22489785, -6.29951804],\n",
       "       [-1.1225885 , -1.42716747,  3.49064593, ..., -0.50112065,\n",
       "         2.57533532, -5.25085845],\n",
       "       [-1.16778313, -0.62758088,  0.04533039, ...,  6.91365088,\n",
       "         4.68215187, -4.3750166 ],\n",
       "       ...,\n",
       "       [-3.24713046,  6.84781873, -4.88375385, ..., -3.44733072,\n",
       "         2.84221949,  2.3173966 ],\n",
       "       [-2.11748004,  6.21393561, -3.82035304, ...,  1.18540684,\n",
       "         1.41121676, -2.45960718],\n",
       "       [-5.88070731,  2.81996317, -6.7658234 , ..., -3.54966631,\n",
       "         2.40242151, -4.03694567]])"
      ]
     },
     "execution_count": 532,
     "metadata": {},
     "output_type": "execute_result"
    }
   ],
   "source": [
    "comb_c2"
   ]
  },
  {
   "cell_type": "code",
   "execution_count": 533,
   "metadata": {},
   "outputs": [
    {
     "data": {
      "text/plain": [
       "False"
      ]
     },
     "execution_count": 533,
     "metadata": {},
     "output_type": "execute_result"
    }
   ],
   "source": [
    "#np.array_equal(comb_c1, comb_c2)\n",
    "np.allclose(comb_c1, comb_c2)"
   ]
  },
  {
   "cell_type": "markdown",
   "metadata": {},
   "source": [
    "# Question 2\n",
    "\n",
    "##### Take the ENTIRE  dataset (both classes) and use PCA to represent  the data in score space. With the PCA representation, do the following:\n",
    "\n",
    "##### a. Reduce  the  dimensionality to  10,  9,  8,  7,  6  and 5 by incrementally  removing  the direction  in  the  data  corresponding  to  the  smallest  variance and,  from  the resulting scores,  reconstruct  the  original  10-dimensional  data  (in  other  words,  apply  the  PCA formula  backwards). Determine  the  mean  square  error  between  the  reconstructed dataset  and  the  original  data  and  plot  the  result for  10,  9,  8,  7,  6  and  5  retained dimensions.\n",
    "\n",
    "##### b. Follow the same dimensionality reduction procedure as part (a) except classify all of the data in the dataset using the PCA scores with FLD and determine the classification error instead of determining the reconstruction MSE.Plot the classification error result (total for both classes) for the 10, 9, 8, 7, 6 and 5 retained dimensions"
   ]
  },
  {
   "cell_type": "markdown",
   "metadata": {},
   "source": [
    "### PCA"
   ]
  },
  {
   "cell_type": "code",
   "execution_count": 534,
   "metadata": {},
   "outputs": [
    {
     "name": "stdout",
     "output_type": "stream",
     "text": [
      "D: [95115.26604273 84418.88163374 19279.62515276  7398.07575912\n",
      " 16646.42461115 10129.87024021 14478.94419616 13494.40021727\n",
      " 13157.3882122  12287.58332049]\n",
      "E [[-0.06557447 -0.22235693  0.07553083 -0.00430131 -0.12813455  0.07157353\n",
      "   0.48609911  0.40213096 -0.72036621  0.04542693]\n",
      " [-0.37936208  0.25279322  0.028305   -0.66944739 -0.133209    0.44249408\n",
      "   0.02928538  0.04093034  0.09540323  0.34356756]\n",
      " [ 0.37423034 -0.18672354 -0.02605195 -0.74107783  0.14394941 -0.41120437\n",
      "  -0.00848679 -0.02930144 -0.08088474 -0.279155  ]\n",
      " [ 0.08855619 -0.01161855  0.98795651 -0.00149063 -0.02614652  0.04592111\n",
      "  -0.05118262 -0.09391623  0.0190383  -0.03698318]\n",
      " [ 0.05582414  0.4686767   0.03679778  0.0160779   0.26011294 -0.09711259\n",
      "  -0.58877952  0.49829966 -0.31788168  0.05010993]\n",
      " [-0.29760368 -0.12612737  0.08695461  0.00665337 -0.16968569 -0.70867021\n",
      "   0.01175833  0.16121393  0.16749714  0.55020758]\n",
      " [-0.67045923  0.01559926  0.06848307 -0.00972498  0.61367753 -0.15110608\n",
      "   0.14674609 -0.11870714 -0.04868503 -0.32867519]\n",
      " [ 0.37960425 -0.01722334  0.01297451  0.03590135  0.67200707  0.13326979\n",
      "   0.30207625  0.02498839  0.11673098  0.52848064]\n",
      " [ 0.05731832  0.44257421 -0.03750308  0.01545276 -0.06473688 -0.19747033\n",
      "   0.05801627 -0.68734301 -0.48515247  0.21173754]\n",
      " [-0.12373042 -0.64782284 -0.03971421 -0.02642116  0.12488142  0.19143067\n",
      "  -0.54516822 -0.25590595 -0.2908481   0.25141821]]\n",
      "sortIndex:  [3 5 9 8 7 6 4 2 1 0]\n"
     ]
    }
   ],
   "source": [
    "D,E = numpy.linalg.eig(numpy.dot(comb_c2.T,comb_c2))\n",
    "print('D:', D)\n",
    "print('E', E)\n",
    "sortIndex = numpy.argsort(D)\n",
    "print('sortIndex: ', sortIndex)"
   ]
  },
  {
   "cell_type": "markdown",
   "metadata": {},
   "source": [
    "### Making the initial PCA coefficient output"
   ]
  },
  {
   "cell_type": "code",
   "execution_count": 535,
   "metadata": {},
   "outputs": [
    {
     "name": "stdout",
     "output_type": "stream",
     "text": [
      "PCA: \n",
      "[[  3.56317101  -2.40753113  -3.57109145 ...  -2.84315341   5.65796916\n",
      "    5.86247554]\n",
      " [ -1.34152222  -3.74908015  -0.59464448 ...   2.99363002   5.95399288\n",
      "    6.05100229]\n",
      " [  0.89361137   2.53459837   1.27564287 ...   1.88349624   7.87399704\n",
      "    7.44033815]\n",
      " ...\n",
      " [ -1.03412478  -0.21934572   3.82314385 ...   1.93226655   5.10255194\n",
      "  -10.24140498]\n",
      " [ -1.16101348   4.43882249   3.01683693 ...   0.44214356   6.01767479\n",
      "   -1.79718283]\n",
      " [  3.11558698  -2.51009882  -0.14649797 ...   5.83105436   6.67801776\n",
      "  -10.49664507]]\n",
      "PCA Shape:  (2000, 10)\n",
      "newE: \n",
      "[[-0.00430131  0.07157353  0.04542693 -0.72036621  0.40213096  0.48609911\n",
      "  -0.12813455  0.07553083 -0.22235693 -0.06557447]\n",
      " [-0.66944739  0.44249408  0.34356756  0.09540323  0.04093034  0.02928538\n",
      "  -0.133209    0.028305    0.25279322 -0.37936208]\n",
      " [-0.74107783 -0.41120437 -0.279155   -0.08088474 -0.02930144 -0.00848679\n",
      "   0.14394941 -0.02605195 -0.18672354  0.37423034]\n",
      " [-0.00149063  0.04592111 -0.03698318  0.0190383  -0.09391623 -0.05118262\n",
      "  -0.02614652  0.98795651 -0.01161855  0.08855619]\n",
      " [ 0.0160779  -0.09711259  0.05010993 -0.31788168  0.49829966 -0.58877952\n",
      "   0.26011294  0.03679778  0.4686767   0.05582414]\n",
      " [ 0.00665337 -0.70867021  0.55020758  0.16749714  0.16121393  0.01175833\n",
      "  -0.16968569  0.08695461 -0.12612737 -0.29760368]\n",
      " [-0.00972498 -0.15110608 -0.32867519 -0.04868503 -0.11870714  0.14674609\n",
      "   0.61367753  0.06848307  0.01559926 -0.67045923]\n",
      " [ 0.03590135  0.13326979  0.52848064  0.11673098  0.02498839  0.30207625\n",
      "   0.67200707  0.01297451 -0.01722334  0.37960425]\n",
      " [ 0.01545276 -0.19747033  0.21173754 -0.48515247 -0.68734301  0.05801627\n",
      "  -0.06473688 -0.03750308  0.44257421  0.05731832]\n",
      " [-0.02642116  0.19143067  0.25141821 -0.2908481  -0.25590595 -0.54516822\n",
      "   0.12488142 -0.03971421 -0.64782284 -0.12373042]]\n"
     ]
    }
   ],
   "source": [
    "newE = numpy.zeros((10,10))\n",
    "index = 0\n",
    "for i in range(0,10):\n",
    "    newE[:,index] = E[:,sortIndex[i]]\n",
    "    index = index + 1\n",
    "    \n",
    "PCA = numpy.dot(comb_c2,newE)\n",
    "\n",
    "print('PCA: ')\n",
    "print(PCA)\n",
    "print('PCA Shape: ', PCA.shape)\n",
    "\n",
    "print('newE: ')\n",
    "print(newE)"
   ]
  },
  {
   "cell_type": "markdown",
   "metadata": {},
   "source": [
    "### Setting up the reduced Eigenvectors (loadings) "
   ]
  },
  {
   "cell_type": "code",
   "execution_count": 566,
   "metadata": {},
   "outputs": [],
   "source": [
    "# Reducing to 9\n",
    "newE_9 = np.delete(newE, 0, axis=1)\n",
    "# Reducting to 8\n",
    "newE_8 = np.delete(newE_9, 0, axis=1)\n",
    "# Reducting to 7\n",
    "newE_7 = np.delete(newE_8, 0, axis=1)\n",
    "# Reducting to 6\n",
    "newE_6 = np.delete(newE_7, 0, axis=1)\n",
    "# Reducting to 5\n",
    "newE_5 = np.delete(newE_6, 0, axis=1)"
   ]
  },
  {
   "cell_type": "code",
   "execution_count": 565,
   "metadata": {},
   "outputs": [
    {
     "data": {
      "text/plain": [
       "array([[ 0.07157353,  0.04542693, -0.72036621,  0.40213096,  0.48609911,\n",
       "        -0.12813455,  0.07553083, -0.22235693, -0.06557447],\n",
       "       [ 0.44249408,  0.34356756,  0.09540323,  0.04093034,  0.02928538,\n",
       "        -0.133209  ,  0.028305  ,  0.25279322, -0.37936208],\n",
       "       [-0.41120437, -0.279155  , -0.08088474, -0.02930144, -0.00848679,\n",
       "         0.14394941, -0.02605195, -0.18672354,  0.37423034],\n",
       "       [ 0.04592111, -0.03698318,  0.0190383 , -0.09391623, -0.05118262,\n",
       "        -0.02614652,  0.98795651, -0.01161855,  0.08855619],\n",
       "       [-0.09711259,  0.05010993, -0.31788168,  0.49829966, -0.58877952,\n",
       "         0.26011294,  0.03679778,  0.4686767 ,  0.05582414],\n",
       "       [-0.70867021,  0.55020758,  0.16749714,  0.16121393,  0.01175833,\n",
       "        -0.16968569,  0.08695461, -0.12612737, -0.29760368],\n",
       "       [-0.15110608, -0.32867519, -0.04868503, -0.11870714,  0.14674609,\n",
       "         0.61367753,  0.06848307,  0.01559926, -0.67045923],\n",
       "       [ 0.13326979,  0.52848064,  0.11673098,  0.02498839,  0.30207625,\n",
       "         0.67200707,  0.01297451, -0.01722334,  0.37960425],\n",
       "       [-0.19747033,  0.21173754, -0.48515247, -0.68734301,  0.05801627,\n",
       "        -0.06473688, -0.03750308,  0.44257421,  0.05731832],\n",
       "       [ 0.19143067,  0.25141821, -0.2908481 , -0.25590595, -0.54516822,\n",
       "         0.12488142, -0.03971421, -0.64782284, -0.12373042]])"
      ]
     },
     "execution_count": 565,
     "metadata": {},
     "output_type": "execute_result"
    }
   ],
   "source": [
    "newE_9"
   ]
  },
  {
   "cell_type": "markdown",
   "metadata": {},
   "source": [
    "### Setting up the reconstruction using the formula below:\n",
    "##### X_reconstructed = X_centered . (Eigenvector . (Eigenvector^T)) + np.mean(X_original)\n",
    "\n",
    "##### Ex:  comb_c2_rec = comb_c2 . (newE_9 . (newE_9^T)) + mean2"
   ]
  },
  {
   "cell_type": "code",
   "execution_count": 538,
   "metadata": {},
   "outputs": [
    {
     "name": "stdout",
     "output_type": "stream",
     "text": [
      "(2000, 10)\n"
     ]
    }
   ],
   "source": [
    "temp_9 = np.dot(newE_9, newE_9.T)\n",
    "temp_8 = np.dot(newE_8, newE_8.T)\n",
    "temp_7 = np.dot(newE_7, newE_7.T)\n",
    "temp_6 = np.dot(newE_6, newE_6.T)\n",
    "temp_5 = np.dot(newE_5, newE_5.T)\n",
    "\n",
    "#print(temp_9.shape)\n",
    "\n",
    "# reconstructed original data\n",
    "recon_9 = np.dot(comb_c2, temp_9) + mean2\n",
    "recon_8 = np.dot(comb_c2, temp_8) + mean2\n",
    "recon_7 = np.dot(comb_c2, temp_7) + mean2\n",
    "recon_6 = np.dot(comb_c2, temp_6) + mean2\n",
    "recon_5 = np.dot(comb_c2, temp_5) + mean2\n",
    "\n",
    "print(recon_5.shape)"
   ]
  },
  {
   "cell_type": "markdown",
   "metadata": {},
   "source": [
    "### 2a. Mean Squared Error For All Reconstructions"
   ]
  },
  {
   "cell_type": "code",
   "execution_count": 539,
   "metadata": {},
   "outputs": [],
   "source": [
    "# 10\n",
    "MSE_10 = mean_squared_error(comb_c2, comb_c2)\n",
    "# 9\n",
    "MSE_9 = mean_squared_error(comb_c2, recon_9)\n",
    "# 8\n",
    "MSE_8 = mean_squared_error(comb_c2, recon_8)\n",
    "# 7\n",
    "MSE_7 = mean_squared_error(comb_c2, recon_7)\n",
    "# 6\n",
    "MSE_6 = mean_squared_error(comb_c2, recon_6)\n",
    "# 5\n",
    "MSE_5 = mean_squared_error(comb_c2, recon_5)"
   ]
  },
  {
   "cell_type": "code",
   "execution_count": 540,
   "metadata": {},
   "outputs": [
    {
     "name": "stdout",
     "output_type": "stream",
     "text": [
      "MSE for 10:  0.0 (NO RECONSTRUCTION)\n",
      "MSE for 9:  0.43065268523170425\n",
      "MSE for 8:  0.9319933130158736\n",
      "MSE for 7:  1.5538199291012387\n",
      "MSE for 6:  2.2175350627271015\n",
      "MSE for 5:  2.8923701478671977\n"
     ]
    }
   ],
   "source": [
    "print('MSE for 10: ', MSE_10 , '(NO RECONSTRUCTION)')\n",
    "print('MSE for 9: ', MSE_9)\n",
    "print('MSE for 8: ', MSE_8)\n",
    "print('MSE for 7: ', MSE_7)\n",
    "print('MSE for 6: ', MSE_6)\n",
    "print('MSE for 5: ', MSE_5)"
   ]
  },
  {
   "cell_type": "markdown",
   "metadata": {},
   "source": [
    "#### When the MSE is calculated with \"ran_cov\" from the datasets above, the MSE for even set with 5 removed dimensions is ~0.24, ie. with arbitrarily increasing the variance, the MSE becomes arbitrarily high, I have tried out a variety of random variances in the diagonal for 'ran_cov1', but none of the values give a low MSE."
   ]
  },
  {
   "cell_type": "markdown",
   "metadata": {},
   "source": [
    "### 2b. Setting up for classification "
   ]
  },
  {
   "cell_type": "code",
   "execution_count": 541,
   "metadata": {},
   "outputs": [],
   "source": [
    "def FLD(input1, label):\n",
    "    # training set result without feature selection\n",
    "    lda = sklearn.discriminant_analysis.LinearDiscriminantAnalysis()\n",
    "    #training\n",
    "    lda.fit(input1,label)\n",
    "    #testing\n",
    "    prediction = lda.predict(input1)\n",
    "    error = sum(abs(prediction - label))\n",
    "    print(\"total error with all features = \", error)\n",
    "    #print(error.dtype)\n",
    "    \n",
    "    "
   ]
  },
  {
   "cell_type": "markdown",
   "metadata": {},
   "source": [
    "### Testing PCA - 10, 9, 8, 7, 6, 5 reconstructd data to classify and check for error"
   ]
  },
  {
   "cell_type": "code",
   "execution_count": 542,
   "metadata": {},
   "outputs": [
    {
     "name": "stdout",
     "output_type": "stream",
     "text": [
      "total error with all features =  9.0\n",
      "float64\n",
      "total error with all features =  9.0\n",
      "float64\n",
      "total error with all features =  9.0\n",
      "float64\n",
      "total error with all features =  17.0\n",
      "float64\n",
      "total error with all features =  19.0\n",
      "float64\n",
      "total error with all features =  19.0\n",
      "float64\n"
     ]
    }
   ],
   "source": [
    "# 10\n",
    "C_E_10 = FLD(comb_c2, clas)\n",
    "# 9\n",
    "C_E_9 = FLD(recon_9, clas)\n",
    "# 8\n",
    "C_E_8 = FLD(recon_8, clas)\n",
    "# 7\n",
    "C_E_7 = FLD(recon_7, clas)\n",
    "# 6\n",
    "C_E_6 = FLD(recon_6, clas)\n",
    "# 5\n",
    "C_E_5 = FLD(recon_5, clas)"
   ]
  },
  {
   "cell_type": "markdown",
   "metadata": {},
   "source": [
    "### Testing the total Error"
   ]
  },
  {
   "cell_type": "code",
   "execution_count": 543,
   "metadata": {},
   "outputs": [
    {
     "name": "stdout",
     "output_type": "stream",
     "text": [
      "total error with all features =  0.0\n",
      "float64\n"
     ]
    }
   ],
   "source": [
    "testing = FLD(comb2_test, labels)"
   ]
  },
  {
   "cell_type": "markdown",
   "metadata": {},
   "source": [
    "### Plotting the Total Error"
   ]
  },
  {
   "cell_type": "code",
   "execution_count": 559,
   "metadata": {},
   "outputs": [
    {
     "data": {
      "image/png": "[encoded data removed]",
      "text/plain": [
       "<Figure size 432x288 with 1 Axes>"
      ]
     },
     "metadata": {
      "needs_background": "light"
     },
     "output_type": "display_data"
    }
   ],
   "source": [
    "plt.figure()\n",
    "plt.bar([10,9,8,7,6,5], [9.0, 9.0, 9.0, 17.0, 19.0, 19.0], width=0.8)\n",
    "plt.xlabel(\"Dimensionality\")\n",
    "plt.ylabel(\"Total Errors\")\n",
    "plt.title('Dimensionality vs. Classification Error')\n",
    "plt.show()"
   ]
  },
  {
   "cell_type": "markdown",
   "metadata": {},
   "source": [
    "# Question 3\n",
    "\n",
    "##### Reduce the dimensionality of the original dataset using a backwardsearchto 10, 9, 8, 7, 6and 5(by  minimizing  the  error)and  classify allof  the  data  in  the  dataset   using  the  reduced dimensional data withFLD. Plot the classification error result (total for both classes) for the 10, 9, 8, 7, 6 and 5 retained dimensions"
   ]
  },
  {
   "cell_type": "code",
   "execution_count": 567,
   "metadata": {},
   "outputs": [],
   "source": [
    "def PCA_def(new_E, number, comb_c2):\n",
    "    #new_E = numpy.zeros((10,number))\n",
    "    #index = 0\n",
    "    #for i in range(0,number):\n",
    "    #    new_E[:,index] = E[:,sortIndex[i]]\n",
    "    #    index = index + 1\n",
    "    \n",
    "    PCA_10 = numpy.dot(comb_c2,new_E)\n",
    "    \n",
    "    return PCA_10"
   ]
  },
  {
   "cell_type": "code",
   "execution_count": 568,
   "metadata": {},
   "outputs": [],
   "source": [
    "# PCA coefficient matrices\n",
    "\n",
    "PCA_10 = PCA_def(newE, 10, comb_c2)\n",
    "PCA_9 = PCA_def(newE_9, 9, comb_c2)\n",
    "PCA_8 = PCA_def(newE_8, 8, comb_c2)\n",
    "PCA_7 = PCA_def(newE_7, 7, comb_c2)\n",
    "PCA_6 = PCA_def(newE_6, 6, comb_c2)\n",
    "PCA_5 = PCA_def(newE_5, 5, comb_c2)"
   ]
  },
  {
   "cell_type": "code",
   "execution_count": 569,
   "metadata": {},
   "outputs": [
    {
     "name": "stdout",
     "output_type": "stream",
     "text": [
      "total error with all features =  9.0\n",
      "float64\n",
      "total error with all features =  9.0\n",
      "float64\n",
      "total error with all features =  9.0\n",
      "float64\n",
      "total error with all features =  17.0\n",
      "float64\n",
      "total error with all features =  19.0\n",
      "float64\n",
      "total error with all features =  19.0\n",
      "float64\n"
     ]
    }
   ],
   "source": [
    "#Classification test with the reduced PCA set\n",
    "\n",
    "# 10\n",
    "Y_10 = FLD(PCA_10, clas)\n",
    "# 9\n",
    "Y_9 = FLD(PCA_9, clas)\n",
    "# 8\n",
    "Y_8 = FLD(PCA_8, clas)\n",
    "# 7\n",
    "Y_7 = FLD(PCA_7, clas)\n",
    "# 6\n",
    "Y_6 = FLD(PCA_6, clas)\n",
    "# 5\n",
    "Y_5 = FLD(PCA_5, clas)"
   ]
  },
  {
   "cell_type": "markdown",
   "metadata": {},
   "source": [
    "### Plotting the Total Error"
   ]
  },
  {
   "cell_type": "code",
   "execution_count": 571,
   "metadata": {},
   "outputs": [
    {
     "data": {
      "image/png": "[encoded data removed]",
      "text/plain": [
       "<Figure size 432x288 with 1 Axes>"
      ]
     },
     "metadata": {
      "needs_background": "light"
     },
     "output_type": "display_data"
    }
   ],
   "source": [
    "plt.figure()\n",
    "plt.bar([10,9,8,7,6,5], [9.0, 9.0, 9.0, 17.0, 19.0, 19.0], width=0.8)\n",
    "plt.xlabel(\"PCA dimensions\")\n",
    "plt.ylabel(\"Total Errors\")\n",
    "plt.title('PCA vs. Classification Error')\n",
    "plt.show()"
   ]
  },
  {
   "cell_type": "markdown",
   "metadata": {},
   "source": [
    "# Question 4\n",
    "\n",
    "##### Qualitatively compare the results of part 2b and part 3 and comment on any differences."
   ]
  },
  {
   "cell_type": "markdown",
   "metadata": {},
   "source": [
    "The classification errors between the two methods are exactly the same! There is no difference between the error generated by attempting to reduce dimensionality by utilizing PCA and the reconstruction error acquired by reducing dimensionality and going back to original number of raw data attributes.\n",
    "\n",
    "This makes some sense when you consider that in both methods there is a salient common component that has the biggest effect on introducing error. Which is that directionality of data is reduced. An attempt to reduce the variance due to noise is made and so the error introduced in the system is due to components that add a layer of fine information but don't contribute in producing the large fundamental variances in the dataset distributions.\n",
    "\n",
    "If an analogy of Fast Fourier Transforms can be made here, the same way a filter removing high frequency components would only affect the very fine detail of the underlying signals, but not really impact the salient information of that dataset, similarly, the reconstruction error / dimensionality reduction removes only the very fine information that adds very little to the overall composition of the dataset."
   ]
  }
 ],
 "metadata": {
  "kernelspec": {
   "display_name": "Python 3",
   "language": "python",
   "name": "python3"
  },
  "language_info": {
   "codemirror_mode": {
    "name": "ipython",
    "version": 3
   },
   "file_extension": ".py",
   "mimetype": "text/x-python",
   "name": "python",
   "nbconvert_exporter": "python",
   "pygments_lexer": "ipython3",
   "version": "3.5.4"
  }
 },
 "nbformat": 4,
 "nbformat_minor": 4
}
