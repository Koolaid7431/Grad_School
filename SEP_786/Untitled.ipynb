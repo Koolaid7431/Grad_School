{
 "cells": [
  {
   "cell_type": "code",
   "execution_count": 27,
   "metadata": {},
   "outputs": [],
   "source": [
    "import numpy\n",
    "import math\n",
    "import random\n",
    "import matplotlib.pyplot\n",
    "import sklearn.discriminant_analysis\n",
    "\n",
    "# create data from a multivariate normal distribution\n",
    "mean1 = [-5, -4, -3, -2, -1, 0, 1, 2, 3, 4]\n",
    "mean2 = [0, 1, 2, 3, 4, 5, 6, 7, 8, 9]\n",
    "cov = [[3, 1, 1, 1, 0, 0, 0, 0, 0,  0],\n",
    "       [1, 4, 0, 0, 0, 0, 0, 0, 0,  0],\n",
    "       [1, 0, 4, 0, 0, 0, 0, 0, 0,  0],\n",
    "       [1, 0, 0, 5, 0, 0, 0, 0, 0,  0],\n",
    "       [0, 0, 0, 0, 6, 0, 0, 0, 0,  0],\n",
    "       [0, 0, 0, 0, 0, 10, 0, 0, 0, 0],\n",
    "       [0, 0, 0, 0, 0, 0, 11, 0, 0, 0],\n",
    "       [0, 0, 4, 0, 0, 0,  0, 3, 0, 0],\n",
    "       [0, 0, 0, 5, 0, 0,  0, 0, 2, 0],\n",
    "       [0, 0, 0, 0, 0, 0,  0, 0, 0, 6],]\n",
    "\n",
    "# make sure the matrix is symmetric positive definite\n",
    "cov = numpy.dot(cov, numpy.transpose(cov))\n",
    "\n",
    "x1 = numpy.random.multivariate_normal(mean1,cov, 1000)\n",
    "x2 = numpy.random.multivariate_normal(mean2,cov, 1000)\n",
    "\n",
    "X = numpy.concatenate((x1,x2))\n",
    "\n",
    "Xc = numpy.zeros(1000)\n",
    "Xc = numpy.concatenate((Xc, numpy.ones(1000)))\n",
    "\n"
   ]
  },
  {
   "cell_type": "code",
   "execution_count": 24,
   "metadata": {},
   "outputs": [
    {
     "name": "stdout",
     "output_type": "stream",
     "text": [
      "this is the first original ysorted!\n",
      "(2000, 10)\n",
      "[[ -1.20513672  -2.85977761  -2.87471589 ...  -4.15219919  -8.1627283\n",
      "   10.67398545]\n",
      " [  1.5221275   -1.04196066  -1.3947089  ...  -8.21523433   9.66334853\n",
      "  -16.6813719 ]\n",
      " [  0.8158637    4.81309276   4.86405059 ...  -8.70749465  -2.27700489\n",
      "    2.85226298]\n",
      " ...\n",
      " [  3.71101478  -1.62919345  -2.57992017 ...  -2.67604948   8.64766863\n",
      "    5.41102492]\n",
      " [  0.63733063   2.59019959  -4.27301377 ...  -1.55370001  13.4301031\n",
      "   21.57488383]\n",
      " [  1.67071516   0.44051612  -4.09051233 ...   1.94339726  10.49428056\n",
      "   -7.61499507]]\n",
      "............................................................\n",
      "yred (2000, 5)\n",
      "[[-1.20513672 -2.85977761 -2.87471589  8.88355885  3.53298038]\n",
      " [ 1.5221275  -1.04196066 -1.3947089   8.01548955 -4.92983132]\n",
      " [ 0.8158637   4.81309276  4.86405059 -2.77075338 -1.37899112]\n",
      " ...\n",
      " [ 3.71101478 -1.62919345 -2.57992017 -4.25681456 -1.71187143]\n",
      " [ 0.63733063  2.59019959 -4.27301377  4.42854476  2.40825695]\n",
      " [ 1.67071516  0.44051612 -4.09051233  6.23389833 -3.80190899]]\n",
      "............................................................\n",
      "Ered (10, 5)\n",
      "[[ 6.69741693e-01  2.74902608e-01  2.55003740e-01 -2.66172299e-01\n",
      "  -6.15863422e-02]\n",
      " [-2.10764260e-01 -1.24032888e-01 -7.46892991e-01 -4.02330256e-01\n",
      "   8.93181440e-02]\n",
      " [-2.35392776e-01 -6.33449338e-01  3.58826124e-01  5.07844934e-02\n",
      "  -3.70939261e-01]\n",
      " [-5.64443955e-01  3.86893456e-01  2.64322752e-01  1.74378192e-02\n",
      "   4.18372590e-02]\n",
      " [ 5.73193739e-03  7.92396351e-03  4.25697148e-02  3.71397902e-01\n",
      "   7.55657452e-01]\n",
      " [-4.89097792e-04  6.20599750e-03  5.62659477e-03  3.71787774e-02\n",
      "  -2.15444734e-02]\n",
      " [-7.25442523e-03  2.40628174e-04  2.38149424e-02  3.30562582e-02\n",
      "  -2.60889824e-02]\n",
      " [ 1.36831489e-02  4.40968446e-01 -3.05282642e-01  3.39629662e-01\n",
      "  -5.16351945e-01]\n",
      " [ 3.62548129e-01 -4.04125996e-01 -2.32538452e-01  2.32821375e-01\n",
      "   6.96340842e-03]\n",
      " [-3.61062177e-02  1.50809407e-02  1.69760523e-01 -6.74117238e-01\n",
      "   1.00261135e-01]]\n",
      "............................................................\n",
      "xrecon (2000, 10)\n",
      "[[-4.90849456 -0.50275388  0.20430745 ...  0.79289791  3.48015636\n",
      "  -6.12196801]\n",
      " [-1.45255244 -2.81507173  2.03700405 ...  5.25496214  3.12910018\n",
      "  -6.20508869]\n",
      " [ 3.9323256  -3.41027301 -1.12473979 ...  0.41969012 -3.43507793\n",
      "   2.59840539]\n",
      " ...\n",
      " [ 2.61813652  2.90659269 -0.34845716 ... -0.44185204  1.60075366\n",
      "   2.10142882]\n",
      " [-1.27780665  1.16925107 -3.99246786 ...  2.71595091  1.22576561\n",
      "  -3.45324179]\n",
      " [-1.22819469 -0.19925591 -0.41323893 ...  5.54621665  2.80380258\n",
      "  -5.33164936]]\n",
      "............................................................\n",
      "yred (2000, 6)\n",
      "[[-1.20513672 -2.85977761 -2.87471589  8.88355885  3.53298038  9.2040395 ]\n",
      " [ 1.5221275  -1.04196066 -1.3947089   8.01548955 -4.92983132  7.11438495]\n",
      " [ 0.8158637   4.81309276  4.86405059 -2.77075338 -1.37899112 -2.93135796]\n",
      " ...\n",
      " [ 3.71101478 -1.62919345 -2.57992017 -4.25681456 -1.71187143  4.90201319]\n",
      " [ 0.63733063  2.59019959 -4.27301377  4.42854476  2.40825695  0.77878369]\n",
      " [ 1.67071516  0.44051612 -4.09051233  6.23389833 -3.80190899  0.51174863]]\n",
      "............................................................\n",
      "Ered (10, 6)\n",
      "[[ 6.69741693e-01  2.74902608e-01  2.55003740e-01 -2.66172299e-01\n",
      "  -6.15863422e-02 -8.31126346e-03]\n",
      " [-2.10764260e-01 -1.24032888e-01 -7.46892991e-01 -4.02330256e-01\n",
      "   8.93181440e-02  4.61710391e-02]\n",
      " [-2.35392776e-01 -6.33449338e-01  3.58826124e-01  5.07844934e-02\n",
      "  -3.70939261e-01  3.09513368e-01]\n",
      " [-5.64443955e-01  3.86893456e-01  2.64322752e-01  1.74378192e-02\n",
      "   4.18372590e-02 -4.88375043e-01]\n",
      " [ 5.73193739e-03  7.92396351e-03  4.25697148e-02  3.71397902e-01\n",
      "   7.55657452e-01  4.19585849e-01]\n",
      " [-4.89097792e-04  6.20599750e-03  5.62659477e-03  3.71787774e-02\n",
      "  -2.15444734e-02 -1.76757990e-02]\n",
      " [-7.25442523e-03  2.40628174e-04  2.38149424e-02  3.30562582e-02\n",
      "  -2.60889824e-02 -3.17793018e-02]\n",
      " [ 1.36831489e-02  4.40968446e-01 -3.05282642e-01  3.39629662e-01\n",
      "  -5.16351945e-01  4.03087866e-01]\n",
      " [ 3.62548129e-01 -4.04125996e-01 -2.32538452e-01  2.32821375e-01\n",
      "   6.96340842e-03 -5.15794638e-01]\n",
      " [-3.61062177e-02  1.50809407e-02  1.69760523e-01 -6.74117238e-01\n",
      "   1.00261135e-01  2.39983063e-01]]\n",
      "............................................................\n",
      "xrecon (2000, 10)\n",
      "[[-4.98499176 -0.07779381  3.05308072 ...  4.50293454 -1.26723786\n",
      "  -3.91315442]\n",
      " [-1.51168197 -2.48659319  4.23900129 ...  8.12268438 -0.54046143\n",
      "  -4.49775679]\n",
      " [ 3.95668889 -3.54561685 -2.03203426 ... -0.7619047  -1.92309922\n",
      "   1.89492913]\n",
      " ...\n",
      " [ 2.5773946   3.13292374  1.16878145 ...  1.53408999 -0.92767846\n",
      "   3.27782896]\n",
      " [-1.28427933  1.20520832 -3.7514239  ...  3.02986916  0.82407315\n",
      "  -3.2663469 ]\n",
      " [-1.23244797 -0.17562795 -0.25484589 ...  5.75249631  2.53984538\n",
      "  -5.20883835]]\n",
      "............................................................\n",
      "yred (2000, 7)\n",
      "[[ -1.20513672  -2.85977761  -2.87471589 ...   3.53298038   9.2040395\n",
      "    3.77377021]\n",
      " [  1.5221275   -1.04196066  -1.3947089  ...  -4.92983132   7.11438495\n",
      "    0.15391739]\n",
      " [  0.8158637    4.81309276   4.86405059 ...  -1.37899112  -2.93135796\n",
      "  -15.57829829]\n",
      " ...\n",
      " [  3.71101478  -1.62919345  -2.57992017 ...  -1.71187143   4.90201319\n",
      "   -5.91384696]\n",
      " [  0.63733063   2.59019959  -4.27301377 ...   2.40825695   0.77878369\n",
      "   -3.46574745]\n",
      " [  1.67071516   0.44051612  -4.09051233 ...  -3.80190899   0.51174863\n",
      "   -4.02412107]]\n",
      "............................................................\n",
      "Ered (10, 7)\n",
      "[[ 6.69741693e-01  2.74902608e-01  2.55003740e-01 -2.66172299e-01\n",
      "  -6.15863422e-02 -8.31126346e-03 -1.47013011e-01]\n",
      " [-2.10764260e-01 -1.24032888e-01 -7.46892991e-01 -4.02330256e-01\n",
      "   8.93181440e-02  4.61710391e-02 -7.43329901e-02]\n",
      " [-2.35392776e-01 -6.33449338e-01  3.58826124e-01  5.07844934e-02\n",
      "  -3.70939261e-01  3.09513368e-01 -2.13142559e-01]\n",
      " [-5.64443955e-01  3.86893456e-01  2.64322752e-01  1.74378192e-02\n",
      "   4.18372590e-02 -4.88375043e-01 -3.54944503e-01]\n",
      " [ 5.73193739e-03  7.92396351e-03  4.25697148e-02  3.71397902e-01\n",
      "   7.55657452e-01  4.19585849e-01 -2.54081249e-01]\n",
      " [-4.89097792e-04  6.20599750e-03  5.62659477e-03  3.71787774e-02\n",
      "  -2.15444734e-02 -1.76757990e-02  4.50974545e-01]\n",
      " [-7.25442523e-03  2.40628174e-04  2.38149424e-02  3.30562582e-02\n",
      "  -2.60889824e-02 -3.17793018e-02  2.16646503e-01]\n",
      " [ 1.36831489e-02  4.40968446e-01 -3.05282642e-01  3.39629662e-01\n",
      "  -5.16351945e-01  4.03087866e-01 -3.50599208e-01]\n",
      " [ 3.62548129e-01 -4.04125996e-01 -2.32538452e-01  2.32821375e-01\n",
      "   6.96340842e-03 -5.15794638e-01 -4.77157972e-01]\n",
      " [-3.61062177e-02  1.50809407e-02  1.69760523e-01 -6.74117238e-01\n",
      "   1.00261135e-01  2.39983063e-01 -3.68749058e-01]]\n",
      "............................................................\n",
      "xrecon (2000, 10)\n",
      "[[-5.53978508 -0.35830944  2.24872968 ...  3.17985369 -3.0679224\n",
      "  -5.30472863]\n",
      " [-1.53430983 -2.49803433  4.20619495 ...  8.06872107 -0.61390434\n",
      "  -4.55451369]\n",
      " [ 6.24690143 -2.38763536  1.2883641  ...  4.69983434  5.51021\n",
      "   7.63941194]\n",
      " ...\n",
      " [ 3.44680705  3.57251766  2.42927392 ...  3.60748006  1.89416076\n",
      "   5.45855446]\n",
      " [-0.77476936  1.46282769 -3.01272562 ...  4.24495748  2.47778218\n",
      "  -1.98835579]\n",
      " [-0.64084981  0.12349701  0.60286557 ...  7.16334997  4.45998683\n",
      "  -3.7249475 ]]\n",
      "............................................................\n",
      "yred (2000, 8)\n",
      "[[ -1.20513672  -2.85977761  -2.87471589 ...   9.2040395    3.77377021\n",
      "   -4.15219919]\n",
      " [  1.5221275   -1.04196066  -1.3947089  ...   7.11438495   0.15391739\n",
      "   -8.21523433]\n",
      " [  0.8158637    4.81309276   4.86405059 ...  -2.93135796 -15.57829829\n",
      "   -8.70749465]\n",
      " ...\n",
      " [  3.71101478  -1.62919345  -2.57992017 ...   4.90201319  -5.91384696\n",
      "   -2.67604948]\n",
      " [  0.63733063   2.59019959  -4.27301377 ...   0.77878369  -3.46574745\n",
      "   -1.55370001]\n",
      " [  1.67071516   0.44051612  -4.09051233 ...   0.51174863  -4.02412107\n",
      "    1.94339726]]\n",
      "............................................................\n",
      "Ered (10, 8)\n",
      "[[ 6.69741693e-01  2.74902608e-01  2.55003740e-01 -2.66172299e-01\n",
      "  -6.15863422e-02 -8.31126346e-03 -1.47013011e-01  5.51719018e-01]\n",
      " [-2.10764260e-01 -1.24032888e-01 -7.46892991e-01 -4.02330256e-01\n",
      "   8.93181440e-02  4.61710391e-02 -7.43329901e-02  4.45295191e-01]\n",
      " [-2.35392776e-01 -6.33449338e-01  3.58826124e-01  5.07844934e-02\n",
      "  -3.70939261e-01  3.09513368e-01 -2.13142559e-01  3.45148291e-01]\n",
      " [-5.64443955e-01  3.86893456e-01  2.64322752e-01  1.74378192e-02\n",
      "   4.18372590e-02 -4.88375043e-01 -3.54944503e-01  2.49777811e-01]\n",
      " [ 5.73193739e-03  7.92396351e-03  4.25697148e-02  3.71397902e-01\n",
      "   7.55657452e-01  4.19585849e-01 -2.54081249e-01  1.45565970e-01]\n",
      " [-4.89097792e-04  6.20599750e-03  5.62659477e-03  3.71787774e-02\n",
      "  -2.15444734e-02 -1.76757990e-02  4.50974545e-01 -3.21080382e-02]\n",
      " [-7.25442523e-03  2.40628174e-04  2.38149424e-02  3.30562582e-02\n",
      "  -2.60889824e-02 -3.17793018e-02  2.16646503e-01  9.25193079e-02]\n",
      " [ 1.36831489e-02  4.40968446e-01 -3.05282642e-01  3.39629662e-01\n",
      "  -5.16351945e-01  4.03087866e-01 -3.50599208e-01 -1.03954618e-01]\n",
      " [ 3.62548129e-01 -4.04125996e-01 -2.32538452e-01  2.32821375e-01\n",
      "   6.96340842e-03 -5.15794638e-01 -4.77157972e-01 -1.92434314e-01]\n",
      " [-3.61062177e-02  1.50809407e-02  1.69760523e-01 -6.74117238e-01\n",
      "   1.00261135e-01  2.39983063e-01 -3.68749058e-01 -4.87015701e-01]]\n",
      "............................................................\n",
      "xrecon (2000, 10)\n",
      "[[-7.83063234 -2.20726377  0.81560523 ...  3.61149397 -2.2688968\n",
      "  -3.28254243]\n",
      " [-6.06681084 -6.15623867  1.37072086 ...  8.92273261  0.96698864\n",
      "  -0.55356558]\n",
      " [ 1.44281104 -6.26504085 -1.7170128  ...  5.60501862  7.18583076\n",
      "  11.88009856]\n",
      " ...\n",
      " [ 1.97037966  2.3808857   1.50564002 ...  3.88566776  2.4091245\n",
      "   6.76183257]\n",
      " [-1.6319752   0.77097255 -3.54898252 ...  4.40647177  2.77676737\n",
      "  -1.23167949]\n",
      " [ 0.43135941  0.98888246  1.27362581 ...  6.96132485  4.08601051\n",
      "  -4.67141248]]\n",
      "............................................................\n",
      "yred (2000, 9)\n",
      "[[ -1.20513672  -2.85977761  -2.87471589 ...   3.77377021  -4.15219919\n",
      "   -8.1627283 ]\n",
      " [  1.5221275   -1.04196066  -1.3947089  ...   0.15391739  -8.21523433\n",
      "    9.66334853]\n",
      " [  0.8158637    4.81309276   4.86405059 ... -15.57829829  -8.70749465\n",
      "   -2.27700489]\n",
      " ...\n",
      " [  3.71101478  -1.62919345  -2.57992017 ...  -5.91384696  -2.67604948\n",
      "    8.64766863]\n",
      " [  0.63733063   2.59019959  -4.27301377 ...  -3.46574745  -1.55370001\n",
      "   13.4301031 ]\n",
      " [  1.67071516   0.44051612  -4.09051233 ...  -4.02412107   1.94339726\n",
      "   10.49428056]]\n",
      "............................................................\n",
      "Ered (10, 9)\n",
      "[[ 6.69741693e-01  2.74902608e-01  2.55003740e-01 -2.66172299e-01\n",
      "  -6.15863422e-02 -8.31126346e-03 -1.47013011e-01  5.51719018e-01\n",
      "   9.40763184e-02]\n",
      " [-2.10764260e-01 -1.24032888e-01 -7.46892991e-01 -4.02330256e-01\n",
      "   8.93181440e-02  4.61710391e-02 -7.43329901e-02  4.45295191e-01\n",
      "   6.64194095e-02]\n",
      " [-2.35392776e-01 -6.33449338e-01  3.58826124e-01  5.07844934e-02\n",
      "  -3.70939261e-01  3.09513368e-01 -2.13142559e-01  3.45148291e-01\n",
      "   1.02519820e-01]\n",
      " [-5.64443955e-01  3.86893456e-01  2.64322752e-01  1.74378192e-02\n",
      "   4.18372590e-02 -4.88375043e-01 -3.54944503e-01  2.49777811e-01\n",
      "   1.42842444e-01]\n",
      " [ 5.73193739e-03  7.92396351e-03  4.25697148e-02  3.71397902e-01\n",
      "   7.55657452e-01  4.19585849e-01 -2.54081249e-01  1.45565970e-01\n",
      "   1.03376616e-01]\n",
      " [-4.89097792e-04  6.20599750e-03  5.62659477e-03  3.71787774e-02\n",
      "  -2.15444734e-02 -1.76757990e-02  4.50974545e-01 -3.21080382e-02\n",
      "   8.23833182e-01]\n",
      " [-7.25442523e-03  2.40628174e-04  2.38149424e-02  3.30562582e-02\n",
      "  -2.60889824e-02 -3.17793018e-02  2.16646503e-01  9.25193079e-02\n",
      "  -4.67414521e-01]\n",
      " [ 1.36831489e-02  4.40968446e-01 -3.05282642e-01  3.39629662e-01\n",
      "  -5.16351945e-01  4.03087866e-01 -3.50599208e-01 -1.03954618e-01\n",
      "   1.03848826e-01]\n",
      " [ 3.62548129e-01 -4.04125996e-01 -2.32538452e-01  2.32821375e-01\n",
      "   6.96340842e-03 -5.15794638e-01 -4.77157972e-01 -1.92434314e-01\n",
      "   1.51817070e-01]\n",
      " [-3.61062177e-02  1.50809407e-02  1.69760523e-01 -6.74117238e-01\n",
      "   1.00261135e-01  2.39983063e-01 -3.68749058e-01 -4.87015701e-01\n",
      "   1.18855623e-01]]\n",
      "............................................................\n",
      "xrecon (2000, 10)\n",
      "[[-8.59855177 -2.74942737 -0.02123621 ...  2.76380422 -3.50813829\n",
      "  -4.25272858]\n",
      " [-5.15771859 -5.51440476  2.36140562 ...  9.92626001  2.4340499\n",
      "   0.59497773]\n",
      " [ 1.2285988  -6.41627817 -1.95045093 ...  5.36855434  6.84014255\n",
      "  11.60946372]\n",
      " ...\n",
      " [ 2.78392049  2.95525875  2.39219745 ...  4.78371799  3.72198822\n",
      "   7.78965661]\n",
      " [-0.36852055  1.66299207 -2.17213077 ...  5.80117221  4.81568628\n",
      "   0.36456378]\n",
      " [ 1.41862269  1.68590638  2.34949756 ...  8.05114357  5.67922144\n",
      "  -3.42410823]]\n",
      "............................................................\n",
      "yred (2000, 10)\n",
      "[[ -1.20513672  -2.85977761  -2.87471589 ...  -4.15219919  -8.1627283\n",
      "   10.67398545]\n",
      " [  1.5221275   -1.04196066  -1.3947089  ...  -8.21523433   9.66334853\n",
      "  -16.6813719 ]\n",
      " [  0.8158637    4.81309276   4.86405059 ...  -8.70749465  -2.27700489\n",
      "    2.85226298]\n",
      " ...\n",
      " [  3.71101478  -1.62919345  -2.57992017 ...  -2.67604948   8.64766863\n",
      "    5.41102492]\n",
      " [  0.63733063   2.59019959  -4.27301377 ...  -1.55370001  13.4301031\n",
      "   21.57488383]\n",
      " [  1.67071516   0.44051612  -4.09051233 ...   1.94339726  10.49428056\n",
      "   -7.61499507]]\n",
      "............................................................\n",
      "Ered (10, 10)\n",
      "[[ 6.69741693e-01  2.74902608e-01  2.55003740e-01 -2.66172299e-01\n",
      "  -6.15863422e-02 -8.31126346e-03 -1.47013011e-01  5.51719018e-01\n",
      "   9.40763184e-02  3.57912351e-02]\n",
      " [-2.10764260e-01 -1.24032888e-01 -7.46892991e-01 -4.02330256e-01\n",
      "   8.93181440e-02  4.61710391e-02 -7.43329901e-02  4.45295191e-01\n",
      "   6.64194095e-02  4.62737582e-02]\n",
      " [-2.35392776e-01 -6.33449338e-01  3.58826124e-01  5.07844934e-02\n",
      "  -3.70939261e-01  3.09513368e-01 -2.13142559e-01  3.45148291e-01\n",
      "   1.02519820e-01  5.94563502e-02]\n",
      " [-5.64443955e-01  3.86893456e-01  2.64322752e-01  1.74378192e-02\n",
      "   4.18372590e-02 -4.88375043e-01 -3.54944503e-01  2.49777811e-01\n",
      "   1.42842444e-01  1.11833909e-01]\n",
      " [ 5.73193739e-03  7.92396351e-03  4.25697148e-02  3.71397902e-01\n",
      "   7.55657452e-01  4.19585849e-01 -2.54081249e-01  1.45565970e-01\n",
      "   1.03376616e-01  1.29042032e-01]\n",
      " [-4.89097792e-04  6.20599750e-03  5.62659477e-03  3.71787774e-02\n",
      "  -2.15444734e-02 -1.76757990e-02  4.50974545e-01 -3.21080382e-02\n",
      "   8.23833182e-01  3.38615785e-01]\n",
      " [-7.25442523e-03  2.40628174e-04  2.38149424e-02  3.30562582e-02\n",
      "  -2.60889824e-02 -3.17793018e-02  2.16646503e-01  9.25193079e-02\n",
      "  -4.67414521e-01  8.50073541e-01]\n",
      " [ 1.36831489e-02  4.40968446e-01 -3.05282642e-01  3.39629662e-01\n",
      "  -5.16351945e-01  4.03087866e-01 -3.50599208e-01 -1.03954618e-01\n",
      "   1.03848826e-01  1.52327599e-01]\n",
      " [ 3.62548129e-01 -4.04125996e-01 -2.32538452e-01  2.32821375e-01\n",
      "   6.96340842e-03 -5.15794638e-01 -4.77157972e-01 -1.92434314e-01\n",
      "   1.51817070e-01  2.07628015e-01]\n",
      " [-3.61062177e-02  1.50809407e-02  1.69760523e-01 -6.74117238e-01\n",
      "   1.00261135e-01  2.39983063e-01 -3.68749058e-01 -4.87015701e-01\n",
      "   1.18855623e-01  2.45530517e-01]]\n",
      "............................................................\n",
      "xrecon (2000, 10)\n",
      "[[-8.21651665 -2.25550194  0.61340001 ...  4.3897468  -1.29191988\n",
      "  -1.63193941]\n",
      " [-5.75476549 -6.28631453  1.36959213 ...  7.38522668 -1.02947023\n",
      "  -3.50080814]\n",
      " [ 1.33068482 -6.28429324 -1.78086578 ...  5.80303271  7.43235225\n",
      "  12.30978132]\n",
      " ...\n",
      " [ 2.97758775  3.2056472   2.71391725 ...  5.60796643  4.84546858\n",
      "   9.11822836]\n",
      " [ 0.40367119  2.66134303 -0.88936692 ...  9.08762246  9.29523659\n",
      "   5.66185616]\n",
      " [ 1.14607262  1.33353194  1.89673775 ...  6.89116965  4.09813513\n",
      "  -5.29382191]]\n",
      "............................................................\n"
     ]
    }
   ],
   "source": [
    "# PCA\n",
    "Xmc = X - numpy.mean(X)\n",
    "D,E = numpy.linalg.eig(numpy.dot(Xmc.T,Xmc))\n",
    "\n",
    "sortIndex = numpy.argsort(D)\n",
    "\n",
    "ESorted = numpy.zeros((10,10))\n",
    "index = 0\n",
    "for i in range(0,10):\n",
    "    ESorted[:,index] = E[:,sortIndex[i]]\n",
    "    index = index + 1\n",
    "\n",
    "meanSquareError = numpy.zeros(10,)\n",
    "classificationError = numpy.zeros(10,)\n",
    "ySorted = numpy.dot(X,ESorted)\n",
    "print('this is the first original ysorted!')\n",
    "print(ySorted.shape)\n",
    "print(ySorted)\n",
    "print('............................................................')\n",
    "lda = sklearn.discriminant_analysis.LinearDiscriminantAnalysis()\n",
    "for numDims in range(5,11): \n",
    "    \n",
    "    # reconstruction\n",
    "    yReduced = ySorted[:,0:numDims]\n",
    "    print('yred', yReduced.shape)\n",
    "    print(yReduced)\n",
    "    print('............................................................')\n",
    "    EReduced = ESorted[:,0:numDims]\n",
    "    print('Ered', EReduced.shape)\n",
    "    print(EReduced)\n",
    "    print('............................................................')\n",
    "    XReconstructed = numpy.dot(yReduced, numpy.transpose(EReduced))\n",
    "    print('xrecon',XReconstructed.shape)\n",
    "    print(XReconstructed)\n",
    "    print('............................................................')\n",
    "    meanSquareError[10 - numDims] = sum(sum((XReconstructed - X)**2))/2000\n",
    "\n",
    "    # classification\n",
    "    #training\n",
    "    lda.fit(yReduced,Xc)\n",
    "    #testing\n",
    "    prediction = lda.predict(yReduced)\n",
    "    classificationError[10 - numDims] = sum(prediction != Xc) # sum(prediction != Xc)\n",
    "    \n"
   ]
  },
  {
   "cell_type": "code",
   "execution_count": 5,
   "metadata": {},
   "outputs": [
    {
     "data": {
      "image/png": "[encoded data removed]",
      "text/plain": [
       "<Figure size 432x288 with 1 Axes>"
      ]
     },
     "metadata": {
      "needs_background": "light"
     },
     "output_type": "display_data"
    },
    {
     "data": {
      "image/png": "[encoded data removed]",
      "text/plain": [
       "<Figure size 432x288 with 1 Axes>"
      ]
     },
     "metadata": {
      "needs_background": "light"
     },
     "output_type": "display_data"
    }
   ],
   "source": [
    "n = numpy.linspace(0,5,6)\n",
    "matplotlib.pyplot.plot(n,meanSquareError[0:6])\n",
    "matplotlib.pyplot.title(\"PCA\")\n",
    "matplotlib.pyplot.xlabel(\"Number of Dimensions Removed\")\n",
    "matplotlib.pyplot.ylabel(\"Mean Square Error\")\n",
    "matplotlib.pyplot.show()\n",
    "\n",
    "matplotlib.pyplot.plot(n,classificationError[0:6])\n",
    "matplotlib.pyplot.title(\"PCA\")\n",
    "matplotlib.pyplot.xlabel(\"Number of Dimensions Removed\")\n",
    "matplotlib.pyplot.ylabel(\"Number of Errors\")\n",
    "matplotlib.pyplot.show()\n",
    "\n"
   ]
  },
  {
   "cell_type": "code",
   "execution_count": 6,
   "metadata": {},
   "outputs": [],
   "source": [
    "#use backward search to remove columns \n",
    "#so that the remaining provide the least error\n",
    "\n",
    "minError = 1000000*numpy.ones(6,)\n",
    "# classification with no columns removed\n",
    "#training\n",
    "lda.fit(ySorted,Xc)\n",
    "#testing\n",
    "prediction = lda.predict(ySorted)\n",
    "minError[0] = sum(prediction != Xc)\n",
    "\n"
   ]
  },
  {
   "cell_type": "code",
   "execution_count": 7,
   "metadata": {},
   "outputs": [
    {
     "data": {
      "image/png": "[encoded data removed]",
      "text/plain": [
       "<Figure size 432x288 with 1 Axes>"
      ]
     },
     "metadata": {
      "needs_background": "light"
     },
     "output_type": "display_data"
    },
    {
     "name": "stdout",
     "output_type": "stream",
     "text": [
      "done\n"
     ]
    }
   ],
   "source": [
    "#find the column to remove that provides the lowest error\n",
    "minErrorColumn = 0\n",
    "ySelected = ySorted\n",
    "numCols = 10\n",
    "for iteration in range(1,6):\n",
    "    for column in range(numCols):\n",
    "        yReduced = numpy.delete(ySelected,column,1)\n",
    "        # classification\n",
    "        #training\n",
    "        lda.fit(yReduced,Xc)\n",
    "        #testing\n",
    "        prediction = lda.predict(yReduced)\n",
    "        classificationError = sum(prediction != Xc)\n",
    "        if classificationError < minError[iteration]:\n",
    "            minError[iteration] = classificationError\n",
    "            minErrorColumn = column\n",
    "\n",
    "    numCols = numCols - 1\n",
    "    ySelected = numpy.delete(ySelected,minErrorColumn,1)\n",
    "\n",
    "\n",
    "matplotlib.pyplot.plot(n,minError[0:6])\n",
    "matplotlib.pyplot.title(\"Backward Search\")\n",
    "matplotlib.pyplot.xlabel(\"Number of Dimensions Removed\")\n",
    "matplotlib.pyplot.ylabel(\"Number of Errors\")\n",
    "matplotlib.pyplot.show()\n",
    "\n",
    "print(\"done\")"
   ]
  },
  {
   "cell_type": "code",
   "execution_count": 8,
   "metadata": {},
   "outputs": [
    {
     "data": {
      "text/plain": [
       "array([1000000., 1000000., 1000000., 1000000., 1000000., 1000000.])"
      ]
     },
     "execution_count": 8,
     "metadata": {},
     "output_type": "execute_result"
    }
   ],
   "source": [
    "minError = 1000000*numpy.ones(6,)\n",
    "minError"
   ]
  },
  {
   "cell_type": "code",
   "execution_count": 9,
   "metadata": {},
   "outputs": [
    {
     "data": {
      "text/plain": [
       "array([[0., 0., 0., 0., 0., 0., 0., 0., 0., 0.],\n",
       "       [0., 0., 0., 0., 0., 0., 0., 0., 0., 0.],\n",
       "       [0., 0., 0., 0., 0., 0., 0., 0., 0., 0.],\n",
       "       [0., 0., 0., 0., 0., 0., 0., 0., 0., 0.],\n",
       "       [0., 0., 0., 0., 0., 0., 0., 0., 0., 0.],\n",
       "       [0., 0., 0., 0., 0., 0., 0., 0., 0., 0.],\n",
       "       [0., 0., 0., 0., 0., 0., 0., 0., 0., 0.],\n",
       "       [0., 0., 0., 0., 0., 0., 0., 0., 0., 0.],\n",
       "       [0., 0., 0., 0., 0., 0., 0., 0., 0., 0.],\n",
       "       [0., 0., 0., 0., 0., 0., 0., 0., 0., 0.]])"
      ]
     },
     "execution_count": 9,
     "metadata": {},
     "output_type": "execute_result"
    }
   ],
   "source": [
    "ESorted = numpy.zeros((10,10))\n",
    "ESorted"
   ]
  },
  {
   "cell_type": "code",
   "execution_count": 10,
   "metadata": {},
   "outputs": [
    {
     "data": {
      "text/plain": [
       "array([[-8.21651665, -2.25550194,  0.61340001, ...,  4.3897468 ,\n",
       "        -1.29191988, -1.63193941],\n",
       "       [-5.75476549, -6.28631453,  1.36959213, ...,  7.38522668,\n",
       "        -1.02947023, -3.50080814],\n",
       "       [ 1.33068482, -6.28429324, -1.78086578, ...,  5.80303271,\n",
       "         7.43235225, 12.30978132],\n",
       "       ...,\n",
       "       [ 2.97758775,  3.2056472 ,  2.71391725, ...,  5.60796643,\n",
       "         4.84546858,  9.11822836],\n",
       "       [ 0.40367119,  2.66134303, -0.88936692, ...,  9.08762246,\n",
       "         9.29523659,  5.66185616],\n",
       "       [ 1.14607262,  1.33353194,  1.89673775, ...,  6.89116965,\n",
       "         4.09813513, -5.29382191]])"
      ]
     },
     "execution_count": 10,
     "metadata": {},
     "output_type": "execute_result"
    }
   ],
   "source": [
    "X"
   ]
  },
  {
   "cell_type": "code",
   "execution_count": 11,
   "metadata": {},
   "outputs": [],
   "source": [
    "ySorted = numpy.dot(X,ESorted)"
   ]
  },
  {
   "cell_type": "code",
   "execution_count": 12,
   "metadata": {},
   "outputs": [
    {
     "data": {
      "text/plain": [
       "array([[0., 0., 0., ..., 0., 0., 0.],\n",
       "       [0., 0., 0., ..., 0., 0., 0.],\n",
       "       [0., 0., 0., ..., 0., 0., 0.],\n",
       "       ...,\n",
       "       [0., 0., 0., ..., 0., 0., 0.],\n",
       "       [0., 0., 0., ..., 0., 0., 0.],\n",
       "       [0., 0., 0., ..., 0., 0., 0.]])"
      ]
     },
     "execution_count": 12,
     "metadata": {},
     "output_type": "execute_result"
    }
   ],
   "source": [
    "ySorted"
   ]
  },
  {
   "cell_type": "code",
   "execution_count": 13,
   "metadata": {},
   "outputs": [
    {
     "data": {
      "text/plain": [
       "(2000, 10)"
      ]
     },
     "execution_count": 13,
     "metadata": {},
     "output_type": "execute_result"
    }
   ],
   "source": [
    "ySorted.shape"
   ]
  },
  {
   "cell_type": "code",
   "execution_count": 14,
   "metadata": {},
   "outputs": [
    {
     "data": {
      "text/plain": [
       "array([[  8.88355885,   9.2040395 ,   3.77377021,  -4.15219919,\n",
       "         -8.1627283 ],\n",
       "       [  8.01548955,   7.11438495,   0.15391739,  -8.21523433,\n",
       "          9.66334853],\n",
       "       [ -2.77075338,  -2.93135796, -15.57829829,  -8.70749465,\n",
       "         -2.27700489],\n",
       "       ...,\n",
       "       [ -4.25681456,   4.90201319,  -5.91384696,  -2.67604948,\n",
       "          8.64766863],\n",
       "       [  4.42854476,   0.77878369,  -3.46574745,  -1.55370001,\n",
       "         13.4301031 ],\n",
       "       [  6.23389833,   0.51174863,  -4.02412107,   1.94339726,\n",
       "         10.49428056]])"
      ]
     },
     "execution_count": 14,
     "metadata": {},
     "output_type": "execute_result"
    }
   ],
   "source": [
    "yReduced"
   ]
  },
  {
   "cell_type": "code",
   "execution_count": 17,
   "metadata": {},
   "outputs": [
    {
     "data": {
      "text/plain": [
       "(10, 10)"
      ]
     },
     "execution_count": 17,
     "metadata": {},
     "output_type": "execute_result"
    }
   ],
   "source": [
    "EReduced.shape"
   ]
  },
  {
   "cell_type": "markdown",
   "metadata": {},
   "source": [
    "mean1 = [-3, 0, -1, -2, -4]\n",
    "mean2 = [3, 1, 0, -2, -4]\n",
    "cov = [[12, 0, 0, 0, 0],[0, 13, 0, 0, 0],[0, 0, 4, 0, 0],[0, 0, 0, 5, 0],[0, 0, 0, 0, 6]]\n",
    "\n",
    "x1 = numpy.random.multivariate_normal(mean1,cov, 1000)\n",
    "x2 = numpy.random.multivariate_normal(mean2, cov, 1000)\n",
    "\n",
    "X = numpy.concatenate((x1,x2))\n",
    "\n",
    "Xc = numpy.zeros(1000)\n",
    "Xc = numpy.concatenate((Xc, numpy.ones(1000)))\n",
    "\n",
    "\n",
    "\n"
   ]
  },
  {
   "cell_type": "code",
   "execution_count": 28,
   "metadata": {},
   "outputs": [
    {
     "name": "stdout",
     "output_type": "stream",
     "text": [
      "total error with all features =  226.0\n"
     ]
    }
   ],
   "source": [
    "# training set result without feature selection\n",
    "lda = sklearn.discriminant_analysis.LinearDiscriminantAnalysis()\n",
    "#training\n",
    "lda.fit(X,Xc)\n",
    "#testing\n",
    "prediction = lda.predict(X)\n",
    "error = sum(abs(prediction - Xc))\n",
    "print(\"total error with all features = \", error)\n"
   ]
  },
  {
   "cell_type": "code",
   "execution_count": 52,
   "metadata": {},
   "outputs": [
    {
     "name": "stdout",
     "output_type": "stream",
     "text": [
      "total error with selected features =  346.0\n"
     ]
    }
   ],
   "source": [
    "#Select 3 features out of 5\n",
    "bestFeature = 100*numpy.ones(6)\n",
    "for iteration in range(3):\n",
    "    if iteration == 0:\n",
    "        Xselection = numpy.zeros((2000,1))\n",
    "    else:\n",
    "        Xselection = numpy.concatenate((Xselection, numpy.zeros((2000,1))), axis = 1)\n",
    "        \n",
    "    error  = 10000*numpy.ones(10)\n",
    "    for feature in range(10):\n",
    "        \n",
    "        # have not used the feature before\n",
    "        if(not(feature == bestFeature[0] or feature == bestFeature[1] \n",
    "            or feature == bestFeature[2])):\n",
    "        \n",
    "        #alternative method\n",
    "        for i in range (0,feats_selected):\n",
    "            if feature == bestFeature[i]:\n",
    "                boolean = 1\n",
    "            else:\n",
    "                boolean = 0\n",
    "        if(not(boolean == 1)):\n",
    "            print(boolean)\n",
    "            \n",
    "                #add a feature to the existing features\n",
    "                Xselection[:,iteration] = X[:,feature]\n",
    "\n",
    "                #classify using Xselection\n",
    "                lda = sklearn.discriminant_analysis.LinearDiscriminantAnalysis()\n",
    "                lda.fit(Xselection,Xc)\n",
    "                prediction = lda.predict(Xselection)\n",
    "                error[feature] = sum(abs(prediction - Xc))\n",
    "\n",
    "    bestFeature[iteration] = numpy.argmin(error)\n",
    "    Xselection[:, iteration] = X[:,int(bestFeature[iteration])]\n",
    "\n",
    "# training set result with feature extraction\n",
    "lda = sklearn.discriminant_analysis.LinearDiscriminantAnalysis()\n",
    "lda.fit(Xselection,Xc)\n",
    "prediction = lda.predict(Xselection)\n",
    "error = sum(abs(prediction - Xc))\n",
    "print(\"total error with selected features = \", error)"
   ]
  },
  {
   "cell_type": "code",
   "execution_count": 51,
   "metadata": {},
   "outputs": [
    {
     "data": {
      "text/plain": [
       "(6,)"
      ]
     },
     "execution_count": 51,
     "metadata": {},
     "output_type": "execute_result"
    }
   ],
   "source": [
    "bestFeature.shape\n"
   ]
  },
  {
   "cell_type": "code",
   "execution_count": null,
   "metadata": {},
   "outputs": [],
   "source": []
  }
 ],
 "metadata": {
  "kernelspec": {
   "display_name": "Python 3",
   "language": "python",
   "name": "python3"
  },
  "language_info": {
   "codemirror_mode": {
    "name": "ipython",
    "version": 3
   },
   "file_extension": ".py",
   "mimetype": "text/x-python",
   "name": "python",
   "nbconvert_exporter": "python",
   "pygments_lexer": "ipython3",
   "version": "3.5.4"
  }
 },
 "nbformat": 4,
 "nbformat_minor": 4
}
