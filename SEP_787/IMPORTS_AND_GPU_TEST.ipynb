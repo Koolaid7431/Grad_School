{
 "cells": [
  {
   "cell_type": "markdown",
   "metadata": {},
   "source": [
    "This first cell is used to print out the version of TensorFlow that was imported along with the Python version. It will also print all the available devices that TensorFlow has access to. \n",
    "\n",
    "Run this to make sure that the TensorFlow and Python Version are the same as what you wrote your code with. Also make sure that the GPUs are visible to TensorFlow. \n",
    "\n",
    "NOTES: \n",
    "Make sure that it lists device_type='GPU' NOT device_type='XLA_GPU'!\n",
    "They are different things and running on XLA_GPUs require a different TensorFlow build.\n",
    "\n",
    "Setting os.environ[\"CUDA_VISIBLE_DEVICES\"] should limit which GPUs are visible. This renames the GPUs in TF.\n",
    "e.g. Setting it to 2 will restrict it to GPU 2, but TF will list it as GPU 0.\n",
    "\n",
    "In terminal check with $ nvidia-smi that the appropriate GPU is used at bottom under processes."
   ]
  },
  {
   "cell_type": "code",
   "execution_count": 1,
   "metadata": {},
   "outputs": [
    {
     "name": "stdout",
     "output_type": "stream",
     "text": [
      "TF\n",
      "2.1.0\n",
      "\n",
      "PYTHON\n",
      "3.5.4 (v3.5.4:3f56838, Aug  8 2017, 02:17:05) [MSC v.1900 64 bit (AMD64)]\n",
      "\n",
      "[PhysicalDevice(name='/physical_device:CPU:0', device_type='CPU')]\n",
      "\n",
      "[LogicalDevice(name='/device:CPU:0', device_type='CPU')]\n",
      "\n",
      "1\n"
     ]
    }
   ],
   "source": [
    "import os \n",
    "os.environ[\"CUDA_VISIBLE_DEVICES\"]=\"0\" \n",
    "\n",
    "import tensorflow as tf\n",
    "print(\"TF\")\n",
    "print(tf.__version__)\n",
    "print()\n",
    "\n",
    "import sys\n",
    "print(\"PYTHON\")\n",
    "print(sys.version)\n",
    "print()\n",
    "\n",
    "print(tf.config.experimental.list_physical_devices())\n",
    "print()\n",
    "\n",
    "print(tf.config.experimental.list_logical_devices())\n",
    "print()\n",
    "\n",
    "print(1)"
   ]
  },
  {
   "cell_type": "markdown",
   "metadata": {},
   "source": [
    "This cell is a template for making TF use a specific GPU. \n",
    "\n",
    "It shouldn't default to CPU, but I think it might still default to another GPU if you don't set os.environ[\"CUDA_VISIBLE_DEVICES\"]. \n",
    "\n",
    "In theory, you should be able to just run your code and TF 2 will default to GPU, but to be safe you can use with tf.device().\n",
    "\n",
    "Other functions to log which devices are used and limiting which GPUs TF sees exist, but can't be initialized in Jupyter notebook for some reason. Looking more into it, you need to adjust some things \"before initialization\". \n",
    "\n",
    "e.g. tf.debugging.set_log_device_placement(True) should log which devices are used.\n",
    "     tf.config.experimental.set_visible_devices() should limit which GPUs are available to TF.\n",
    "\n",
    "\n",
    "More Info:\n",
    "\n",
    "https://www.tensorflow.org/guide/gpu"
   ]
  },
  {
   "cell_type": "code",
   "execution_count": 2,
   "metadata": {},
   "outputs": [
    {
     "name": "stdout",
     "output_type": "stream",
     "text": [
      "Could not use GPU.\n"
     ]
    }
   ],
   "source": [
    "# Do not default to CPU\n",
    "tf.config.set_soft_device_placement(False)\n",
    "\n",
    "# Trying GPU use\n",
    "try:\n",
    "    with tf.device('/device:GPU:0'):\n",
    "        a = tf.constant([[1.0, 2.0, 3.0], [4.0, 5.0, 6.0]])\n",
    "        b = tf.constant([[1.0, 2.0], [3.0, 4.0], [5.0, 6.0]])\n",
    "        c = tf.matmul(a, b)\n",
    "        print(c)\n",
    "        \n",
    "except:\n",
    "    print(\"Could not use GPU.\")"
   ]
  },
  {
   "cell_type": "code",
   "execution_count": null,
   "metadata": {},
   "outputs": [],
   "source": []
  }
 ],
 "metadata": {
  "kernelspec": {
   "display_name": "Python 3",
   "language": "python",
   "name": "python3"
  },
  "language_info": {
   "codemirror_mode": {
    "name": "ipython",
    "version": 3
   },
   "file_extension": ".py",
   "mimetype": "text/x-python",
   "name": "python",
   "nbconvert_exporter": "python",
   "pygments_lexer": "ipython3",
   "version": "3.5.4"
  }
 },
 "nbformat": 4,
 "nbformat_minor": 4
}
