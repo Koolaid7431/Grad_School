{
 "cells": [
  {
   "cell_type": "markdown",
   "metadata": {},
   "source": [
    "# Assignment 1\n",
    "### CHEM ENG/ SEP 787\n",
    "\n",
    "### XuLiang Qi - \n",
    "### Mohammad Kashif Siddiqui - 0755452"
   ]
  },
  {
   "cell_type": "markdown",
   "metadata": {},
   "source": [
    "### Headers"
   ]
  },
  {
   "cell_type": "code",
   "execution_count": 40,
   "metadata": {},
   "outputs": [],
   "source": [
    "import numpy as np\n",
    "import matplotlib.pyplot as plt\n",
    "import os \n",
    "import pandas as pd\n",
    "from IPython.display import Image\n",
    "from sklearn.metrics import mean_squared_error\n",
    "import math\n",
    "import random as rn\n",
    "import time\n",
    "from sklearn import datasets\n",
    "from sklearn.discriminant_analysis import LinearDiscriminantAnalysis"
   ]
  },
  {
   "cell_type": "markdown",
   "metadata": {},
   "source": [
    "### Checking paths"
   ]
  },
  {
   "cell_type": "code",
   "execution_count": 8,
   "metadata": {
    "jupyter": {
     "source_hidden": true
    }
   },
   "outputs": [
    {
     "name": "stdout",
     "output_type": "stream",
     "text": [
      "current path:\n",
      "C:\\Users\\User\\AppData\\Roaming\\Python\\Python35\\Scripts\\Allwork\\SEP_787\n"
     ]
    }
   ],
   "source": [
    "print('current path:')\n",
    "dir_path = os.getcwd()\n",
    "print(dir_path)"
   ]
  },
  {
   "cell_type": "markdown",
   "metadata": {},
   "source": [
    "# Question 1\n",
    "#### Using the comma separated multivariate data in the file fld.txt:\n",
    "\n",
    "#### (a) Determine the discriminant line found by Fishers Linear Discriminant.\n",
    "\n",
    "#### (b) Plot both the data and the discriminant line on a scatter plot\n",
    "\n",
    "#### (c) Using this line, determine the class of each of the data points in the training dataset, assuming that the threshold is 0 (i.e. positive values are in one class and negative values in the other). \n",
    "\n",
    "#### (d) Determine what percentage of data points are incorrectly classifier\n"
   ]
  },
  {
   "cell_type": "code",
   "execution_count": 9,
   "metadata": {},
   "outputs": [
    {
     "name": "stdout",
     "output_type": "stream",
     "text": [
      "Elapsed time in seconds: 0.004659500000002481\n"
     ]
    }
   ],
   "source": [
    "# Reading the data\n",
    "tic = time.clock()\n",
    "data = pd.read_csv('fld.txt', header = None)\n",
    "data = pd.DataFrame.to_numpy(data)\n",
    "toc = time.clock()\n",
    "print('Elapsed time in seconds:', (toc - tic))"
   ]
  },
  {
   "cell_type": "code",
   "execution_count": 34,
   "metadata": {},
   "outputs": [],
   "source": [
    "# loading the data to an array and separating classes\n",
    "\n",
    "x1=data[0:300,0:2]    # class = 1\n",
    "x2=data[300:500, 0:2] # class = 0\n",
    "\n",
    "test_labels = data[:,2]\n",
    "\n",
    "# Calculate the mean for each group\n",
    "u1 = np.mean(x1, axis = 0)\n",
    "u2 = np.mean(x2, axis = 0)"
   ]
  },
  {
   "cell_type": "code",
   "execution_count": 41,
   "metadata": {},
   "outputs": [
    {
     "name": "stdout",
     "output_type": "stream",
     "text": [
      "Elapsed time for inclass method in seconds: 0.000679100000525068\n",
      "Elapsed time for scikit in seconds: 0.0017660000003161258\n"
     ]
    },
    {
     "data": {
      "image/png": "[encoded data removed]",
      "text/plain": [
       "<Figure size 432x288 with 1 Axes>"
      ]
     },
     "metadata": {
      "needs_background": "light"
     },
     "output_type": "display_data"
    }
   ],
   "source": [
    "# Remove the mean for each group\n",
    "tic = time.clock()\n",
    "\n",
    "x1ur = x1 - u1\n",
    "x2ur = x2 - u2\n",
    "\n",
    "# Calculate the Cov for each group\n",
    "cov1 = np.dot(x1ur.T, x1ur)\n",
    "cov2 = np.dot(x2ur.T, x2ur)\n",
    "\n",
    "# Answer to Q1 a\n",
    "# FLD using the method from class\n",
    "sw = cov1 + cov2\n",
    "w = np.dot(np.linalg.inv(sw), (u1 - u2))\n",
    "\n",
    "toc = time.clock()\n",
    "print('Elapsed time for inclass method in seconds:', (toc - tic))\n",
    "\n",
    "\n",
    "# Plt\n",
    "plt.figure()\n",
    "plt.scatter(x1[:, 0], x1[:, 1], c='r')\n",
    "plt.scatter(x2[:, 0], x2[:, 1], c='b')\n",
    "plt.plot([-10000 * w[0], 10000 * w[0]], [-10000 * w[1], 10000 * w[1]], 'g') #green broken line in the plot\n",
    "ax=plt.gca()\n",
    "ax.set_xlim(-7.5,12)\n",
    "ax.set_ylim(-7.5,10)\n",
    "\n",
    "\n",
    "# Scikitlearn\n",
    "tic = time.clock()\n",
    "\n",
    "X = np.concatenate((x1, x2), axis = 0)\n",
    "y = data[:, 2]\n",
    "lda = LinearDiscriminantAnalysis()\n",
    "lda.fit(X, y)\n",
    "p_lda = lda.predict(X)\n",
    "error_lda = np.sum(abs(p_lda - data[:,2]))\n",
    "slope_sk = -lda.coef_[0][0]/lda.coef_[0][1]\n",
    "thresh_sk = -lda.intercept_/lda.coef_[0][1]\n",
    "\n",
    "toc = time.clock()\n",
    "print('Elapsed time for scikit in seconds:', (toc - tic))\n",
    "\n",
    "x = np.linspace(-4, 4, 50) \n",
    "y = thresh_sk + slope_sk * x\n",
    "plt.plot(x, y, c='b') # blue solid line in the plot is the Scikit learn discriminant line\n",
    "\n",
    "\n",
    "# Answer to Q1b\n",
    "# Plot the FLD line\n",
    "x = np.linspace(-5,5,100)\n",
    "y = slope*x + y_int\n",
    "plt.plot(x, y, '--')\n",
    "plt.show()\n",
    "\n",
    "\n",
    "# Prediction and Precision\n",
    "thresh = -0.005\n",
    "slope = -w[0] / w[1]\n",
    "y_int = -thresh / w[1]\n",
    "a=np.sign(np.dot(w, data[:, (0, 1)].T) +thresh)\n",
    "\n",
    "# Answer to Q1 c\n",
    "prediction = (np.sign(np.dot(w, data[:, (0, 1)].T) +thresh) + 1) / 2\n",
    "Conf_mat = sklearn.metrics.confusion_matrix(test_labels, prediction, labels=None, sample_weight=None, normalize=None)\n",
    "\n",
    "# Answer to Q1 d\n",
    "error = np.sum(abs(prediction - data[:,2]))\n",
    "percentage = error / len(data)\n",
    "\n"
   ]
  },
  {
   "cell_type": "code",
   "execution_count": 28,
   "metadata": {},
   "outputs": [
    {
     "data": {
      "text/plain": [
       "0.16"
      ]
     },
     "execution_count": 28,
     "metadata": {},
     "output_type": "execute_result"
    }
   ],
   "source": [
    "percentage"
   ]
  },
  {
   "cell_type": "code",
   "execution_count": 39,
   "metadata": {},
   "outputs": [
    {
     "data": {
      "text/plain": [
       "array([[135,  65],\n",
       "       [ 15, 285]], dtype=int64)"
      ]
     },
     "execution_count": 39,
     "metadata": {},
     "output_type": "execute_result"
    }
   ],
   "source": [
    "Conf_mat "
   ]
  },
  {
   "cell_type": "markdown",
   "metadata": {},
   "source": [
    "# Question 2.\n",
    "\n",
    "#### a) Using the multivariate data in the file spam.xlsx, determine the discriminant line found by Fishers Linear Discriminant. Using this line, determine the class of each of the data points in the training dataset, assuming that the threshold is 0.\n",
    "\n",
    "#### b) Determine what percentage of the training data points are incorrectly classified by your classifier.\n",
    "\n",
    "#### c) Perform the above analysis using only my implementation in Python and report the minimum error you could obtain by adjusting the threshold. For that minimum error value of the threshold, report the confusion matrix when classifying the training data."
   ]
  },
  {
   "cell_type": "code",
   "execution_count": 43,
   "metadata": {},
   "outputs": [
    {
     "name": "stdout",
     "output_type": "stream",
     "text": [
      "Elapsed time in seconds: 3.2602251000007527\n"
     ]
    }
   ],
   "source": [
    "# Reading the data\n",
    "tic = time.clock()\n",
    "data = pd.read_excel('spam.xlsx')\n",
    "data = pd.DataFrame.to_numpy(data)\n",
    "toc = time.clock()\n",
    "print('Elapsed time in seconds:', (toc - tic))"
   ]
  },
  {
   "cell_type": "code",
   "execution_count": 47,
   "metadata": {},
   "outputs": [],
   "source": [
    "# loading the data to an array and separating classes\n",
    "\n",
    "x1=data[0:500,0:57]    # class = 1\n",
    "x2=data[500:1000, 0:57] # class = 0\n",
    "\n",
    "test_labels = data[:,57]\n",
    "\n",
    "# Calculate the mean for each group\n",
    "u1 = np.mean(x1, axis = 0)\n",
    "u2 = np.mean(x2, axis = 0)"
   ]
  },
  {
   "cell_type": "code",
   "execution_count": 52,
   "metadata": {},
   "outputs": [
    {
     "data": {
      "image/png": "[encoded data removed]",
      "text/plain": [
       "<Figure size 432x288 with 1 Axes>"
      ]
     },
     "metadata": {
      "needs_background": "light"
     },
     "output_type": "display_data"
    }
   ],
   "source": [
    "# Remove the mean for each group\n",
    "x1ur = x1 - u1\n",
    "x2ur = x2 - u2\n",
    "\n",
    "# Calculate the Cov for each group\n",
    "cov1 = np.dot(x1ur.T, x1ur)\n",
    "cov2 = np.dot(x2ur.T, x2ur)\n",
    "\n",
    "# FLD\n",
    "sw = cov1 + cov2\n",
    "w = np.dot(np.linalg.inv(sw), (u1 - u2))\n",
    "\n",
    "# Plt\n",
    "plt.figure()\n",
    "plt.scatter(x1[:, 0], x1[:, 1], c='r')\n",
    "plt.scatter(x2[:, 0], x2[:, 1], c='b')\n",
    "plt.plot([-10000 * w[0], 10000 * w[0]], [-10000 * w[1], 10000 * w[1]], 'g')\n",
    "ax=plt.gca()\n",
    "ax.set_xlim(-2,4)\n",
    "ax.set_ylim(-2,6)\n",
    "plt.show()\n",
    "\n",
    "# Prediction and Precision\n",
    "# thresh set to -0.001 for a better percentage in precision(0.101; 0.183 when thresh = 0)\n",
    "thresh = -0.00247\n",
    "slope = -w[0] / w[1]\n",
    "y_int = -thresh / w[1]\n",
    "\n",
    "# Answer to Q2 b\n",
    "prediction = (np.sign(np.dot(w, data[:, 0:57].T) +thresh) + 1) / 2\n",
    "error = np.sum(abs(data[:,57] - prediction))\n",
    "percentage = error / len(data)\n",
    "\n",
    "# Answer to Q2 c\n",
    "Conf_mat = sklearn.metrics.confusion_matrix(test_labels, prediction, labels=None, sample_weight=None, normalize=None)"
   ]
  },
  {
   "cell_type": "code",
   "execution_count": 53,
   "metadata": {},
   "outputs": [
    {
     "data": {
      "text/plain": [
       "array([[458,  42],\n",
       "       [ 37, 463]], dtype=int64)"
      ]
     },
     "execution_count": 53,
     "metadata": {},
     "output_type": "execute_result"
    }
   ],
   "source": [
    "Conf_mat"
   ]
  },
  {
   "cell_type": "code",
   "execution_count": 1,
   "metadata": {},
   "outputs": [
    {
     "name": "stdout",
     "output_type": "stream",
     "text": [
      "current path:\n",
      "C:\\Users\\User\\AppData\\Roaming\\Python\\Python35\\Scripts\\Allwork\\SEP_787\n",
      "Elapsed time in seconds: 0.20522279999999998\n",
      "Elapsed time for inclass method in seconds: 0.9930203000000001\n",
      "Elapsed time for scikit in seconds: 2.0430444\n"
     ]
    },
    {
     "data": {
      "text/plain": [
       "<Figure size 640x480 with 1 Axes>"
      ]
     },
     "metadata": {},
     "output_type": "display_data"
    },
    {
     "name": "stdout",
     "output_type": "stream",
     "text": [
      "Elapsed time in seconds: 2.6527908\n"
     ]
    },
    {
     "data": {
      "text/plain": [
       "<Figure size 640x480 with 1 Axes>"
      ]
     },
     "metadata": {},
     "output_type": "display_data"
    },
    {
     "data": {
      "text/plain": [
       "array([[458,  42],\n",
       "       [ 37, 463]], dtype=int64)"
      ]
     },
     "execution_count": 1,
     "metadata": {},
     "output_type": "execute_result"
    }
   ],
   "source": [
    "# -*- coding: utf-8 -*-\n",
    "\"\"\"A1.ipynb\n",
    "\n",
    "Automatically generated by Colaboratory.\n",
    "\n",
    "Original file is located at\n",
    "    https://colab.research.google.com/drive/1cHwBf5rOCp-iSht61caf4VC4eBPgx8jp\n",
    "\n",
    "# Assignment 1\n",
    "### CHEM ENG/ SEP 787\n",
    "\n",
    "### XuLiang Qi - 4000347697\n",
    "### Mohammad Kashif Siddiqui - 0755452\n",
    "\n",
    "### Headers\n",
    "\"\"\"\n",
    "\n",
    "import numpy as np\n",
    "import matplotlib.pyplot as plt\n",
    "import os \n",
    "import pandas as pd\n",
    "from IPython.display import Image\n",
    "from sklearn.metrics import mean_squared_error\n",
    "import math\n",
    "import random as rn\n",
    "import time\n",
    "from sklearn import datasets\n",
    "from sklearn.discriminant_analysis import LinearDiscriminantAnalysis\n",
    "import sklearn\n",
    "\n",
    "\"\"\"### Checking paths\"\"\"\n",
    "\n",
    "print('current path:')\n",
    "dir_path = os.getcwd()\n",
    "print(dir_path)\n",
    "\n",
    "\"\"\"# Question 1\n",
    "#### Using the comma separated multivariate data in the file fld.txt:\n",
    "\n",
    "#### (a) Determine the discriminant line found by Fishers Linear Discriminant.\n",
    "\n",
    "#### (b) Plot both the data and the discriminant line on a scatter plot\n",
    "\n",
    "#### (c) Using this line, determine the class of each of the data points in the training dataset, assuming that the threshold is 0 (i.e. positive values are in one class and negative values in the other). \n",
    "\n",
    "#### (d) Determine what percentage of data points are incorrectly classifier\n",
    "\n",
    "\"\"\"\n",
    "\n",
    "# Reading the data\n",
    "tic = time.clock()\n",
    "data = pd.read_csv('fld.txt', header = None)\n",
    "data = pd.DataFrame.to_numpy(data)\n",
    "toc = time.clock()\n",
    "print('Elapsed time in seconds:', (toc - tic))\n",
    "\n",
    "# loading the data to an array and separating classes\n",
    "\n",
    "x1=data[0:300,0:2]    # class = 1\n",
    "x2=data[300:500, 0:2] # class = 0\n",
    "\n",
    "test_labels = data[:,2]\n",
    "\n",
    "# Calculate the mean for each group\n",
    "u1 = np.mean(x1, axis = 0)\n",
    "u2 = np.mean(x2, axis = 0)\n",
    "\n",
    "# Remove the mean for each group\n",
    "tic = time.clock()\n",
    "\n",
    "x1ur = x1 - u1\n",
    "x2ur = x2 - u2\n",
    "\n",
    "# Calculate the Cov for each group\n",
    "cov1 = np.dot(x1ur.T, x1ur)\n",
    "cov2 = np.dot(x2ur.T, x2ur)\n",
    "\n",
    "# Answer to Q1 a\n",
    "# FLD using the method from class\n",
    "sw = cov1 + cov2\n",
    "w = np.dot(np.linalg.inv(sw), (u1 - u2))\n",
    "\n",
    "toc = time.clock()\n",
    "print('Elapsed time for inclass method in seconds:', (toc - tic))\n",
    "\n",
    "\n",
    "# Plt\n",
    "plt.figure()\n",
    "plt.scatter(x1[:, 0], x1[:, 1], c='r')\n",
    "plt.scatter(x2[:, 0], x2[:, 1], c='b')\n",
    "plt.plot([-10000 * w[0], 10000 * w[0]], [-10000 * w[1], 10000 * w[1]], 'g') #green broken line in the plot\n",
    "ax=plt.gca()\n",
    "ax.set_xlim(-7.5,12)\n",
    "ax.set_ylim(-7.5,10)\n",
    "\n",
    "\n",
    "# Scikitlearn\n",
    "tic = time.clock()\n",
    "\n",
    "X = np.concatenate((x1, x2), axis = 0)\n",
    "y = data[:, 2]\n",
    "lda = LinearDiscriminantAnalysis()\n",
    "lda.fit(X, y)\n",
    "p_lda = lda.predict(X)\n",
    "error_lda = np.sum(abs(p_lda - data[:,2]))\n",
    "slope_sk = -lda.coef_[0][0]/lda.coef_[0][1]\n",
    "thresh_sk = -lda.intercept_/lda.coef_[0][1]\n",
    "\n",
    "toc = time.clock()\n",
    "print('Elapsed time for scikit in seconds:', (toc - tic))\n",
    "\n",
    "x = np.linspace(-4, 4, 50) \n",
    "y = thresh_sk + slope_sk * x\n",
    "plt.plot(x, y, c='b') # blue solid line in the plot is the Scikit learn discriminant line\n",
    "\n",
    "\n",
    "# Answer to Q1b\n",
    "# Plot the FLD line\n",
    "thresh = -0.005\n",
    "slope = -w[0] / w[1]\n",
    "y_int = -thresh / w[1]\n",
    "x = np.linspace(-5,5,100)\n",
    "y = slope*x + y_int\n",
    "plt.plot(x, y, '--')\n",
    "plt.show()\n",
    "\n",
    "\n",
    "# Prediction and Precision\n",
    "a=np.sign(np.dot(w, data[:, (0, 1)].T) +thresh)\n",
    "\n",
    "# Answer to Q1 c\n",
    "prediction = (np.sign(np.dot(w, data[:, (0, 1)].T) +thresh) + 1) / 2\n",
    "Conf_mat = sklearn.metrics.confusion_matrix(test_labels, prediction, labels=None, sample_weight=None, normalize=None)\n",
    "\n",
    "# Answer to Q1 d\n",
    "error = np.sum(abs(prediction - data[:,2]))\n",
    "percentage = error / len(data)\n",
    "\n",
    "percentage\n",
    "\n",
    "Conf_mat\n",
    "\n",
    "\"\"\"# Question 2.\n",
    "\n",
    "#### a) Using the multivariate data in the file spam.xlsx, determine the discriminant line found by Fishers Linear Discriminant. Using this line, determine the class of each of the data points in the training dataset, assuming that the threshold is 0.\n",
    "\n",
    "#### b) Determine what percentage of the training data points are incorrectly classified by your classifier.\n",
    "\n",
    "#### c) Perform the above analysis using only my implementation in Python and report the minimum error you could obtain by adjusting the threshold. For that minimum error value of the threshold, report the confusion matrix when classifying the training data.\n",
    "\"\"\"\n",
    "\n",
    "# Reading the data\n",
    "tic = time.clock()\n",
    "data = pd.read_excel('spam.xlsx')\n",
    "data = pd.DataFrame.to_numpy(data)\n",
    "toc = time.clock()\n",
    "print('Elapsed time in seconds:', (toc - tic))\n",
    "\n",
    "# loading the data to an array and separating classes\n",
    "\n",
    "x1=data[0:500,0:57]    # class = 1\n",
    "x2=data[500:1000, 0:57] # class = 0\n",
    "\n",
    "test_labels = data[:,57]\n",
    "\n",
    "# Calculate the mean for each group\n",
    "u1 = np.mean(x1, axis = 0)\n",
    "u2 = np.mean(x2, axis = 0)\n",
    "\n",
    "# Remove the mean for each group\n",
    "x1ur = x1 - u1\n",
    "x2ur = x2 - u2\n",
    "\n",
    "# Calculate the Cov for each group\n",
    "cov1 = np.dot(x1ur.T, x1ur)\n",
    "cov2 = np.dot(x2ur.T, x2ur)\n",
    "\n",
    "# FLD\n",
    "sw = cov1 + cov2\n",
    "w = np.dot(np.linalg.inv(sw), (u1 - u2))\n",
    "\n",
    "# Plt\n",
    "plt.figure()\n",
    "plt.scatter(x1[:, 0], x1[:, 1], c='r')\n",
    "plt.scatter(x2[:, 0], x2[:, 1], c='b')\n",
    "plt.plot([-10000 * w[0], 10000 * w[0]], [-10000 * w[1], 10000 * w[1]], 'g')\n",
    "ax=plt.gca()\n",
    "ax.set_xlim(-2,4)\n",
    "ax.set_ylim(-2,6)\n",
    "plt.show()\n",
    "\n",
    "# Prediction and Precision\n",
    "# thresh set to -0.001 for a better percentage in precision(0.101; 0.183 when thresh = 0)\n",
    "thresh = -0.00247\n",
    "slope = -w[0] / w[1]\n",
    "y_int = -thresh / w[1]\n",
    "\n",
    "# Answer to Q2 b\n",
    "prediction = (np.sign(np.dot(w, data[:, 0:57].T) +thresh) + 1) / 2\n",
    "error = np.sum(abs(data[:,57] - prediction))\n",
    "percentage = error / len(data)\n",
    "\n",
    "# Answer to Q2 c\n",
    "Conf_mat = sklearn.metrics.confusion_matrix(test_labels, prediction, labels=None, sample_weight=None, normalize=None)\n",
    "\n",
    "Conf_mat"
   ]
  },
  {
   "cell_type": "code",
   "execution_count": null,
   "metadata": {},
   "outputs": [],
   "source": []
  }
 ],
 "metadata": {
  "kernelspec": {
   "display_name": "Python 3",
   "language": "python",
   "name": "python3"
  },
  "language_info": {
   "codemirror_mode": {
    "name": "ipython",
    "version": 3
   },
   "file_extension": ".py",
   "mimetype": "text/x-python",
   "name": "python",
   "nbconvert_exporter": "python",
   "pygments_lexer": "ipython3",
   "version": "3.5.4"
  }
 },
 "nbformat": 4,
 "nbformat_minor": 4
}
