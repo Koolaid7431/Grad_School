{
 "cells": [
  {
   "cell_type": "markdown",
   "metadata": {},
   "source": [
    "# Final Project\n",
    "### CHEM ENG/ SEP 787\n",
    "### Mohammad Kashif Siddiqui - 0755452\n",
    "### XuLiang Qi - 400347697\n",
    "### Jing Wang - 40053242"
   ]
  },
  {
   "cell_type": "markdown",
   "metadata": {},
   "source": [
    "### Plan"
   ]
  },
  {
   "cell_type": "markdown",
   "metadata": {},
   "source": [
    "1. Test Train Split\n",
    "2. Cross Validation Data Split\n",
    "\n",
    "- Classifiers Used:\n",
    "    a. SVM\n",
    "    b. KNN\n",
    "    c. Naive Bayes\n",
    "    \n",
    "3. Classifiers Parameter Testing \n",
    "4. Computational Times Comparison\n",
    "5. ROC\n",
    "6. Confusion Matricies\n"
   ]
  },
  {
   "cell_type": "markdown",
   "metadata": {},
   "source": [
    "### Headers"
   ]
  },
  {
   "cell_type": "code",
   "execution_count": 4,
   "metadata": {},
   "outputs": [],
   "source": [
    "import numpy as np\n",
    "import matplotlib.pyplot as plt\n",
    "from sklearn.decomposition import PCA\n",
    "import os \n",
    "import pandas as pd\n",
    "from IPython.display import Image\n",
    "from sklearn.model_selection import train_test_split\n",
    "from sklearn.metrics import mean_squared_error\n",
    "import math\n",
    "import random as rn\n",
    "import sklearn.discriminant_analysis\n",
    "import time\n",
    "from sklearn import datasets\n",
    "import subprocess\n",
    "\n",
    "\n",
    "from sklearn.model_selection import cross_val_score\n",
    "from sklearn import datasets, svm, metrics\n",
    "from sklearn.model_selection import GridSearchCV\n",
    "from sklearn.metrics import confusion_matrix\n",
    "\n",
    "from sklearn.neighbors import NearestNeighbors\n",
    "from sklearn.neighbors import KNeighborsClassifier\n",
    "\n",
    "from sklearn.naive_bayes import GaussianNB\n",
    "\n",
    "from sklearn.ensemble import AdaBoostClassifier\n",
    "from sklearn.datasets import make_classification"
   ]
  },
  {
   "cell_type": "markdown",
   "metadata": {},
   "source": [
    "### Checking paths"
   ]
  },
  {
   "cell_type": "code",
   "execution_count": 6,
   "metadata": {},
   "outputs": [
    {
     "name": "stdout",
     "output_type": "stream",
     "text": [
      "current path:\n",
      "C:\\Users\\User\\AppData\\Roaming\\Python\\Python35\\Scripts\\Allwork\\SEP_787\n"
     ]
    }
   ],
   "source": [
    "print('current path:')\n",
    "dir_path = os.getcwd()\n",
    "print(dir_path)"
   ]
  },
  {
   "cell_type": "markdown",
   "metadata": {},
   "source": [
    "# Read data \n",
    "\n",
    "#### Read data in pandas dataframe and transfer to numpy array"
   ]
  },
  {
   "cell_type": "code",
   "execution_count": 7,
   "metadata": {},
   "outputs": [
    {
     "name": "stdout",
     "output_type": "stream",
     "text": [
      "Elapsed time to load data in seconds: 0.05424119999999988\n"
     ]
    }
   ],
   "source": [
    "tic = time.clock()\n",
    "data = pd.read_csv('EEG_modified.txt', header = None)\n",
    "data = pd.DataFrame.to_numpy(data)\n",
    "toc = time.clock()\n",
    "print('Elapsed time to load data in seconds:', (toc - tic))"
   ]
  },
  {
   "cell_type": "code",
   "execution_count": 8,
   "metadata": {},
   "outputs": [
    {
     "data": {
      "text/plain": [
       "(14980, 15)"
      ]
     },
     "execution_count": 8,
     "metadata": {},
     "output_type": "execute_result"
    }
   ],
   "source": [
    "data.shape"
   ]
  },
  {
   "cell_type": "code",
   "execution_count": 9,
   "metadata": {},
   "outputs": [
    {
     "data": {
      "text/plain": [
       "array([4329.23, 4009.23, 4289.23, 4148.21, 4350.26, 4586.15, 4096.92,\n",
       "       4641.03, 4222.05, 4238.46, 4211.28, 4280.51, 4635.9 , 4393.85,\n",
       "          0.  ])"
      ]
     },
     "execution_count": 9,
     "metadata": {},
     "output_type": "execute_result"
    }
   ],
   "source": [
    "data[0]"
   ]
  },
  {
   "cell_type": "markdown",
   "metadata": {},
   "source": [
    "# Testing & Training Data Split"
   ]
  },
  {
   "cell_type": "code",
   "execution_count": 10,
   "metadata": {},
   "outputs": [],
   "source": [
    "# Specify the data \n",
    "Input_data=data[:,0:14]\n",
    "\n",
    "# Isolate labels\n",
    "labels = data[:,14]\n",
    "\n",
    "# Split the data up in train and test sets\n",
    "train_data, test_data, train_label, test_label = train_test_split(Input_data, labels, test_size=0.25, random_state=42)"
   ]
  },
  {
   "cell_type": "code",
   "execution_count": 11,
   "metadata": {},
   "outputs": [
    {
     "name": "stdout",
     "output_type": "stream",
     "text": [
      "Training set data shape: (11235, 14)\n",
      "Testing set data shape: (3745, 14)\n",
      "Training set label shape: (11235,)\n",
      "Testing set label shape: (3745,)\n"
     ]
    }
   ],
   "source": [
    "print('Training set data shape:', train_data.shape)\n",
    "print('Testing set data shape:', test_data.shape) \n",
    "print('Training set label shape:', train_label.shape)\n",
    "print('Testing set label shape:', test_label.shape)"
   ]
  },
  {
   "cell_type": "code",
   "execution_count": 12,
   "metadata": {},
   "outputs": [
    {
     "name": "stdout",
     "output_type": "stream",
     "text": [
      "train_data ex: [4278.97 3988.21 4249.74 4108.21 4325.64 4611.79 4065.64 4614.87 4197.95\n",
      " 4214.87 4205.13 4271.79 4592.82 4343.08]\n",
      "train_label ex: 1.0\n"
     ]
    }
   ],
   "source": [
    "print(\"train_data ex:\", train_data[0])\n",
    "print(\"train_label ex:\", train_label[0])"
   ]
  },
  {
   "cell_type": "code",
   "execution_count": null,
   "metadata": {},
   "outputs": [],
   "source": []
  },
  {
   "cell_type": "code",
   "execution_count": 45,
   "metadata": {},
   "outputs": [
    {
     "name": "stdout",
     "output_type": "stream",
     "text": [
      "Elapsed time to load data in seconds: 3.860000015265541e-05\n"
     ]
    }
   ],
   "source": [
    "#Time calculation block\n",
    "tic = time.clock()\n",
    "\n",
    "toc = time.clock()\n",
    "print('Elapsed time to load data in seconds:', (toc - tic))"
   ]
  },
  {
   "cell_type": "markdown",
   "metadata": {},
   "source": [
    "# SVM"
   ]
  },
  {
   "cell_type": "code",
   "execution_count": 37,
   "metadata": {},
   "outputs": [
    {
     "name": "stdout",
     "output_type": "stream",
     "text": [
      "Elapsed time to load data in seconds: 437.72705469999994\n"
     ]
    }
   ],
   "source": [
    "#Cross Validation for the C metric (K-fold Cross Validation)\n",
    "\n",
    "tic = time.clock()\n",
    "X = train_data[0:1000]\n",
    "y = train_label[0:1000]\n",
    "\n",
    "svc = svm.SVC(kernel='linear')\n",
    "C_s = np.logspace(-10, 0, 10)\n",
    "\n",
    "scores = list()\n",
    "scores_std = list()\n",
    "for C in C_s:\n",
    "    svc.C = C\n",
    "    this_scores = cross_val_score(svc, X, y, n_jobs=1)\n",
    "    scores.append(np.mean(this_scores))\n",
    "    scores_std.append(np.std(this_scores))\n",
    "\n",
    "toc = time.clock()\n",
    "print('Elapsed time to load data in seconds:', (toc - tic))"
   ]
  },
  {
   "cell_type": "code",
   "execution_count": 46,
   "metadata": {},
   "outputs": [
    {
     "data": {
      "image/png": "[encoded data removed]",
      "text/plain": [
       "<Figure size 432x288 with 1 Axes>"
      ]
     },
     "metadata": {
      "needs_background": "light"
     },
     "output_type": "display_data"
    }
   ],
   "source": [
    "# Plotting cross validation\n",
    "plt.figure()\n",
    "plt.semilogx(C_s, scores)\n",
    "plt.semilogx(C_s, np.array(scores) + np.array(scores_std), 'b--')\n",
    "plt.semilogx(C_s, np.array(scores) - np.array(scores_std), 'b--')\n",
    "locs, labels = plt.yticks()\n",
    "plt.yticks(locs, list(map(lambda x: \"%g\" % x, locs)))\n",
    "plt.ylabel('CV score')\n",
    "plt.xlabel('Parameter C')\n",
    "plt.ylim(0.55, 0.69)\n",
    "plt.show()"
   ]
  },
  {
   "cell_type": "code",
   "execution_count": 92,
   "metadata": {},
   "outputs": [
    {
     "name": "stdout",
     "output_type": "stream",
     "text": [
      "Elapsed time to load data in seconds: 33.983036799999354\n"
     ]
    }
   ],
   "source": [
    "tic = time.clock()\n",
    "clf = svm.SVC(kernel='linear', C=3)\n",
    "clf.fit(train_data, train_label)\n",
    "toc = time.clock()\n",
    "print('Elapsed time to load data in seconds:', (toc - tic))"
   ]
  },
  {
   "cell_type": "code",
   "execution_count": 93,
   "metadata": {},
   "outputs": [
    {
     "name": "stdout",
     "output_type": "stream",
     "text": [
      "Elapsed time to load data in seconds: 0.27777900000000955\n"
     ]
    }
   ],
   "source": [
    "#Making a Prediction\n",
    "tic = time.clock()\n",
    "pred= clf.predict(test_data)\n",
    "toc = time.clock()\n",
    "print('Elapsed time to load data in seconds:', (toc - tic))"
   ]
  },
  {
   "cell_type": "code",
   "execution_count": 94,
   "metadata": {},
   "outputs": [
    {
     "data": {
      "text/plain": [
       "array([[1593,  392],\n",
       "       [ 984,  776]], dtype=int64)"
      ]
     },
     "execution_count": 94,
     "metadata": {},
     "output_type": "execute_result"
    }
   ],
   "source": [
    "#Plotting the confusion Matrix (classes 0, 1)\n",
    "confusion_matrix(test_label, pred)"
   ]
  },
  {
   "cell_type": "code",
   "execution_count": 95,
   "metadata": {},
   "outputs": [],
   "source": [
    "#True neg, False pos, False neg, True pos. from the confusion matrix\n",
    "tn, fp, fn, tp = confusion_matrix(test_label, pred).ravel()"
   ]
  },
  {
   "cell_type": "code",
   "execution_count": 96,
   "metadata": {},
   "outputs": [],
   "source": [
    "#This gives us the important points in the ROC\n",
    "fpr, tpr, thresholds = metrics.roc_curve(test_label, pred, pos_label=1)"
   ]
  },
  {
   "cell_type": "code",
   "execution_count": 97,
   "metadata": {},
   "outputs": [
    {
     "name": "stdout",
     "output_type": "stream",
     "text": [
      "fpr: [0.         0.19748111 1.        ]\n",
      "tpr: [0.         0.44090909 1.        ]\n",
      "threshold: [2. 1. 0.]\n"
     ]
    }
   ],
   "source": [
    "print('fpr:', fpr)\n",
    "print('tpr:', tpr)\n",
    "print('threshold:', thresholds)"
   ]
  },
  {
   "cell_type": "code",
   "execution_count": 98,
   "metadata": {},
   "outputs": [
    {
     "data": {
      "text/plain": [
       "<sklearn.metrics._plot.roc_curve.RocCurveDisplay at 0x2303ca0ae10>"
      ]
     },
     "execution_count": 98,
     "metadata": {},
     "output_type": "execute_result"
    },
    {
     "data": {
      "image/png": "[encoded data removed]",
      "text/plain": [
       "<Figure size 432x288 with 1 Axes>"
      ]
     },
     "metadata": {
      "needs_background": "light"
     },
     "output_type": "display_data"
    }
   ],
   "source": [
    "#Plotting the ROC\n",
    "metrics.plot_roc_curve(clf, test_data, test_label)"
   ]
  },
  {
   "cell_type": "code",
   "execution_count": 99,
   "metadata": {},
   "outputs": [
    {
     "data": {
      "text/plain": [
       "0.6325767690253672"
      ]
     },
     "execution_count": 99,
     "metadata": {},
     "output_type": "execute_result"
    }
   ],
   "source": [
    "clf.score(test_data, test_label)  "
   ]
  },
  {
   "cell_type": "code",
   "execution_count": null,
   "metadata": {},
   "outputs": [],
   "source": []
  },
  {
   "cell_type": "code",
   "execution_count": 53,
   "metadata": {},
   "outputs": [
    {
     "name": "stdout",
     "output_type": "stream",
     "text": [
      "0.662572318647085\n",
      "0.0005994842503189409\n",
      "Elapsed time to load data in seconds: 273.1914281999998\n"
     ]
    },
    {
     "data": {
      "text/plain": [
       "0.6459279038718291"
      ]
     },
     "execution_count": 53,
     "metadata": {},
     "output_type": "execute_result"
    }
   ],
   "source": [
    "#Gridsearch method of Cross validation (different than the one used to plot)\n",
    "\n",
    "tic = time.clock()\n",
    "Cs = np.logspace(-6, -1, 10)\n",
    "clf = GridSearchCV(estimator=svc, param_grid=dict(C=Cs),n_jobs=-1)\n",
    "clf.fit(train_data, train_label)        \n",
    "print(clf.best_score_)                                  \n",
    "print(clf.best_estimator_.C)                            \n",
    "toc = time.clock()\n",
    "print('Elapsed time to load data in seconds:', (toc - tic))\n",
    "\n",
    "# Prediction performance on test set is not as good as on train set\n",
    "# Accuracy Score\n",
    "clf.score(test_data, test_label)      "
   ]
  },
  {
   "cell_type": "code",
   "execution_count": 56,
   "metadata": {},
   "outputs": [],
   "source": [
    "#Making a Prediction\n",
    "pred= clf.predict(test_data)"
   ]
  },
  {
   "cell_type": "code",
   "execution_count": 59,
   "metadata": {},
   "outputs": [
    {
     "data": {
      "text/plain": [
       "array([[1645,  340],\n",
       "       [ 986,  774]], dtype=int64)"
      ]
     },
     "execution_count": 59,
     "metadata": {},
     "output_type": "execute_result"
    }
   ],
   "source": [
    "#Plotting the confusion Matrix (classes 0, 1)\n",
    "confusion_matrix(test_label, pred)"
   ]
  },
  {
   "cell_type": "code",
   "execution_count": 60,
   "metadata": {},
   "outputs": [],
   "source": [
    "#True neg, False pos, False neg, True pos. from the confusion matrix\n",
    "tn, fp, fn, tp = confusion_matrix(test_label, pred).ravel()"
   ]
  },
  {
   "cell_type": "code",
   "execution_count": 71,
   "metadata": {},
   "outputs": [],
   "source": [
    "#This gives us the important points in the ROC\n",
    "fpr, tpr, thresholds = metrics.roc_curve(test_label, pred, pos_label=1)"
   ]
  },
  {
   "cell_type": "code",
   "execution_count": 73,
   "metadata": {},
   "outputs": [
    {
     "name": "stdout",
     "output_type": "stream",
     "text": [
      "fpr: [0.         0.17128463 1.        ]\n",
      "tpr: [0.         0.43977273 1.        ]\n",
      "threshold: [2. 1. 0.]\n"
     ]
    }
   ],
   "source": [
    "print('fpr:', fpr)\n",
    "print('tpr:', tpr)\n",
    "print('threshold:', thresholds)"
   ]
  },
  {
   "cell_type": "code",
   "execution_count": 67,
   "metadata": {},
   "outputs": [
    {
     "data": {
      "text/plain": [
       "<sklearn.metrics._plot.roc_curve.RocCurveDisplay at 0x1b0f731fd30>"
      ]
     },
     "execution_count": 67,
     "metadata": {},
     "output_type": "execute_result"
    },
    {
     "data": {
      "image/png": "[encoded data removed]",
      "text/plain": [
       "<Figure size 432x288 with 1 Axes>"
      ]
     },
     "metadata": {
      "needs_background": "light"
     },
     "output_type": "display_data"
    }
   ],
   "source": [
    "#Plotting the ROC\n",
    "metrics.plot_roc_curve(clf, test_data, test_label)"
   ]
  },
  {
   "cell_type": "code",
   "execution_count": null,
   "metadata": {},
   "outputs": [],
   "source": []
  },
  {
   "cell_type": "markdown",
   "metadata": {},
   "source": [
    "# KNN"
   ]
  },
  {
   "cell_type": "code",
   "execution_count": 34,
   "metadata": {},
   "outputs": [
    {
     "name": "stdout",
     "output_type": "stream",
     "text": [
      "Elapsed time to load data in seconds: 266.6923405\n"
     ]
    }
   ],
   "source": [
    "#Cross Validation for the C metric (K-fold Cross Validation)\n",
    "\n",
    "tic = time.clock()\n",
    "X = train_data\n",
    "y = train_label\n",
    "\n",
    "n_neighbors = range(1, 101, 1)\n",
    "neigh = KNeighborsClassifier(n_neighbors)\n",
    "#neigh.fit(X)\n",
    "\n",
    "scores = list()\n",
    "scores_std = list()\n",
    "for n in n_neighbors:\n",
    "    neigh.n_neighbors = n\n",
    "    #print(neigh.n_neighbors)\n",
    "    neigh.fit(X,y)\n",
    "    this_scores = cross_val_score(neigh, X, y)\n",
    "    scores.append(np.mean(this_scores))\n",
    "    scores_std.append(np.std(this_scores))\n",
    "\n",
    "toc = time.clock()\n",
    "print('Elapsed time to load data in seconds:', (toc - tic))"
   ]
  },
  {
   "cell_type": "code",
   "execution_count": 37,
   "metadata": {},
   "outputs": [
    {
     "data": {
      "image/png": "[encoded data removed]",
      "text/plain": [
       "<Figure size 432x288 with 1 Axes>"
      ]
     },
     "metadata": {
      "needs_background": "light"
     },
     "output_type": "display_data"
    }
   ],
   "source": [
    "# Plotting cross validation\n",
    "plt.figure()\n",
    "plt.semilogx(n_neighbors, scores)\n",
    "plt.semilogx(n_neighbors, np.array(scores) + np.array(scores_std), 'b--')\n",
    "plt.semilogx(n_neighbors, np.array(scores) - np.array(scores_std), 'b--')\n",
    "locs, labels = plt.yticks()\n",
    "plt.yticks(locs, list(map(lambda x: \"%g\" % x, locs)))\n",
    "plt.ylabel('CV score')\n",
    "plt.xlabel('Parameter n_neighbors')\n",
    "plt.ylim(0.85, 1)\n",
    "plt.show()"
   ]
  },
  {
   "cell_type": "code",
   "execution_count": 82,
   "metadata": {},
   "outputs": [
    {
     "name": "stdout",
     "output_type": "stream",
     "text": [
      "Elapsed time to load data in seconds: 0.044606800000110525\n"
     ]
    }
   ],
   "source": [
    "tic = time.clock()\n",
    "neigh = KNeighborsClassifier(n_neighbors=1)\n",
    "neigh.fit(X,y)\n",
    "toc = time.clock()\n",
    "print('Elapsed time to load data in seconds:', (toc - tic))"
   ]
  },
  {
   "cell_type": "code",
   "execution_count": 83,
   "metadata": {},
   "outputs": [
    {
     "name": "stdout",
     "output_type": "stream",
     "text": [
      "Elapsed time to load data in seconds: 0.34876730000087264\n"
     ]
    }
   ],
   "source": [
    "#Making a Prediction\n",
    "tic = time.clock()\n",
    "pred= neigh.predict(test_data)\n",
    "toc = time.clock()\n",
    "print('Elapsed time to load data in seconds:', (toc - tic))"
   ]
  },
  {
   "cell_type": "code",
   "execution_count": 84,
   "metadata": {},
   "outputs": [
    {
     "data": {
      "text/plain": [
       "array([[1949,   36],\n",
       "       [  61, 1699]], dtype=int64)"
      ]
     },
     "execution_count": 84,
     "metadata": {},
     "output_type": "execute_result"
    }
   ],
   "source": [
    "#Plotting the confusion Matrix (classes 0, 1)\n",
    "confusion_matrix(test_label, pred)"
   ]
  },
  {
   "cell_type": "code",
   "execution_count": 85,
   "metadata": {},
   "outputs": [],
   "source": [
    "#True neg, False pos, False neg, True pos. from the confusion matrix\n",
    "tn, fp, fn, tp = confusion_matrix(test_label, pred).ravel()"
   ]
  },
  {
   "cell_type": "code",
   "execution_count": 86,
   "metadata": {},
   "outputs": [],
   "source": [
    "#This gives us the important points in the ROC\n",
    "fpr, tpr, thresholds = metrics.roc_curve(test_label, pred, pos_label=1)"
   ]
  },
  {
   "cell_type": "code",
   "execution_count": 87,
   "metadata": {},
   "outputs": [
    {
     "name": "stdout",
     "output_type": "stream",
     "text": [
      "fpr: [0.         0.01813602 1.        ]\n",
      "tpr: [0.         0.96534091 1.        ]\n",
      "threshold: [2. 1. 0.]\n"
     ]
    }
   ],
   "source": [
    "print('fpr:', fpr)\n",
    "print('tpr:', tpr)\n",
    "print('threshold:', thresholds)"
   ]
  },
  {
   "cell_type": "code",
   "execution_count": 88,
   "metadata": {},
   "outputs": [
    {
     "data": {
      "text/plain": [
       "<sklearn.metrics._plot.roc_curve.RocCurveDisplay at 0x2303ca60320>"
      ]
     },
     "execution_count": 88,
     "metadata": {},
     "output_type": "execute_result"
    },
    {
     "data": {
      "image/png": "[encoded data removed]",
      "text/plain": [
       "<Figure size 432x288 with 1 Axes>"
      ]
     },
     "metadata": {
      "needs_background": "light"
     },
     "output_type": "display_data"
    }
   ],
   "source": [
    "#Plotting the ROC\n",
    "metrics.plot_roc_curve(neigh, test_data, test_label)"
   ]
  },
  {
   "cell_type": "code",
   "execution_count": 89,
   "metadata": {},
   "outputs": [
    {
     "data": {
      "text/plain": [
       "0.9740987983978638"
      ]
     },
     "execution_count": 89,
     "metadata": {},
     "output_type": "execute_result"
    }
   ],
   "source": [
    "neigh.score(test_data, test_label)      "
   ]
  },
  {
   "cell_type": "markdown",
   "metadata": {},
   "source": [
    "# Ada Boost"
   ]
  },
  {
   "cell_type": "code",
   "execution_count": 28,
   "metadata": {},
   "outputs": [
    {
     "name": "stdout",
     "output_type": "stream",
     "text": [
      "Elapsed time to load data in seconds: 114.54035840000006\n"
     ]
    }
   ],
   "source": [
    "#Cross Validation for the Adaboost (K-fold Cross Validation)\n",
    "\n",
    "tic = time.clock()\n",
    "X = train_data\n",
    "y = train_label\n",
    "\n",
    "n_estim = range(10, 500, 50)\n",
    "bdt = AdaBoostClassifier(\n",
    "                         algorithm=\"SAMME\",\n",
    "                         n_estimators=1)\n",
    "bdt.fit(X,y)\n",
    "\n",
    "scores = list()\n",
    "scores_std = list()\n",
    "for n in n_estim:\n",
    "    bdt.n_estimators = n\n",
    "    #bdt.fit(X,y)\n",
    "    this_scores = cross_val_score(bdt, X, y, n_jobs=1)\n",
    "    scores.append(np.mean(this_scores))\n",
    "    scores_std.append(np.std(this_scores))\n",
    "\n",
    "toc = time.clock()\n",
    "print('Elapsed time to load data in seconds:', (toc - tic))"
   ]
  },
  {
   "cell_type": "code",
   "execution_count": 32,
   "metadata": {},
   "outputs": [
    {
     "data": {
      "image/png": "[encoded data removed]",
      "text/plain": [
       "<Figure size 432x288 with 1 Axes>"
      ]
     },
     "metadata": {
      "needs_background": "light"
     },
     "output_type": "display_data"
    }
   ],
   "source": [
    "# Plotting cross validation\n",
    "plt.figure()\n",
    "plt.semilogx(n_estim, scores)\n",
    "plt.semilogx(n_estim, np.array(scores) + np.array(scores_std), 'b--')\n",
    "plt.semilogx(n_estim, np.array(scores) - np.array(scores_std), 'b--')\n",
    "locs, labels = plt.yticks()\n",
    "plt.yticks(locs, list(map(lambda x: \"%g\" % x, locs)))\n",
    "plt.ylabel('CV score')\n",
    "plt.xlabel('Parameter n_estimator')\n",
    "plt.ylim(0.64, 0.76)\n",
    "plt.show()"
   ]
  },
  {
   "cell_type": "code",
   "execution_count": 49,
   "metadata": {},
   "outputs": [
    {
     "name": "stdout",
     "output_type": "stream",
     "text": [
      "Elapsed time to load data in seconds: 10.52627829999983\n"
     ]
    }
   ],
   "source": [
    "tic = time.clock()\n",
    "adt = AdaBoostClassifier(\n",
    "                         algorithm=\"SAMME\",\n",
    "                         n_estimators=1000)\n",
    "adt.fit(X,y)\n",
    "toc = time.clock()\n",
    "print('Elapsed time to load data in seconds:', (toc - tic))"
   ]
  },
  {
   "cell_type": "code",
   "execution_count": 50,
   "metadata": {},
   "outputs": [
    {
     "name": "stdout",
     "output_type": "stream",
     "text": [
      "Elapsed time to load data in seconds: 0.31158809999942605\n"
     ]
    }
   ],
   "source": [
    "#Making a Prediction\n",
    "tic = time.clock()\n",
    "pred= adt.predict(test_data)\n",
    "toc = time.clock()\n",
    "print('Elapsed time to load data in seconds:', (toc - tic))"
   ]
  },
  {
   "cell_type": "code",
   "execution_count": 51,
   "metadata": {},
   "outputs": [
    {
     "data": {
      "text/plain": [
       "array([[1618,  367],\n",
       "       [ 573, 1187]], dtype=int64)"
      ]
     },
     "execution_count": 51,
     "metadata": {},
     "output_type": "execute_result"
    }
   ],
   "source": [
    "#Plotting the confusion Matrix (classes 0, 1)\n",
    "confusion_matrix(test_label, pred)"
   ]
  },
  {
   "cell_type": "code",
   "execution_count": 52,
   "metadata": {},
   "outputs": [],
   "source": [
    "#True neg, False pos, False neg, True pos. from the confusion matrix\n",
    "tn, fp, fn, tp = confusion_matrix(test_label, pred).ravel()"
   ]
  },
  {
   "cell_type": "code",
   "execution_count": 53,
   "metadata": {},
   "outputs": [],
   "source": [
    "#This gives us the important points in the ROC\n",
    "fpr, tpr, thresholds = metrics.roc_curve(test_label, pred, pos_label=1)"
   ]
  },
  {
   "cell_type": "code",
   "execution_count": 54,
   "metadata": {},
   "outputs": [
    {
     "name": "stdout",
     "output_type": "stream",
     "text": [
      "fpr: [0.         0.18488665 1.        ]\n",
      "tpr: [0.         0.67443182 1.        ]\n",
      "threshold: [2. 1. 0.]\n"
     ]
    }
   ],
   "source": [
    "print('fpr:', fpr)\n",
    "print('tpr:', tpr)\n",
    "print('threshold:', thresholds)"
   ]
  },
  {
   "cell_type": "code",
   "execution_count": 55,
   "metadata": {},
   "outputs": [
    {
     "data": {
      "text/plain": [
       "<sklearn.metrics._plot.roc_curve.RocCurveDisplay at 0x2303cb089b0>"
      ]
     },
     "execution_count": 55,
     "metadata": {},
     "output_type": "execute_result"
    },
    {
     "data": {
      "image/png": "[encoded data removed]",
      "text/plain": [
       "<Figure size 432x288 with 1 Axes>"
      ]
     },
     "metadata": {
      "needs_background": "light"
     },
     "output_type": "display_data"
    }
   ],
   "source": [
    "#Plotting the ROC\n",
    "metrics.plot_roc_curve(adt, test_data, test_label)"
   ]
  },
  {
   "cell_type": "code",
   "execution_count": 56,
   "metadata": {},
   "outputs": [
    {
     "data": {
      "text/plain": [
       "0.7489986648865153"
      ]
     },
     "execution_count": 56,
     "metadata": {},
     "output_type": "execute_result"
    }
   ],
   "source": [
    "adt.score(test_data, test_label)    "
   ]
  },
  {
   "cell_type": "code",
   "execution_count": null,
   "metadata": {},
   "outputs": [],
   "source": []
  }
 ],
 "metadata": {
  "kernelspec": {
   "display_name": "Python 3",
   "language": "python",
   "name": "python3"
  },
  "language_info": {
   "codemirror_mode": {
    "name": "ipython",
    "version": 3
   },
   "file_extension": ".py",
   "mimetype": "text/x-python",
   "name": "python",
   "nbconvert_exporter": "python",
   "pygments_lexer": "ipython3",
   "version": "3.5.4"
  }
 },
 "nbformat": 4,
 "nbformat_minor": 4
}
