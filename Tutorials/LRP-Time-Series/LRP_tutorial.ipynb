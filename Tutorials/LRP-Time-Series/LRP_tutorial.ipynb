{
 "cells": [
  {
   "cell_type": "code",
   "execution_count": 1,
   "metadata": {},
   "outputs": [],
   "source": [
    "# Imports\n",
    "import numpy as np\n",
    "import os\n",
    "from utilities import *\n",
    "from sklearn.model_selection import train_test_split\n",
    "import matplotlib.pyplot as plt\n",
    "\n",
    "os.environ[\"CUDA_VISIBLE_DEVICES\"]=\"0\"\n",
    "\n",
    "%matplotlib inline"
   ]
  },
  {
   "cell_type": "code",
   "execution_count": 2,
   "metadata": {},
   "outputs": [],
   "source": [
    "import pandas as pd \n",
    "import numpy as np\n",
    "import os\n",
    "\n",
    "#def read_data(data_path, split = \"train\"):\n",
    "def read_data(data_path, split):\n",
    "\t\"\"\" Read data \"\"\"\n",
    "\n",
    "\t# Fixed params\n",
    "\tn_class = 6\n",
    "\tn_steps = 128\n",
    "\n",
    "\t# Paths\n",
    "\tpath_ = os.path.join(data_path, split)\n",
    "\tprint ('path is', path_)\n",
    "\tpath_signals = os.path.join(path_, \"Inertial Signals\")\n",
    "\tprint ('path_signals = ', path_signals)\n",
    "\n",
    "\t# Read labels and one-hot encode\n",
    "\tlabel_path = os.path.join(path_, \"y_\" + split + \".txt\")\n",
    "\tlabels = pd.read_csv(label_path, header = None)\n",
    "\n",
    "\t# Read time-series data\n",
    "\tchannel_files = os.listdir(path_signals)\n",
    "\tprint('channel_files =', channel_files)\n",
    "\tchannel_files.sort()\n",
    "\tn_channels = len(channel_files)\n",
    "\tposix = len(split) + 5\n",
    "\n",
    "\t# Initiate array\n",
    "\tlist_of_channels = []\n",
    "\tX = np.zeros((len(labels), n_steps, n_channels))\n",
    "\ti_ch = 0\n",
    "\tfor fil_ch in channel_files:\n",
    "\t\tchannel_name = fil_ch[:-posix]\n",
    "\t\tprint (fil_ch)\n",
    "\t\t#print (channel_files)\n",
    "\t\tdat_ = pd.read_csv(os.path.join(path_signals,fil_ch), delim_whitespace = True, header = None)\n",
    "\t\t#if (fil_ch == 1):\n",
    "\t\t\t#print('type is', type(dat_))     \n",
    "\t\t\t#print(dat_)\n",
    "\t\t#dat_ = np.load(os.path.join(path_signals,fil_ch), delim_whitespace = True, header = None)\n",
    "\t\tX[:,:,i_ch] = dat_.as_matrix()\n",
    "\n",
    "\t\t# Record names\n",
    "\t\tlist_of_channels.append(channel_name)\n",
    "\n",
    "\t\t# iterate\n",
    "\t\ti_ch += 1\n",
    "        \n",
    "\tprint('type is', type(dat_))     \n",
    "\tprint(dat_)\n",
    "    \n",
    "\t# Return \n",
    "\treturn X, labels[0].values, list_of_channels\n",
    "\n",
    "\n",
    "def standardize(train, test):\n",
    "\t\"\"\" Standardize data \"\"\"\n",
    "\n",
    "\t# Standardize train and test\n",
    "\tX_train = (train - np.mean(train, axis=0)[None,:,:]) / np.std(train, axis=0)[None,:,:]\n",
    "\tX_test = (test - np.mean(test, axis=0)[None,:,:]) / np.std(test, axis=0)[None,:,:]\n",
    "\n",
    "\treturn X_train, X_test\n",
    "\n",
    "def one_hot(labels, n_class = 6):\n",
    "\t\"\"\" One-hot encoding \"\"\"\n",
    "\texpansion = np.eye(n_class)\n",
    "\ty = expansion[:, labels-1].T\n",
    "\tassert y.shape[1] == n_class, \"Wrong number of labels!\"\n",
    "\n",
    "\treturn y\n",
    "\n",
    "def get_batches(X, y, batch_size = 100):\n",
    "\t\"\"\" Return a generator for batches \"\"\"\n",
    "\tn_batches = len(X) // batch_size\n",
    "\tX, y = X[:n_batches*batch_size], y[:n_batches*batch_size]\n",
    "\n",
    "\t# Loop over batches and yield\n",
    "\tfor b in range(0, len(X), batch_size):\n",
    "\t\tyield X[b:b+batch_size], y[b:b+batch_size]\n",
    "\t"
   ]
  },
  {
   "cell_type": "code",
   "execution_count": 3,
   "metadata": {
    "scrolled": true
   },
   "outputs": [
    {
     "name": "stdout",
     "output_type": "stream",
     "text": [
      "path is /home/siddiqmk/Tutorials/UCI HAR Dataset/train\n",
      "path_signals =  /home/siddiqmk/Tutorials/UCI HAR Dataset/train\\Inertial Signals\n"
     ]
    },
    {
     "ename": "FileNotFoundError",
     "evalue": "[Errno 2] File b'/home/siddiqmk/Tutorials/UCI HAR Dataset/train\\\\y_train.txt' does not exist: b'/home/siddiqmk/Tutorials/UCI HAR Dataset/train\\\\y_train.txt'",
     "output_type": "error",
     "traceback": [
      "\u001b[1;31m---------------------------------------------------------------------------\u001b[0m",
      "\u001b[1;31mFileNotFoundError\u001b[0m                         Traceback (most recent call last)",
      "\u001b[1;32m<ipython-input-3-b311c53d4b28>\u001b[0m in \u001b[0;36m<module>\u001b[1;34m\u001b[0m\n\u001b[1;32m----> 1\u001b[1;33m \u001b[0mread_data\u001b[0m\u001b[1;33m(\u001b[0m\u001b[0mdata_path\u001b[0m\u001b[1;33m=\u001b[0m\u001b[1;34m\"/home/siddiqmk/Tutorials/UCI HAR Dataset/\"\u001b[0m\u001b[1;33m,\u001b[0m \u001b[0msplit\u001b[0m\u001b[1;33m=\u001b[0m\u001b[1;34m\"train\"\u001b[0m\u001b[1;33m)\u001b[0m\u001b[1;33m\u001b[0m\u001b[0m\n\u001b[0m",
      "\u001b[1;32m<ipython-input-2-5c03a9cb3145>\u001b[0m in \u001b[0;36mread_data\u001b[1;34m(data_path, split)\u001b[0m\n\u001b[0;32m     19\u001b[0m         \u001b[1;31m# Read labels and one-hot encode\u001b[0m\u001b[1;33m\u001b[0m\u001b[1;33m\u001b[0m\u001b[0m\n\u001b[0;32m     20\u001b[0m         \u001b[0mlabel_path\u001b[0m \u001b[1;33m=\u001b[0m \u001b[0mos\u001b[0m\u001b[1;33m.\u001b[0m\u001b[0mpath\u001b[0m\u001b[1;33m.\u001b[0m\u001b[0mjoin\u001b[0m\u001b[1;33m(\u001b[0m\u001b[0mpath_\u001b[0m\u001b[1;33m,\u001b[0m \u001b[1;34m\"y_\"\u001b[0m \u001b[1;33m+\u001b[0m \u001b[0msplit\u001b[0m \u001b[1;33m+\u001b[0m \u001b[1;34m\".txt\"\u001b[0m\u001b[1;33m)\u001b[0m\u001b[1;33m\u001b[0m\u001b[0m\n\u001b[1;32m---> 21\u001b[1;33m         \u001b[0mlabels\u001b[0m \u001b[1;33m=\u001b[0m \u001b[0mpd\u001b[0m\u001b[1;33m.\u001b[0m\u001b[0mread_csv\u001b[0m\u001b[1;33m(\u001b[0m\u001b[0mlabel_path\u001b[0m\u001b[1;33m,\u001b[0m \u001b[0mheader\u001b[0m \u001b[1;33m=\u001b[0m \u001b[1;32mNone\u001b[0m\u001b[1;33m)\u001b[0m\u001b[1;33m\u001b[0m\u001b[0m\n\u001b[0m\u001b[0;32m     22\u001b[0m \u001b[1;33m\u001b[0m\u001b[0m\n\u001b[0;32m     23\u001b[0m         \u001b[1;31m# Read time-series data\u001b[0m\u001b[1;33m\u001b[0m\u001b[1;33m\u001b[0m\u001b[0m\n",
      "\u001b[1;32mc:\\users\\user\\appdata\\local\\programs\\python\\python35\\lib\\site-packages\\pandas\\io\\parsers.py\u001b[0m in \u001b[0;36mparser_f\u001b[1;34m(filepath_or_buffer, sep, delimiter, header, names, index_col, usecols, squeeze, prefix, mangle_dupe_cols, dtype, engine, converters, true_values, false_values, skipinitialspace, skiprows, skipfooter, nrows, na_values, keep_default_na, na_filter, verbose, skip_blank_lines, parse_dates, infer_datetime_format, keep_date_col, date_parser, dayfirst, cache_dates, iterator, chunksize, compression, thousands, decimal, lineterminator, quotechar, quoting, doublequote, escapechar, comment, encoding, dialect, error_bad_lines, warn_bad_lines, delim_whitespace, low_memory, memory_map, float_precision)\u001b[0m\n\u001b[0;32m    683\u001b[0m         )\n\u001b[0;32m    684\u001b[0m \u001b[1;33m\u001b[0m\u001b[0m\n\u001b[1;32m--> 685\u001b[1;33m         \u001b[1;32mreturn\u001b[0m \u001b[0m_read\u001b[0m\u001b[1;33m(\u001b[0m\u001b[0mfilepath_or_buffer\u001b[0m\u001b[1;33m,\u001b[0m \u001b[0mkwds\u001b[0m\u001b[1;33m)\u001b[0m\u001b[1;33m\u001b[0m\u001b[0m\n\u001b[0m\u001b[0;32m    686\u001b[0m \u001b[1;33m\u001b[0m\u001b[0m\n\u001b[0;32m    687\u001b[0m     \u001b[0mparser_f\u001b[0m\u001b[1;33m.\u001b[0m\u001b[0m__name__\u001b[0m \u001b[1;33m=\u001b[0m \u001b[0mname\u001b[0m\u001b[1;33m\u001b[0m\u001b[0m\n",
      "\u001b[1;32mc:\\users\\user\\appdata\\local\\programs\\python\\python35\\lib\\site-packages\\pandas\\io\\parsers.py\u001b[0m in \u001b[0;36m_read\u001b[1;34m(filepath_or_buffer, kwds)\u001b[0m\n\u001b[0;32m    455\u001b[0m \u001b[1;33m\u001b[0m\u001b[0m\n\u001b[0;32m    456\u001b[0m     \u001b[1;31m# Create the parser.\u001b[0m\u001b[1;33m\u001b[0m\u001b[1;33m\u001b[0m\u001b[0m\n\u001b[1;32m--> 457\u001b[1;33m     \u001b[0mparser\u001b[0m \u001b[1;33m=\u001b[0m \u001b[0mTextFileReader\u001b[0m\u001b[1;33m(\u001b[0m\u001b[0mfp_or_buf\u001b[0m\u001b[1;33m,\u001b[0m \u001b[1;33m**\u001b[0m\u001b[0mkwds\u001b[0m\u001b[1;33m)\u001b[0m\u001b[1;33m\u001b[0m\u001b[0m\n\u001b[0m\u001b[0;32m    458\u001b[0m \u001b[1;33m\u001b[0m\u001b[0m\n\u001b[0;32m    459\u001b[0m     \u001b[1;32mif\u001b[0m \u001b[0mchunksize\u001b[0m \u001b[1;32mor\u001b[0m \u001b[0miterator\u001b[0m\u001b[1;33m:\u001b[0m\u001b[1;33m\u001b[0m\u001b[0m\n",
      "\u001b[1;32mc:\\users\\user\\appdata\\local\\programs\\python\\python35\\lib\\site-packages\\pandas\\io\\parsers.py\u001b[0m in \u001b[0;36m__init__\u001b[1;34m(self, f, engine, **kwds)\u001b[0m\n\u001b[0;32m    893\u001b[0m             \u001b[0mself\u001b[0m\u001b[1;33m.\u001b[0m\u001b[0moptions\u001b[0m\u001b[1;33m[\u001b[0m\u001b[1;34m\"has_index_names\"\u001b[0m\u001b[1;33m]\u001b[0m \u001b[1;33m=\u001b[0m \u001b[0mkwds\u001b[0m\u001b[1;33m[\u001b[0m\u001b[1;34m\"has_index_names\"\u001b[0m\u001b[1;33m]\u001b[0m\u001b[1;33m\u001b[0m\u001b[0m\n\u001b[0;32m    894\u001b[0m \u001b[1;33m\u001b[0m\u001b[0m\n\u001b[1;32m--> 895\u001b[1;33m         \u001b[0mself\u001b[0m\u001b[1;33m.\u001b[0m\u001b[0m_make_engine\u001b[0m\u001b[1;33m(\u001b[0m\u001b[0mself\u001b[0m\u001b[1;33m.\u001b[0m\u001b[0mengine\u001b[0m\u001b[1;33m)\u001b[0m\u001b[1;33m\u001b[0m\u001b[0m\n\u001b[0m\u001b[0;32m    896\u001b[0m \u001b[1;33m\u001b[0m\u001b[0m\n\u001b[0;32m    897\u001b[0m     \u001b[1;32mdef\u001b[0m \u001b[0mclose\u001b[0m\u001b[1;33m(\u001b[0m\u001b[0mself\u001b[0m\u001b[1;33m)\u001b[0m\u001b[1;33m:\u001b[0m\u001b[1;33m\u001b[0m\u001b[0m\n",
      "\u001b[1;32mc:\\users\\user\\appdata\\local\\programs\\python\\python35\\lib\\site-packages\\pandas\\io\\parsers.py\u001b[0m in \u001b[0;36m_make_engine\u001b[1;34m(self, engine)\u001b[0m\n\u001b[0;32m   1133\u001b[0m     \u001b[1;32mdef\u001b[0m \u001b[0m_make_engine\u001b[0m\u001b[1;33m(\u001b[0m\u001b[0mself\u001b[0m\u001b[1;33m,\u001b[0m \u001b[0mengine\u001b[0m\u001b[1;33m=\u001b[0m\u001b[1;34m\"c\"\u001b[0m\u001b[1;33m)\u001b[0m\u001b[1;33m:\u001b[0m\u001b[1;33m\u001b[0m\u001b[0m\n\u001b[0;32m   1134\u001b[0m         \u001b[1;32mif\u001b[0m \u001b[0mengine\u001b[0m \u001b[1;33m==\u001b[0m \u001b[1;34m\"c\"\u001b[0m\u001b[1;33m:\u001b[0m\u001b[1;33m\u001b[0m\u001b[0m\n\u001b[1;32m-> 1135\u001b[1;33m             \u001b[0mself\u001b[0m\u001b[1;33m.\u001b[0m\u001b[0m_engine\u001b[0m \u001b[1;33m=\u001b[0m \u001b[0mCParserWrapper\u001b[0m\u001b[1;33m(\u001b[0m\u001b[0mself\u001b[0m\u001b[1;33m.\u001b[0m\u001b[0mf\u001b[0m\u001b[1;33m,\u001b[0m \u001b[1;33m**\u001b[0m\u001b[0mself\u001b[0m\u001b[1;33m.\u001b[0m\u001b[0moptions\u001b[0m\u001b[1;33m)\u001b[0m\u001b[1;33m\u001b[0m\u001b[0m\n\u001b[0m\u001b[0;32m   1136\u001b[0m         \u001b[1;32melse\u001b[0m\u001b[1;33m:\u001b[0m\u001b[1;33m\u001b[0m\u001b[0m\n\u001b[0;32m   1137\u001b[0m             \u001b[1;32mif\u001b[0m \u001b[0mengine\u001b[0m \u001b[1;33m==\u001b[0m \u001b[1;34m\"python\"\u001b[0m\u001b[1;33m:\u001b[0m\u001b[1;33m\u001b[0m\u001b[0m\n",
      "\u001b[1;32mc:\\users\\user\\appdata\\local\\programs\\python\\python35\\lib\\site-packages\\pandas\\io\\parsers.py\u001b[0m in \u001b[0;36m__init__\u001b[1;34m(self, src, **kwds)\u001b[0m\n\u001b[0;32m   1915\u001b[0m         \u001b[0mkwds\u001b[0m\u001b[1;33m[\u001b[0m\u001b[1;34m\"usecols\"\u001b[0m\u001b[1;33m]\u001b[0m \u001b[1;33m=\u001b[0m \u001b[0mself\u001b[0m\u001b[1;33m.\u001b[0m\u001b[0musecols\u001b[0m\u001b[1;33m\u001b[0m\u001b[0m\n\u001b[0;32m   1916\u001b[0m \u001b[1;33m\u001b[0m\u001b[0m\n\u001b[1;32m-> 1917\u001b[1;33m         \u001b[0mself\u001b[0m\u001b[1;33m.\u001b[0m\u001b[0m_reader\u001b[0m \u001b[1;33m=\u001b[0m \u001b[0mparsers\u001b[0m\u001b[1;33m.\u001b[0m\u001b[0mTextReader\u001b[0m\u001b[1;33m(\u001b[0m\u001b[0msrc\u001b[0m\u001b[1;33m,\u001b[0m \u001b[1;33m**\u001b[0m\u001b[0mkwds\u001b[0m\u001b[1;33m)\u001b[0m\u001b[1;33m\u001b[0m\u001b[0m\n\u001b[0m\u001b[0;32m   1918\u001b[0m         \u001b[0mself\u001b[0m\u001b[1;33m.\u001b[0m\u001b[0munnamed_cols\u001b[0m \u001b[1;33m=\u001b[0m \u001b[0mself\u001b[0m\u001b[1;33m.\u001b[0m\u001b[0m_reader\u001b[0m\u001b[1;33m.\u001b[0m\u001b[0munnamed_cols\u001b[0m\u001b[1;33m\u001b[0m\u001b[0m\n\u001b[0;32m   1919\u001b[0m \u001b[1;33m\u001b[0m\u001b[0m\n",
      "\u001b[1;32mpandas/_libs/parsers.pyx\u001b[0m in \u001b[0;36mpandas._libs.parsers.TextReader.__cinit__\u001b[1;34m()\u001b[0m\n",
      "\u001b[1;32mpandas/_libs/parsers.pyx\u001b[0m in \u001b[0;36mpandas._libs.parsers.TextReader._setup_parser_source\u001b[1;34m()\u001b[0m\n",
      "\u001b[1;31mFileNotFoundError\u001b[0m: [Errno 2] File b'/home/siddiqmk/Tutorials/UCI HAR Dataset/train\\\\y_train.txt' does not exist: b'/home/siddiqmk/Tutorials/UCI HAR Dataset/train\\\\y_train.txt'"
     ]
    }
   ],
   "source": [
    "read_data(data_path=\"/home/siddiqmk/Tutorials/UCI HAR Dataset/\", split=\"train\")\n"
   ]
  },
  {
   "cell_type": "code",
   "execution_count": 7,
   "metadata": {
    "scrolled": true
   },
   "outputs": [
    {
     "name": "stdout",
     "output_type": "stream",
     "text": [
      "path is /home/siddiqmk/Tutorials/UCI HAR Dataset/test\n",
      "path_signals =  /home/siddiqmk/Tutorials/UCI HAR Dataset/test/Inertial Signals\n",
      "channel_files = ['total_acc_y_test.txt', 'body_gyro_y_test.txt', 'body_gyro_z_test.txt', 'total_acc_x_test.txt', 'body_acc_x_test.txt', 'body_gyro_x_test.txt', 'body_acc_z_test.txt', 'total_acc_z_test.txt', 'body_acc_y_test.txt']\n",
      "body_acc_x_test.txt\n",
      "body_acc_y_test.txt\n",
      "body_acc_z_test.txt\n"
     ]
    },
    {
     "name": "stderr",
     "output_type": "stream",
     "text": [
      "<ipython-input-5-5c03a9cb3145>:43: FutureWarning: Method .as_matrix will be removed in a future version. Use .values instead.\n",
      "  X[:,:,i_ch] = dat_.as_matrix()\n"
     ]
    },
    {
     "name": "stdout",
     "output_type": "stream",
     "text": [
      "body_gyro_x_test.txt\n",
      "body_gyro_y_test.txt\n",
      "body_gyro_z_test.txt\n",
      "total_acc_x_test.txt\n",
      "total_acc_y_test.txt\n",
      "total_acc_z_test.txt\n",
      "type is <class 'pandas.core.frame.DataFrame'>\n",
      "           0         1         2         3         4         5         6    \\\n",
      "0     0.023780  0.076293  0.147475  0.139906  0.119934  0.134195  0.133364   \n",
      "1     0.125616  0.125625  0.116381  0.107567  0.115386  0.123665  0.125667   \n",
      "2     0.150774  0.153943  0.144154  0.132821  0.136878  0.140348  0.135400   \n",
      "3     0.111199  0.115503  0.135251  0.160527  0.161445  0.144401  0.137865   \n",
      "4     0.133833  0.138512  0.139431  0.137851  0.136215  0.132964  0.129529   \n",
      "...        ...       ...       ...       ...       ...       ...       ...   \n",
      "2942 -0.247392 -0.243601 -0.292436 -0.395898 -0.421831 -0.376531 -0.393286   \n",
      "2943 -0.275710 -0.258489 -0.224109 -0.199280 -0.221270 -0.266509 -0.303976   \n",
      "2944 -0.221693 -0.204556 -0.256872 -0.284703 -0.326061 -0.332495 -0.287243   \n",
      "2945 -0.394082 -0.315110 -0.213904 -0.182951 -0.217620 -0.161440 -0.179848   \n",
      "2946 -0.053277 -0.402073 -0.519738 -0.553699 -0.514980 -0.377971 -0.300065   \n",
      "\n",
      "           7         8         9    ...       118       119       120  \\\n",
      "0     0.142489  0.160931  0.141676  ...  0.155110  0.153346  0.149289   \n",
      "1     0.123866  0.122103  0.131297  ...  0.133731  0.132851  0.132054   \n",
      "2     0.137753  0.137589  0.130435  ...  0.131392  0.132404  0.134938   \n",
      "3     0.126907  0.120384  0.124241  ...  0.126040  0.124815  0.125353   \n",
      "4     0.129371  0.129882  0.127406  ...  0.129091  0.125772  0.126042   \n",
      "...        ...       ...       ...  ...       ...       ...       ...   \n",
      "2942 -0.471117 -0.537587 -0.474430  ... -0.386247 -0.358017 -0.328768   \n",
      "2943 -0.316916 -0.348143 -0.444931  ... -0.303917 -0.239700 -0.231936   \n",
      "2944 -0.269153 -0.223807 -0.222689  ...  0.001781 -0.021745 -0.079452   \n",
      "2945 -0.224930 -0.177915 -0.208381  ... -0.156169 -0.128266 -0.083245   \n",
      "2946 -0.203643 -0.148333 -0.168582  ... -0.123657 -0.134904 -0.186747   \n",
      "\n",
      "           121       122       123       124       125       126       127  \n",
      "0     0.147401  0.146905  0.145261  0.143904  0.144395  0.144703  0.145494  \n",
      "1     0.132224  0.139767  0.147877  0.153025  0.152788  0.139843  0.121314  \n",
      "2     0.137589  0.134431  0.133174  0.133712  0.132678  0.132694  0.132117  \n",
      "3     0.126463  0.121757  0.117611  0.118865  0.116060  0.110997  0.111912  \n",
      "4     0.121086  0.118511  0.125458  0.129365  0.125895  0.122510  0.122760  \n",
      "...        ...       ...       ...       ...       ...       ...       ...  \n",
      "2942 -0.343722 -0.408588 -0.402184 -0.351453 -0.330635 -0.254794 -0.229436  \n",
      "2943 -0.227728 -0.193037 -0.151306 -0.191359 -0.355499 -0.500135 -0.489756  \n",
      "2944 -0.175389 -0.267170 -0.291177 -0.294972 -0.272397 -0.067734  0.137826  \n",
      "2945 -0.015681 -0.017426 -0.038509  0.000626 -0.003512 -0.111786 -0.276068  \n",
      "2946 -0.158777 -0.123668 -0.092933 -0.063138 -0.072539 -0.050975 -0.028925  \n",
      "\n",
      "[2947 rows x 128 columns]\n"
     ]
    },
    {
     "data": {
      "text/plain": [
       "(array([[[ 1.165315e-02, -2.939904e-02,  1.068262e-01, ...,\n",
       "           1.041216e+00, -2.697959e-01,  2.377977e-02],\n",
       "         [ 1.310909e-02, -3.972867e-02,  1.524549e-01, ...,\n",
       "           1.041803e+00, -2.800250e-01,  7.629271e-02],\n",
       "         [ 1.126885e-02, -5.240586e-02,  2.168462e-01, ...,\n",
       "           1.039086e+00, -2.926631e-01,  1.474754e-01],\n",
       "         ...,\n",
       "         [ 1.291511e-03,  1.173502e-02,  3.665587e-03, ...,\n",
       "           9.930164e-01, -2.599865e-01,  1.443951e-01],\n",
       "         [ 1.469997e-03,  9.517414e-03,  4.041945e-03, ...,\n",
       "           9.932414e-01, -2.620643e-01,  1.447033e-01],\n",
       "         [ 2.573841e-03,  7.305069e-03,  4.888436e-03, ...,\n",
       "           9.943906e-01, -2.641348e-01,  1.454939e-01]],\n",
       " \n",
       "        [[ 9.279629e-03,  6.650520e-03, -2.631933e-02, ...,\n",
       "           9.991921e-01, -2.649349e-01,  1.256164e-01],\n",
       "         [ 4.929711e-03,  1.864973e-02, -2.688753e-02, ...,\n",
       "           9.946787e-01, -2.532142e-01,  1.256249e-01],\n",
       "         [ 3.953596e-03,  1.553950e-02, -3.663861e-02, ...,\n",
       "           9.935518e-01, -2.565887e-01,  1.163814e-01],\n",
       "         ...,\n",
       "         [ 7.787600e-03,  4.730625e-03,  1.412899e-02, ...,\n",
       "           1.001861e+00, -2.619359e-01,  1.527878e-01],\n",
       "         [ 3.433489e-03, -4.619849e-03,  1.338054e-03, ...,\n",
       "           9.975208e-01, -2.713225e-01,  1.398428e-01],\n",
       "         [-1.238678e-03, -1.322889e-02, -1.703861e-02, ...,\n",
       "           9.928615e-01, -2.799715e-01,  1.213135e-01]],\n",
       " \n",
       "        [[ 5.731945e-03,  7.304842e-03,  1.021286e-02, ...,\n",
       "           9.975931e-01, -2.639912e-01,  1.507741e-01],\n",
       "         [ 7.065650e-03,  7.330912e-03,  1.341419e-02, ...,\n",
       "           9.989703e-01, -2.638194e-01,  1.539427e-01],\n",
       "         [ 5.109758e-03,  7.153458e-03,  3.646559e-03, ...,\n",
       "           9.970574e-01, -2.638495e-01,  1.441536e-01],\n",
       "         ...,\n",
       "         [-7.428461e-04, -9.629137e-03, -2.500924e-03, ...,\n",
       "           9.918802e-01, -2.836712e-01,  1.326780e-01],\n",
       "         [-1.923356e-03, -6.425974e-03, -2.524952e-03, ...,\n",
       "           9.906626e-01, -2.805970e-01,  1.326941e-01],\n",
       "         [-4.304617e-03, -7.932046e-03, -3.140111e-03, ...,\n",
       "           9.882446e-01, -2.822329e-01,  1.321175e-01]],\n",
       " \n",
       "        ...,\n",
       " \n",
       "        [[-1.476465e-01,  5.519791e-03,  1.025031e-02, ...,\n",
       "           8.213505e-01, -2.484623e-01, -2.216934e-01],\n",
       "         [-1.699026e-01,  3.235187e-02,  2.632373e-02, ...,\n",
       "           7.991996e-01, -2.232599e-01, -2.045561e-01],\n",
       "         [-1.686980e-01,  7.826144e-02, -2.703439e-02, ...,\n",
       "           8.004623e-01, -1.790170e-01, -2.568719e-01],\n",
       "         ...,\n",
       "         [ 4.978930e-01, -3.158365e-01, -2.321939e-02, ...,\n",
       "           1.463170e+00, -5.515283e-01, -2.723974e-01],\n",
       "         [ 2.141275e-01, -3.121422e-01,  1.814949e-01, ...,\n",
       "           1.179223e+00, -5.472997e-01, -6.773376e-02],\n",
       "         [-1.145089e-01, -2.553472e-01,  3.870347e-01, ...,\n",
       "           8.504963e-01, -4.900368e-01,  1.378256e-01]],\n",
       " \n",
       "        [[ 7.122683e-02, -1.498122e-01, -1.659306e-01, ...,\n",
       "           1.037668e+00, -3.971532e-01, -3.940817e-01],\n",
       "         [-8.866530e-02, -3.755543e-02, -8.708159e-02, ...,\n",
       "           8.780725e-01, -2.848634e-01, -3.151097e-01],\n",
       "         [-7.067473e-02, -1.615178e-02,  1.401189e-02, ...,\n",
       "           8.963897e-01, -2.635297e-01, -2.139040e-01],\n",
       "         ...,\n",
       "         [ 1.859878e-01,  7.344366e-03,  2.383924e-01, ...,\n",
       "           1.156389e+00, -2.283478e-01, -3.512052e-03],\n",
       "         [ 2.737114e-01, -2.279012e-02,  1.302276e-01, ...,\n",
       "           1.243857e+00, -2.583220e-01, -1.117857e-01],\n",
       "         [ 3.536738e-01, -1.118625e-01, -3.402252e-02, ...,\n",
       "           1.323546e+00, -3.472416e-01, -2.760682e-01]],\n",
       " \n",
       "        [[-1.936425e-01, -1.907511e-01,  1.958357e-01, ...,\n",
       "           7.713622e-01, -4.250499e-01, -5.327655e-02],\n",
       "         [-6.498738e-02, -2.035990e-01, -1.531400e-01, ...,\n",
       "           9.000949e-01, -4.375916e-01, -4.020727e-01],\n",
       "         [-9.712210e-02, -2.083832e-01, -2.710627e-01, ...,\n",
       "           8.681034e-01, -4.421595e-01, -5.197379e-01],\n",
       "         ...,\n",
       "         [-5.075521e-02, -1.047171e-01,  1.732707e-01, ...,\n",
       "           9.188616e-01, -3.516799e-01, -7.253919e-02],\n",
       "         [-1.980675e-02, -2.076396e-02,  1.956384e-01, ...,\n",
       "           9.494752e-01, -2.675260e-01, -5.097549e-02],\n",
       "         [-1.104015e-02,  5.243883e-02,  2.184321e-01, ...,\n",
       "           9.578348e-01, -1.941603e-01, -2.892477e-02]]]),\n",
       " array([5, 5, 5, ..., 2, 2, 2]),\n",
       " ['body_acc_x',\n",
       "  'body_acc_y',\n",
       "  'body_acc_z',\n",
       "  'body_gyro_x',\n",
       "  'body_gyro_y',\n",
       "  'body_gyro_z',\n",
       "  'total_acc_x',\n",
       "  'total_acc_y',\n",
       "  'total_acc_z'])"
      ]
     },
     "execution_count": 7,
     "metadata": {},
     "output_type": "execute_result"
    }
   ],
   "source": [
    "read_data(data_path=\"/home/siddiqmk/Tutorials/UCI HAR Dataset/\", split=\"test\")"
   ]
  },
  {
   "cell_type": "code",
   "execution_count": 17,
   "metadata": {
    "scrolled": true
   },
   "outputs": [
    {
     "name": "stdout",
     "output_type": "stream",
     "text": [
      "path is /home/siddiqmk/Tutorials/UCI HAR Dataset/train\n",
      "path_signals =  /home/siddiqmk/Tutorials/UCI HAR Dataset/train/Inertial Signals\n",
      "channel_files = ['total_acc_z_train.txt', 'total_acc_y_train.txt', 'body_acc_z_train.txt', 'body_gyro_x_train.txt', 'body_gyro_z_train.txt', 'body_acc_y_train.txt', 'body_gyro_y_train.txt', 'body_acc_x_train.txt', 'total_acc_x_train.txt']\n",
      "body_acc_x_train.txt\n",
      "body_acc_y_train.txt\n"
     ]
    },
    {
     "name": "stderr",
     "output_type": "stream",
     "text": [
      "<ipython-input-5-5c03a9cb3145>:43: FutureWarning: Method .as_matrix will be removed in a future version. Use .values instead.\n",
      "  X[:,:,i_ch] = dat_.as_matrix()\n"
     ]
    },
    {
     "name": "stdout",
     "output_type": "stream",
     "text": [
      "body_acc_z_train.txt\n",
      "body_gyro_x_train.txt\n",
      "body_gyro_y_train.txt\n",
      "body_gyro_z_train.txt\n",
      "total_acc_x_train.txt\n",
      "total_acc_y_train.txt\n",
      "total_acc_z_train.txt\n",
      "type is <class 'pandas.core.frame.DataFrame'>\n",
      "           0         1         2         3         4         5         6    \\\n",
      "0     0.102934  0.105687  0.102102  0.106553  0.102814  0.107493  0.109386   \n",
      "1     0.097930  0.099351  0.098114  0.097517  0.097472  0.096577  0.097741   \n",
      "2     0.091117  0.092676  0.096064  0.099897  0.097627  0.088291  0.082241   \n",
      "3     0.095152  0.095415  0.088274  0.086325  0.088411  0.088929  0.091691   \n",
      "4     0.080841  0.079127  0.078291  0.084063  0.089450  0.089304  0.090460   \n",
      "...        ...       ...       ...       ...       ...       ...       ...   \n",
      "7347  0.309481  0.221350  0.164826  0.159053  0.112532  0.029263  0.074362   \n",
      "7348  0.209530  0.202381  0.223397  0.211685  0.205776  0.162612 -0.014738   \n",
      "7349  0.174587  0.232424  0.257607  0.294643  0.351963  0.385571  0.401494   \n",
      "7350  0.262814  0.295415  0.337610  0.381587  0.422382  0.461329  0.472818   \n",
      "7351  0.209387  0.231071  0.334191  0.352314  0.345633  0.387375  0.359598   \n",
      "\n",
      "           7         8         9    ...       118       119       120  \\\n",
      "0     0.103886  0.102473  0.097566  ...  0.100058  0.098564  0.093177   \n",
      "1     0.097309  0.098159  0.101166  ...  0.094537  0.098759  0.101977   \n",
      "2     0.081100  0.081295  0.081927  ...  0.085343  0.087155  0.084546   \n",
      "3     0.093365  0.096477  0.098737  ...  0.088112  0.087322  0.083738   \n",
      "4     0.088985  0.087994  0.088165  ...  0.088028  0.090312  0.088713   \n",
      "...        ...       ...       ...  ...       ...       ...       ...   \n",
      "7347  0.109313 -0.013274 -0.125855  ... -0.115192 -0.086700 -0.101805   \n",
      "7348 -0.197076 -0.218078 -0.173084  ...  0.028204  0.045156  0.058035   \n",
      "7349  0.352319  0.277078  0.241403  ... -0.117974 -0.080109 -0.015432   \n",
      "7350  0.415633  0.353679  0.340979  ... -0.032441 -0.001154  0.028541   \n",
      "7351  0.300082  0.237625  0.200746  ... -0.429072 -0.392275 -0.344507   \n",
      "\n",
      "           121       122       123       124       125       126       127  \n",
      "0     0.088742  0.090505  0.094843  0.098350  0.100385  0.099874  0.094987  \n",
      "1     0.095360  0.089466  0.095126  0.099496  0.093535  0.089035  0.090612  \n",
      "2     0.082166  0.081972  0.081413  0.081936  0.083011  0.082334  0.081487  \n",
      "3     0.082701  0.084490  0.082785  0.084084  0.085761  0.083275  0.081404  \n",
      "4     0.086957  0.086522  0.081640  0.079652  0.081329  0.085397  0.088816  \n",
      "...        ...       ...       ...       ...       ...       ...       ...  \n",
      "7347 -0.095273 -0.029541  0.026907  0.069472  0.086288  0.099188  0.129060  \n",
      "7348  0.064945  0.089264  0.108987  0.150238  0.199324  0.236369  0.253029  \n",
      "7349  0.031859  0.072452  0.065696  0.079038  0.111295  0.126302  0.188621  \n",
      "7350  0.052355  0.040251  0.060450  0.108725  0.128925  0.172251  0.210071  \n",
      "7351 -0.281695 -0.223023 -0.205803 -0.180733 -0.156105 -0.122798 -0.083572  \n",
      "\n",
      "[7352 rows x 128 columns]\n",
      "path is /home/siddiqmk/Tutorials/UCI HAR Dataset/test\n",
      "path_signals =  /home/siddiqmk/Tutorials/UCI HAR Dataset/test/Inertial Signals\n",
      "channel_files = ['total_acc_y_test.txt', 'body_gyro_y_test.txt', 'body_gyro_z_test.txt', 'total_acc_x_test.txt', 'body_acc_x_test.txt', 'body_gyro_x_test.txt', 'body_acc_z_test.txt', 'total_acc_z_test.txt', 'body_acc_y_test.txt']\n",
      "body_acc_x_test.txt\n",
      "body_acc_y_test.txt\n",
      "body_acc_z_test.txt\n",
      "body_gyro_x_test.txt\n",
      "body_gyro_y_test.txt\n",
      "body_gyro_z_test.txt\n",
      "total_acc_x_test.txt\n",
      "total_acc_y_test.txt\n",
      "total_acc_z_test.txt\n",
      "type is <class 'pandas.core.frame.DataFrame'>\n",
      "           0         1         2         3         4         5         6    \\\n",
      "0     0.023780  0.076293  0.147475  0.139906  0.119934  0.134195  0.133364   \n",
      "1     0.125616  0.125625  0.116381  0.107567  0.115386  0.123665  0.125667   \n",
      "2     0.150774  0.153943  0.144154  0.132821  0.136878  0.140348  0.135400   \n",
      "3     0.111199  0.115503  0.135251  0.160527  0.161445  0.144401  0.137865   \n",
      "4     0.133833  0.138512  0.139431  0.137851  0.136215  0.132964  0.129529   \n",
      "...        ...       ...       ...       ...       ...       ...       ...   \n",
      "2942 -0.247392 -0.243601 -0.292436 -0.395898 -0.421831 -0.376531 -0.393286   \n",
      "2943 -0.275710 -0.258489 -0.224109 -0.199280 -0.221270 -0.266509 -0.303976   \n",
      "2944 -0.221693 -0.204556 -0.256872 -0.284703 -0.326061 -0.332495 -0.287243   \n",
      "2945 -0.394082 -0.315110 -0.213904 -0.182951 -0.217620 -0.161440 -0.179848   \n",
      "2946 -0.053277 -0.402073 -0.519738 -0.553699 -0.514980 -0.377971 -0.300065   \n",
      "\n",
      "           7         8         9    ...       118       119       120  \\\n",
      "0     0.142489  0.160931  0.141676  ...  0.155110  0.153346  0.149289   \n",
      "1     0.123866  0.122103  0.131297  ...  0.133731  0.132851  0.132054   \n",
      "2     0.137753  0.137589  0.130435  ...  0.131392  0.132404  0.134938   \n",
      "3     0.126907  0.120384  0.124241  ...  0.126040  0.124815  0.125353   \n",
      "4     0.129371  0.129882  0.127406  ...  0.129091  0.125772  0.126042   \n",
      "...        ...       ...       ...  ...       ...       ...       ...   \n",
      "2942 -0.471117 -0.537587 -0.474430  ... -0.386247 -0.358017 -0.328768   \n",
      "2943 -0.316916 -0.348143 -0.444931  ... -0.303917 -0.239700 -0.231936   \n",
      "2944 -0.269153 -0.223807 -0.222689  ...  0.001781 -0.021745 -0.079452   \n",
      "2945 -0.224930 -0.177915 -0.208381  ... -0.156169 -0.128266 -0.083245   \n",
      "2946 -0.203643 -0.148333 -0.168582  ... -0.123657 -0.134904 -0.186747   \n",
      "\n",
      "           121       122       123       124       125       126       127  \n",
      "0     0.147401  0.146905  0.145261  0.143904  0.144395  0.144703  0.145494  \n",
      "1     0.132224  0.139767  0.147877  0.153025  0.152788  0.139843  0.121314  \n",
      "2     0.137589  0.134431  0.133174  0.133712  0.132678  0.132694  0.132117  \n",
      "3     0.126463  0.121757  0.117611  0.118865  0.116060  0.110997  0.111912  \n",
      "4     0.121086  0.118511  0.125458  0.129365  0.125895  0.122510  0.122760  \n",
      "...        ...       ...       ...       ...       ...       ...       ...  \n",
      "2942 -0.343722 -0.408588 -0.402184 -0.351453 -0.330635 -0.254794 -0.229436  \n",
      "2943 -0.227728 -0.193037 -0.151306 -0.191359 -0.355499 -0.500135 -0.489756  \n",
      "2944 -0.175389 -0.267170 -0.291177 -0.294972 -0.272397 -0.067734  0.137826  \n",
      "2945 -0.015681 -0.017426 -0.038509  0.000626 -0.003512 -0.111786 -0.276068  \n",
      "2946 -0.158777 -0.123668 -0.092933 -0.063138 -0.072539 -0.050975 -0.028925  \n",
      "\n",
      "[2947 rows x 128 columns]\n"
     ]
    }
   ],
   "source": [
    "# 각자의 데이터 경로로 수정 \n",
    "X_train, labels_train, list_ch_train = read_data(data_path=\"/home/siddiqmk/Tutorials/UCI HAR Dataset/\", split=\"train\") # train\n",
    "X_test, labels_test, list_ch_test = read_data(data_path=\"/home/siddiqmk/Tutorials/UCI HAR Dataset/\", split=\"test\") # test\n",
    "\n",
    "assert list_ch_train == list_ch_test, \"Mistmatch in channels!\""
   ]
  },
  {
   "cell_type": "code",
   "execution_count": 18,
   "metadata": {},
   "outputs": [],
   "source": [
    "# Normalize?\n",
    "X_train, X_test = standardize(X_train, X_test)"
   ]
  },
  {
   "cell_type": "code",
   "execution_count": 19,
   "metadata": {},
   "outputs": [],
   "source": [
    "X_tr, X_vld, lab_tr, lab_vld = train_test_split(X_train, labels_train, \n",
    "                                                stratify = labels_train, random_state = 123)"
   ]
  },
  {
   "cell_type": "code",
   "execution_count": 20,
   "metadata": {},
   "outputs": [],
   "source": [
    "y_tr = one_hot(lab_tr)\n",
    "y_vld = one_hot(lab_vld)\n",
    "y_test = one_hot(labels_test)"
   ]
  },
  {
   "cell_type": "code",
   "execution_count": 21,
   "metadata": {},
   "outputs": [],
   "source": [
    "# Imports\n",
    "import tensorflow.compat.v1 as tf"
   ]
  },
  {
   "cell_type": "code",
   "execution_count": 22,
   "metadata": {},
   "outputs": [],
   "source": [
    "batch_size = 600       # Batch size\n",
    "seq_len = 128          # Number of steps\n",
    "learning_rate = 0.0001\n",
    "epochs = 1000\n",
    "\n",
    "n_classes = 6\n",
    "n_channels = 9"
   ]
  },
  {
   "cell_type": "markdown",
   "metadata": {},
   "source": [
    "As in many CNN architectures, the deeper the layers get, the higher the number of filters become."
   ]
  },
  {
   "cell_type": "code",
   "execution_count": 23,
   "metadata": {},
   "outputs": [],
   "source": [
    "class  New_CNN:\n",
    "\n",
    "    def __init__(self, name):\n",
    "        self.name = name\n",
    "\n",
    "    def __call__(self, X, reuse=False):\n",
    "\n",
    "        with tf.variable_scope(self.name) as scope:\n",
    "\n",
    "            if reuse:\n",
    "                scope.reuse_variables()\n",
    "\n",
    "            with tf.variable_scope('layer0'):\n",
    "                X_img = X\n",
    "\n",
    "            # Convolutional Layer #1 \n",
    "            with tf.variable_scope('layer1'):\n",
    "                # (batch, 128, 9) --> (batch, 128, 18)\n",
    "                conv1 = tf.layers.conv1d(inputs=X_img, filters=18, kernel_size=2,\n",
    "                                         padding='same', activation = tf.nn.relu, use_bias=False)\n",
    "\n",
    "            # Convolutional Layer #2 \n",
    "            with tf.variable_scope('layer2'):\n",
    "                # (batch, 64, 18) --> (batch, 128, 36)\n",
    "                conv2 = tf.layers.conv1d(inputs=conv1, filters=36, kernel_size=2,  \n",
    "                                         padding='same', activation = tf.nn.relu, use_bias=False)\n",
    "\n",
    "            # Convolutional Layer #3 \n",
    "            with tf.variable_scope('layer3'):\n",
    "                # (batch, 32, 36) --> (batch, 128, 72)\n",
    "                conv3 = tf.layers.conv1d(inputs=conv2, filters=72, kernel_size=2, \n",
    "                                         padding='same', activation = tf.nn.relu, use_bias=False)\n",
    "\n",
    "\n",
    "            # Dense Layer with Relu\n",
    "            with tf.variable_scope('layer4'):\n",
    "                # (batch, 16, 72) --> (batch, 128, 144)\n",
    "                conv4 = tf.layers.conv1d(inputs=conv3, filters=144, kernel_size=2, \n",
    "                                         padding='same', activation = tf.nn.relu, use_bias=False)\n",
    "\n",
    "            # Logits (no activation) Layer: L5 Final FC 625 inputs -> 10 outputs\n",
    "            with tf.variable_scope('layer5'):\n",
    "                # Flatten and add dropout\n",
    "                flat = tf.reshape(conv4, (-1, 128*144))\n",
    "    \n",
    "                # Predictions\n",
    "                logits = tf.layers.dense(flat, n_classes, use_bias=False)\n",
    "                prediction = tf.nn.softmax(logits)\n",
    "\n",
    "        return [X_img, conv1, conv2, conv3,conv4, flat, prediction], logits\n",
    "    \n",
    "    @property\n",
    "    def vars(self):\n",
    "        return tf.get_collection(tf.GraphKeys.TRAINABLE_VARIABLES, scope=self.name)\n",
    "    \n",
    "    \n",
    "    "
   ]
  },
  {
   "cell_type": "code",
   "execution_count": 24,
   "metadata": {},
   "outputs": [],
   "source": [
    "graph = tf.Graph()\n",
    "\n",
    "# Construct placeholders\n",
    "with graph.as_default():\n",
    "    \n",
    "    new_CNN = New_CNN('CNN')\n",
    "    \n",
    "    inputs_ = tf.placeholder(tf.float32, [None, seq_len, n_channels], name = 'inputs')\n",
    "    labels_ = tf.placeholder(tf.float32, [None, n_classes], name = 'labels')\n",
    "    keep_prob_ = tf.placeholder(tf.float32, name = 'keep')\n",
    "    learning_rate_ = tf.placeholder(tf.float32, name = 'learning_rate')"
   ]
  },
  {
   "cell_type": "code",
   "execution_count": 25,
   "metadata": {},
   "outputs": [],
   "source": [
    "with graph.as_default():\n",
    "    \n",
    "    activations, logits = new_CNN(inputs_)\n",
    "    \n",
    "    tf.add_to_collection('DTD', inputs_)\n",
    "    \n",
    "    for activation in activations:\n",
    "        tf.add_to_collection('DTD', activation)\n",
    "    \n",
    "    # Cost function and optimizer\n",
    "    cost = tf.reduce_mean(tf.nn.softmax_cross_entropy_with_logits(logits=logits, labels=labels_))\n",
    "    optimizer = tf.train.AdamOptimizer(learning_rate_).minimize(cost)\n",
    "    \n",
    "    # Accuracy\n",
    "    correct_pred = tf.equal(tf.argmax(logits, 1), tf.argmax(labels_, 1))\n",
    "    accuracy = tf.reduce_mean(tf.cast(correct_pred, tf.float32), name='accuracy')"
   ]
  },
  {
   "cell_type": "code",
   "execution_count": 26,
   "metadata": {},
   "outputs": [],
   "source": [
    "if (os.path.exists('checkpoints-cnn') == False):\n",
    "    !mkdir checkpoints-cnn"
   ]
  },
  {
   "cell_type": "code",
   "execution_count": 27,
   "metadata": {},
   "outputs": [
    {
     "name": "stdout",
     "output_type": "stream",
     "text": [
      "Epoch: 11/1000 Iteration: 100 Train loss: 0.495928 Train acc: 0.868333\n",
      "Epoch: 11/1000 Iteration: 100 Validation loss: 0.519259 Validation acc: 0.853889\n",
      "Epoch: 22/1000 Iteration: 200 Train loss: 0.202053 Train acc: 0.950000\n",
      "Epoch: 22/1000 Iteration: 200 Validation loss: 0.237540 Validation acc: 0.917778\n",
      "Epoch: 33/1000 Iteration: 300 Train loss: 0.168240 Train acc: 0.930000\n",
      "Epoch: 33/1000 Iteration: 300 Validation loss: 0.177891 Validation acc: 0.935000\n",
      "Epoch: 44/1000 Iteration: 400 Train loss: 0.144266 Train acc: 0.938333\n",
      "Epoch: 44/1000 Iteration: 400 Validation loss: 0.153510 Validation acc: 0.941111\n",
      "Epoch: 55/1000 Iteration: 500 Train loss: 0.107958 Train acc: 0.956667\n",
      "Epoch: 55/1000 Iteration: 500 Validation loss: 0.139524 Validation acc: 0.944444\n",
      "Epoch: 66/1000 Iteration: 600 Train loss: 0.083020 Train acc: 0.965000\n",
      "Epoch: 66/1000 Iteration: 600 Validation loss: 0.130317 Validation acc: 0.945000\n",
      "Epoch: 77/1000 Iteration: 700 Train loss: 0.082915 Train acc: 0.970000\n",
      "Epoch: 77/1000 Iteration: 700 Validation loss: 0.124190 Validation acc: 0.947222\n",
      "Epoch: 88/1000 Iteration: 800 Train loss: 0.058620 Train acc: 0.981667\n",
      "Epoch: 88/1000 Iteration: 800 Validation loss: 0.120411 Validation acc: 0.951111\n",
      "Epoch: 99/1000 Iteration: 900 Train loss: 0.072650 Train acc: 0.971667\n",
      "Epoch: 99/1000 Iteration: 900 Validation loss: 0.118366 Validation acc: 0.954444\n",
      "Epoch: 111/1000 Iteration: 1000 Train loss: 0.061400 Train acc: 0.973333\n",
      "Epoch: 111/1000 Iteration: 1000 Validation loss: 0.117518 Validation acc: 0.956667\n",
      "Epoch: 122/1000 Iteration: 1100 Train loss: 0.051385 Train acc: 0.980000\n",
      "Epoch: 122/1000 Iteration: 1100 Validation loss: 0.116559 Validation acc: 0.957222\n",
      "Epoch: 133/1000 Iteration: 1200 Train loss: 0.070342 Train acc: 0.963333\n",
      "Epoch: 133/1000 Iteration: 1200 Validation loss: 0.116549 Validation acc: 0.957778\n",
      "Epoch: 144/1000 Iteration: 1300 Train loss: 0.074331 Train acc: 0.973333\n",
      "Epoch: 144/1000 Iteration: 1300 Validation loss: 0.117674 Validation acc: 0.958333\n",
      "Epoch: 155/1000 Iteration: 1400 Train loss: 0.058098 Train acc: 0.970000\n",
      "Epoch: 155/1000 Iteration: 1400 Validation loss: 0.117182 Validation acc: 0.959444\n",
      "Epoch: 166/1000 Iteration: 1500 Train loss: 0.044234 Train acc: 0.981667\n",
      "Epoch: 166/1000 Iteration: 1500 Validation loss: 0.116024 Validation acc: 0.963333\n",
      "Epoch: 177/1000 Iteration: 1600 Train loss: 0.041444 Train acc: 0.978333\n",
      "Epoch: 177/1000 Iteration: 1600 Validation loss: 0.115909 Validation acc: 0.962778\n",
      "Epoch: 188/1000 Iteration: 1700 Train loss: 0.027603 Train acc: 0.991667\n",
      "Epoch: 188/1000 Iteration: 1700 Validation loss: 0.116393 Validation acc: 0.963333\n",
      "Epoch: 199/1000 Iteration: 1800 Train loss: 0.034813 Train acc: 0.983333\n",
      "Epoch: 199/1000 Iteration: 1800 Validation loss: 0.117150 Validation acc: 0.963333\n",
      "Epoch: 211/1000 Iteration: 1900 Train loss: 0.040561 Train acc: 0.983333\n",
      "Epoch: 211/1000 Iteration: 1900 Validation loss: 0.117891 Validation acc: 0.964444\n",
      "Epoch: 222/1000 Iteration: 2000 Train loss: 0.026660 Train acc: 0.988333\n",
      "Epoch: 222/1000 Iteration: 2000 Validation loss: 0.118461 Validation acc: 0.965000\n",
      "Epoch: 233/1000 Iteration: 2100 Train loss: 0.048291 Train acc: 0.976667\n",
      "Epoch: 233/1000 Iteration: 2100 Validation loss: 0.120283 Validation acc: 0.963889\n",
      "Epoch: 244/1000 Iteration: 2200 Train loss: 0.045510 Train acc: 0.980000\n",
      "Epoch: 244/1000 Iteration: 2200 Validation loss: 0.122830 Validation acc: 0.963889\n",
      "Epoch: 255/1000 Iteration: 2300 Train loss: 0.038522 Train acc: 0.985000\n",
      "Epoch: 255/1000 Iteration: 2300 Validation loss: 0.123115 Validation acc: 0.967222\n",
      "Epoch: 266/1000 Iteration: 2400 Train loss: 0.029518 Train acc: 0.988333\n",
      "Epoch: 266/1000 Iteration: 2400 Validation loss: 0.123473 Validation acc: 0.967222\n",
      "Epoch: 277/1000 Iteration: 2500 Train loss: 0.024317 Train acc: 0.995000\n",
      "Epoch: 277/1000 Iteration: 2500 Validation loss: 0.125447 Validation acc: 0.967778\n",
      "Epoch: 288/1000 Iteration: 2600 Train loss: 0.015221 Train acc: 0.998333\n",
      "Epoch: 288/1000 Iteration: 2600 Validation loss: 0.127741 Validation acc: 0.967778\n",
      "Epoch: 299/1000 Iteration: 2700 Train loss: 0.020109 Train acc: 0.995000\n",
      "Epoch: 299/1000 Iteration: 2700 Validation loss: 0.130193 Validation acc: 0.968889\n",
      "Epoch: 311/1000 Iteration: 2800 Train loss: 0.025228 Train acc: 0.995000\n",
      "Epoch: 311/1000 Iteration: 2800 Validation loss: 0.132101 Validation acc: 0.967222\n",
      "Epoch: 322/1000 Iteration: 2900 Train loss: 0.014337 Train acc: 0.993333\n",
      "Epoch: 322/1000 Iteration: 2900 Validation loss: 0.133744 Validation acc: 0.966111\n",
      "Epoch: 333/1000 Iteration: 3000 Train loss: 0.030047 Train acc: 0.986667\n",
      "Epoch: 333/1000 Iteration: 3000 Validation loss: 0.136569 Validation acc: 0.967778\n",
      "Epoch: 344/1000 Iteration: 3100 Train loss: 0.026605 Train acc: 0.993333\n",
      "Epoch: 344/1000 Iteration: 3100 Validation loss: 0.140320 Validation acc: 0.968889\n",
      "Epoch: 355/1000 Iteration: 3200 Train loss: 0.023290 Train acc: 0.995000\n",
      "Epoch: 355/1000 Iteration: 3200 Validation loss: 0.142866 Validation acc: 0.969444\n",
      "Epoch: 366/1000 Iteration: 3300 Train loss: 0.016558 Train acc: 0.993333\n",
      "Epoch: 366/1000 Iteration: 3300 Validation loss: 0.145352 Validation acc: 0.970000\n",
      "Epoch: 377/1000 Iteration: 3400 Train loss: 0.013425 Train acc: 0.998333\n",
      "Epoch: 377/1000 Iteration: 3400 Validation loss: 0.149514 Validation acc: 0.966667\n",
      "Epoch: 388/1000 Iteration: 3500 Train loss: 0.008573 Train acc: 0.998333\n",
      "Epoch: 388/1000 Iteration: 3500 Validation loss: 0.154080 Validation acc: 0.967222\n",
      "Epoch: 399/1000 Iteration: 3600 Train loss: 0.011105 Train acc: 0.998333\n",
      "Epoch: 399/1000 Iteration: 3600 Validation loss: 0.158463 Validation acc: 0.966111\n",
      "Epoch: 411/1000 Iteration: 3700 Train loss: 0.013349 Train acc: 0.998333\n",
      "Epoch: 411/1000 Iteration: 3700 Validation loss: 0.161869 Validation acc: 0.966111\n",
      "Epoch: 422/1000 Iteration: 3800 Train loss: 0.007193 Train acc: 1.000000\n",
      "Epoch: 422/1000 Iteration: 3800 Validation loss: 0.165019 Validation acc: 0.968333\n",
      "Epoch: 433/1000 Iteration: 3900 Train loss: 0.015876 Train acc: 1.000000\n",
      "Epoch: 433/1000 Iteration: 3900 Validation loss: 0.168975 Validation acc: 0.967778\n",
      "Epoch: 444/1000 Iteration: 4000 Train loss: 0.014306 Train acc: 1.000000\n",
      "Epoch: 444/1000 Iteration: 4000 Validation loss: 0.173637 Validation acc: 0.968889\n",
      "Epoch: 455/1000 Iteration: 4100 Train loss: 0.011930 Train acc: 0.998333\n",
      "Epoch: 455/1000 Iteration: 4100 Validation loss: 0.177698 Validation acc: 0.968889\n",
      "Epoch: 466/1000 Iteration: 4200 Train loss: 0.008310 Train acc: 0.998333\n",
      "Epoch: 466/1000 Iteration: 4200 Validation loss: 0.181899 Validation acc: 0.967778\n",
      "Epoch: 477/1000 Iteration: 4300 Train loss: 0.006266 Train acc: 0.998333\n",
      "Epoch: 477/1000 Iteration: 4300 Validation loss: 0.187675 Validation acc: 0.966111\n",
      "Epoch: 488/1000 Iteration: 4400 Train loss: 0.004246 Train acc: 0.998333\n",
      "Epoch: 488/1000 Iteration: 4400 Validation loss: 0.192992 Validation acc: 0.966667\n",
      "Epoch: 499/1000 Iteration: 4500 Train loss: 0.005688 Train acc: 1.000000\n",
      "Epoch: 499/1000 Iteration: 4500 Validation loss: 0.197798 Validation acc: 0.968333\n",
      "Epoch: 511/1000 Iteration: 4600 Train loss: 0.006178 Train acc: 1.000000\n",
      "Epoch: 511/1000 Iteration: 4600 Validation loss: 0.202005 Validation acc: 0.967222\n",
      "Epoch: 522/1000 Iteration: 4700 Train loss: 0.003412 Train acc: 1.000000\n",
      "Epoch: 522/1000 Iteration: 4700 Validation loss: 0.206203 Validation acc: 0.965556\n",
      "Epoch: 533/1000 Iteration: 4800 Train loss: 0.007361 Train acc: 1.000000\n",
      "Epoch: 533/1000 Iteration: 4800 Validation loss: 0.210717 Validation acc: 0.966111\n",
      "Epoch: 544/1000 Iteration: 4900 Train loss: 0.007033 Train acc: 1.000000\n",
      "Epoch: 544/1000 Iteration: 4900 Validation loss: 0.215647 Validation acc: 0.965556\n",
      "Epoch: 555/1000 Iteration: 5000 Train loss: 0.005241 Train acc: 1.000000\n",
      "Epoch: 555/1000 Iteration: 5000 Validation loss: 0.220532 Validation acc: 0.965556\n",
      "Epoch: 566/1000 Iteration: 5100 Train loss: 0.003862 Train acc: 1.000000\n",
      "Epoch: 566/1000 Iteration: 5100 Validation loss: 0.225380 Validation acc: 0.967222\n",
      "Epoch: 577/1000 Iteration: 5200 Train loss: 0.002852 Train acc: 1.000000\n",
      "Epoch: 577/1000 Iteration: 5200 Validation loss: 0.231235 Validation acc: 0.965000\n",
      "Epoch: 588/1000 Iteration: 5300 Train loss: 0.001858 Train acc: 1.000000\n",
      "Epoch: 588/1000 Iteration: 5300 Validation loss: 0.236922 Validation acc: 0.963889\n",
      "Epoch: 599/1000 Iteration: 5400 Train loss: 0.002659 Train acc: 1.000000\n",
      "Epoch: 599/1000 Iteration: 5400 Validation loss: 0.242657 Validation acc: 0.963333\n",
      "Epoch: 611/1000 Iteration: 5500 Train loss: 0.002699 Train acc: 1.000000\n",
      "Epoch: 611/1000 Iteration: 5500 Validation loss: 0.248505 Validation acc: 0.963889\n",
      "Epoch: 622/1000 Iteration: 5600 Train loss: 0.001557 Train acc: 1.000000\n",
      "Epoch: 622/1000 Iteration: 5600 Validation loss: 0.254225 Validation acc: 0.963889\n",
      "Epoch: 633/1000 Iteration: 5700 Train loss: 0.003353 Train acc: 1.000000\n",
      "Epoch: 633/1000 Iteration: 5700 Validation loss: 0.259865 Validation acc: 0.963333\n",
      "Epoch: 644/1000 Iteration: 5800 Train loss: 0.003318 Train acc: 1.000000\n",
      "Epoch: 644/1000 Iteration: 5800 Validation loss: 0.265730 Validation acc: 0.963333\n",
      "Epoch: 655/1000 Iteration: 5900 Train loss: 0.002221 Train acc: 1.000000\n",
      "Epoch: 655/1000 Iteration: 5900 Validation loss: 0.271607 Validation acc: 0.963333\n",
      "Epoch: 666/1000 Iteration: 6000 Train loss: 0.001693 Train acc: 1.000000\n",
      "Epoch: 666/1000 Iteration: 6000 Validation loss: 0.277649 Validation acc: 0.965555\n",
      "Epoch: 677/1000 Iteration: 6100 Train loss: 0.001300 Train acc: 1.000000\n",
      "Epoch: 677/1000 Iteration: 6100 Validation loss: 0.284232 Validation acc: 0.965555\n",
      "Epoch: 688/1000 Iteration: 6200 Train loss: 0.000788 Train acc: 1.000000\n",
      "Epoch: 688/1000 Iteration: 6200 Validation loss: 0.290296 Validation acc: 0.965555\n",
      "Epoch: 699/1000 Iteration: 6300 Train loss: 0.001240 Train acc: 1.000000\n",
      "Epoch: 699/1000 Iteration: 6300 Validation loss: 0.296132 Validation acc: 0.964444\n",
      "Epoch: 711/1000 Iteration: 6400 Train loss: 0.001183 Train acc: 1.000000\n",
      "Epoch: 711/1000 Iteration: 6400 Validation loss: 0.302247 Validation acc: 0.964444\n",
      "Epoch: 722/1000 Iteration: 6500 Train loss: 0.000715 Train acc: 1.000000\n",
      "Epoch: 722/1000 Iteration: 6500 Validation loss: 0.308002 Validation acc: 0.963889\n",
      "Epoch: 733/1000 Iteration: 6600 Train loss: 0.001565 Train acc: 1.000000\n",
      "Epoch: 733/1000 Iteration: 6600 Validation loss: 0.313280 Validation acc: 0.963889\n",
      "Epoch: 744/1000 Iteration: 6700 Train loss: 0.001573 Train acc: 1.000000\n",
      "Epoch: 744/1000 Iteration: 6700 Validation loss: 0.318449 Validation acc: 0.963889\n",
      "Epoch: 755/1000 Iteration: 6800 Train loss: 0.000966 Train acc: 1.000000\n",
      "Epoch: 755/1000 Iteration: 6800 Validation loss: 0.323803 Validation acc: 0.963333\n",
      "Epoch: 766/1000 Iteration: 6900 Train loss: 0.000775 Train acc: 1.000000\n",
      "Epoch: 766/1000 Iteration: 6900 Validation loss: 0.329431 Validation acc: 0.963333\n",
      "Epoch: 777/1000 Iteration: 7000 Train loss: 0.000605 Train acc: 1.000000\n",
      "Epoch: 777/1000 Iteration: 7000 Validation loss: 0.335266 Validation acc: 0.962778\n",
      "Epoch: 788/1000 Iteration: 7100 Train loss: 0.000348 Train acc: 1.000000\n",
      "Epoch: 788/1000 Iteration: 7100 Validation loss: 0.340393 Validation acc: 0.962222\n",
      "Epoch: 799/1000 Iteration: 7200 Train loss: 0.000591 Train acc: 1.000000\n",
      "Epoch: 799/1000 Iteration: 7200 Validation loss: 0.345248 Validation acc: 0.961667\n",
      "Epoch: 811/1000 Iteration: 7300 Train loss: 0.000533 Train acc: 1.000000\n",
      "Epoch: 811/1000 Iteration: 7300 Validation loss: 0.350561 Validation acc: 0.962222\n",
      "Epoch: 822/1000 Iteration: 7400 Train loss: 0.000332 Train acc: 1.000000\n",
      "Epoch: 822/1000 Iteration: 7400 Validation loss: 0.355691 Validation acc: 0.963889\n",
      "Epoch: 833/1000 Iteration: 7500 Train loss: 0.000754 Train acc: 1.000000\n",
      "Epoch: 833/1000 Iteration: 7500 Validation loss: 0.360183 Validation acc: 0.963889\n",
      "Epoch: 844/1000 Iteration: 7600 Train loss: 0.000759 Train acc: 1.000000\n",
      "Epoch: 844/1000 Iteration: 7600 Validation loss: 0.364642 Validation acc: 0.962778\n",
      "Epoch: 855/1000 Iteration: 7700 Train loss: 0.000432 Train acc: 1.000000\n",
      "Epoch: 855/1000 Iteration: 7700 Validation loss: 0.369410 Validation acc: 0.963333\n",
      "Epoch: 866/1000 Iteration: 7800 Train loss: 0.000360 Train acc: 1.000000\n",
      "Epoch: 866/1000 Iteration: 7800 Validation loss: 0.374578 Validation acc: 0.963889\n",
      "Epoch: 877/1000 Iteration: 7900 Train loss: 0.000292 Train acc: 1.000000\n",
      "Epoch: 877/1000 Iteration: 7900 Validation loss: 0.379852 Validation acc: 0.963333\n",
      "Epoch: 888/1000 Iteration: 8000 Train loss: 0.000165 Train acc: 1.000000\n",
      "Epoch: 888/1000 Iteration: 8000 Validation loss: 0.384448 Validation acc: 0.963333\n",
      "Epoch: 899/1000 Iteration: 8100 Train loss: 0.000291 Train acc: 1.000000\n",
      "Epoch: 899/1000 Iteration: 8100 Validation loss: 0.388897 Validation acc: 0.963889\n",
      "Epoch: 911/1000 Iteration: 8200 Train loss: 0.000254 Train acc: 1.000000\n",
      "Epoch: 911/1000 Iteration: 8200 Validation loss: 0.393783 Validation acc: 0.963889\n",
      "Epoch: 922/1000 Iteration: 8300 Train loss: 0.000160 Train acc: 1.000000\n",
      "Epoch: 922/1000 Iteration: 8300 Validation loss: 0.398578 Validation acc: 0.964444\n",
      "Epoch: 933/1000 Iteration: 8400 Train loss: 0.000376 Train acc: 1.000000\n",
      "Epoch: 933/1000 Iteration: 8400 Validation loss: 0.402862 Validation acc: 0.963889\n",
      "Epoch: 944/1000 Iteration: 8500 Train loss: 0.000380 Train acc: 1.000000\n",
      "Epoch: 944/1000 Iteration: 8500 Validation loss: 0.407014 Validation acc: 0.963889\n",
      "Epoch: 955/1000 Iteration: 8600 Train loss: 0.000207 Train acc: 1.000000\n",
      "Epoch: 955/1000 Iteration: 8600 Validation loss: 0.411391 Validation acc: 0.963889\n",
      "Epoch: 966/1000 Iteration: 8700 Train loss: 0.000181 Train acc: 1.000000\n",
      "Epoch: 966/1000 Iteration: 8700 Validation loss: 0.416284 Validation acc: 0.964444\n",
      "Epoch: 977/1000 Iteration: 8800 Train loss: 0.000147 Train acc: 1.000000\n",
      "Epoch: 977/1000 Iteration: 8800 Validation loss: 0.421227 Validation acc: 0.963333\n",
      "Epoch: 988/1000 Iteration: 8900 Train loss: 0.000081 Train acc: 1.000000\n",
      "Epoch: 988/1000 Iteration: 8900 Validation loss: 0.425481 Validation acc: 0.963333\n",
      "Epoch: 999/1000 Iteration: 9000 Train loss: 0.000149 Train acc: 1.000000\n",
      "Epoch: 999/1000 Iteration: 9000 Validation loss: 0.429603 Validation acc: 0.963333\n"
     ]
    }
   ],
   "source": [
    "validation_acc = []\n",
    "validation_loss = []\n",
    "\n",
    "train_acc = []\n",
    "train_loss = []\n",
    "\n",
    "with graph.as_default():\n",
    "    saver = tf.train.Saver()\n",
    "\n",
    "config = tf.ConfigProto()\n",
    "config.gpu_options.allow_growth = True    \n",
    "    \n",
    "with tf.Session(config=config,graph=graph) as sess:\n",
    "    sess.run(tf.global_variables_initializer())\n",
    "    iteration = 1\n",
    "   \n",
    "    # Loop over epochs\n",
    "    for e in range(epochs):\n",
    "        \n",
    "        # Loop over batches\n",
    "        for x,y in get_batches(X_tr, y_tr, batch_size):\n",
    "            \n",
    "            # Feed dictionary\n",
    "            feed = {inputs_ : x, labels_ : y, keep_prob_ : 0.5, learning_rate_ : learning_rate}\n",
    "            \n",
    "            # Loss\n",
    "            loss, _ , acc = sess.run([cost, optimizer, accuracy], feed_dict = feed)\n",
    "            train_acc.append(acc)\n",
    "            train_loss.append(loss)\n",
    "            \n",
    "            # Print at each 5 iters\n",
    "            if (iteration % 100 == 0):\n",
    "                print(\"Epoch: {}/{}\".format(e, epochs),\n",
    "                      \"Iteration: {:d}\".format(iteration),\n",
    "                      \"Train loss: {:6f}\".format(loss),\n",
    "                      \"Train acc: {:.6f}\".format(acc))\n",
    "            \n",
    "            # Compute validation loss at every 10 iterations\n",
    "            if (iteration%100 == 0):                \n",
    "                val_acc_ = []\n",
    "                val_loss_ = []\n",
    "                \n",
    "                for x_v, y_v in get_batches(X_vld, y_vld, batch_size):\n",
    "                    # Feed\n",
    "                    feed = {inputs_ : x_v, labels_ : y_v, keep_prob_ : 1.0}  \n",
    "                    \n",
    "                    # Loss\n",
    "                    loss_v, acc_v = sess.run([cost, accuracy], feed_dict = feed)                    \n",
    "                    val_acc_.append(acc_v)\n",
    "                    val_loss_.append(loss_v)\n",
    "                \n",
    "                # Print info\n",
    "                print(\"Epoch: {}/{}\".format(e, epochs),\n",
    "                      \"Iteration: {:d}\".format(iteration),\n",
    "                      \"Validation loss: {:6f}\".format(np.mean(val_loss_)),\n",
    "                      \"Validation acc: {:.6f}\".format(np.mean(val_acc_)))\n",
    "                \n",
    "                # Store\n",
    "                validation_acc.append(np.mean(val_acc_))\n",
    "                validation_loss.append(np.mean(val_loss_))\n",
    "            \n",
    "            # Iterate \n",
    "            iteration += 1\n",
    "    \n",
    "    saver.save(sess,\"checkpoints-cnn/har.ckpt\")"
   ]
  },
  {
   "cell_type": "code",
   "execution_count": 28,
   "metadata": {},
   "outputs": [
    {
     "data": {
      "image/png": "[encoded data removed]",
      "text/plain": [
       "<Figure size 432x432 with 1 Axes>"
      ]
     },
     "metadata": {
      "needs_background": "light"
     },
     "output_type": "display_data"
    }
   ],
   "source": [
    "# Plot training and test loss\n",
    "t = np.arange(iteration-1)\n",
    "\n",
    "plt.figure(figsize = (6,6))\n",
    "plt.plot(t, np.array(train_loss), 'r-')\n",
    "plt.plot(t[t % 100 == 0], np.array(validation_loss), 'b*')\n",
    "plt.xlabel(\"iteration\")\n",
    "plt.ylabel(\"Loss\")\n",
    "plt.legend(['train', 'validation'], loc='upper right')\n",
    "plt.show()"
   ]
  },
  {
   "cell_type": "code",
   "execution_count": 29,
   "metadata": {},
   "outputs": [
    {
     "data": {
      "image/png": "[encoded data removed]",
      "text/plain": [
       "<Figure size 432x432 with 1 Axes>"
      ]
     },
     "metadata": {
      "needs_background": "light"
     },
     "output_type": "display_data"
    }
   ],
   "source": [
    "# Plot Accuracies\n",
    "plt.figure(figsize = (6,6))\n",
    "\n",
    "plt.plot(t, np.array(train_acc), 'r-', t[t % 100 == 0], validation_acc, 'b*')\n",
    "plt.xlabel(\"iteration\")\n",
    "plt.ylabel(\"Accuray\")\n",
    "plt.legend(['train', 'validation'], loc='upper right')\n",
    "plt.show()"
   ]
  },
  {
   "cell_type": "code",
   "execution_count": 30,
   "metadata": {},
   "outputs": [
    {
     "name": "stdout",
     "output_type": "stream",
     "text": [
      "INFO:tensorflow:Restoring parameters from checkpoints-cnn/har.ckpt\n",
      "Test accuracy: 0.870000\n"
     ]
    }
   ],
   "source": [
    "test_acc = []\n",
    "\n",
    "#         config = tf.ConfigProto(device_count={'GPU': 0})\n",
    "config = tf.ConfigProto()\n",
    "#         config.gpu_options.visible_device_list= '0' #only see the gpu 1\n",
    "config.gpu_options.allow_growth = True   \n",
    "with tf.Session(config=config,graph=graph) as sess:\n",
    "    # Restore\n",
    "    saver.restore(sess, tf.train.latest_checkpoint('checkpoints-cnn'))\n",
    "    \n",
    "    for x_t, y_t in get_batches(X_test, y_test, batch_size):\n",
    "        feed = {inputs_: x_t,\n",
    "                labels_: y_t,\n",
    "                keep_prob_: 1}\n",
    "        \n",
    "        batch_acc = sess.run(accuracy, feed_dict=feed)\n",
    "        test_acc.append(batch_acc)\n",
    "    print(\"Test accuracy: {:.6f}\".format(np.mean(test_acc)))"
   ]
  },
  {
   "cell_type": "code",
   "execution_count": 31,
   "metadata": {},
   "outputs": [
    {
     "name": "stdout",
     "output_type": "stream",
     "text": [
      "INFO:tensorflow:Restoring parameters from ./checkpoints-cnn/har.ckpt\n"
     ]
    }
   ],
   "source": [
    "tf.compat.v1.disable_eager_execution()\n",
    "tf.reset_default_graph()\n",
    "#         config = tf.ConfigProto(device_count={'GPU': 0})\n",
    "config = tf.ConfigProto()\n",
    "#         config.gpu_options.visible_device_list= '0' #only see the gpu 1\n",
    "config.gpu_options.allow_growth = True   \n",
    "sess = tf.InteractiveSession(config=config)\n",
    "\n",
    "new_saver = tf.train.import_meta_graph('checkpoints-cnn/har.ckpt.meta')\n",
    "new_saver.restore(sess, tf.train.latest_checkpoint('./checkpoints-cnn'))\n",
    "# weights = tf.get_collection(tf.GraphKeys.TRAINABLE_VARIABLES, scope='.*kernel.*')\n",
    "# biases = tf.get_collection(tf.GraphKeys.TRAINABLE_VARIABLES, scope='.*bias.*')\n",
    "\n",
    "weights = tf.get_collection(tf.GraphKeys.TRAINABLE_VARIABLES, scope='.*kernel.*')\n",
    "activations = tf.get_collection('DTD')\n",
    "X = activations[0]"
   ]
  },
  {
   "cell_type": "code",
   "execution_count": 32,
   "metadata": {},
   "outputs": [
    {
     "data": {
      "text/plain": [
       "<tf.Tensor 'inputs:0' shape=(None, 128, 9) dtype=float32>"
      ]
     },
     "execution_count": 32,
     "metadata": {},
     "output_type": "execute_result"
    }
   ],
   "source": [
    "X"
   ]
  },
  {
   "cell_type": "code",
   "execution_count": 33,
   "metadata": {},
   "outputs": [
    {
     "data": {
      "text/plain": [
       "[<tf.Tensor 'inputs:0' shape=(None, 128, 9) dtype=float32>,\n",
       " <tf.Tensor 'inputs:0' shape=(None, 128, 9) dtype=float32>,\n",
       " <tf.Tensor 'CNN/layer1/conv1d/Relu:0' shape=(None, 128, 18) dtype=float32>,\n",
       " <tf.Tensor 'CNN/layer2/conv1d/Relu:0' shape=(None, 128, 36) dtype=float32>,\n",
       " <tf.Tensor 'CNN/layer3/conv1d/Relu:0' shape=(None, 128, 72) dtype=float32>,\n",
       " <tf.Tensor 'CNN/layer4/conv1d/Relu:0' shape=(None, 128, 144) dtype=float32>,\n",
       " <tf.Tensor 'CNN/layer5/Reshape:0' shape=(None, 18432) dtype=float32>,\n",
       " <tf.Tensor 'CNN/layer5/Softmax:0' shape=(None, 6) dtype=float32>]"
      ]
     },
     "execution_count": 33,
     "metadata": {},
     "output_type": "execute_result"
    }
   ],
   "source": [
    "activations"
   ]
  },
  {
   "cell_type": "code",
   "execution_count": 34,
   "metadata": {},
   "outputs": [
    {
     "data": {
      "text/plain": [
       "[<tf.Variable 'CNN/layer1/conv1d/kernel:0' shape=(2, 9, 18) dtype=float32>,\n",
       " <tf.Variable 'CNN/layer2/conv1d/kernel:0' shape=(2, 18, 36) dtype=float32>,\n",
       " <tf.Variable 'CNN/layer3/conv1d/kernel:0' shape=(2, 36, 72) dtype=float32>,\n",
       " <tf.Variable 'CNN/layer4/conv1d/kernel:0' shape=(2, 72, 144) dtype=float32>,\n",
       " <tf.Variable 'CNN/layer5/dense/kernel:0' shape=(18432, 6) dtype=float32>]"
      ]
     },
     "execution_count": 34,
     "metadata": {},
     "output_type": "execute_result"
    }
   ],
   "source": [
    "weights"
   ]
  },
  {
   "cell_type": "code",
   "execution_count": 35,
   "metadata": {},
   "outputs": [
    {
     "name": "stderr",
     "output_type": "stream",
     "text": [
      "<>:37: SyntaxWarning: \"is\" with a literal. Did you mean \"==\"?\n",
      "<>:37: SyntaxWarning: \"is\" with a literal. Did you mean \"==\"?\n",
      "<ipython-input-35-4439ad84a62a>:37: SyntaxWarning: \"is\" with a literal. Did you mean \"==\"?\n",
      "  if i is 0:\n"
     ]
    }
   ],
   "source": [
    "from tensorflow.python.ops import nn_ops, gen_nn_ops\n",
    "from tensorflow.python.layers import pooling\n",
    "class Taylor:\n",
    "\n",
    "    def __init__(self, activations, weights, conv_ksize, pool_ksize, conv_strides, pool_strides, name):\n",
    "\n",
    "        self.last_ind = len(activations)\n",
    "        for op in activations[::-1]:\n",
    "            self.last_ind -= 1\n",
    "            if any([word in op.name for word in ['conv', 'pooling', 'dense']]):\n",
    "                break\n",
    "\n",
    "        self.activations = activations\n",
    "        self.weights = weights\n",
    "        self.conv_ksize = conv_ksize\n",
    "        self.pool_ksize = pool_ksize\n",
    "        self.conv_strides = conv_strides\n",
    "        self.pool_strides = pool_strides\n",
    "        self.name = name\n",
    "    \n",
    "    def __call__(self, logit):\n",
    "        with tf.name_scope(self.name):\n",
    "            Rs = []\n",
    "            j = 0\n",
    "\n",
    "            for i in range(len(self.activations) - 2):\n",
    "\n",
    "                if i is self.last_ind:\n",
    "\n",
    "                    if 'conv' in self.activations[i].name.lower():\n",
    "                        Rs.append(self.backprop_conv_input(self.activations[i + 1], self.weights[j], Rs[-1], self.conv_strides))\n",
    "                    else:\n",
    "                        Rs.append(self.backprop_dense_input(self.activations[i + 1], self.weights[j], Rs[-1]))\n",
    "\n",
    "                    continue\n",
    "\n",
    "                if i is 0:\n",
    "                    Rs.append(self.activations[i][:,logit,None])\n",
    "                    Rs.append(self.backprop_dense(self.activations[i + 1], self.weights[j][:,logit,None], Rs[-1]))\n",
    "                    j += 1\n",
    "\n",
    "                    continue\n",
    "\n",
    "                elif 'dense' in self.activations[i].name.lower():\n",
    "                    Rs.append(self.backprop_dense(self.activations[i + 1], self.weights[j], Rs[-1]))\n",
    "                    j += 1\n",
    "                elif 'reshape' in self.activations[i].name.lower():\n",
    "                    shape = self.activations[i + 1].get_shape().as_list()\n",
    "                    shape[0] = -1\n",
    "                    Rs.append(tf.reshape(Rs[-1], shape))\n",
    "                elif 'conv' in self.activations[i].name.lower():\n",
    "                    Rs.append(self.backprop_conv(self.activations[i + 1], self.weights[j], Rs[-1], self.conv_strides))\n",
    "                    j += 1\n",
    "                else:\n",
    "                    raise Error('Unknown operation.')\n",
    "\n",
    "            return Rs[-1]\n",
    "\n",
    "    def backprop_conv(self, activation, kernel, relevance, strides, padding='SAME'):\n",
    "        W_p = tf.maximum(0., kernel)\n",
    "        z = nn_ops.conv1d(activation, W_p, strides, padding) + 1e-10\n",
    "        s = relevance / z\n",
    "        print(tf.shape(s))\n",
    "        c = nn_ops.conv1d_transpose(s, W_p, tf.shape(activation), strides, padding)\n",
    "        return activation * c\n",
    "\n",
    "    def backprop_dense(self, activation, kernel, relevance):\n",
    "        W_p = tf.maximum(0., kernel)\n",
    "        z = tf.matmul(activation, W_p) + 1e-10\n",
    "        s = relevance / z\n",
    "        c = tf.matmul(s, tf.transpose(W_p))\n",
    "        return activation * c\n",
    "\n",
    "    def backprop_conv_input(self, X, kernel, relevance, strides, padding='SAME', lowest=0., highest=1.):\n",
    "        W_p = tf.maximum(0., kernel)\n",
    "        W_n = tf.minimum(0., kernel)\n",
    "\n",
    "        L = tf.ones_like(X, tf.float32) * lowest\n",
    "        H = tf.ones_like(X, tf.float32) * highest\n",
    "\n",
    "        z_o = nn_ops.conv1d(X, kernel, strides, padding)\n",
    "        z_p = nn_ops.conv1d(L, W_p, strides, padding)\n",
    "        z_n = nn_ops.conv1d(H, W_n, strides, padding)\n",
    "\n",
    "        z = z_o - z_p - z_n + 1e-10\n",
    "        s = relevance / z\n",
    "\n",
    "        c_o = nn_ops.conv1d_transpose(s, kernel, tf.shape(X), strides, padding)\n",
    "        c_p = nn_ops.conv1d_transpose(s, W_p, tf.shape(X), strides, padding)\n",
    "        c_n = nn_ops.conv1d_transpose(s, W_n, tf.shape(X), strides, padding)\n",
    "\n",
    "        return X * c_o - L * c_p - H * c_n\n",
    "\n",
    "    def backprop_dense_input(self, X, kernel, relevance, lowest=0., highest=1.):\n",
    "        W_p = tf.maximum(0., kernel)\n",
    "        W_n = tf.minimum(0., kernel)\n",
    "\n",
    "        L = tf.ones_like(X, tf.float32) * lowest\n",
    "        H = tf.ones_like(X, tf.float32) * highest\n",
    "\n",
    "        z_o = tf.matmul(X, kernel)\n",
    "        z_p = tf.matmul(L, W_p)\n",
    "        z_n = tf.matmul(H, W_n)\n",
    "\n",
    "        z = z_o - z_p - z_n + 1e-10\n",
    "        s = relevance / z\n",
    "\n",
    "        c_o = tf.matmul(s, tf.transpose(kernel))\n",
    "        c_p = tf.matmul(s, tf.transpose(W_p))\n",
    "        c_n = tf.matmul(s, tf.transpose(W_n))\n",
    "\n",
    "        return X * c_o - L * c_p - H * c_n"
   ]
  },
  {
   "cell_type": "code",
   "execution_count": 36,
   "metadata": {},
   "outputs": [],
   "source": [
    "conv_ksize = 2\n",
    "pool_ksize = 2\n",
    "conv_strides = 1\n",
    "pool_strides = 2\n",
    "\n",
    "weights.reverse()\n",
    "activations.reverse()"
   ]
  },
  {
   "cell_type": "code",
   "execution_count": 37,
   "metadata": {},
   "outputs": [],
   "source": [
    "taylor = Taylor(activations, weights, conv_ksize, pool_ksize, conv_strides, pool_strides, 'Taylor')"
   ]
  },
  {
   "cell_type": "code",
   "execution_count": 38,
   "metadata": {},
   "outputs": [
    {
     "name": "stdout",
     "output_type": "stream",
     "text": [
      "Tensor(\"Taylor/Shape:0\", shape=(3,), dtype=int32)\n",
      "Tensor(\"Taylor/Shape_2:0\", shape=(3,), dtype=int32)\n",
      "Tensor(\"Taylor/Shape_4:0\", shape=(3,), dtype=int32)\n",
      "Tensor(\"Taylor_1/Shape:0\", shape=(3,), dtype=int32)\n",
      "Tensor(\"Taylor_1/Shape_2:0\", shape=(3,), dtype=int32)\n",
      "Tensor(\"Taylor_1/Shape_4:0\", shape=(3,), dtype=int32)\n",
      "Tensor(\"Taylor_2/Shape:0\", shape=(3,), dtype=int32)\n",
      "Tensor(\"Taylor_2/Shape_2:0\", shape=(3,), dtype=int32)\n",
      "Tensor(\"Taylor_2/Shape_4:0\", shape=(3,), dtype=int32)\n",
      "Tensor(\"Taylor_3/Shape:0\", shape=(3,), dtype=int32)\n",
      "Tensor(\"Taylor_3/Shape_2:0\", shape=(3,), dtype=int32)\n",
      "Tensor(\"Taylor_3/Shape_4:0\", shape=(3,), dtype=int32)\n",
      "Tensor(\"Taylor_4/Shape:0\", shape=(3,), dtype=int32)\n",
      "Tensor(\"Taylor_4/Shape_2:0\", shape=(3,), dtype=int32)\n",
      "Tensor(\"Taylor_4/Shape_4:0\", shape=(3,), dtype=int32)\n",
      "Tensor(\"Taylor_5/Shape:0\", shape=(3,), dtype=int32)\n",
      "Tensor(\"Taylor_5/Shape_2:0\", shape=(3,), dtype=int32)\n",
      "Tensor(\"Taylor_5/Shape_4:0\", shape=(3,), dtype=int32)\n"
     ]
    }
   ],
   "source": [
    "Rs = []\n",
    "for i in range(6):\n",
    "    Rs.append(taylor(i))"
   ]
  },
  {
   "cell_type": "code",
   "execution_count": 41,
   "metadata": {},
   "outputs": [],
   "source": [
    "sample_imgs = []\n",
    "for i in range(6):\n",
    "    sample_imgs.append(X_tr[np.argmax(y_tr, axis=1) == i][10])"
   ]
  },
  {
   "cell_type": "code",
   "execution_count": 42,
   "metadata": {},
   "outputs": [],
   "source": [
    "imgs = []\n",
    "for i in range(6):\n",
    "    imgs.append(sess.run(Rs[i], feed_dict={X: sample_imgs[i][None,:]}))"
   ]
  },
  {
   "cell_type": "code",
   "execution_count": 43,
   "metadata": {},
   "outputs": [],
   "source": [
    "imgs = np.squeeze(imgs)\n",
    "sample_imgs = np.squeeze(sample_imgs)"
   ]
  },
  {
   "cell_type": "markdown",
   "metadata": {},
   "source": [
    "1 WALKING\n",
    "2 WALKING_UPSTAIRS\n",
    "3 WALKING_DOWNSTAIRS\n",
    "4 SITTING\n",
    "5 STANDING\n",
    "6 LAYING"
   ]
  },
  {
   "cell_type": "code",
   "execution_count": 47,
   "metadata": {},
   "outputs": [
    {
     "data": {
      "image/png": "[encoded data removed]",
      "text/plain": [
       "<Figure size 10800x10800 with 2 Axes>"
      ]
     },
     "metadata": {
      "needs_background": "light"
     },
     "output_type": "display_data"
    },
    {
     "data": {
      "image/png": "[encoded data removed]",
      "text/plain": [
       "<Figure size 10800x10800 with 2 Axes>"
      ]
     },
     "metadata": {
      "needs_background": "light"
     },
     "output_type": "display_data"
    },
    {
     "data": {
      "image/png": "[encoded data removed]",
      "text/plain": [
       "<Figure size 10800x10800 with 2 Axes>"
      ]
     },
     "metadata": {
      "needs_background": "light"
     },
     "output_type": "display_data"
    },
    {
     "data": {
      "image/png": "[encoded data removed]",
      "text/plain": [
       "<Figure size 10800x10800 with 2 Axes>"
      ]
     },
     "metadata": {
      "needs_background": "light"
     },
     "output_type": "display_data"
    },
    {
     "data": {
      "image/png": "[encoded data removed]",
      "text/plain": [
       "<Figure size 10800x10800 with 2 Axes>"
      ]
     },
     "metadata": {
      "needs_background": "light"
     },
     "output_type": "display_data"
    },
    {
     "data": {
      "image/png": "[encoded data removed]",
      "text/plain": [
       "<Figure size 10800x10800 with 2 Axes>"
      ]
     },
     "metadata": {
      "needs_background": "light"
     },
     "output_type": "display_data"
    }
   ],
   "source": [
    "for i in range(6):\n",
    "    plt.figure(figsize=(150,150))\n",
    "    plt.subplot(1, 2, 1)\n",
    "    plt.imshow(np.transpose(imgs[i]), cmap='hot_r')\n",
    "    plt.subplot(1, 2, 2)\n",
    "    plt.imshow(np.transpose(sample_imgs[i]), cmap='hot_r')"
   ]
  },
  {
   "cell_type": "code",
   "execution_count": null,
   "metadata": {},
   "outputs": [],
   "source": []
  }
 ],
 "metadata": {
  "kernelspec": {
   "display_name": "Python 3",
   "language": "python",
   "name": "python3"
  },
  "language_info": {
   "codemirror_mode": {
    "name": "ipython",
    "version": 3
   },
   "file_extension": ".py",
   "mimetype": "text/x-python",
   "name": "python",
   "nbconvert_exporter": "python",
   "pygments_lexer": "ipython3",
   "version": "3.5.4"
  }
 },
 "nbformat": 4,
 "nbformat_minor": 4
}
