{
 "cells": [
  {
   "cell_type": "markdown",
   "metadata": {},
   "source": [
    "## RNN Network"
   ]
  },
  {
   "cell_type": "code",
   "execution_count": 2,
   "metadata": {},
   "outputs": [],
   "source": [
    "# All Includes\n",
    "\n",
    "import numpy as np\n",
    "import matplotlib\n",
    "import matplotlib.pyplot as plt\n",
    "import tensorflow.compat.v1 as tf  # Version 1.0.0 (some previous versions are used in past commits)\n",
    "\n",
    "from sklearn import metrics\n",
    "\n",
    "import os"
   ]
  },
  {
   "cell_type": "markdown",
   "metadata": {},
   "source": [
    "### Useful Constants"
   ]
  },
  {
   "cell_type": "code",
   "execution_count": 3,
   "metadata": {},
   "outputs": [],
   "source": [
    "# Those are separate normalised input features for the neural network\n",
    "INPUT_SIGNAL_TYPES = [\n",
    "    \"body_acc_x_\",\n",
    "    \"body_acc_y_\",\n",
    "    \"body_acc_z_\",\n",
    "    \"body_gyro_x_\",\n",
    "    \"body_gyro_y_\",\n",
    "    \"body_gyro_z_\",\n",
    "    \"total_acc_x_\",\n",
    "    \"total_acc_y_\",\n",
    "    \"total_acc_z_\"\n",
    "]\n",
    "\n",
    "# Output classes to learn how to classify\n",
    "LABELS = [\n",
    "    \"WALKING\", \n",
    "    \"WALKING_UPSTAIRS\", \n",
    "    \"WALKING_DOWNSTAIRS\", \n",
    "    \"SITTING\", \n",
    "    \"STANDING\", \n",
    "    \"LAYING\"\n",
    "] \n"
   ]
  },
  {
   "cell_type": "markdown",
   "metadata": {},
   "source": [
    "### Downloading the data: "
   ]
  },
  {
   "cell_type": "code",
   "execution_count": 4,
   "metadata": {},
   "outputs": [
    {
     "name": "stdout",
     "output_type": "stream",
     "text": [
      "/home/siddiqmk/HAR/RNNv01\n",
      "data  LICENSE  LSTM_files  LSTM.ipynb  README.md  RNN.ipynb  time_series.ipynb\n",
      "/home/siddiqmk/Tutorials\n",
      " Basic-LRP   LRP-Time-Series  'UCI HAR Dataset'\n",
      " LICENSE     README.md\t       Visual-Explanation-of-Atari\n",
      "python: can't open file 'download_dataset.py': [Errno 2] No such file or directory\n",
      "/home/siddiqmk/Tutorials\n",
      " Basic-LRP   LRP-Time-Series  'UCI HAR Dataset'\n",
      " LICENSE     README.md\t       Visual-Explanation-of-Atari\n",
      "/home/siddiqmk\n",
      "Cardio\t\t   HAR\t\t\t\t    physionet.org\n",
      "cardio\t\t   HEY_HAR\t\t\t    Physionet_Project\n",
      "dataset_repair\t   LSTM-Human-Activity-Recognition  test1.ipynb\n",
      "dlime_experiments  PhysioNet2020\t\t    Tutorials\n",
      "ECG_analysis\t   PhysioNet_MRH_June12\t\t    zhuc\n",
      "\n",
      "Dataset is now located at: /home/siddiqmk/Tutorials/UCI HAR Dataset/\n"
     ]
    }
   ],
   "source": [
    "# Note: Linux bash commands start with a \"!\" inside those \"ipython notebook\" cells\n",
    "\n",
    "DATA_PATH = '/home/siddiqmk/Tutorials/'\n",
    "\n",
    "!pwd && ls\n",
    "os.chdir(DATA_PATH)\n",
    "!pwd && ls\n",
    "\n",
    "!python download_dataset.py\n",
    "\n",
    "!pwd && ls\n",
    "os.chdir(\"..\")\n",
    "!pwd && ls\n",
    "\n",
    "DATASET_PATH = DATA_PATH + \"UCI HAR Dataset/\"\n",
    "print(\"\\n\" + \"Dataset is now located at: \" + DATASET_PATH)\n"
   ]
  },
  {
   "cell_type": "code",
   "execution_count": 5,
   "metadata": {},
   "outputs": [],
   "source": [
    "TRAIN = \"train/\"\n",
    "TEST = \"test/\"\n",
    "\n",
    "# Load \"X\" (the neural network's training and testing inputs)\n",
    "def load_X(X_signals_paths):\n",
    "    X_signals = []\n",
    "    \n",
    "    # Reading through the signal file to cycle through all the train or test file.\n",
    "    for signal_type_path in X_signals_paths:\n",
    "        file = open(signal_type_path, 'r')\n",
    "        # Read dataset from disk, dealing with text files' syntax\n",
    "        X_signals.append(\n",
    "            [np.array(serie, dtype=np.float32) for serie in [\n",
    "                row.replace('  ', ' ').strip().split(' ') for row in file\n",
    "            ]]\n",
    "        )\n",
    "        file.close()\n",
    "    \n",
    "    return np.transpose(np.array(X_signals), (1, 2, 0))\n",
    "\n",
    "X_train_signals_paths = [\n",
    "    DATASET_PATH + TRAIN + \"Inertial Signals/\" + signal + \"train.txt\" for signal in INPUT_SIGNAL_TYPES\n",
    "]\n",
    "X_test_signals_paths = [\n",
    "    DATASET_PATH + TEST + \"Inertial Signals/\" + signal + \"test.txt\" for signal in INPUT_SIGNAL_TYPES\n",
    "]\n",
    "\n",
    "#initiating load function for train and test \n",
    "X_train = load_X(X_train_signals_paths) \n",
    "X_test = load_X(X_test_signals_paths)\n",
    "\n",
    "\n",
    "# Load \"y\" (the neural network's training and testing outputs)\n",
    "def load_y(y_path):\n",
    "    file = open(y_path, 'r')\n",
    "    # Read dataset from disk, dealing with text file's syntax\n",
    "    y_ = np.array(\n",
    "        [elem for elem in [\n",
    "            row.replace('  ', ' ').strip().split(' ') for row in file\n",
    "        ]], \n",
    "        dtype=np.int32\n",
    "    )\n",
    "    file.close()\n",
    "    \n",
    "    # Substract 1 to each output class for friendly 0-based indexing \n",
    "    return y_ - 1\n",
    "\n",
    "y_train_path = DATASET_PATH + TRAIN + \"y_train.txt\"\n",
    "y_test_path = DATASET_PATH + TEST + \"y_test.txt\"\n",
    "\n",
    "y_train = load_y(y_train_path)\n",
    "y_test = load_y(y_test_path)\n"
   ]
  },
  {
   "cell_type": "code",
   "execution_count": 8,
   "metadata": {},
   "outputs": [
    {
     "data": {
      "text/plain": [
       "(2947, 1)"
      ]
     },
     "execution_count": 8,
     "metadata": {},
     "output_type": "execute_result"
    }
   ],
   "source": [
    "type(y_test)\n",
    "y_test.shape"
   ]
  },
  {
   "cell_type": "markdown",
   "metadata": {},
   "source": [
    "### Training and Test Parameters"
   ]
  },
  {
   "cell_type": "code",
   "execution_count": 6,
   "metadata": {
    "scrolled": true
   },
   "outputs": [
    {
     "name": "stdout",
     "output_type": "stream",
     "text": [
      "Some useful info to get an insight on dataset's shape and normalisation:\n",
      "(X shape, y shape, every X's mean, every X's standard deviation)\n",
      "(2947, 128, 9) (2947, 1) 0.09913992 0.39567086\n",
      "The dataset is therefore properly normalised, as expected, but not yet one-hot encoded.\n",
      "128\n",
      "9\n"
     ]
    }
   ],
   "source": [
    "# Input Data \n",
    "\n",
    "training_data_count = len(X_train)  # 7352 training series (with 50% overlap between each serie)\n",
    "test_data_count = len(X_test)  # 2947 testing series\n",
    "n_steps = len(X_train[0])  # 128 timesteps per series\n",
    "n_input = len(X_train[0][0])  # 9 input parameters per timestep,\n",
    "\n",
    "\n",
    "# LSTM Neural Network's internal structure\n",
    "\n",
    "n_hidden = 32 # Hidden layer num of features\n",
    "n_classes = 6 # Total classes (should go up, or should go down)\n",
    "\n",
    "\n",
    "# Training \n",
    "\n",
    "learning_rate = 0.0025\n",
    "lambda_loss_amount = 0.0015\n",
    "training_iters = training_data_count * 300  # Loop 300 times on the dataset\n",
    "batch_size = 1500\n",
    "display_iter = 30000  # To show test set accuracy during training\n",
    "\n",
    "\n",
    "# Some debugging info\n",
    "\n",
    "print(\"Some useful info to get an insight on dataset's shape and normalisation:\")\n",
    "print(\"(X shape, y shape, every X's mean, every X's standard deviation)\")\n",
    "print(X_test.shape, y_test.shape, np.mean(X_test), np.std(X_test))\n",
    "print(\"The dataset is therefore properly normalised, as expected, but not yet one-hot encoded.\")\n",
    "#print(X_test)\n",
    "print(n_steps)\n",
    "print(n_input)"
   ]
  },
  {
   "cell_type": "markdown",
   "metadata": {},
   "source": [
    "### Training Functions"
   ]
  },
  {
   "cell_type": "code",
   "execution_count": 7,
   "metadata": {},
   "outputs": [],
   "source": [
    "def LSTM_RNN(_X, _weights, _biases):\n",
    "    # Function returns a tensorflow LSTM (RNN) artificial neural network from given parameters. \n",
    "    # Moreover, two LSTM cells are stacked which adds deepness to the neural network. \n",
    "\n",
    "    # (NOTE: This step could be greatly optimised by shaping the dataset once\n",
    "    # input shape: (batch_size, n_steps, n_input)\n",
    "    print('_X:',_X)\n",
    "    _X = tf.transpose(_X, [1, 0, 2])  # permute n_steps and batch_size\n",
    "    print('_X transposed:',_X)\n",
    "    # Reshape to prepare input to hidden activation\n",
    "    _X = tf.reshape(_X, [-1, n_input]) \n",
    "    # new shape: (n_steps*batch_size, n_input)\n",
    "    print('_X reshaped:',_X)\n",
    "    \n",
    "    # ReLU activation, thanks to Yu Zhao for adding this improvement here:\n",
    "    _X = tf.nn.relu(tf.matmul(_X, _weights['hidden']) + _biases['hidden'])\n",
    "    # Split data because rnn cell needs a list of inputs for the RNN inner loop\n",
    "    _X = tf.split(_X, n_steps, 0) \n",
    "    # new shape: n_steps * (batch_size, n_hidden)\n",
    "\n",
    "        #NO LONGER FUNCTIONAL - KEPT FOR NOTEKEEPING PURPOSES\n",
    "    ## Define two stacked LSTM cells (two recurrent layers deep) with tensorflow\n",
    "    #lstm_cell_1 = tf.contrib.rnn.BasicLSTMCell(n_hidden, forget_bias=1.0, state_is_tuple=True)\n",
    "    #lstm_cell_2 = tf.contrib.rnn.BasicLSTMCell(n_hidden, forget_bias=1.0, state_is_tuple=True)\n",
    "    #lstm_cells = tf.contrib.rnn.MultiRNNCell([lstm_cell_1, lstm_cell_2], state_is_tuple=True)\n",
    "    ## Get LSTM cell output\n",
    "    #outputs, states = tf.contrib.rnn.static_rnn(lstm_cells, _X, dtype=tf.float32)\n",
    "\n",
    "    # Define two stacked LSTM cells (two recurrent layers deep) with tensorflow \n",
    "    # The new classes as the ones above are deprecated\n",
    "    lstm_cell_1 = tf.nn.rnn_cell.LSTMCell(n_hidden, forget_bias=1.0, state_is_tuple=True)\n",
    "    lstm_cell_2 = tf.nn.rnn_cell.LSTMCell(n_hidden, forget_bias=1.0, state_is_tuple=True)\n",
    "    lstm_cells = tf.nn.rnn_cell.MultiRNNCell([lstm_cell_1, lstm_cell_2], state_is_tuple=True)\n",
    "    # Get LSTM cell output\n",
    "    outputs, states = tf.nn.static_rnn(lstm_cells, _X, dtype=tf.float32) # modified from original version finally works.\n",
    "    #outputs, states = tf.keras.layers.RNN(lstm_cells, _X, dtype=tf.float32) #using modified notaiton - won't work\n",
    "    #outputs, states = tf.keras.layers.RNN(lstm_cells, _X, dtype=tf.float32)\n",
    "    \n",
    "    # Get last time step's output feature for a \"many-to-one\" style classifier, \n",
    "    # as in the image describing RNNs at the top of this page\n",
    "    lstm_last_output = outputs[-1]\n",
    "    \n",
    "    # Linear activation\n",
    "    return tf.matmul(lstm_last_output, _weights['out']) + _biases['out']\n",
    "\n",
    "\n",
    "def extract_batch_size(_train, step, batch_size):\n",
    "    # Function to fetch a \"batch_size\" amount of data from \"(X|y)_train\" data. \n",
    "    \n",
    "    shape = list(_train.shape)\n",
    "    shape[0] = batch_size\n",
    "    batch_s = np.empty(shape)\n",
    "\n",
    "    for i in range(batch_size):\n",
    "        # Loop index\n",
    "        index = ((step-1)*batch_size + i) % len(_train)\n",
    "        batch_s[i] = _train[index] \n",
    "\n",
    "    return batch_s\n",
    "\n",
    "\n",
    "def one_hot(y_, n_classes=n_classes):\n",
    "    # Function to encode neural one-hot output labels from number indexes \n",
    "    # e.g.: \n",
    "    # one_hot(y_=[[5], [0], [3]], n_classes=6):\n",
    "    #     return [[0, 0, 0, 0, 0, 1], [1, 0, 0, 0, 0, 0], [0, 0, 0, 1, 0, 0]]\n",
    "    \n",
    "    y_ = y_.reshape(len(y_))\n",
    "    return np.eye(n_classes)[np.array(y_, dtype=np.int32)]  # Returns FLOATS"
   ]
  },
  {
   "cell_type": "markdown",
   "metadata": {},
   "source": [
    "### Building the RNN"
   ]
  },
  {
   "cell_type": "code",
   "execution_count": 8,
   "metadata": {},
   "outputs": [
    {
     "name": "stdout",
     "output_type": "stream",
     "text": [
      "x_shape (None, 128, 9)\n",
      "y_shape (None, 6)\n",
      "_X: Tensor(\"Placeholder:0\", shape=(None, 128, 9), dtype=float32)\n",
      "_X transposed: Tensor(\"transpose:0\", shape=(128, None, 9), dtype=float32)\n",
      "_X reshaped: Tensor(\"Reshape:0\", shape=(None, 9), dtype=float32)\n",
      "WARNING:tensorflow:From <ipython-input-7-91eac8a4d8ce>:31: LSTMCell.__init__ (from tensorflow.python.keras.layers.legacy_rnn.rnn_cell_impl) is deprecated and will be removed in a future version.\n",
      "Instructions for updating:\n",
      "This class is equivalent as tf.keras.layers.LSTMCell, and will be replaced by that in Tensorflow 2.0.\n",
      "WARNING:tensorflow:From <ipython-input-7-91eac8a4d8ce>:33: MultiRNNCell.__init__ (from tensorflow.python.keras.layers.legacy_rnn.rnn_cell_impl) is deprecated and will be removed in a future version.\n",
      "Instructions for updating:\n",
      "This class is equivalent as tf.keras.layers.StackedRNNCells, and will be replaced by that in Tensorflow 2.0.\n",
      "WARNING:tensorflow:From <ipython-input-7-91eac8a4d8ce>:35: static_rnn (from tensorflow.python.ops.rnn) is deprecated and will be removed in a future version.\n",
      "Instructions for updating:\n",
      "Please use `keras.layers.RNN(cell, unroll=True)`, which is equivalent to this API\n",
      "WARNING:tensorflow:From /home/siddiqmk/.local/lib/python3.8/site-packages/tensorflow/python/keras/layers/legacy_rnn/rnn_cell_impl.py:962: Layer.add_variable (from tensorflow.python.keras.engine.base_layer_v1) is deprecated and will be removed in a future version.\n",
      "Instructions for updating:\n",
      "Please use `layer.add_weight` method instead.\n",
      "WARNING:tensorflow:From /home/siddiqmk/.local/lib/python3.8/site-packages/tensorflow/python/keras/layers/legacy_rnn/rnn_cell_impl.py:970: calling Zeros.__init__ (from tensorflow.python.ops.init_ops) with dtype is deprecated and will be removed in a future version.\n",
      "Instructions for updating:\n",
      "Call initializer instance with the dtype argument instead of passing it to the constructor\n",
      "WARNING:tensorflow:From /home/siddiqmk/.local/lib/python3.8/site-packages/tensorflow/python/util/dispatch.py:201: softmax_cross_entropy_with_logits (from tensorflow.python.ops.nn_ops) is deprecated and will be removed in a future version.\n",
      "Instructions for updating:\n",
      "\n",
      "Future major versions of TensorFlow will allow gradients to flow\n",
      "into the labels input on backprop by default.\n",
      "\n",
      "See `tf.nn.softmax_cross_entropy_with_logits_v2`.\n",
      "\n"
     ]
    }
   ],
   "source": [
    "tf.compat.v1.disable_eager_execution() # an attempt to get rid of the placeholder not working with eager execution enabled\n",
    "\n",
    "# Graph input/output\n",
    "\n",
    "###original functions\n",
    "x = tf.placeholder(tf.float32, [None, n_steps, n_input])\n",
    "print('x_shape',x.shape)\n",
    "y = tf.placeholder(tf.float32, [None, n_classes])\n",
    "print('y_shape',y.shape)\n",
    "###modiefied to work with eager execution enabled - currently seems to work by simply removing \"placeholder\"\n",
    "#x = str([None, n_steps, n_input])\n",
    "#print (x.shape)\n",
    "#y = str([None, n_classes])\n",
    "\n",
    "\n",
    "# Graph weights (tf.random_normal was the old version, now it's tf.random.normal)\n",
    "weights = {\n",
    "    'hidden': tf.Variable(tf.random.normal([n_input, n_hidden])), # Hidden layer weights\n",
    "    'out': tf.Variable(tf.random.normal([n_hidden, n_classes], mean=1.0))\n",
    "}\n",
    "biases = {\n",
    "    'hidden': tf.Variable(tf.random.normal([n_hidden])),\n",
    "    'out': tf.Variable(tf.random.normal([n_classes]))\n",
    "}\n",
    "\n",
    "pred = LSTM_RNN(x, weights, biases)\n",
    "\n",
    "\n",
    "# Loss, optimizer and evaluation\n",
    "l2 = lambda_loss_amount * sum(\n",
    "    tf.nn.l2_loss(tf_var) for tf_var in tf.trainable_variables()\n",
    ") # L2 loss prevents this overkill neural network to overfit the data\n",
    "cost = tf.reduce_mean(tf.nn.softmax_cross_entropy_with_logits(labels=y, logits=pred)) + l2 # Softmax loss\n",
    "optimizer = tf.train.AdamOptimizer(learning_rate=learning_rate).minimize(cost) # Adam Optimizer\n",
    "\n",
    "correct_pred = tf.equal(tf.argmax(pred,1), tf.argmax(y,1))\n",
    "accuracy = tf.reduce_mean(tf.cast(correct_pred, tf.float32))\n"
   ]
  },
  {
   "cell_type": "markdown",
   "metadata": {},
   "source": [
    "### Train Neural Network"
   ]
  },
  {
   "cell_type": "code",
   "execution_count": 9,
   "metadata": {},
   "outputs": [
    {
     "name": "stdout",
     "output_type": "stream",
     "text": [
      "Device mapping:\n",
      "/job:localhost/replica:0/task:0/device:XLA_CPU:0 -> device: XLA_CPU device\n",
      "/job:localhost/replica:0/task:0/device:XLA_GPU:0 -> device: XLA_GPU device\n",
      "/job:localhost/replica:0/task:0/device:XLA_GPU:1 -> device: XLA_GPU device\n",
      "/job:localhost/replica:0/task:0/device:XLA_GPU:2 -> device: XLA_GPU device\n",
      "\n",
      "Training iter #1500:   Batch Loss = 3.355258, Accuracy = 0.18733333051204681\n",
      "PERFORMANCE ON TEST SET: Batch Loss = 2.7942986488342285, Accuracy = 0.12928402423858643\n",
      "Training iter #30000:   Batch Loss = 1.606052, Accuracy = 0.5853333473205566\n",
      "PERFORMANCE ON TEST SET: Batch Loss = 1.571873426437378, Accuracy = 0.6114692687988281\n",
      "Training iter #60000:   Batch Loss = 1.163111, Accuracy = 0.7693333625793457\n",
      "PERFORMANCE ON TEST SET: Batch Loss = 1.250218391418457, Accuracy = 0.7207329273223877\n",
      "Training iter #90000:   Batch Loss = 1.149523, Accuracy = 0.7566666603088379\n",
      "PERFORMANCE ON TEST SET: Batch Loss = 1.1532727479934692, Accuracy = 0.7994570732116699\n",
      "Training iter #120000:   Batch Loss = 0.851663, Accuracy = 0.9113333225250244\n",
      "PERFORMANCE ON TEST SET: Batch Loss = 1.056686520576477, Accuracy = 0.8408551216125488\n",
      "Training iter #150000:   Batch Loss = 0.762931, Accuracy = 0.9300000071525574\n",
      "PERFORMANCE ON TEST SET: Batch Loss = 1.0255008935928345, Accuracy = 0.8500169515609741\n",
      "Training iter #180000:   Batch Loss = 0.819198, Accuracy = 0.8713333606719971\n",
      "PERFORMANCE ON TEST SET: Batch Loss = 0.9599875211715698, Accuracy = 0.8680013418197632\n",
      "Training iter #210000:   Batch Loss = 0.758574, Accuracy = 0.9213333129882812\n",
      "PERFORMANCE ON TEST SET: Batch Loss = 0.9261715412139893, Accuracy = 0.8758059144020081\n",
      "Training iter #240000:   Batch Loss = 0.644193, Accuracy = 0.9586666822433472\n",
      "PERFORMANCE ON TEST SET: Batch Loss = 0.9565712213516235, Accuracy = 0.8669833540916443\n",
      "Training iter #270000:   Batch Loss = 0.641977, Accuracy = 0.9713333249092102\n",
      "PERFORMANCE ON TEST SET: Batch Loss = 0.8789939284324646, Accuracy = 0.8903970122337341\n",
      "Training iter #300000:   Batch Loss = 0.594824, Accuracy = 0.9853333234786987\n",
      "PERFORMANCE ON TEST SET: Batch Loss = 0.9239291548728943, Accuracy = 0.8866643905639648\n",
      "Training iter #330000:   Batch Loss = 0.633588, Accuracy = 0.9753333330154419\n",
      "PERFORMANCE ON TEST SET: Batch Loss = 0.9345765113830566, Accuracy = 0.8853070735931396\n",
      "Training iter #360000:   Batch Loss = 0.649453, Accuracy = 0.9493333101272583\n",
      "PERFORMANCE ON TEST SET: Batch Loss = 0.9486608505249023, Accuracy = 0.8897183537483215\n",
      "Training iter #390000:   Batch Loss = 0.648389, Accuracy = 0.940666675567627\n",
      "PERFORMANCE ON TEST SET: Batch Loss = 0.8611038327217102, Accuracy = 0.8870037198066711\n",
      "Training iter #420000:   Batch Loss = 0.579481, Accuracy = 0.9526666402816772\n",
      "PERFORMANCE ON TEST SET: Batch Loss = 0.8804976940155029, Accuracy = 0.8907363414764404\n",
      "Training iter #450000:   Batch Loss = 0.564105, Accuracy = 0.9553333520889282\n",
      "PERFORMANCE ON TEST SET: Batch Loss = 0.8898316621780396, Accuracy = 0.8893790245056152\n",
      "Training iter #480000:   Batch Loss = 0.578114, Accuracy = 0.9353333115577698\n",
      "PERFORMANCE ON TEST SET: Batch Loss = 0.8604087233543396, Accuracy = 0.8951476216316223\n",
      "Training iter #510000:   Batch Loss = 0.531707, Accuracy = 0.9639999866485596\n",
      "PERFORMANCE ON TEST SET: Batch Loss = 0.8923548460006714, Accuracy = 0.8859857320785522\n",
      "Training iter #540000:   Batch Loss = 0.584141, Accuracy = 0.9319999814033508\n",
      "PERFORMANCE ON TEST SET: Batch Loss = 0.7954690456390381, Accuracy = 0.9043094515800476\n",
      "Training iter #570000:   Batch Loss = 0.696710, Accuracy = 0.8773333430290222\n",
      "PERFORMANCE ON TEST SET: Batch Loss = 0.8401439189910889, Accuracy = 0.8659653663635254\n",
      "Training iter #600000:   Batch Loss = 0.674880, Accuracy = 0.859333336353302\n",
      "PERFORMANCE ON TEST SET: Batch Loss = 0.8831577301025391, Accuracy = 0.8262640237808228\n",
      "Training iter #630000:   Batch Loss = 0.501717, Accuracy = 0.9726666808128357\n",
      "PERFORMANCE ON TEST SET: Batch Loss = 0.8410912752151489, Accuracy = 0.8595181703567505\n",
      "Training iter #660000:   Batch Loss = 0.499767, Accuracy = 0.9713333249092102\n",
      "PERFORMANCE ON TEST SET: Batch Loss = 0.7164516448974609, Accuracy = 0.9032914638519287\n",
      "Training iter #690000:   Batch Loss = 0.446878, Accuracy = 0.9980000257492065\n",
      "PERFORMANCE ON TEST SET: Batch Loss = 0.7223625183105469, Accuracy = 0.898201584815979\n",
      "Training iter #720000:   Batch Loss = 0.519322, Accuracy = 0.95333331823349\n",
      "PERFORMANCE ON TEST SET: Batch Loss = 0.7524673938751221, Accuracy = 0.9012554883956909\n",
      "Training iter #750000:   Batch Loss = 0.533415, Accuracy = 0.940666675567627\n",
      "PERFORMANCE ON TEST SET: Batch Loss = 0.7585297226905823, Accuracy = 0.898201584815979\n",
      "Training iter #780000:   Batch Loss = 0.448284, Accuracy = 0.9673333168029785\n",
      "PERFORMANCE ON TEST SET: Batch Loss = 0.7118558287620544, Accuracy = 0.9049881100654602\n",
      "Training iter #810000:   Batch Loss = 0.456217, Accuracy = 0.9606666564941406\n",
      "PERFORMANCE ON TEST SET: Batch Loss = 0.7231223583221436, Accuracy = 0.8951476216316223\n",
      "Training iter #840000:   Batch Loss = 0.466986, Accuracy = 0.9380000233650208\n",
      "PERFORMANCE ON TEST SET: Batch Loss = 0.729884684085846, Accuracy = 0.8961656093597412\n",
      "Training iter #870000:   Batch Loss = 0.434595, Accuracy = 0.9693333506584167\n",
      "PERFORMANCE ON TEST SET: Batch Loss = 0.723660945892334, Accuracy = 0.9022734761238098\n",
      "Training iter #900000:   Batch Loss = 0.419660, Accuracy = 0.9773333072662354\n",
      "PERFORMANCE ON TEST SET: Batch Loss = 0.6954926252365112, Accuracy = 0.8954869508743286\n",
      "Training iter #930000:   Batch Loss = 0.765836, Accuracy = 0.8220000267028809\n",
      "PERFORMANCE ON TEST SET: Batch Loss = 0.7854613065719604, Accuracy = 0.8696979880332947\n",
      "Training iter #960000:   Batch Loss = 0.500020, Accuracy = 0.9326666593551636\n",
      "PERFORMANCE ON TEST SET: Batch Loss = 0.6517413854598999, Accuracy = 0.8961656093597412\n",
      "Training iter #990000:   Batch Loss = 0.423742, Accuracy = 0.9599999785423279\n",
      "PERFORMANCE ON TEST SET: Batch Loss = 0.6613031625747681, Accuracy = 0.8965049386024475\n",
      "Training iter #1020000:   Batch Loss = 0.395491, Accuracy = 0.9779999852180481\n",
      "PERFORMANCE ON TEST SET: Batch Loss = 0.6252166628837585, Accuracy = 0.9022734761238098\n",
      "Training iter #1050000:   Batch Loss = 0.374875, Accuracy = 0.981333315372467\n",
      "PERFORMANCE ON TEST SET: Batch Loss = 0.6394654512405396, Accuracy = 0.9015948176383972\n",
      "Training iter #1080000:   Batch Loss = 0.411250, Accuracy = 0.9746666550636292\n",
      "PERFORMANCE ON TEST SET: Batch Loss = 0.6511391401290894, Accuracy = 0.9029521346092224\n",
      "Training iter #1110000:   Batch Loss = 0.442347, Accuracy = 0.9419999718666077\n",
      "PERFORMANCE ON TEST SET: Batch Loss = 0.6709499359130859, Accuracy = 0.900237500667572\n",
      "Training iter #1140000:   Batch Loss = 0.440691, Accuracy = 0.9393333196640015\n",
      "PERFORMANCE ON TEST SET: Batch Loss = 0.6897076368331909, Accuracy = 0.8992195725440979\n",
      "Training iter #1170000:   Batch Loss = 0.378993, Accuracy = 0.9573333263397217\n",
      "PERFORMANCE ON TEST SET: Batch Loss = 0.6683520674705505, Accuracy = 0.9009161591529846\n",
      "Training iter #1200000:   Batch Loss = 0.391017, Accuracy = 0.95333331823349\n",
      "PERFORMANCE ON TEST SET: Batch Loss = 0.5946884155273438, Accuracy = 0.9019341468811035\n",
      "Training iter #1230000:   Batch Loss = 0.368915, Accuracy = 0.9520000219345093\n",
      "PERFORMANCE ON TEST SET: Batch Loss = 0.6017483472824097, Accuracy = 0.8992195725440979\n",
      "Training iter #1260000:   Batch Loss = 0.347766, Accuracy = 0.9766666889190674\n",
      "PERFORMANCE ON TEST SET: Batch Loss = 0.6285562515258789, Accuracy = 0.8998982310295105\n",
      "Training iter #1290000:   Batch Loss = 0.410300, Accuracy = 0.9333333373069763\n",
      "PERFORMANCE ON TEST SET: Batch Loss = 0.6316704750061035, Accuracy = 0.8968442678451538\n",
      "Training iter #1320000:   Batch Loss = 0.470351, Accuracy = 0.9179999828338623\n",
      "PERFORMANCE ON TEST SET: Batch Loss = 1.5799202919006348, Accuracy = 0.7383779883384705\n",
      "Training iter #1350000:   Batch Loss = 0.490361, Accuracy = 0.8920000195503235\n",
      "PERFORMANCE ON TEST SET: Batch Loss = 0.6478914618492126, Accuracy = 0.8639293909072876\n",
      "Training iter #1380000:   Batch Loss = 0.449053, Accuracy = 0.9173333048820496\n",
      "PERFORMANCE ON TEST SET: Batch Loss = 0.6320747137069702, Accuracy = 0.8866643905639648\n",
      "Training iter #1410000:   Batch Loss = 0.343488, Accuracy = 0.9739999771118164\n",
      "PERFORMANCE ON TEST SET: Batch Loss = 0.6367663145065308, Accuracy = 0.8853070735931396\n",
      "Training iter #1440000:   Batch Loss = 0.372231, Accuracy = 0.9713333249092102\n",
      "PERFORMANCE ON TEST SET: Batch Loss = 0.5978546738624573, Accuracy = 0.8893790245056152\n",
      "Training iter #1470000:   Batch Loss = 0.388850, Accuracy = 0.9553333520889282\n",
      "PERFORMANCE ON TEST SET: Batch Loss = 0.6044219136238098, Accuracy = 0.8927723169326782\n",
      "Training iter #1500000:   Batch Loss = 0.398693, Accuracy = 0.9413333535194397\n",
      "PERFORMANCE ON TEST SET: Batch Loss = 0.6120243072509766, Accuracy = 0.8934509754180908\n",
      "Training iter #1530000:   Batch Loss = 0.313772, Accuracy = 0.9760000109672546\n",
      "PERFORMANCE ON TEST SET: Batch Loss = 0.6289336085319519, Accuracy = 0.8910756707191467\n",
      "Training iter #1560000:   Batch Loss = 0.333875, Accuracy = 0.9559999704360962\n",
      "PERFORMANCE ON TEST SET: Batch Loss = 0.624854564666748, Accuracy = 0.8951476216316223\n",
      "Training iter #1590000:   Batch Loss = 0.341545, Accuracy = 0.9426666498184204\n",
      "PERFORMANCE ON TEST SET: Batch Loss = 0.6244126558303833, Accuracy = 0.891414999961853\n",
      "Training iter #1620000:   Batch Loss = 0.326969, Accuracy = 0.9553333520889282\n",
      "PERFORMANCE ON TEST SET: Batch Loss = 0.6139515042304993, Accuracy = 0.8951476216316223\n",
      "Training iter #1650000:   Batch Loss = 0.379770, Accuracy = 0.9139999747276306\n",
      "PERFORMANCE ON TEST SET: Batch Loss = 0.6092184782028198, Accuracy = 0.8924329876899719\n",
      "Training iter #1680000:   Batch Loss = 0.407084, Accuracy = 0.9020000100135803\n",
      "PERFORMANCE ON TEST SET: Batch Loss = 0.593409538269043, Accuracy = 0.8903970122337341\n",
      "Training iter #1710000:   Batch Loss = 0.365696, Accuracy = 0.9253333210945129\n",
      "PERFORMANCE ON TEST SET: Batch Loss = 0.5724326372146606, Accuracy = 0.9012554883956909\n",
      "Training iter #1740000:   Batch Loss = 0.292199, Accuracy = 0.9739999771118164\n",
      "PERFORMANCE ON TEST SET: Batch Loss = 0.6118550896644592, Accuracy = 0.8897183537483215\n",
      "Training iter #1770000:   Batch Loss = 0.314240, Accuracy = 0.9679999947547913\n",
      "PERFORMANCE ON TEST SET: Batch Loss = 0.5790184140205383, Accuracy = 0.8988802433013916\n",
      "Training iter #1800000:   Batch Loss = 0.292207, Accuracy = 0.9726666808128357\n",
      "PERFORMANCE ON TEST SET: Batch Loss = 0.5268676280975342, Accuracy = 0.9093993902206421\n",
      "Training iter #1830000:   Batch Loss = 0.344881, Accuracy = 0.9526666402816772\n",
      "PERFORMANCE ON TEST SET: Batch Loss = 0.533257007598877, Accuracy = 0.9015948176383972\n",
      "Training iter #1860000:   Batch Loss = 0.392505, Accuracy = 0.8986666798591614\n",
      "PERFORMANCE ON TEST SET: Batch Loss = 0.5685201287269592, Accuracy = 0.8713946342468262\n",
      "Training iter #1890000:   Batch Loss = 0.293879, Accuracy = 0.9679999947547913\n",
      "PERFORMANCE ON TEST SET: Batch Loss = 0.5801821351051331, Accuracy = 0.8893790245056152\n",
      "Training iter #1920000:   Batch Loss = 0.281657, Accuracy = 0.9606666564941406\n",
      "PERFORMANCE ON TEST SET: Batch Loss = 0.5892466306686401, Accuracy = 0.8944689631462097\n",
      "Training iter #1950000:   Batch Loss = 0.287336, Accuracy = 0.9606666564941406\n",
      "PERFORMANCE ON TEST SET: Batch Loss = 0.6114124655723572, Accuracy = 0.8958262801170349\n",
      "Training iter #1980000:   Batch Loss = 0.299989, Accuracy = 0.9286666512489319\n",
      "PERFORMANCE ON TEST SET: Batch Loss = 0.5866225361824036, Accuracy = 0.8903970122337341\n",
      "Training iter #2010000:   Batch Loss = 0.263102, Accuracy = 0.9793333411216736\n",
      "PERFORMANCE ON TEST SET: Batch Loss = 0.6052281260490417, Accuracy = 0.8965049386024475\n",
      "Training iter #2040000:   Batch Loss = 0.465288, Accuracy = 0.8846666812896729\n",
      "PERFORMANCE ON TEST SET: Batch Loss = 0.6056033968925476, Accuracy = 0.8815745115280151\n",
      "Training iter #2070000:   Batch Loss = 0.372066, Accuracy = 0.8933333158493042\n",
      "PERFORMANCE ON TEST SET: Batch Loss = 0.5572452545166016, Accuracy = 0.8795385360717773\n",
      "Training iter #2100000:   Batch Loss = 0.247911, Accuracy = 0.9879999756813049\n",
      "PERFORMANCE ON TEST SET: Batch Loss = 0.5448143482208252, Accuracy = 0.8954869508743286\n",
      "Training iter #2130000:   Batch Loss = 0.295487, Accuracy = 0.9746666550636292\n",
      "PERFORMANCE ON TEST SET: Batch Loss = 0.622531533241272, Accuracy = 0.8931116461753845\n",
      "Training iter #2160000:   Batch Loss = 0.252592, Accuracy = 0.9739999771118164\n",
      "PERFORMANCE ON TEST SET: Batch Loss = 0.5187355279922485, Accuracy = 0.9026128053665161\n",
      "Training iter #2190000:   Batch Loss = 0.271068, Accuracy = 0.9559999704360962\n",
      "PERFORMANCE ON TEST SET: Batch Loss = 0.5505102872848511, Accuracy = 0.8887003660202026\n",
      "Optimization Finished!\n",
      "FINAL RESULT: Batch Loss = 0.5567848682403564, Accuracy = 0.8907363414764404\n"
     ]
    }
   ],
   "source": [
    "# To keep track of training's performance\n",
    "test_losses = []\n",
    "test_accuracies = []\n",
    "train_losses = []\n",
    "train_accuracies = []\n",
    "\n",
    "# Launch the graph\n",
    "sess = tf.InteractiveSession(config=tf.ConfigProto(log_device_placement=True))\n",
    "init = tf.global_variables_initializer()\n",
    "sess.run(init)\n",
    "\n",
    "# Perform Training steps with \"batch_size\" amount of example data at each loop\n",
    "step = 1\n",
    "while step * batch_size <= training_iters:\n",
    "    batch_xs =         extract_batch_size(X_train, step, batch_size)\n",
    "    batch_ys = one_hot(extract_batch_size(y_train, step, batch_size))\n",
    "\n",
    "    # Fit training using batch data\n",
    "    _, loss, acc = sess.run(\n",
    "        [optimizer, cost, accuracy],\n",
    "        feed_dict={\n",
    "            x: batch_xs, \n",
    "            y: batch_ys\n",
    "        }\n",
    "    )\n",
    "    train_losses.append(loss)\n",
    "    train_accuracies.append(acc)\n",
    "    \n",
    "    # Evaluate network only at some steps for faster training: \n",
    "    if (step*batch_size % display_iter == 0) or (step == 1) or (step * batch_size > training_iters):\n",
    "        \n",
    "        # To not spam console, show training accuracy/loss in this \"if\"\n",
    "        print(\"Training iter #\" + str(step*batch_size) + \\\n",
    "              \":   Batch Loss = \" + \"{:.6f}\".format(loss) + \\\n",
    "              \", Accuracy = {}\".format(acc))\n",
    "        \n",
    "        # Evaluation on the test set (no learning made here - just evaluation for diagnosis)\n",
    "        loss, acc = sess.run(\n",
    "            [cost, accuracy], \n",
    "            feed_dict={\n",
    "                x: X_test,\n",
    "                y: one_hot(y_test)\n",
    "            }\n",
    "        )\n",
    "        test_losses.append(loss)\n",
    "        test_accuracies.append(acc)\n",
    "        print(\"PERFORMANCE ON TEST SET: \" + \\\n",
    "              \"Batch Loss = {}\".format(loss) + \\\n",
    "              \", Accuracy = {}\".format(acc))\n",
    "\n",
    "    step += 1\n",
    "\n",
    "print(\"Optimization Finished!\")\n",
    "\n",
    "# Accuracy for test data\n",
    "\n",
    "one_hot_predictions, accuracy, final_loss = sess.run(\n",
    "    [pred, accuracy, cost],\n",
    "    feed_dict={\n",
    "        x: X_test,\n",
    "        y: one_hot(y_test)\n",
    "    }\n",
    ")\n",
    "\n",
    "test_losses.append(final_loss)\n",
    "test_accuracies.append(accuracy)\n",
    "\n",
    "print(\"FINAL RESULT: \" + \\\n",
    "      \"Batch Loss = {}\".format(final_loss) + \\\n",
    "      \", Accuracy = {}\".format(accuracy))\n"
   ]
  },
  {
   "cell_type": "code",
   "execution_count": 10,
   "metadata": {},
   "outputs": [
    {
     "data": {
      "image/png": "[encoded data removed]",
      "text/plain": [
       "<Figure size 864x864 with 1 Axes>"
      ]
     },
     "metadata": {
      "needs_background": "light"
     },
     "output_type": "display_data"
    }
   ],
   "source": [
    "# (Inline plots: )\n",
    "%matplotlib inline\n",
    "\n",
    "font = {\n",
    "    'family' : 'Bitstream Vera Sans',\n",
    "    'weight' : 'bold',\n",
    "    'size'   : 18\n",
    "}\n",
    "matplotlib.rc('font', **font)\n",
    "\n",
    "width = 12\n",
    "height = 12\n",
    "plt.figure(figsize=(width, height))\n",
    "\n",
    "indep_train_axis = np.array(range(batch_size, (len(train_losses)+1)*batch_size, batch_size))\n",
    "#plt.plot(indep_train_axis, np.array(train_losses),     \"b--\", label=\"Train losses\")\n",
    "plt.plot(indep_train_axis, np.array(train_accuracies), \"g--\", label=\"Train accuracies\")\n",
    "\n",
    "indep_test_axis = np.append(\n",
    "    np.array(range(batch_size, len(test_losses)*display_iter, display_iter)[:-1]),\n",
    "    [training_iters]\n",
    ")\n",
    "#plt.plot(indep_test_axis, np.array(test_losses),     \"b-\", label=\"Test losses\")\n",
    "plt.plot(indep_test_axis, np.array(test_accuracies), \"g-\", label=\"Test accuracies\")\n",
    "\n",
    "plt.title(\"Training session's progress over iterations\")\n",
    "plt.legend(loc='upper right', shadow=True)\n",
    "plt.ylabel('Training Progress (Loss or Accuracy values)')\n",
    "plt.xlabel('Training iteration')\n",
    "\n",
    "plt.show()"
   ]
  },
  {
   "cell_type": "markdown",
   "metadata": {},
   "source": [
    "### Confusion Matrix"
   ]
  },
  {
   "cell_type": "code",
   "execution_count": 11,
   "metadata": {},
   "outputs": [
    {
     "name": "stdout",
     "output_type": "stream",
     "text": [
      "Testing Accuracy: 89.07363414764404%\n",
      "\n",
      "Precision: 89.57483316614899%\n",
      "Recall: 89.07363420427554%\n",
      "f1_score: 89.09219391211002%\n",
      "\n",
      "Confusion Matrix:\n",
      "[[447   1  48   0   0   0]\n",
      " [ 13 422  36   0   0   0]\n",
      " [  0   2 418   0   0   0]\n",
      " [  0   8   0 417  66   0]\n",
      " [  3   0   0 128 401   0]\n",
      " [  0  17   0   0   0 520]]\n",
      "\n",
      "Confusion matrix (normalised to % of total test data):\n",
      "[[15.167968    0.03393281  1.628775    0.          0.          0.        ]\n",
      " [ 0.44112659 14.319647    1.2215812   0.          0.          0.        ]\n",
      " [ 0.          0.06786563 14.183916    0.          0.          0.        ]\n",
      " [ 0.          0.2714625   0.         14.149983    2.2395658   0.        ]\n",
      " [ 0.10179844  0.          0.          4.3434     13.607058    0.        ]\n",
      " [ 0.          0.5768578   0.          0.          0.         17.645063  ]]\n",
      "Note: training and testing data is not equally distributed amongst classes, \n",
      "so it is normal that more than a 6th of the data is correctly classifier in the last category.\n"
     ]
    },
    {
     "data": {
      "image/png": "[encoded data removed]",
      "text/plain": [
       "<Figure size 864x864 with 2 Axes>"
      ]
     },
     "metadata": {
      "needs_background": "light"
     },
     "output_type": "display_data"
    }
   ],
   "source": [
    "# Results\n",
    "\n",
    "predictions = one_hot_predictions.argmax(1)\n",
    "\n",
    "print(\"Testing Accuracy: {}%\".format(100*accuracy))\n",
    "\n",
    "print(\"\")\n",
    "print(\"Precision: {}%\".format(100*metrics.precision_score(y_test, predictions, average=\"weighted\")))\n",
    "print(\"Recall: {}%\".format(100*metrics.recall_score(y_test, predictions, average=\"weighted\")))\n",
    "print(\"f1_score: {}%\".format(100*metrics.f1_score(y_test, predictions, average=\"weighted\")))\n",
    "\n",
    "print(\"\")\n",
    "print(\"Confusion Matrix:\")\n",
    "confusion_matrix = metrics.confusion_matrix(y_test, predictions)\n",
    "print(confusion_matrix)\n",
    "normalised_confusion_matrix = np.array(confusion_matrix, dtype=np.float32)/np.sum(confusion_matrix)*100\n",
    "\n",
    "print(\"\")\n",
    "print(\"Confusion matrix (normalised to % of total test data):\")\n",
    "print(normalised_confusion_matrix)\n",
    "print(\"Note: training and testing data is not equally distributed amongst classes, \")\n",
    "print(\"so it is normal that more than a 6th of the data is correctly classifier in the last category.\")\n",
    "\n",
    "# Plot Results: \n",
    "width = 12\n",
    "height = 12\n",
    "plt.figure(figsize=(width, height))\n",
    "plt.imshow(\n",
    "    normalised_confusion_matrix, \n",
    "    interpolation='nearest', \n",
    "    cmap=plt.cm.rainbow\n",
    ")\n",
    "plt.title(\"Confusion matrix \\n(normalised to % of total test data)\")\n",
    "plt.colorbar()\n",
    "tick_marks = np.arange(n_classes)\n",
    "plt.xticks(tick_marks, LABELS, rotation=90)\n",
    "plt.yticks(tick_marks, LABELS)\n",
    "plt.tight_layout()\n",
    "plt.ylabel('True label')\n",
    "plt.xlabel('Predicted label')\n",
    "plt.show()"
   ]
  },
  {
   "cell_type": "code",
   "execution_count": 15,
   "metadata": {},
   "outputs": [
    {
     "ename": "AttributeError",
     "evalue": "'Tensor' object has no attribute 'summary'",
     "output_type": "error",
     "traceback": [
      "\u001b[0;31m---------------------------------------------------------------------------\u001b[0m",
      "\u001b[0;31mAttributeError\u001b[0m                            Traceback (most recent call last)",
      "\u001b[0;32m<ipython-input-15-edff7801cba5>\u001b[0m in \u001b[0;36m<module>\u001b[0;34m\u001b[0m\n\u001b[0;32m----> 1\u001b[0;31m \u001b[0mpred\u001b[0m\u001b[0;34m.\u001b[0m\u001b[0msummary\u001b[0m\u001b[0;34m(\u001b[0m\u001b[0;34m)\u001b[0m\u001b[0;34m\u001b[0m\u001b[0;34m\u001b[0m\u001b[0m\n\u001b[0m",
      "\u001b[0;31mAttributeError\u001b[0m: 'Tensor' object has no attribute 'summary'"
     ]
    }
   ],
   "source": [
    "pred.summary()"
   ]
  },
  {
   "cell_type": "code",
   "execution_count": 12,
   "metadata": {},
   "outputs": [
    {
     "ename": "AttributeError",
     "evalue": "'InteractiveSession' object has no attribute 'summary'",
     "output_type": "error",
     "traceback": [
      "\u001b[0;31m---------------------------------------------------------------------------\u001b[0m",
      "\u001b[0;31mAttributeError\u001b[0m                            Traceback (most recent call last)",
      "\u001b[0;32m<ipython-input-12-56641e09fd1c>\u001b[0m in \u001b[0;36m<module>\u001b[0;34m\u001b[0m\n\u001b[0;32m----> 1\u001b[0;31m \u001b[0msess\u001b[0m\u001b[0;34m.\u001b[0m\u001b[0msummary\u001b[0m\u001b[0;34m(\u001b[0m\u001b[0;34m)\u001b[0m\u001b[0;34m\u001b[0m\u001b[0;34m\u001b[0m\u001b[0m\n\u001b[0m",
      "\u001b[0;31mAttributeError\u001b[0m: 'InteractiveSession' object has no attribute 'summary'"
     ]
    }
   ],
   "source": [
    "sess.summary()"
   ]
  },
  {
   "cell_type": "markdown",
   "metadata": {},
   "source": [
    "### Trying out LRP on the RNN"
   ]
  },
  {
   "cell_type": "code",
   "execution_count": 15,
   "metadata": {},
   "outputs": [
    {
     "ename": "AttributeError",
     "evalue": "'dict' object has no attribute 'reverse'",
     "output_type": "error",
     "traceback": [
      "\u001b[0;31m---------------------------------------------------------------------------\u001b[0m",
      "\u001b[0;31mAttributeError\u001b[0m                            Traceback (most recent call last)",
      "\u001b[0;32m<ipython-input-15-c998e76bff33>\u001b[0m in \u001b[0;36m<module>\u001b[0;34m\u001b[0m\n\u001b[1;32m      4\u001b[0m \u001b[0mpool_strides\u001b[0m \u001b[0;34m=\u001b[0m \u001b[0;36m2\u001b[0m\u001b[0;34m\u001b[0m\u001b[0;34m\u001b[0m\u001b[0m\n\u001b[1;32m      5\u001b[0m \u001b[0;34m\u001b[0m\u001b[0m\n\u001b[0;32m----> 6\u001b[0;31m \u001b[0mweights\u001b[0m\u001b[0;34m.\u001b[0m\u001b[0mreverse\u001b[0m\u001b[0;34m(\u001b[0m\u001b[0;34m)\u001b[0m\u001b[0;34m\u001b[0m\u001b[0;34m\u001b[0m\u001b[0m\n\u001b[0m\u001b[1;32m      7\u001b[0m \u001b[0mactivations\u001b[0m\u001b[0;34m.\u001b[0m\u001b[0mreverse\u001b[0m\u001b[0;34m(\u001b[0m\u001b[0;34m)\u001b[0m\u001b[0;34m\u001b[0m\u001b[0;34m\u001b[0m\u001b[0m\n",
      "\u001b[0;31mAttributeError\u001b[0m: 'dict' object has no attribute 'reverse'"
     ]
    }
   ],
   "source": [
    "conv_ksize = 2\n",
    "pool_ksize = 2\n",
    "conv_strides = 1\n",
    "pool_strides = 2\n",
    "\n",
    "weights.reverse()\n",
    "activations.reverse()"
   ]
  },
  {
   "cell_type": "code",
   "execution_count": 16,
   "metadata": {},
   "outputs": [
    {
     "name": "stdout",
     "output_type": "stream",
     "text": [
      "Tensor(\"add_3:0\", shape=(None, 6), dtype=float32)\n"
     ]
    }
   ],
   "source": [
    "print(pred)"
   ]
  },
  {
   "cell_type": "code",
   "execution_count": 19,
   "metadata": {},
   "outputs": [
    {
     "name": "stdout",
     "output_type": "stream",
     "text": [
      "{'hidden': <tf.Variable 'Variable_12:0' shape=(9, 32) dtype=float32>, 'out': <tf.Variable 'Variable_13:0' shape=(32, 6) dtype=float32>}\n"
     ]
    }
   ],
   "source": [
    "print(weights)"
   ]
  },
  {
   "cell_type": "code",
   "execution_count": 21,
   "metadata": {},
   "outputs": [
    {
     "ename": "AttributeError",
     "evalue": "'function' object has no attribute 'summary'",
     "output_type": "error",
     "traceback": [
      "\u001b[0;31m---------------------------------------------------------------------------\u001b[0m",
      "\u001b[0;31mAttributeError\u001b[0m                            Traceback (most recent call last)",
      "\u001b[0;32m<ipython-input-21-7763924cce8d>\u001b[0m in \u001b[0;36m<module>\u001b[0;34m\u001b[0m\n\u001b[0;32m----> 1\u001b[0;31m \u001b[0mLSTM_RNN\u001b[0m\u001b[0;34m.\u001b[0m\u001b[0msummary\u001b[0m\u001b[0;34m(\u001b[0m\u001b[0;34m)\u001b[0m\u001b[0;34m\u001b[0m\u001b[0;34m\u001b[0m\u001b[0m\n\u001b[0m",
      "\u001b[0;31mAttributeError\u001b[0m: 'function' object has no attribute 'summary'"
     ]
    }
   ],
   "source": [
    "LSTM_RNN.summary()"
   ]
  },
  {
   "cell_type": "code",
   "execution_count": 22,
   "metadata": {},
   "outputs": [
    {
     "ename": "AttributeError",
     "evalue": "'Tensor' object has no attribute 'reverse'",
     "output_type": "error",
     "traceback": [
      "\u001b[0;31m---------------------------------------------------------------------------\u001b[0m",
      "\u001b[0;31mAttributeError\u001b[0m                            Traceback (most recent call last)",
      "\u001b[0;32m<ipython-input-22-ef1c9b7d1007>\u001b[0m in \u001b[0;36m<module>\u001b[0;34m\u001b[0m\n\u001b[0;32m----> 1\u001b[0;31m \u001b[0mpred\u001b[0m\u001b[0;34m.\u001b[0m\u001b[0mreverse\u001b[0m\u001b[0;34m(\u001b[0m\u001b[0;34m)\u001b[0m\u001b[0;34m\u001b[0m\u001b[0;34m\u001b[0m\u001b[0m\n\u001b[0m",
      "\u001b[0;31mAttributeError\u001b[0m: 'Tensor' object has no attribute 'reverse'"
     ]
    }
   ],
   "source": [
    "pred.reverse()"
   ]
  },
  {
   "cell_type": "code",
   "execution_count": 13,
   "metadata": {},
   "outputs": [
    {
     "data": {
      "text/plain": [
       "{'hidden': <tf.Variable 'Variable:0' shape=(9, 32) dtype=float32>,\n",
       " 'out': <tf.Variable 'Variable_1:0' shape=(32, 6) dtype=float32>}"
      ]
     },
     "execution_count": 13,
     "metadata": {},
     "output_type": "execute_result"
    }
   ],
   "source": [
    "weights"
   ]
  },
  {
   "cell_type": "code",
   "execution_count": 23,
   "metadata": {},
   "outputs": [],
   "source": [
    "weights2 = weights"
   ]
  },
  {
   "cell_type": "code",
   "execution_count": 24,
   "metadata": {},
   "outputs": [],
   "source": [
    "weights2 = tf.get_collection(tf.GraphKeys.TRAINABLE_VARIABLES, scope='.*kernel.*')"
   ]
  },
  {
   "cell_type": "code",
   "execution_count": 25,
   "metadata": {},
   "outputs": [
    {
     "data": {
      "text/plain": [
       "[<tf.Variable 'rnn/multi_rnn_cell/cell_0/lstm_cell/kernel:0' shape=(64, 128) dtype=float32>,\n",
       " <tf.Variable 'rnn/multi_rnn_cell/cell_1/lstm_cell/kernel:0' shape=(64, 128) dtype=float32>]"
      ]
     },
     "execution_count": 25,
     "metadata": {},
     "output_type": "execute_result"
    }
   ],
   "source": [
    "weights2"
   ]
  },
  {
   "cell_type": "code",
   "execution_count": 26,
   "metadata": {},
   "outputs": [
    {
     "ename": "AttributeError",
     "evalue": "'dict' object has no attribute 'reverse'",
     "output_type": "error",
     "traceback": [
      "\u001b[0;31m---------------------------------------------------------------------------\u001b[0m",
      "\u001b[0;31mAttributeError\u001b[0m                            Traceback (most recent call last)",
      "\u001b[0;32m<ipython-input-26-f1081d1cecc6>\u001b[0m in \u001b[0;36m<module>\u001b[0;34m\u001b[0m\n\u001b[0;32m----> 1\u001b[0;31m \u001b[0mweights\u001b[0m\u001b[0;34m.\u001b[0m\u001b[0mreverse\u001b[0m\u001b[0;34m(\u001b[0m\u001b[0;34m)\u001b[0m\u001b[0;34m\u001b[0m\u001b[0;34m\u001b[0m\u001b[0m\n\u001b[0m",
      "\u001b[0;31mAttributeError\u001b[0m: 'dict' object has no attribute 'reverse'"
     ]
    }
   ],
   "source": [
    "weights.reverse()"
   ]
  },
  {
   "cell_type": "code",
   "execution_count": 25,
   "metadata": {},
   "outputs": [],
   "source": [
    "biases = tf.get_collection(tf.GraphKeys.TRAINABLE_VARIABLES, scope='.*bias.*')"
   ]
  },
  {
   "cell_type": "code",
   "execution_count": 14,
   "metadata": {},
   "outputs": [
    {
     "data": {
      "text/plain": [
       "{'hidden': <tf.Variable 'Variable_2:0' shape=(32,) dtype=float32>,\n",
       " 'out': <tf.Variable 'Variable_3:0' shape=(6,) dtype=float32>}"
      ]
     },
     "execution_count": 14,
     "metadata": {},
     "output_type": "execute_result"
    }
   ],
   "source": [
    "biases"
   ]
  },
  {
   "cell_type": "code",
   "execution_count": 12,
   "metadata": {},
   "outputs": [
    {
     "data": {
      "text/plain": [
       "<tf.Tensor 'Placeholder:0' shape=(None, 128, 9) dtype=float32>"
      ]
     },
     "execution_count": 12,
     "metadata": {},
     "output_type": "execute_result"
    }
   ],
   "source": [
    "x"
   ]
  },
  {
   "cell_type": "code",
   "execution_count": 17,
   "metadata": {},
   "outputs": [
    {
     "ename": "AttributeError",
     "evalue": "'Tensor' object has no attribute 'reverse'",
     "output_type": "error",
     "traceback": [
      "\u001b[0;31m---------------------------------------------------------------------------\u001b[0m",
      "\u001b[0;31mAttributeError\u001b[0m                            Traceback (most recent call last)",
      "\u001b[0;32m<ipython-input-17-1cc9031a0932>\u001b[0m in \u001b[0;36m<module>\u001b[0;34m\u001b[0m\n\u001b[0;32m----> 1\u001b[0;31m \u001b[0mx\u001b[0m\u001b[0;34m.\u001b[0m\u001b[0mreverse\u001b[0m\u001b[0;34m(\u001b[0m\u001b[0;34m)\u001b[0m\u001b[0;34m\u001b[0m\u001b[0;34m\u001b[0m\u001b[0m\n\u001b[0m",
      "\u001b[0;31mAttributeError\u001b[0m: 'Tensor' object has no attribute 'reverse'"
     ]
    }
   ],
   "source": [
    "x.reverse()"
   ]
  },
  {
   "cell_type": "code",
   "execution_count": 19,
   "metadata": {},
   "outputs": [],
   "source": [
    "act = x"
   ]
  },
  {
   "cell_type": "code",
   "execution_count": 20,
   "metadata": {},
   "outputs": [
    {
     "data": {
      "text/plain": [
       "<tf.Tensor 'Placeholder:0' shape=(None, 128, 9) dtype=float32>"
      ]
     },
     "execution_count": 20,
     "metadata": {},
     "output_type": "execute_result"
    }
   ],
   "source": [
    "act"
   ]
  },
  {
   "cell_type": "code",
   "execution_count": null,
   "metadata": {},
   "outputs": [],
   "source": [
    "act = tf.get_collection(tf.GraphKeys.TRAINABLE_VARIABLES, scope='.*bias.*')"
   ]
  },
  {
   "cell_type": "code",
   "execution_count": 21,
   "metadata": {},
   "outputs": [],
   "source": [
    "activations = tf.get_collection('DTD')"
   ]
  },
  {
   "cell_type": "code",
   "execution_count": 22,
   "metadata": {},
   "outputs": [
    {
     "ename": "IndexError",
     "evalue": "list index out of range",
     "output_type": "error",
     "traceback": [
      "\u001b[0;31m---------------------------------------------------------------------------\u001b[0m",
      "\u001b[0;31mIndexError\u001b[0m                                Traceback (most recent call last)",
      "\u001b[0;32m<ipython-input-22-9e4353f22b39>\u001b[0m in \u001b[0;36m<module>\u001b[0;34m\u001b[0m\n\u001b[0;32m----> 1\u001b[0;31m \u001b[0mX\u001b[0m \u001b[0;34m=\u001b[0m \u001b[0mactivations\u001b[0m\u001b[0;34m[\u001b[0m\u001b[0;36m0\u001b[0m\u001b[0;34m]\u001b[0m\u001b[0;34m\u001b[0m\u001b[0;34m\u001b[0m\u001b[0m\n\u001b[0m",
      "\u001b[0;31mIndexError\u001b[0m: list index out of range"
     ]
    }
   ],
   "source": [
    "X = activations[0]"
   ]
  },
  {
   "cell_type": "code",
   "execution_count": 28,
   "metadata": {},
   "outputs": [
    {
     "data": {
      "text/plain": [
       "<tf.Tensor 'Placeholder:0' shape=(None, 128, 9) dtype=float32>"
      ]
     },
     "execution_count": 28,
     "metadata": {},
     "output_type": "execute_result"
    }
   ],
   "source": [
    "x"
   ]
  },
  {
   "cell_type": "code",
   "execution_count": null,
   "metadata": {},
   "outputs": [],
   "source": []
  }
 ],
 "metadata": {
  "kernelspec": {
   "display_name": "Python 3",
   "language": "python",
   "name": "python3"
  },
  "language_info": {
   "codemirror_mode": {
    "name": "ipython",
    "version": 3
   },
   "file_extension": ".py",
   "mimetype": "text/x-python",
   "name": "python",
   "nbconvert_exporter": "python",
   "pygments_lexer": "ipython3",
   "version": "3.8.2"
  }
 },
 "nbformat": 4,
 "nbformat_minor": 4
}
