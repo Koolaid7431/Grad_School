{
 "cells": [
  {
   "cell_type": "code",
   "execution_count": 1,
   "metadata": {
    "id": "EVfhFOgfAJxB"
   },
   "outputs": [],
   "source": [
    "import tensorflow as tf\n",
    "\n",
    "import numpy as np\n",
    "import pandas as pd\n",
    "from sklearn import model_selection\n",
    "from sklearn.preprocessing import LabelEncoder \n"
   ]
  },
  {
   "cell_type": "code",
   "execution_count": 20,
   "metadata": {
    "id": "vqXYIhKKAJxC"
   },
   "outputs": [
    {
     "data": {
      "text/html": [
       "<div>\n",
       "<style scoped>\n",
       "    .dataframe tbody tr th:only-of-type {\n",
       "        vertical-align: middle;\n",
       "    }\n",
       "\n",
       "    .dataframe tbody tr th {\n",
       "        vertical-align: top;\n",
       "    }\n",
       "\n",
       "    .dataframe thead th {\n",
       "        text-align: right;\n",
       "    }\n",
       "</style>\n",
       "<table border=\"1\" class=\"dataframe\">\n",
       "  <thead>\n",
       "    <tr style=\"text-align: right;\">\n",
       "      <th></th>\n",
       "      <th>sentence</th>\n",
       "      <th>language</th>\n",
       "    </tr>\n",
       "  </thead>\n",
       "  <tbody>\n",
       "    <tr>\n",
       "      <th>0</th>\n",
       "      <td>Jean Beauverie (Fontaines-sur-Saône, 18 febbra...</td>\n",
       "      <td>italian</td>\n",
       "    </tr>\n",
       "    <tr>\n",
       "      <th>1</th>\n",
       "      <td>Il pinguino saltarocce (Eudyptes chrysocome (F...</td>\n",
       "      <td>italian</td>\n",
       "    </tr>\n",
       "    <tr>\n",
       "      <th>2</th>\n",
       "      <td>Maison Ikkoku - Cara dolce Kyoko (めぞん一刻 Mezon ...</td>\n",
       "      <td>italian</td>\n",
       "    </tr>\n",
       "    <tr>\n",
       "      <th>3</th>\n",
       "      <td>La mia città è un singolo della cantante itali...</td>\n",
       "      <td>italian</td>\n",
       "    </tr>\n",
       "    <tr>\n",
       "      <th>4</th>\n",
       "      <td>L'Armata Rossa dei Lavoratori e dei Contadini ...</td>\n",
       "      <td>italian</td>\n",
       "    </tr>\n",
       "    <tr>\n",
       "      <th>...</th>\n",
       "      <td>...</td>\n",
       "      <td>...</td>\n",
       "    </tr>\n",
       "    <tr>\n",
       "      <th>3628</th>\n",
       "      <td>El Premio internacional de novela «Emilio Alar...</td>\n",
       "      <td>spanish</td>\n",
       "    </tr>\n",
       "    <tr>\n",
       "      <th>3629</th>\n",
       "      <td>La mujer más fea del mundo es una película esp...</td>\n",
       "      <td>spanish</td>\n",
       "    </tr>\n",
       "    <tr>\n",
       "      <th>3630</th>\n",
       "      <td>Bacuag, también conocido como  Bacnag, es un m...</td>\n",
       "      <td>spanish</td>\n",
       "    </tr>\n",
       "    <tr>\n",
       "      <th>3631</th>\n",
       "      <td>Violent Femmes es una banda de rock alternativ...</td>\n",
       "      <td>spanish</td>\n",
       "    </tr>\n",
       "    <tr>\n",
       "      <th>3632</th>\n",
       "      <td>James Guthrie (Grenock, Escocia,10 de junio de...</td>\n",
       "      <td>spanish</td>\n",
       "    </tr>\n",
       "  </tbody>\n",
       "</table>\n",
       "<p>3633 rows × 2 columns</p>\n",
       "</div>"
      ],
      "text/plain": [
       "                                               sentence language\n",
       "0     Jean Beauverie (Fontaines-sur-Saône, 18 febbra...  italian\n",
       "1     Il pinguino saltarocce (Eudyptes chrysocome (F...  italian\n",
       "2     Maison Ikkoku - Cara dolce Kyoko (めぞん一刻 Mezon ...  italian\n",
       "3     La mia città è un singolo della cantante itali...  italian\n",
       "4     L'Armata Rossa dei Lavoratori e dei Contadini ...  italian\n",
       "...                                                 ...      ...\n",
       "3628  El Premio internacional de novela «Emilio Alar...  spanish\n",
       "3629  La mujer más fea del mundo es una película esp...  spanish\n",
       "3630  Bacuag, también conocido como  Bacnag, es un m...  spanish\n",
       "3631  Violent Femmes es una banda de rock alternativ...  spanish\n",
       "3632  James Guthrie (Grenock, Escocia,10 de junio de...  spanish\n",
       "\n",
       "[3633 rows x 2 columns]"
      ]
     },
     "execution_count": 20,
     "metadata": {},
     "output_type": "execute_result"
    }
   ],
   "source": [
    "train_df = pd.read_csv('training.csv')#here should read the dataset\n",
    "train_df"
   ]
  },
  {
   "cell_type": "code",
   "execution_count": 21,
   "metadata": {
    "id": "5F-OyRasAJxE"
   },
   "outputs": [
    {
     "data": {
      "text/plain": [
       "3633"
      ]
     },
     "execution_count": 21,
     "metadata": {},
     "output_type": "execute_result"
    }
   ],
   "source": [
    "len(train_df) "
   ]
  },
  {
   "cell_type": "markdown",
   "metadata": {
    "id": "tBFT8D7XAJxE"
   },
   "source": [
    "Encode the target variable ('language') from text to number\n"
   ]
  },
  {
   "cell_type": "code",
   "execution_count": 24,
   "metadata": {
    "id": "B_vK22g8AJxE"
   },
   "outputs": [],
   "source": [
    "Y = train_df['language']\n",
    "\n",
    "#Convert Y to number \n",
    "#note 1: You may find LabelEncoder and  tf.keras.utils.to_categorical handy!\n",
    "#note 2: there are 4 languages\n",
    "\n",
    "train_df['language'].unique()\n",
    "train_df['language'].replace(to_replace=['italian', 'french', 'english', 'spanish'], value=[0,1, 2, 3], inplace=True)"
   ]
  },
  {
   "cell_type": "code",
   "execution_count": 25,
   "metadata": {
    "colab": {
     "base_uri": "https://localhost:8080/"
    },
    "id": "1v57riQYFW9k",
    "outputId": "a3b9bd08-9530-422f-ac6c-be650a0776e4"
   },
   "outputs": [
    {
     "data": {
      "text/plain": [
       "0       0\n",
       "1       0\n",
       "2       0\n",
       "3       0\n",
       "4       0\n",
       "       ..\n",
       "3628    3\n",
       "3629    3\n",
       "3630    3\n",
       "3631    3\n",
       "3632    3\n",
       "Name: language, Length: 3633, dtype: int64"
      ]
     },
     "execution_count": 25,
     "metadata": {},
     "output_type": "execute_result"
    }
   ],
   "source": [
    "Y"
   ]
  },
  {
   "cell_type": "markdown",
   "metadata": {
    "id": "XV4DQkU5AJxE"
   },
   "source": [
    "It is be expected to convert the **train_df[\"sentence\"]**\n",
    "\n",
    "*  get rid of pucntuations, \n",
    "*  convert to lower case\n",
    "* get rid of the null values\n",
    "\n",
    "let's call it :   **train_df['sentence_no_punctuation']**\n"
   ]
  },
  {
   "cell_type": "code",
   "execution_count": 26,
   "metadata": {},
   "outputs": [
    {
     "data": {
      "text/html": [
       "<div>\n",
       "<style scoped>\n",
       "    .dataframe tbody tr th:only-of-type {\n",
       "        vertical-align: middle;\n",
       "    }\n",
       "\n",
       "    .dataframe tbody tr th {\n",
       "        vertical-align: top;\n",
       "    }\n",
       "\n",
       "    .dataframe thead th {\n",
       "        text-align: right;\n",
       "    }\n",
       "</style>\n",
       "<table border=\"1\" class=\"dataframe\">\n",
       "  <thead>\n",
       "    <tr style=\"text-align: right;\">\n",
       "      <th></th>\n",
       "      <th>sentence</th>\n",
       "      <th>language</th>\n",
       "    </tr>\n",
       "  </thead>\n",
       "  <tbody>\n",
       "    <tr>\n",
       "      <th>0</th>\n",
       "      <td>Jean Beauverie (Fontaines-sur-Saône, 18 febbra...</td>\n",
       "      <td>0</td>\n",
       "    </tr>\n",
       "    <tr>\n",
       "      <th>1</th>\n",
       "      <td>Il pinguino saltarocce (Eudyptes chrysocome (F...</td>\n",
       "      <td>0</td>\n",
       "    </tr>\n",
       "    <tr>\n",
       "      <th>2</th>\n",
       "      <td>Maison Ikkoku - Cara dolce Kyoko (めぞん一刻 Mezon ...</td>\n",
       "      <td>0</td>\n",
       "    </tr>\n",
       "    <tr>\n",
       "      <th>3</th>\n",
       "      <td>La mia città è un singolo della cantante itali...</td>\n",
       "      <td>0</td>\n",
       "    </tr>\n",
       "    <tr>\n",
       "      <th>4</th>\n",
       "      <td>L'Armata Rossa dei Lavoratori e dei Contadini ...</td>\n",
       "      <td>0</td>\n",
       "    </tr>\n",
       "    <tr>\n",
       "      <th>...</th>\n",
       "      <td>...</td>\n",
       "      <td>...</td>\n",
       "    </tr>\n",
       "    <tr>\n",
       "      <th>3628</th>\n",
       "      <td>El Premio internacional de novela «Emilio Alar...</td>\n",
       "      <td>3</td>\n",
       "    </tr>\n",
       "    <tr>\n",
       "      <th>3629</th>\n",
       "      <td>La mujer más fea del mundo es una película esp...</td>\n",
       "      <td>3</td>\n",
       "    </tr>\n",
       "    <tr>\n",
       "      <th>3630</th>\n",
       "      <td>Bacuag, también conocido como  Bacnag, es un m...</td>\n",
       "      <td>3</td>\n",
       "    </tr>\n",
       "    <tr>\n",
       "      <th>3631</th>\n",
       "      <td>Violent Femmes es una banda de rock alternativ...</td>\n",
       "      <td>3</td>\n",
       "    </tr>\n",
       "    <tr>\n",
       "      <th>3632</th>\n",
       "      <td>James Guthrie (Grenock, Escocia,10 de junio de...</td>\n",
       "      <td>3</td>\n",
       "    </tr>\n",
       "  </tbody>\n",
       "</table>\n",
       "<p>3633 rows × 2 columns</p>\n",
       "</div>"
      ],
      "text/plain": [
       "                                               sentence  language\n",
       "0     Jean Beauverie (Fontaines-sur-Saône, 18 febbra...         0\n",
       "1     Il pinguino saltarocce (Eudyptes chrysocome (F...         0\n",
       "2     Maison Ikkoku - Cara dolce Kyoko (めぞん一刻 Mezon ...         0\n",
       "3     La mia città è un singolo della cantante itali...         0\n",
       "4     L'Armata Rossa dei Lavoratori e dei Contadini ...         0\n",
       "...                                                 ...       ...\n",
       "3628  El Premio internacional de novela «Emilio Alar...         3\n",
       "3629  La mujer más fea del mundo es una película esp...         3\n",
       "3630  Bacuag, también conocido como  Bacnag, es un m...         3\n",
       "3631  Violent Femmes es una banda de rock alternativ...         3\n",
       "3632  James Guthrie (Grenock, Escocia,10 de junio de...         3\n",
       "\n",
       "[3633 rows x 2 columns]"
      ]
     },
     "execution_count": 26,
     "metadata": {},
     "output_type": "execute_result"
    }
   ],
   "source": [
    "train_df"
   ]
  },
  {
   "cell_type": "code",
   "execution_count": 27,
   "metadata": {
    "id": "hfEQ5kfwAJxE"
   },
   "outputs": [
    {
     "data": {
      "text/html": [
       "<div>\n",
       "<style scoped>\n",
       "    .dataframe tbody tr th:only-of-type {\n",
       "        vertical-align: middle;\n",
       "    }\n",
       "\n",
       "    .dataframe tbody tr th {\n",
       "        vertical-align: top;\n",
       "    }\n",
       "\n",
       "    .dataframe thead th {\n",
       "        text-align: right;\n",
       "    }\n",
       "</style>\n",
       "<table border=\"1\" class=\"dataframe\">\n",
       "  <thead>\n",
       "    <tr style=\"text-align: right;\">\n",
       "      <th></th>\n",
       "      <th>sentence</th>\n",
       "      <th>language</th>\n",
       "      <th>sentence_no_punctuation</th>\n",
       "    </tr>\n",
       "  </thead>\n",
       "  <tbody>\n",
       "    <tr>\n",
       "      <th>0</th>\n",
       "      <td>Jean Beauverie (Fontaines-sur-Saône, 18 febbra...</td>\n",
       "      <td>0</td>\n",
       "      <td>jean beauverie fontainessursaône 18 febbraio 1...</td>\n",
       "    </tr>\n",
       "    <tr>\n",
       "      <th>1</th>\n",
       "      <td>Il pinguino saltarocce (Eudyptes chrysocome (F...</td>\n",
       "      <td>0</td>\n",
       "      <td>il pinguino saltarocce eudyptes chrysocome for...</td>\n",
       "    </tr>\n",
       "    <tr>\n",
       "      <th>2</th>\n",
       "      <td>Maison Ikkoku - Cara dolce Kyoko (めぞん一刻 Mezon ...</td>\n",
       "      <td>0</td>\n",
       "      <td>maison ikkoku  cara dolce kyoko めぞん一刻 mezon ik...</td>\n",
       "    </tr>\n",
       "    <tr>\n",
       "      <th>3</th>\n",
       "      <td>La mia città è un singolo della cantante itali...</td>\n",
       "      <td>0</td>\n",
       "      <td>la mia città è un singolo della cantante itali...</td>\n",
       "    </tr>\n",
       "    <tr>\n",
       "      <th>4</th>\n",
       "      <td>L'Armata Rossa dei Lavoratori e dei Contadini ...</td>\n",
       "      <td>0</td>\n",
       "      <td>larmata rossa dei lavoratori e dei contadini i...</td>\n",
       "    </tr>\n",
       "    <tr>\n",
       "      <th>...</th>\n",
       "      <td>...</td>\n",
       "      <td>...</td>\n",
       "      <td>...</td>\n",
       "    </tr>\n",
       "    <tr>\n",
       "      <th>3628</th>\n",
       "      <td>El Premio internacional de novela «Emilio Alar...</td>\n",
       "      <td>3</td>\n",
       "      <td>el premio internacional de novela emilio alarc...</td>\n",
       "    </tr>\n",
       "    <tr>\n",
       "      <th>3629</th>\n",
       "      <td>La mujer más fea del mundo es una película esp...</td>\n",
       "      <td>3</td>\n",
       "      <td>la mujer más fea del mundo es una película esp...</td>\n",
       "    </tr>\n",
       "    <tr>\n",
       "      <th>3630</th>\n",
       "      <td>Bacuag, también conocido como  Bacnag, es un m...</td>\n",
       "      <td>3</td>\n",
       "      <td>bacuag también conocido como  bacnag es un mun...</td>\n",
       "    </tr>\n",
       "    <tr>\n",
       "      <th>3631</th>\n",
       "      <td>Violent Femmes es una banda de rock alternativ...</td>\n",
       "      <td>3</td>\n",
       "      <td>violent femmes es una banda de rock alternativ...</td>\n",
       "    </tr>\n",
       "    <tr>\n",
       "      <th>3632</th>\n",
       "      <td>James Guthrie (Grenock, Escocia,10 de junio de...</td>\n",
       "      <td>3</td>\n",
       "      <td>james guthrie grenock escocia10 de junio de 18...</td>\n",
       "    </tr>\n",
       "  </tbody>\n",
       "</table>\n",
       "<p>3633 rows × 3 columns</p>\n",
       "</div>"
      ],
      "text/plain": [
       "                                               sentence  language  \\\n",
       "0     Jean Beauverie (Fontaines-sur-Saône, 18 febbra...         0   \n",
       "1     Il pinguino saltarocce (Eudyptes chrysocome (F...         0   \n",
       "2     Maison Ikkoku - Cara dolce Kyoko (めぞん一刻 Mezon ...         0   \n",
       "3     La mia città è un singolo della cantante itali...         0   \n",
       "4     L'Armata Rossa dei Lavoratori e dei Contadini ...         0   \n",
       "...                                                 ...       ...   \n",
       "3628  El Premio internacional de novela «Emilio Alar...         3   \n",
       "3629  La mujer más fea del mundo es una película esp...         3   \n",
       "3630  Bacuag, también conocido como  Bacnag, es un m...         3   \n",
       "3631  Violent Femmes es una banda de rock alternativ...         3   \n",
       "3632  James Guthrie (Grenock, Escocia,10 de junio de...         3   \n",
       "\n",
       "                                sentence_no_punctuation  \n",
       "0     jean beauverie fontainessursaône 18 febbraio 1...  \n",
       "1     il pinguino saltarocce eudyptes chrysocome for...  \n",
       "2     maison ikkoku  cara dolce kyoko めぞん一刻 mezon ik...  \n",
       "3     la mia città è un singolo della cantante itali...  \n",
       "4     larmata rossa dei lavoratori e dei contadini i...  \n",
       "...                                                 ...  \n",
       "3628  el premio internacional de novela emilio alarc...  \n",
       "3629  la mujer más fea del mundo es una película esp...  \n",
       "3630  bacuag también conocido como  bacnag es un mun...  \n",
       "3631  violent femmes es una banda de rock alternativ...  \n",
       "3632  james guthrie grenock escocia10 de junio de 18...  \n",
       "\n",
       "[3633 rows x 3 columns]"
      ]
     },
     "execution_count": 27,
     "metadata": {},
     "output_type": "execute_result"
    }
   ],
   "source": [
    "train_df['sentence_no_punctuation'] = train_df[\"sentence\"].str.lower()\n",
    "train_df['sentence_no_punctuation'] = train_df['sentence_no_punctuation'].str.replace('[^\\w\\s]','')\n",
    "train_df['sentence_no_punctuation'] = train_df[\"sentence_no_punctuation\"].fillna(\"0\")\n",
    "\n",
    "train_df"
   ]
  },
  {
   "cell_type": "code",
   "execution_count": 28,
   "metadata": {
    "id": "qrPIiKzqAJxE"
   },
   "outputs": [],
   "source": [
    "max_features=5000 #we set maximum number of words to 5000\n",
    "maxlen=400 #we set maximum sequence length to 400"
   ]
  },
  {
   "cell_type": "code",
   "execution_count": 29,
   "metadata": {
    "id": "x8N_Q_WjAJxE"
   },
   "outputs": [],
   "source": [
    "tok = tf.keras.preprocessing.text.Tokenizer(num_words=max_features) #again tokenizer step"
   ]
  },
  {
   "cell_type": "code",
   "execution_count": 30,
   "metadata": {
    "id": "rOPbVoamAJxE"
   },
   "outputs": [],
   "source": [
    "tok.fit_on_texts(list(train_df['sentence_no_punctuation'])) #fit to cleaned text"
   ]
  },
  {
   "cell_type": "code",
   "execution_count": 31,
   "metadata": {
    "colab": {
     "base_uri": "https://localhost:8080/"
    },
    "id": "y2cPGT-xAJxE",
    "outputId": "e3d63333-ae5c-4d1a-fb20-b085570a5515"
   },
   "outputs": [
    {
     "name": "stdout",
     "output_type": "stream",
     "text": [
      "51629\n"
     ]
    }
   ],
   "source": [
    "print(len(tok.word_index))\n",
    "vocab_size = len(tok.word_index) + 1 \n",
    "#this represents the number of words that we tokenize different from max_features but necessary for\n",
    "#the definition of the dimension of the embedding space"
   ]
  },
  {
   "cell_type": "code",
   "execution_count": 12,
   "metadata": {
    "id": "XaPxY37XAJxE"
   },
   "outputs": [],
   "source": [
    "train_df = tok.texts_to_sequences(list(train_df['sentence_no_punctuation'])) #this is how we create sequences\n",
    "train_df = tf.keras.preprocessing.sequence.pad_sequences(train_df, maxlen=maxlen) #let's execute pad step"
   ]
  },
  {
   "cell_type": "code",
   "execution_count": 14,
   "metadata": {
    "id": "WHKXtn9cAJxF"
   },
   "outputs": [],
   "source": [
    "X_train, X_test, y_train, y_test =  #Split the data into train an test\n",
    "\n",
    "Note: you may find \"train_test_split\" function from sklearn "
   ]
  },
  {
   "cell_type": "code",
   "execution_count": 16,
   "metadata": {
    "id": "G2oNIGLmAJxF"
   },
   "outputs": [],
   "source": [
    "embedding_dim = 50 #this is the final dimension of the embedding space.\n"
   ]
  },
  {
   "cell_type": "markdown",
   "metadata": {
    "id": "WL4Syli5AJxF"
   },
   "source": [
    "Let's write down the model using embedding layer\n",
    "\n",
    "Note: you may need Embedding, flatten and Dense layers"
   ]
  },
  {
   "cell_type": "code",
   "execution_count": 17,
   "metadata": {
    "id": "bof7eIAoAJxF"
   },
   "outputs": [],
   "source": [
    "model = tf.keras.models.Sequential([\n",
    "  ....\n",
    "\n",
    "])"
   ]
  },
  {
   "cell_type": "code",
   "execution_count": 18,
   "metadata": {
    "id": "lEpqnuoQAJxF"
   },
   "outputs": [],
   "source": [
    "model.compile(...)\n",
    "\n"
   ]
  },
  {
   "cell_type": "code",
   "execution_count": null,
   "metadata": {
    "id": "miRA6ASlAJxF"
   },
   "outputs": [],
   "source": [
    "model.summary() #here we show the architecture "
   ]
  },
  {
   "cell_type": "code",
   "execution_count": null,
   "metadata": {
    "id": "aDc3hSXfAJxF"
   },
   "outputs": [],
   "source": [
    "model.fit(np.array(X_train), np.array(y_train), epochs=3) #let's fit the model"
   ]
  },
  {
   "cell_type": "markdown",
   "metadata": {
    "id": "HwinjleOAJxF"
   },
   "source": [
    "Remember the train_test_split? now we use the test to evaluate our model"
   ]
  },
  {
   "cell_type": "code",
   "execution_count": null,
   "metadata": {
    "collapsed": true,
    "id": "EJwfbWKDAJxF",
    "jupyter": {
     "outputs_hidden": true
    }
   },
   "outputs": [],
   "source": [
    "model.evaluate(...) "
   ]
  },
  {
   "cell_type": "markdown",
   "metadata": {
    "id": "B8Vrt2ZYAJxF"
   },
   "source": [
    "\n",
    "Let's evaluate the model"
   ]
  },
  {
   "cell_type": "code",
   "execution_count": 22,
   "metadata": {
    "id": "JYLQqVl7AJxF"
   },
   "outputs": [],
   "source": [
    "from sklearn.metrics import confusion_matrix #we import this package from sklearn and output it\n",
    "predictions = model.predict(X_test) #here we make predictions\n",
    "cm = confusion_matrix(predictions.argmax(axis=1), y_test.argmax(axis=1))#we generate the confusion matrix"
   ]
  },
  {
   "cell_type": "code",
   "execution_count": null,
   "metadata": {
    "id": "2mhCCnMJAJxF"
   },
   "outputs": [],
   "source": [
    "cm "
   ]
  },
  {
   "cell_type": "markdown",
   "metadata": {
    "id": "yo0m3synAJxG"
   },
   "source": [
    "Let's try brand new text"
   ]
  },
  {
   "cell_type": "code",
   "execution_count": 24,
   "metadata": {
    "colab": {
     "base_uri": "https://localhost:8080/"
    },
    "id": "4CXu7OHuAJxG",
    "outputId": "99bb8146-fec4-44ad-8a9d-0cfade38df2f"
   },
   "outputs": [
    {
     "name": "stdout",
     "output_type": "stream",
     "text": [
      "english [0]\n",
      "french [1]\n",
      "italian [2]\n",
      "spanish [3]\n"
     ]
    }
   ],
   "source": [
    "#these are the codes for each language in order to evaluate properly\n",
    "print('english', encoder.transform(['english']))\n",
    "print('french', encoder.transform(['french']))\n",
    "print('italian', encoder.transform(['italian']))\n",
    "print('spanish', encoder.transform(['spanish']))"
   ]
  },
  {
   "cell_type": "markdown",
   "metadata": {
    "id": "En92Sc0hAJxG"
   },
   "source": [
    "In this experiment we will predict the language of the same sentence in the different languages"
   ]
  },
  {
   "cell_type": "code",
   "execution_count": 25,
   "metadata": {
    "id": "CyMQMdZbAJxG"
   },
   "outputs": [],
   "source": [
    "#new_text = [\"tensorflow is a great tool you can find a lot of tutorials from packt\"]\n",
    "#new_text = [\"tensorflow est un excellent outil vous pouvez trouver beaucoup de tutoriels de packt\"]\n",
    "#new_text = [\"tensorflow è un ottimo strumento puoi trovare molti tutorial di packt\"]\n",
    "new_text = [\"tensorflow es una gran herramienta puedes encontrar muchos tutoriales de packt\"]\n"
   ]
  },
  {
   "cell_type": "code",
   "execution_count": 26,
   "metadata": {
    "id": "wKLvKHQxAJxG"
   },
   "outputs": [],
   "source": [
    "test_text = tok.texts_to_sequences(new_text) #this is how we create sequences\n",
    "test_text = tf.keras.preprocessing.sequence.pad_sequences(test_text, maxlen=maxlen) #let's execute pad step"
   ]
  },
  {
   "cell_type": "code",
   "execution_count": null,
   "metadata": {
    "id": "tceC3mueAJxG"
   },
   "outputs": [],
   "source": [
    "np.set_printoptions(suppress=True)\n",
    "predictions = model.predict(test_text)\n",
    "print(predictions.argmax())\n",
    "print(predictions) #spanish you can get confused with italian which makes sense since they are more similar languages"
   ]
  },
  {
   "cell_type": "code",
   "execution_count": null,
   "metadata": {
    "id": "c5M2vb8dAJxG"
   },
   "outputs": [],
   "source": [
    "!pip install wikipedia\n",
    "import wikipedia"
   ]
  },
  {
   "cell_type": "markdown",
   "metadata": {
    "id": "hKE8p8XjAJxG"
   },
   "source": [
    "Let's build a brand new data set with only spanish and let's see if we recognize it ..."
   ]
  },
  {
   "cell_type": "code",
   "execution_count": null,
   "metadata": {
    "id": "3380TwkIAJxG"
   },
   "outputs": [],
   "source": [
    "#language codes\n",
    "#english: en\n",
    "#italian: it\n",
    "#french: fr\n",
    "#spanish: es\n",
    "new_wiki_text = []\n",
    "wikipedia.set_lang('es')\n",
    "for i in range(0, 5):\n",
    "    print(i)\n",
    "    random = wikipedia.random(1)\n",
    "       \n",
    "    try:\n",
    "        new_wiki_text.append([wikipedia.page(random).summary])\n",
    "    except wikipedia.exceptions.DisambiguationError as e:\n",
    "        random = wikipedia.random(1)"
   ]
  },
  {
   "cell_type": "code",
   "execution_count": null,
   "metadata": {
    "id": "1BI7yc-rAJxH"
   },
   "outputs": [],
   "source": [
    "new_wiki_text = pd.DataFrame(new_wiki_text)\n",
    "new_wiki_text.columns = ['sentence']\n",
    "new_wiki_text"
   ]
  },
  {
   "cell_type": "code",
   "execution_count": 33,
   "metadata": {
    "id": "BKJBOGo-AJxH"
   },
   "outputs": [],
   "source": [
    "new_wiki_text['sentence_lower'] = new_wiki_text[\"sentence\"].str.lower()\n",
    "new_wiki_text['sentence_no_punctuation'] = new_wiki_text['sentence_lower'].str.replace('[^\\w\\s]','')\n",
    "new_wiki_text['sentence_no_punctuation'] = new_wiki_text[\"sentence_no_punctuation\"].fillna(\"fillna\")"
   ]
  },
  {
   "cell_type": "code",
   "execution_count": 34,
   "metadata": {
    "id": "3V1duS1VAJxH"
   },
   "outputs": [],
   "source": [
    "np.set_printoptions(suppress=True)\n",
    "test_wiki_text = tok.texts_to_sequences(list(new_wiki_text['sentence_no_punctuation'] )) #this is how we create sequences\n",
    "test_wiki_text = tf.keras.preprocessing.sequence.pad_sequences(test_wiki_text, maxlen=maxlen) #let's execute pad step"
   ]
  },
  {
   "cell_type": "code",
   "execution_count": null,
   "metadata": {
    "id": "-adNNXWrAJxH"
   },
   "outputs": [],
   "source": [
    "predictions = model.predict(test_wiki_text)\n",
    "print(predictions)"
   ]
  },
  {
   "cell_type": "code",
   "execution_count": 36,
   "metadata": {
    "id": "vjBEMELIAJxH"
   },
   "outputs": [],
   "source": []
  }
 ],
 "metadata": {
  "colab": {
   "name": "language.ipynb",
   "provenance": []
  },
  "kernelspec": {
   "display_name": "Python 3",
   "language": "python",
   "name": "python3"
  },
  "language_info": {
   "codemirror_mode": {
    "name": "ipython",
    "version": 3
   },
   "file_extension": ".py",
   "mimetype": "text/x-python",
   "name": "python",
   "nbconvert_exporter": "python",
   "pygments_lexer": "ipython3",
   "version": "3.5.4"
  }
 },
 "nbformat": 4,
 "nbformat_minor": 4
}
