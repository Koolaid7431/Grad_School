{
 "cells": [
  {
   "cell_type": "markdown",
   "metadata": {},
   "source": [
    "# Attempt # 1\n",
    "- Regular Dataset\n",
    "\n"
   ]
  },
  {
   "cell_type": "markdown",
   "metadata": {},
   "source": [
    "### Importing data"
   ]
  },
  {
   "cell_type": "code",
   "execution_count": 10,
   "metadata": {},
   "outputs": [],
   "source": [
    "import numpy as np\n",
    "import pandas as pd\n",
    "preg = pd.read_csv('lab_results.csv')"
   ]
  },
  {
   "cell_type": "markdown",
   "metadata": {},
   "source": [
    "### Data exploation:"
   ]
  },
  {
   "cell_type": "code",
   "execution_count": 11,
   "metadata": {},
   "outputs": [
    {
     "data": {
      "text/html": [
       "<div>\n",
       "<style scoped>\n",
       "    .dataframe tbody tr th:only-of-type {\n",
       "        vertical-align: middle;\n",
       "    }\n",
       "\n",
       "    .dataframe tbody tr th {\n",
       "        vertical-align: top;\n",
       "    }\n",
       "\n",
       "    .dataframe thead th {\n",
       "        text-align: right;\n",
       "    }\n",
       "</style>\n",
       "<table border=\"1\" class=\"dataframe\">\n",
       "  <thead>\n",
       "    <tr style=\"text-align: right;\">\n",
       "      <th></th>\n",
       "      <th>pregnancies</th>\n",
       "      <th>Glucose</th>\n",
       "      <th>BloodPressure</th>\n",
       "      <th>SkinThickness</th>\n",
       "      <th>Insulin</th>\n",
       "      <th>BMI</th>\n",
       "      <th>DiabetesPedigreeF</th>\n",
       "      <th>Age</th>\n",
       "      <th>Outcome</th>\n",
       "    </tr>\n",
       "  </thead>\n",
       "  <tbody>\n",
       "    <tr>\n",
       "      <th>0</th>\n",
       "      <td>6</td>\n",
       "      <td>0.743719</td>\n",
       "      <td>0.590164</td>\n",
       "      <td>0.353535</td>\n",
       "      <td>0.000000</td>\n",
       "      <td>0.500745</td>\n",
       "      <td>0.234415</td>\n",
       "      <td>50</td>\n",
       "      <td>1</td>\n",
       "    </tr>\n",
       "    <tr>\n",
       "      <th>1</th>\n",
       "      <td>1</td>\n",
       "      <td>0.427136</td>\n",
       "      <td>0.540984</td>\n",
       "      <td>0.292929</td>\n",
       "      <td>0.000000</td>\n",
       "      <td>0.396423</td>\n",
       "      <td>0.116567</td>\n",
       "      <td>31</td>\n",
       "      <td>0</td>\n",
       "    </tr>\n",
       "    <tr>\n",
       "      <th>2</th>\n",
       "      <td>8</td>\n",
       "      <td>0.919598</td>\n",
       "      <td>0.524590</td>\n",
       "      <td>0.000000</td>\n",
       "      <td>0.000000</td>\n",
       "      <td>0.347243</td>\n",
       "      <td>0.253629</td>\n",
       "      <td>32</td>\n",
       "      <td>1</td>\n",
       "    </tr>\n",
       "    <tr>\n",
       "      <th>3</th>\n",
       "      <td>1</td>\n",
       "      <td>0.447236</td>\n",
       "      <td>0.540984</td>\n",
       "      <td>0.232323</td>\n",
       "      <td>0.111111</td>\n",
       "      <td>0.418778</td>\n",
       "      <td>0.038002</td>\n",
       "      <td>21</td>\n",
       "      <td>0</td>\n",
       "    </tr>\n",
       "    <tr>\n",
       "      <th>4</th>\n",
       "      <td>0</td>\n",
       "      <td>0.688442</td>\n",
       "      <td>0.327869</td>\n",
       "      <td>0.353535</td>\n",
       "      <td>0.198582</td>\n",
       "      <td>0.642325</td>\n",
       "      <td>0.943638</td>\n",
       "      <td>33</td>\n",
       "      <td>1</td>\n",
       "    </tr>\n",
       "  </tbody>\n",
       "</table>\n",
       "</div>"
      ],
      "text/plain": [
       "   pregnancies   Glucose  BloodPressure  SkinThickness   Insulin       BMI  \\\n",
       "0            6  0.743719       0.590164       0.353535  0.000000  0.500745   \n",
       "1            1  0.427136       0.540984       0.292929  0.000000  0.396423   \n",
       "2            8  0.919598       0.524590       0.000000  0.000000  0.347243   \n",
       "3            1  0.447236       0.540984       0.232323  0.111111  0.418778   \n",
       "4            0  0.688442       0.327869       0.353535  0.198582  0.642325   \n",
       "\n",
       "   DiabetesPedigreeF  Age  Outcome  \n",
       "0           0.234415   50        1  \n",
       "1           0.116567   31        0  \n",
       "2           0.253629   32        1  \n",
       "3           0.038002   21        0  \n",
       "4           0.943638   33        1  "
      ]
     },
     "execution_count": 11,
     "metadata": {},
     "output_type": "execute_result"
    }
   ],
   "source": [
    "preg.head()\n",
    "#preg.describe()\n",
    "#preg.shape"
   ]
  },
  {
   "cell_type": "markdown",
   "metadata": {},
   "source": [
    "### Selection of data and labels"
   ]
  },
  {
   "cell_type": "code",
   "execution_count": 12,
   "metadata": {},
   "outputs": [
    {
     "data": {
      "text/html": [
       "<div>\n",
       "<style scoped>\n",
       "    .dataframe tbody tr th:only-of-type {\n",
       "        vertical-align: middle;\n",
       "    }\n",
       "\n",
       "    .dataframe tbody tr th {\n",
       "        vertical-align: top;\n",
       "    }\n",
       "\n",
       "    .dataframe thead th {\n",
       "        text-align: right;\n",
       "    }\n",
       "</style>\n",
       "<table border=\"1\" class=\"dataframe\">\n",
       "  <thead>\n",
       "    <tr style=\"text-align: right;\">\n",
       "      <th></th>\n",
       "      <th>pregnancies</th>\n",
       "      <th>Glucose</th>\n",
       "      <th>BloodPressure</th>\n",
       "      <th>SkinThickness</th>\n",
       "      <th>Insulin</th>\n",
       "      <th>BMI</th>\n",
       "      <th>DiabetesPedigreeF</th>\n",
       "      <th>Age</th>\n",
       "    </tr>\n",
       "  </thead>\n",
       "  <tbody>\n",
       "    <tr>\n",
       "      <th>0</th>\n",
       "      <td>6</td>\n",
       "      <td>0.743719</td>\n",
       "      <td>0.590164</td>\n",
       "      <td>0.353535</td>\n",
       "      <td>0.000000</td>\n",
       "      <td>0.500745</td>\n",
       "      <td>0.234415</td>\n",
       "      <td>50</td>\n",
       "    </tr>\n",
       "    <tr>\n",
       "      <th>1</th>\n",
       "      <td>1</td>\n",
       "      <td>0.427136</td>\n",
       "      <td>0.540984</td>\n",
       "      <td>0.292929</td>\n",
       "      <td>0.000000</td>\n",
       "      <td>0.396423</td>\n",
       "      <td>0.116567</td>\n",
       "      <td>31</td>\n",
       "    </tr>\n",
       "    <tr>\n",
       "      <th>2</th>\n",
       "      <td>8</td>\n",
       "      <td>0.919598</td>\n",
       "      <td>0.524590</td>\n",
       "      <td>0.000000</td>\n",
       "      <td>0.000000</td>\n",
       "      <td>0.347243</td>\n",
       "      <td>0.253629</td>\n",
       "      <td>32</td>\n",
       "    </tr>\n",
       "    <tr>\n",
       "      <th>3</th>\n",
       "      <td>1</td>\n",
       "      <td>0.447236</td>\n",
       "      <td>0.540984</td>\n",
       "      <td>0.232323</td>\n",
       "      <td>0.111111</td>\n",
       "      <td>0.418778</td>\n",
       "      <td>0.038002</td>\n",
       "      <td>21</td>\n",
       "    </tr>\n",
       "    <tr>\n",
       "      <th>4</th>\n",
       "      <td>0</td>\n",
       "      <td>0.688442</td>\n",
       "      <td>0.327869</td>\n",
       "      <td>0.353535</td>\n",
       "      <td>0.198582</td>\n",
       "      <td>0.642325</td>\n",
       "      <td>0.943638</td>\n",
       "      <td>33</td>\n",
       "    </tr>\n",
       "  </tbody>\n",
       "</table>\n",
       "</div>"
      ],
      "text/plain": [
       "   pregnancies   Glucose  BloodPressure  SkinThickness   Insulin       BMI  \\\n",
       "0            6  0.743719       0.590164       0.353535  0.000000  0.500745   \n",
       "1            1  0.427136       0.540984       0.292929  0.000000  0.396423   \n",
       "2            8  0.919598       0.524590       0.000000  0.000000  0.347243   \n",
       "3            1  0.447236       0.540984       0.232323  0.111111  0.418778   \n",
       "4            0  0.688442       0.327869       0.353535  0.198582  0.642325   \n",
       "\n",
       "   DiabetesPedigreeF  Age  \n",
       "0           0.234415   50  \n",
       "1           0.116567   31  \n",
       "2           0.253629   32  \n",
       "3           0.038002   21  \n",
       "4           0.943638   33  "
      ]
     },
     "execution_count": 12,
     "metadata": {},
     "output_type": "execute_result"
    }
   ],
   "source": [
    "X = preg.drop('Outcome',axis=1) #axis is referring to row vs. column\n",
    "y = preg['Outcome']\n",
    "type(X)\n",
    "X.shape\n",
    "X.describe()\n",
    "X.head()"
   ]
  },
  {
   "cell_type": "markdown",
   "metadata": {},
   "source": [
    "### Train Test Split\n",
    "As Fundamental step you need to split data to train and test; to do so, you can levelrage SciKit Learn's train_test_split function from model_selection. Feel free to check it out here:\n",
    "https://scikit-learn.org/stable/modules/generated/sklearn.model_selection.train_test_split.html"
   ]
  },
  {
   "cell_type": "code",
   "execution_count": 13,
   "metadata": {
    "scrolled": true
   },
   "outputs": [],
   "source": [
    "from sklearn.model_selection import train_test_split\n",
    "#help(train_test_split)"
   ]
  },
  {
   "cell_type": "code",
   "execution_count": 14,
   "metadata": {},
   "outputs": [],
   "source": [
    "X_train, X_test, y_train, y_test = train_test_split(X, y, test_size=0.1)"
   ]
  },
  {
   "cell_type": "markdown",
   "metadata": {},
   "source": [
    "### Data Preprocessing\n",
    "Standardize features by removing the mean and scaling to unit variance\n",
    "\n",
    "The standard score of a sample x is calculated as z = (x - u) / s\n",
    "\n",
    "https://scikit-learn.org/stable/modules/generated/sklearn.preprocessing.StandardScaler.html "
   ]
  },
  {
   "cell_type": "code",
   "execution_count": 15,
   "metadata": {
    "scrolled": true
   },
   "outputs": [],
   "source": [
    "from sklearn.preprocessing import StandardScaler\n",
    "#help(StandardScaler)"
   ]
  },
  {
   "cell_type": "code",
   "execution_count": 16,
   "metadata": {},
   "outputs": [],
   "source": [
    "scaler = StandardScaler() #normalizing the data "
   ]
  },
  {
   "cell_type": "code",
   "execution_count": 17,
   "metadata": {},
   "outputs": [
    {
     "name": "stdout",
     "output_type": "stream",
     "text": [
      "pregnancies           3.836469\n",
      "Glucose               0.606164\n",
      "BloodPressure         0.565408\n",
      "SkinThickness         0.205909\n",
      "Insulin               0.093109\n",
      "BMI                   0.476874\n",
      "DiabetesPedigreeF     0.164454\n",
      "Age                  32.960926\n",
      "dtype: float64\n",
      "Help on method fit in module sklearn.preprocessing._data:\n",
      "\n",
      "fit(X, y=None) method of sklearn.preprocessing._data.StandardScaler instance\n",
      "    Compute the mean and std to be used for later scaling.\n",
      "    \n",
      "    Parameters\n",
      "    ----------\n",
      "    X : {array-like, sparse matrix}, shape [n_samples, n_features]\n",
      "        The data used to compute the mean and standard deviation\n",
      "        used for later scaling along the features axis.\n",
      "    \n",
      "    y\n",
      "        Ignored\n",
      "\n",
      "[ 3.83646889  0.60616396  0.5654077   0.20590858  0.09310863  0.47687427\n",
      "  0.16445429 32.96092619]\n"
     ]
    }
   ],
   "source": [
    "# Fit only to the training data\n",
    "print(np.mean(X_train, axis=0))\n",
    "scaler.fit(X_train)\n",
    "help(scaler.fit)\n",
    "print(scaler.mean_)\n"
   ]
  },
  {
   "cell_type": "code",
   "execution_count": 18,
   "metadata": {
    "scrolled": true
   },
   "outputs": [
    {
     "name": "stdout",
     "output_type": "stream",
     "text": [
      "Xtrain:      pregnancies   Glucose  BloodPressure  SkinThickness   Insulin       BMI  \\\n",
      "160            4  0.758794       0.737705       0.383838  0.000000  0.442623   \n",
      "297            0  0.633166       0.688525       0.292929  0.254137  0.457526   \n",
      "244            2  0.733668       0.622951       0.353535  0.229314  0.569300   \n",
      "45             0  0.904523       0.540984       0.393939  0.000000  0.625931   \n",
      "392            1  0.658291       0.524590       0.141414  0.490544  0.353204   \n",
      "..           ...       ...            ...            ...       ...       ...   \n",
      "82             7  0.417085       0.639344       0.262626  0.083924  0.436662   \n",
      "561            0  0.994975       0.540984       0.323232  0.323877  0.615499   \n",
      "101            1  0.758794       0.491803       0.000000  0.000000  0.388972   \n",
      "44             7  0.798995       0.524590       0.000000  0.000000  0.408346   \n",
      "54             7  0.753769       0.540984       0.424242  0.404255  0.517139   \n",
      "\n",
      "     DiabetesPedigreeF  Age  \n",
      "160           0.092229   36  \n",
      "297           0.188728   24  \n",
      "244           0.107173   29  \n",
      "45            0.774979   25  \n",
      "392           0.132792   21  \n",
      "..                 ...  ...  \n",
      "82            0.294193   36  \n",
      "561           0.181042   28  \n",
      "101           0.043126   22  \n",
      "44            0.092229   40  \n",
      "54            0.273271   42  \n",
      "\n",
      "[691 rows x 8 columns]\n",
      "Xtrain shape: (691, 8)\n",
      "Xtrain1: [[ 0.04881597  0.95742783  1.09119259 ... -0.29050822 -0.5167077\n",
      "   0.26626305]\n",
      " [-1.14523132  0.16937915  0.77972378 ... -0.16410486  0.17365347\n",
      "  -0.78509562]\n",
      " [-0.54820767  0.7998181   0.36443203 ...  0.78392037 -0.40979336\n",
      "  -0.34702951]\n",
      " ...\n",
      " [-0.8467195   0.95742783 -0.46615146 ... -0.74556033 -0.86799767\n",
      "  -0.96032206]\n",
      " [ 0.94435144  1.20960341 -0.25850559 ... -0.58123596 -0.5167077\n",
      "   0.61671594]\n",
      " [ 0.94435144  0.92590588 -0.15468265 ...  0.34150859  0.77848316\n",
      "   0.79194238]]\n",
      "Xtrain1 shape: (691, 8)\n",
      "Xtest:      pregnancies   Glucose  BloodPressure  SkinThickness   Insulin       BMI  \\\n",
      "736            0  0.633166       0.704918       0.272727  0.141844  0.408346   \n",
      "97             1  0.356784       0.393443       0.181818  0.089835  0.304024   \n",
      "56             7  0.939698       0.557377       0.393939  0.359338  0.561848   \n",
      "609            1  0.557789       0.508197       0.131313  0.215130  0.357675   \n",
      "194            8  0.427136       0.450820       0.202020  0.000000  0.363636   \n",
      "..           ...       ...            ...            ...       ...       ...   \n",
      "150            1  0.683417       0.606557       0.505051  0.241135  0.557377   \n",
      "379            0  0.467337       0.819672       0.393939  0.085106  0.646796   \n",
      "416            1  0.487437       0.557377       0.212121  0.000000  0.405365   \n",
      "422            0  0.512563       0.524590       0.464646  0.092199  0.605067   \n",
      "520            2  0.341709       0.573770       0.323232  0.078014  0.372578   \n",
      "\n",
      "     DiabetesPedigreeF  Age  \n",
      "736           0.186593   21  \n",
      "97            0.104611   22  \n",
      "56            0.075149   41  \n",
      "609           0.025619   23  \n",
      "194           0.024765   42  \n",
      "..                 ...  ...  \n",
      "150           0.137062   24  \n",
      "379           0.402647   35  \n",
      "416           0.434244   22  \n",
      "422           0.178480   21  \n",
      "520           0.046541   25  \n",
      "\n",
      "[77 rows x 8 columns]\n",
      "Xtest1: [[-1.14523132e+00  1.69379146e-01  8.83546721e-01  4.13368696e-01\n",
      "   3.62360148e-01 -5.81235956e-01  1.58379991e-01 -1.04793528e+00]\n",
      " [-8.46719496e-01 -1.56432796e+00 -1.08908909e+00 -1.49033385e-01\n",
      "  -2.43438889e-02 -1.46605950e+00 -4.28121534e-01 -9.60322060e-01]\n",
      " [ 9.44351438e-01  2.09221794e+00 -5.08597179e-02  1.16323814e+00\n",
      "   1.97948609e+00  7.20718686e-01 -6.38895516e-01  7.04329158e-01]\n",
      " [-8.46719496e-01 -3.03450062e-01 -3.62328531e-01 -4.61478989e-01\n",
      "   9.07261283e-01 -1.01100739e+00 -9.93240186e-01 -8.72708838e-01]\n",
      " [ 1.24286326e+00 -1.12302070e+00 -7.25708810e-01 -2.40551463e-02\n",
      "  -6.92287213e-01 -9.60446047e-01 -9.99349577e-01  7.91942380e-01]\n",
      " [-8.46719496e-01 -6.81713434e-01 -5.69974404e-01 -6.48946348e-01\n",
      "  -6.92287213e-01 -8.34042689e-01  2.68349024e-01 -1.04793528e+00]\n",
      " [-5.48207674e-01  2.63944989e-01  7.79723781e-01 -1.27383755e+00\n",
      "  -6.92287213e-01 -5.05393944e-01 -5.47254657e-01 -5.22255950e-01]\n",
      " [-5.48207674e-01 -2.71928119e-01  8.83546721e-01  1.35070550e+00\n",
      "   7.13909268e-01  8.09201043e-01 -6.63333080e-01 -4.34642728e-01]\n",
      " [-5.48207674e-01 -1.14318383e-01  1.09119259e+00 -8.65442658e-02\n",
      "  -6.82875252e-02 -8.59323362e-01 -4.58668489e-01 -1.04793528e+00]\n",
      " [-8.46719496e-01 -9.33889014e-01 -2.58505591e-01  2.25901332e-01\n",
      "  -6.92287213e-01 -3.53709904e-01 -8.28286633e-01 -1.04793528e+00]\n",
      " [ 1.83988691e+00  1.30416926e+00  7.79723781e-01 -1.27383755e+00\n",
      "  -6.92287213e-01 -5.43314946e-01 -8.58833589e-01  1.84330104e+00]\n",
      " [-8.46719496e-01  2.95466939e-01 -4.66151464e-01  1.63412212e-01\n",
      "   8.01796541e-01 -4.29551924e-01  6.99061079e-01 -1.04793528e+00]\n",
      " [ 6.45839616e-01  1.96613015e+00  1.29883847e+00 -1.27383755e+00\n",
      "  -6.92287213e-01  1.11256911e+00  3.04812186e+00  1.05478205e+00]\n",
      " [ 1.83988691e+00 -1.77362276e-01 -3.58083959e+00 -1.27383755e+00\n",
      "  -6.92287213e-01  4.17350615e-01 -1.00545897e+00 -3.47029506e-01]\n",
      " [-8.46719496e-01 -2.08884219e-01 -1.54682651e-01  9.75770778e-01\n",
      "   1.06545838e+00  7.71280033e-01 -5.31981175e-01 -1.04793528e+00]\n",
      " [ 1.24286326e+00  1.96613015e+00 -2.58505591e-01 -1.27383755e+00\n",
      "  -6.92287213e-01 -1.09948975e+00  6.37967175e-01 -8.41898400e-02]\n",
      " [-1.14523132e+00  3.26988883e-01 -3.58083959e+00 -1.27383755e+00\n",
      "  -6.92287213e-01  1.41593719e+00 -5.90020387e-01 -6.09869172e-01]\n",
      " [-8.46719496e-01  7.36774198e-01  6.75900847e-01  1.60066198e+00\n",
      "   8.89683821e-01  1.78250694e+00 -3.91465187e-01  1.14239527e+00]\n",
      " [ 1.83988691e+00  5.79164462e-01  5.72077908e-01 -1.27383755e+00\n",
      "  -6.92287213e-01 -6.19156966e-01  2.98702796e+00  2.10614071e+00]\n",
      " [ 1.24286326e+00 -6.50191485e-01  2.60609095e-01  1.22572726e+00\n",
      "   1.19728930e+00  9.35604401e-01  6.04365520e-01  8.79555602e-01]\n",
      " [ 2.13839873e+00  7.05252255e-01  1.29883847e+00  7.88303413e-01\n",
      "   5.90867072e-01  5.81674983e-01 -6.38895516e-01  1.58046138e+00]\n",
      " [-8.46719496e-01 -9.96932907e-01 -2.33496434e+00 -8.65442658e-02\n",
      "  -4.72569017e-01 -5.30674618e-01  2.92786588e-01 -1.04793528e+00]\n",
      " [ 3.47327793e-01  7.36774198e-01  6.75900847e-01  3.50879577e-01\n",
      "   1.81250027e+00  2.19513646e-04 -3.40658251e-02  2.19375393e+00]\n",
      " [ 9.44351438e-01  9.88949777e-01  9.87369654e-01  1.47568373e+00\n",
      "  -6.92287213e-01  2.27548006e+00 -3.85355796e-01  2.66263048e-01]\n",
      " [-8.46719496e-01 -9.65410957e-01 -3.62328531e-01 -5.23968109e-01\n",
      "  -3.14371911e-01 -6.06516629e-01  3.56935191e-01 -7.85095616e-01]\n",
      " [-1.14523132e+00 -5.12744831e-02 -2.58505591e-01 -1.49033385e-01\n",
      "   1.16275762e-01  3.66789268e-01  7.99866029e-01 -8.72708838e-01]\n",
      " [-5.48207674e-01 -6.50191485e-01 -2.58505591e-01  1.63412212e-01\n",
      "  -6.92287213e-01 -2.90508221e-01 -2.90660237e-01 -1.04793528e+00]\n",
      " [-8.46719496e-01  2.15526184e+00 -4.66151464e-01  1.63412212e-01\n",
      "   6.74297666e+00 -2.39946874e-01 -1.99019378e-01  2.28136715e+00]\n",
      " [ 3.47327793e-01 -8.07801221e-01  1.56786155e-01  7.88303413e-01\n",
      "  -6.92287213e-01  7.20718686e-01 -2.84550846e-01 -5.22255950e-01]\n",
      " [-5.48207674e-01 -3.98015905e-01 -2.58505591e-01 -1.27383755e+00\n",
      "  -6.92287213e-01 -1.51464526e-01 -9.32146275e-01 -1.04793528e+00]\n",
      " [-8.46719496e-01  1.33569120e+00  1.56786155e-01 -1.27383755e+00\n",
      "  -6.92287213e-01  8.85043063e-01  2.31804966e+00  3.42338205e-03]\n",
      " [ 3.47327793e-01 -1.50128407e+00 -4.66151464e-01 -1.27383755e+00\n",
      "  -6.92287213e-01 -6.57077976e-01 -5.96129778e-01 -5.22255950e-01]\n",
      " [-5.48207674e-01 -4.61059799e-01 -2.58505591e-01  9.13281659e-01\n",
      "   3.53571421e-01 -1.89385528e-01  2.86178544e+00  9.10366041e-02]\n",
      " [ 1.54137508e+00  4.21554726e-01  2.60609095e-01  7.88303413e-01\n",
      "  -1.64963533e-01 -7.70841006e-01 -9.62826069e-03  4.20885804e+00]\n",
      " [ 9.44351438e-01 -4.92581748e-01 -3.58083959e+00 -1.27383755e+00\n",
      "  -6.92287213e-01 -4.04468812e+00 -4.83106046e-01 -7.85095616e-01]\n",
      " [ 4.88159710e-02  3.58510832e-01  8.83546721e-01  6.63325174e-01\n",
      "  -6.92287213e-01 -5.05393944e-01 -1.34870768e-01  2.63182004e+00]\n",
      " [ 1.24286326e+00 -1.75345964e+00  1.56786155e-01  1.63412212e-01\n",
      "  -6.92287213e-01  2.19513646e-04  4.18029102e-01  7.91942380e-01]\n",
      " [-5.48207674e-01  7.48133034e-02 -1.08908909e+00  7.25814294e-01\n",
      "   7.57852905e-01  1.27689349e+00  1.73653465e-01 -6.09869172e-01]\n",
      " [ 9.44351438e-01  1.99765210e+00  7.79723781e-01  7.88303413e-01\n",
      "  -6.92287213e-01  4.42631288e-01 -3.30371276e-01  7.04329158e-01]\n",
      " [-1.14523132e+00  5.16120569e-01  7.79723781e-01  4.13368696e-01\n",
      "  -6.92287213e-01 -5.93876292e-01 -7.09153510e-01  2.28136715e+00]\n",
      " [ 2.73542237e+00  1.02047173e+00  9.87369654e-01  1.03825990e+00\n",
      "   5.38134708e-01  1.08728844e+00  2.17142428e+00  5.29102714e-01]\n",
      " [ 9.44351438e-01  4.84598619e-01  2.60609095e-01  3.50879577e-01\n",
      "   4.94191064e-01 -7.58200669e-01  5.61599790e-01  1.58046138e+00]\n",
      " [ 6.45839616e-01  2.63944989e-01  1.09119259e+00 -8.36413706e-01\n",
      "   2.17283811e+00 -1.56718220e+00  3.63044583e-01  2.36898038e+00]\n",
      " [-5.48207674e-01  4.32913599e-02 -8.81443217e-01  1.41319461e+00\n",
      "   6.96331806e-01  5.31113645e-01  1.07784331e+00 -4.34642728e-01]\n",
      " [-8.46719496e-01  2.32423040e-01  1.50648435e+00  1.28821638e+00\n",
      "  -1.82540987e-01  2.19513646e-04  2.62046451e+00  3.42338205e-03]\n",
      " [-8.46719496e-01 -1.31215238e+00  5.72077908e-01  2.88390457e-01\n",
      "  -3.67104275e-01 -8.34042689e-01  3.66099282e-01 -9.60322060e-01]\n",
      " [-8.46719496e-01 -9.65410957e-01 -5.08597179e-02 -7.73924587e-01\n",
      "  -6.92287213e-01 -9.47805710e-01  2.06145524e+00  2.66263048e-01]\n",
      " [ 1.24286326e+00  1.46177899e+00  1.92177609e+00  1.60066198e+00\n",
      "   1.33790895e+00  7.08078350e-01 -9.10763410e-01  8.79555602e-01]\n",
      " [-1.14523132e+00 -2.00563522e+00 -4.66151464e-01 -1.27383755e+00\n",
      "  -6.92287213e-01 -1.30173513e+00  8.30412984e-01  2.98227293e+00]\n",
      " [-1.14523132e+00  6.42208361e-01  7.79723781e-01  3.50879577e-01\n",
      "  -6.92287213e-01  5.07808603e-02 -9.21050371e-02 -9.60322060e-01]\n",
      " [ 3.47327793e-01  1.43025704e+00  1.56786155e-01 -8.65442658e-02\n",
      "   8.45740185e-01 -7.83481342e-01  3.78318064e-01  1.58046138e+00]\n",
      " [ 4.88159710e-02 -1.12302070e+00 -5.69974404e-01  1.00923093e-01\n",
      "  -2.61639540e-01 -5.30674618e-01 -4.80051354e-01 -4.34642728e-01]\n",
      " [ 1.83988691e+00 -1.43824017e+00  6.75900847e-01 -1.27383755e+00\n",
      "  -6.92287213e-01  1.64543890e-01 -6.11403260e-01  4.41489492e-01]\n",
      " [ 9.44351438e-01 -5.87147591e-01  2.60609095e-01  1.22572726e+00\n",
      "   2.30529224e-01  6.57517003e-01 -7.91630287e-01  1.05478205e+00]\n",
      " [-1.14523132e+00 -5.24103698e-01 -2.58505591e-01  1.63412212e-01\n",
      "   3.27205231e-01 -5.30674618e-01 -2.79564340e-02 -8.72708838e-01]\n",
      " [-1.14523132e+00 -8.70845120e-01 -4.66151464e-01 -1.27383755e+00\n",
      "  -6.92287213e-01  4.17350615e-01 -6.11403260e-01 -6.97482394e-01]\n",
      " [ 9.44351438e-01  5.16120569e-01  1.09119259e+00  1.28821638e+00\n",
      "  -6.92287213e-01  2.19513646e-04 -2.20402243e-01  5.29102714e-01]\n",
      " [ 1.24286326e+00  1.84004236e+00  1.56786155e-01  1.35070550e+00\n",
      "   4.50247428e-01  8.87018703e-02  7.81537855e-01  2.66263048e-01]\n",
      " [ 1.54137508e+00  1.58786678e+00  2.12942197e+00  2.25901332e-01\n",
      "   1.41700750e+00  1.69402458e+00  7.87647247e-01  1.84330104e+00]\n",
      " [-1.14523132e+00  6.10686412e-01 -2.06594124e-01  3.50879577e-01\n",
      "   4.50247428e-01  1.34009517e+00 -9.82144282e-02 -7.85095616e-01]\n",
      " [ 1.24286326e+00 -3.98015905e-01  5.29632218e-02 -1.27383755e+00\n",
      "  -6.92287213e-01 -1.89385528e-01  1.50244598e+00  3.42338205e-03]\n",
      " [ 3.47327793e-01 -7.44757328e-01  3.64432035e-01  4.13368696e-01\n",
      "  -6.92287213e-01  4.55271625e-01 -2.60113282e-01  1.66807460e+00]\n",
      " [-1.14523132e+00  1.65091068e+00  4.68254968e-01  7.25814294e-01\n",
      "   1.63672571e+00  1.83306829e+00  2.12560385e+00  2.19375393e+00]\n",
      " [-5.48207674e-01 -1.15454264e+00 -9.85266150e-01  1.63412212e-01\n",
      "  -2.43438889e-02 -2.02025864e-01  1.54215702e+00 -1.04793528e+00]\n",
      " [-5.48207674e-01  4.32913599e-02  3.64432035e-01  4.13368696e-01\n",
      "   1.06545838e+00  4.93192635e-01  6.06297335e-02 -6.09869172e-01]\n",
      " [ 3.47327793e-01 -1.77362276e-01  3.64432035e-01 -1.27383755e+00\n",
      "  -6.92287213e-01 -1.00903180e-01 -3.67027623e-01  9.67168824e-01]\n",
      " [-8.46719496e-01 -1.05997680e+00  4.68254968e-01  4.13368696e-01\n",
      "  -4.11047918e-01  3.28868258e-01 -1.10626392e+00 -9.60322060e-01]\n",
      " [ 6.45839616e-01  1.30416926e+00 -3.62328531e-01 -1.27383755e+00\n",
      "  -6.92287213e-01 -9.73086384e-01 -8.71052371e-01  1.49284816e+00]\n",
      " [-1.14523132e+00 -4.29537855e-01 -3.62328531e-01  6.00836055e-01\n",
      "  -4.19213434e-02  5.81674983e-01  8.97616286e-01 -6.97482394e-01]\n",
      " [ 1.24286326e+00  2.40743742e+00  2.60609095e-01 -1.27383755e+00\n",
      "  -6.92287213e-01 -7.70841006e-01  2.22335410e+00  5.29102714e-01]\n",
      " [ 1.24286326e+00  1.74547652e+00  1.09119259e+00  8.50792533e-01\n",
      "   1.94433118e+00  2.15105228e-01  1.17546118e-02  2.19375393e+00]\n",
      " [ 4.88159710e-02  4.84598619e-01  5.29632218e-02 -1.27383755e+00\n",
      "  -6.92287213e-01 -1.00903180e-01  2.19586184e+00 -9.60322060e-01]\n",
      " [-8.46719496e-01  4.84598619e-01  2.60609095e-01  1.85061846e+00\n",
      "   1.10061330e+00  6.82797676e-01 -1.95964679e-01 -7.85095616e-01]\n",
      " [-1.14523132e+00 -8.70845120e-01  1.61030728e+00  1.16323814e+00\n",
      "  -5.94987980e-02  1.44121786e+00  1.70405588e+00  1.78649826e-01]\n",
      " [-8.46719496e-01 -7.44757328e-01 -5.08597179e-02  3.84339732e-02\n",
      "  -6.92287213e-01 -6.06516629e-01  1.93010334e+00 -9.60322060e-01]\n",
      " [-1.14523132e+00 -5.87147591e-01 -2.58505591e-01  1.60066198e+00\n",
      "  -6.76642694e-03  1.08728844e+00  1.00340779e-01 -1.04793528e+00]\n",
      " [-5.48207674e-01 -1.65889380e+00  5.29632218e-02  7.25814294e-01\n",
      "  -1.12231169e-01 -8.84604035e-01 -8.43560107e-01 -6.97482394e-01]]\n",
      "Xtrain mean\n",
      "pregnancies           3.836469\n",
      "Glucose               0.606164\n",
      "BloodPressure         0.565408\n",
      "SkinThickness         0.205909\n",
      "Insulin               0.093109\n",
      "BMI                   0.476874\n",
      "DiabetesPedigreeF     0.164454\n",
      "Age                  32.960926\n",
      "dtype: float64\n",
      "Xtrain1 mean\n",
      "[ 3.08484545e-17  4.62726818e-17  1.41388750e-17  1.38818045e-16\n",
      " -1.25964523e-16 -3.11055250e-16  1.69666500e-16  2.23651295e-16]\n",
      "Xtest mean\n",
      "pregnancies           3.922078\n",
      "Glucose               0.619591\n",
      "BloodPressure         0.575687\n",
      "SkinThickness         0.221173\n",
      "Insulin               0.105247\n",
      "BMI                   0.476029\n",
      "DiabetesPedigreeF     0.201609\n",
      "Age                  35.753247\n",
      "dtype: float64\n",
      "Xtest1 mean\n",
      "[ 0.02555531  0.08422895  0.06509837  0.09443072  0.090252   -0.0071677\n",
      "  0.26581006  0.2446442 ]\n"
     ]
    },
    {
     "data": {
      "text/plain": [
       "\"'\\n    [-1.59936017e+00 -2.82274816e+13 -2.51272754e+13 -6.24895858e+12\\n     -1.40060281e+14 -4.44668650e+15 -5.44836963e+13 -3.08555095e+00]\\n    [-1.59936017e+00 -2.94436316e+13 -2.50638734e+13 -4.13697394e+12\\n     -7.40447989e+13 -4.80290837e+15 -8.48380856e+13 -3.08555095e+00]\\n\\n    # the above block of print out is after 4 reattempts\\n\""
      ]
     },
     "execution_count": 18,
     "metadata": {},
     "output_type": "execute_result"
    }
   ],
   "source": [
    "# Now apply the transformations to the data:\n",
    "X_train \n",
    "X_train1= scaler.transform(X_train)\n",
    "X_test \n",
    "X_test1= scaler.transform(X_test)\n",
    "\n",
    "print('Xtrain:', X_train)\n",
    "print('Xtrain shape:', X_train.shape)\n",
    "print('Xtrain1:', X_train1)\n",
    "print('Xtrain1 shape:', X_train1.shape)\n",
    "\n",
    "print('Xtest:', X_test)\n",
    "print('Xtest1:', X_test1)\n",
    "\n",
    "print('Xtrain mean')\n",
    "print(np.mean(X_train, axis = 0))\n",
    "print('Xtrain1 mean')\n",
    "print(np.mean(X_train1, axis = 0))\n",
    "print('Xtest mean')\n",
    "print(np.mean(X_test, axis = 0))\n",
    "print('Xtest1 mean')\n",
    "print(np.mean(X_test1, axis = 0))\n"
   ]
  },
  {
   "cell_type": "markdown",
   "metadata": {},
   "source": [
    "### Model Training\n",
    "\n",
    "Now it is time to train our model. Import  estimator (the Multi-Layer Perceptron Classifier model) from the neural_network library of SciKit-Learn:"
   ]
  },
  {
   "cell_type": "code",
   "execution_count": 19,
   "metadata": {
    "scrolled": true
   },
   "outputs": [],
   "source": [
    "from sklearn.neural_network import MLPClassifier\n",
    "#help(MLPClassifier)"
   ]
  },
  {
   "cell_type": "markdown",
   "metadata": {},
   "source": [
    "Next we create an instance of the model,we will only define the hidden_layer_sizes. \n",
    "For that we pass in a tuple consisting of the number of neurons you want at each layer. "
   ]
  },
  {
   "cell_type": "code",
   "execution_count": 20,
   "metadata": {},
   "outputs": [],
   "source": [
    "#current highest\n",
    "#mlp = MLPClassifier(activation='tanh', batch_size= 20, hidden_layer_sizes=(20,10,1),max_iter=2500, learning_rate='constant',solver='adam')"
   ]
  },
  {
   "cell_type": "code",
   "execution_count": 21,
   "metadata": {},
   "outputs": [],
   "source": [
    "#mlp = MLPClassifier(activation='tanh', batch_size= 20, hidden_layer_sizes=(20,10,1),max_iter=2500, learning_rate='adaptive',solver='adam')\n",
    "#max_iter=500\n",
    "\n",
    "mlp = MLPClassifier(activation='tanh', batch_size= 100, hidden_layer_sizes=(20,10,1),max_iter=3000, learning_rate='constant', learning_rate_init=0.0005,solver='adam')"
   ]
  },
  {
   "cell_type": "markdown",
   "metadata": {},
   "source": [
    "Now that the model has been made we can fit the training data to our model, remember that this data has already been processed and scaled:"
   ]
  },
  {
   "cell_type": "code",
   "execution_count": 22,
   "metadata": {},
   "outputs": [
    {
     "data": {
      "text/plain": [
       "MLPClassifier(activation='tanh', alpha=0.0001, batch_size=100, beta_1=0.9,\n",
       "              beta_2=0.999, early_stopping=False, epsilon=1e-08,\n",
       "              hidden_layer_sizes=(20, 10, 1), learning_rate='constant',\n",
       "              learning_rate_init=0.0005, max_fun=15000, max_iter=3000,\n",
       "              momentum=0.9, n_iter_no_change=10, nesterovs_momentum=True,\n",
       "              power_t=0.5, random_state=None, shuffle=True, solver='adam',\n",
       "              tol=0.0001, validation_fraction=0.1, verbose=False,\n",
       "              warm_start=False)"
      ]
     },
     "execution_count": 22,
     "metadata": {},
     "output_type": "execute_result"
    }
   ],
   "source": [
    "mlp.fit(X_train,y_train)"
   ]
  },
  {
   "cell_type": "markdown",
   "metadata": {},
   "source": [
    "Play around with parameters and discover what effects they have on your model!\n",
    "\n",
    "## Predictions and Evaluation\n",
    "\n",
    "Now that we have a model it is time to use it to get predictions! We can do this simply with the predict() method off of our fitted model:"
   ]
  },
  {
   "cell_type": "code",
   "execution_count": 23,
   "metadata": {},
   "outputs": [],
   "source": [
    "predictions = mlp.predict(X_test)"
   ]
  },
  {
   "cell_type": "markdown",
   "metadata": {},
   "source": [
    "Now we can use SciKit-Learn's built in metrics such as a classification report and confusion matrix to evaluate how well our model performed:"
   ]
  },
  {
   "cell_type": "code",
   "execution_count": 24,
   "metadata": {},
   "outputs": [],
   "source": [
    "from sklearn.metrics import classification_report,confusion_matrix"
   ]
  },
  {
   "cell_type": "code",
   "execution_count": 25,
   "metadata": {},
   "outputs": [
    {
     "name": "stdout",
     "output_type": "stream",
     "text": [
      "[[41 11]\n",
      " [ 4 21]]\n"
     ]
    }
   ],
   "source": [
    "print(confusion_matrix(y_test,predictions))\n",
    "#help(confusion_matrix)"
   ]
  },
  {
   "cell_type": "code",
   "execution_count": 26,
   "metadata": {},
   "outputs": [
    {
     "name": "stdout",
     "output_type": "stream",
     "text": [
      "              precision    recall  f1-score   support\n",
      "\n",
      "           0       0.91      0.79      0.85        52\n",
      "           1       0.66      0.84      0.74        25\n",
      "\n",
      "    accuracy                           0.81        77\n",
      "   macro avg       0.78      0.81      0.79        77\n",
      "weighted avg       0.83      0.81      0.81        77\n",
      "\n"
     ]
    }
   ],
   "source": [
    "print(classification_report(y_test,predictions))"
   ]
  },
  {
   "cell_type": "code",
   "execution_count": 33,
   "metadata": {},
   "outputs": [
    {
     "data": {
      "text/plain": [
       "4"
      ]
     },
     "execution_count": 33,
     "metadata": {},
     "output_type": "execute_result"
    }
   ],
   "source": [
    "len(mlp.coefs_)"
   ]
  },
  {
   "cell_type": "code",
   "execution_count": 34,
   "metadata": {
    "scrolled": true
   },
   "outputs": [
    {
     "data": {
      "text/plain": [
       "8"
      ]
     },
     "execution_count": 34,
     "metadata": {},
     "output_type": "execute_result"
    }
   ],
   "source": [
    "len(mlp.coefs_[0])\n",
    "#mlp.coefs_\n",
    "#mlp.coefs_[0]"
   ]
  },
  {
   "cell_type": "code",
   "execution_count": 32,
   "metadata": {},
   "outputs": [
    {
     "data": {
      "text/plain": [
       "20"
      ]
     },
     "execution_count": 32,
     "metadata": {},
     "output_type": "execute_result"
    }
   ],
   "source": [
    "len(mlp.intercepts_[0])\n",
    "#mlp.intercepts_"
   ]
  },
  {
   "cell_type": "markdown",
   "metadata": {},
   "source": [
    "\n",
    "To extract the MLP weights and biases after training your model, you use its public attributes **coefs_** and **intercepts_**. \n",
    "\n",
    "**coefs_** is a list of weight matrices, where weight matrix at index i represents the weights between layer i and layer i+1. \n",
    "\n",
    "**intercepts_** is a list of bias vectors, where the vector at index i represents the bias values added to layer i+1."
   ]
  }
 ],
 "metadata": {
  "anaconda-cloud": {},
  "kernelspec": {
   "display_name": "Python 3",
   "language": "python",
   "name": "python3"
  },
  "language_info": {
   "codemirror_mode": {
    "name": "ipython",
    "version": 3
   },
   "file_extension": ".py",
   "mimetype": "text/x-python",
   "name": "python",
   "nbconvert_exporter": "python",
   "pygments_lexer": "ipython3",
   "version": "3.5.4"
  }
 },
 "nbformat": 4,
 "nbformat_minor": 4
}
